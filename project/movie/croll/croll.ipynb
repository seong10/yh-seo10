{
 "cells": [
  {
   "cell_type": "code",
   "execution_count": 1,
   "id": "2950ec68",
   "metadata": {},
   "outputs": [
    {
     "data": {
      "text/plain": [
       "'C:\\\\Users\\\\-\\\\Documents\\\\GitHub\\\\yh_seo\\\\project\\\\movie\\\\croll'"
      ]
     },
     "execution_count": 1,
     "metadata": {},
     "output_type": "execute_result"
    }
   ],
   "source": [
    "import os\n",
    "os.getcwd()"
   ]
  },
  {
   "cell_type": "code",
   "execution_count": 1,
   "id": "ca9cf213",
   "metadata": {},
   "outputs": [],
   "source": [
    "from selenium import webdriver\n",
    "from selenium.webdriver.common.keys import Keys\n",
    "import time\n",
    "import urllib.request\n",
    "import os\n",
    "import pandas as pd"
   ]
  },
  {
   "cell_type": "code",
   "execution_count": 2,
   "id": "be52edbc",
   "metadata": {},
   "outputs": [],
   "source": [
    "chrome_path ='C:\\\\Users\\\\-\\\\Documents\\\\GitHub\\\\yh_seo\\\\project\\\\movie\\\\croll\\chromedriver.exe'\n",
    "base_url = \"https://www.google.co.kr/imghp\""
   ]
  },
  {
   "cell_type": "code",
   "execution_count": 22,
   "id": "c78dcc61",
   "metadata": {},
   "outputs": [
    {
     "name": "stderr",
     "output_type": "stream",
     "text": [
      "C:\\Users\\-\\AppData\\Local\\Temp/ipykernel_10408/678769177.py:11: DeprecationWarning: executable_path has been deprecated, please pass in a Service object\n",
      "  driver = webdriver.Chrome(chrome_path,chrome_options=chrome_options)\n",
      "C:\\Users\\-\\AppData\\Local\\Temp/ipykernel_10408/678769177.py:11: DeprecationWarning: use options instead of chrome_options\n",
      "  driver = webdriver.Chrome(chrome_path,chrome_options=chrome_options)\n"
     ]
    }
   ],
   "source": [
    "chrome_options = webdriver.ChromeOptions()\n",
    "# chrome_options.add_argument('--headless') # 창 없는 모드\n",
    "# headless 모드의 호환성을 위해 아래 옵션 추가(가끔 막는 웹이 있음)\n",
    "#chrome_options.add_argument(\"user-agent=Mozilla/5.0 (Macintosh; Intel Mac OS X 10_12_6) AppleWebKit/537.36 (KHTML, like Gecko) Chrome/61.0.3163.100 Safari/537.36\")\n",
    "chrome_options.add_argument(\"lang=ko_KR\") # 한국어\n",
    "chrome_options.add_argument('window-size=1920x1080')\n",
    "# chrome_options.add_argument('--no-sandbox')\n",
    "# chrome_options.add_argument('--disable-dev-shm-usage')\n",
    "\n",
    "\n",
    "driver = webdriver.Chrome(chrome_path,chrome_options=chrome_options)\n",
    "driver.get(base_url)\n",
    "driver.implicitly_wait(3) # element가 로드될 때까지 지정한 시간만큼 대기할 수 있도록 설정\n",
    "driver.get_screenshot_as_file('google_screen.png')\n",
    "driver.close()"
   ]
  },
  {
   "cell_type": "code",
   "execution_count": 4,
   "id": "ec76d054",
   "metadata": {},
   "outputs": [],
   "source": [
    "def selenium_scroll_option():\n",
    "  SCROLL_PAUSE_SEC = 3\n",
    "  \n",
    "  # 스크롤 높이 가져옴\n",
    "  last_height = driver.execute_script(\"return document.body.scrollHeight\")\n",
    "  \n",
    "  while True:\n",
    "    # 끝까지 스크롤 다운\n",
    "    driver.execute_script(\"window.scrollTo(0, document.body.scrollHeight);\")\n",
    "\n",
    "    # 1초 대기\n",
    "    time.sleep(SCROLL_PAUSE_SEC)\n",
    "\n",
    "    # 스크롤 다운 후 스크롤 높이 다시 가져옴\n",
    "    new_height = driver.execute_script(\"return document.body.scrollHeight\")\n",
    "  \n",
    "    if new_height == last_height:\n",
    "        break\n",
    "    last_height = new_height"
   ]
  },
  {
   "cell_type": "code",
   "execution_count": 24,
   "id": "7c2f49c0",
   "metadata": {},
   "outputs": [
    {
     "name": "stderr",
     "output_type": "stream",
     "text": [
      "C:\\Users\\-\\AppData\\Local\\Temp/ipykernel_10408/929153116.py:4: DeprecationWarning: executable_path has been deprecated, please pass in a Service object\n",
      "  driver = webdriver.Chrome(chrome_path)\n",
      "C:\\Users\\-\\AppData\\Local\\Temp/ipykernel_10408/929153116.py:6: DeprecationWarning: find_element_by_name is deprecated. Please use find_element(by=By.NAME, value=name) instead\n",
      "  browser = driver.find_element_by_name(\"q\")\n"
     ]
    }
   ],
   "source": [
    "a= 'movie Alien'\n",
    "image_name = '1'\n",
    "#b=int(input(\"몇 개 저장할래? : \"))\n",
    "driver = webdriver.Chrome(chrome_path)\n",
    "driver.get('http://www.google.co.kr/imghp?hl=ko')\n",
    "browser = driver.find_element_by_name(\"q\")\n",
    "browser.send_keys(a)\n",
    "browser.send_keys(Keys.RETURN)"
   ]
  },
  {
   "cell_type": "code",
   "execution_count": 6,
   "id": "2e7f7c03",
   "metadata": {},
   "outputs": [
    {
     "name": "stderr",
     "output_type": "stream",
     "text": [
      "C:\\Users\\-\\AppData\\Local\\Temp/ipykernel_10408/1483029177.py:4: DeprecationWarning: find_elements_by_xpath is deprecated. Please use find_elements(by=By.XPATH, value=xpath) instead\n",
      "  driver.find_elements_by_xpath('//*[@id=\"islmp\"]/div/div/div/div/div[3]/div[2]/input')[0].click() # 이미지 더보기 클릭\n"
     ]
    },
    {
     "ename": "IndexError",
     "evalue": "list index out of range",
     "output_type": "error",
     "traceback": [
      "\u001b[1;31m---------------------------------------------------------------------------\u001b[0m",
      "\u001b[1;31mIndexError\u001b[0m                                Traceback (most recent call last)",
      "\u001b[1;32m~\\AppData\\Local\\Temp/ipykernel_10408/1483029177.py\u001b[0m in \u001b[0;36m<module>\u001b[1;34m\u001b[0m\n\u001b[0;32m      2\u001b[0m \u001b[1;33m\u001b[0m\u001b[0m\n\u001b[0;32m      3\u001b[0m \u001b[0mselenium_scroll_option\u001b[0m\u001b[1;33m(\u001b[0m\u001b[1;33m)\u001b[0m \u001b[1;31m# 스크롤하여 이미지를 많이 확보\u001b[0m\u001b[1;33m\u001b[0m\u001b[1;33m\u001b[0m\u001b[0m\n\u001b[1;32m----> 4\u001b[1;33m \u001b[0mdriver\u001b[0m\u001b[1;33m.\u001b[0m\u001b[0mfind_elements_by_xpath\u001b[0m\u001b[1;33m(\u001b[0m\u001b[1;34m'//*[@id=\"islmp\"]/div/div/div/div/div[3]/div[2]/input'\u001b[0m\u001b[1;33m)\u001b[0m\u001b[1;33m[\u001b[0m\u001b[1;36m0\u001b[0m\u001b[1;33m]\u001b[0m\u001b[1;33m.\u001b[0m\u001b[0mclick\u001b[0m\u001b[1;33m(\u001b[0m\u001b[1;33m)\u001b[0m \u001b[1;31m# 이미지 더보기 클릭\u001b[0m\u001b[1;33m\u001b[0m\u001b[1;33m\u001b[0m\u001b[0m\n\u001b[0m\u001b[0;32m      5\u001b[0m \u001b[0mselenium_scroll_option\u001b[0m\u001b[1;33m(\u001b[0m\u001b[1;33m)\u001b[0m\u001b[1;33m\u001b[0m\u001b[1;33m\u001b[0m\u001b[0m\n",
      "\u001b[1;31mIndexError\u001b[0m: list index out of range"
     ]
    }
   ],
   "source": [
    "# 클래스를 찾고 해당 클래스의 src 리스트를 만들자\n",
    "\n",
    "selenium_scroll_option() # 스크롤하여 이미지를 많이 확보\n",
    "driver.find_elements_by_xpath('//*[@id=\"islmp\"]/div/div/div/div/div[3]/div[2]/input')[0].click() # 이미지 더보기 클릭\n",
    "selenium_scroll_option()"
   ]
  },
  {
   "cell_type": "code",
   "execution_count": 25,
   "id": "c9aa6111",
   "metadata": {},
   "outputs": [
    {
     "name": "stderr",
     "output_type": "stream",
     "text": [
      "C:\\Users\\-\\AppData\\Local\\Temp/ipykernel_10408/3223652431.py:1: DeprecationWarning: find_elements_by_css_selector is deprecated. Please use find_elements(by=By.CSS_SELECTOR, value=css_selector) instead\n",
      "  images = driver.find_elements_by_css_selector(\".rg_i.Q4LuWd\") #  클래스 네임에서 공백은 .을 찍어줌\n"
     ]
    },
    {
     "name": "stdout",
     "output_type": "stream",
     "text": [
      "<selenium.webdriver.remote.webelement.WebElement (session=\"3d162fd006ad4193e56085637ef6fa4a\", element=\"65d49826-d137-40ee-b973-0f40d6b89ed8\")>\n",
      "<selenium.webdriver.remote.webelement.WebElement (session=\"3d162fd006ad4193e56085637ef6fa4a\", element=\"59e77121-b699-4257-bc1e-4633784b8d1f\")>\n",
      "<selenium.webdriver.remote.webelement.WebElement (session=\"3d162fd006ad4193e56085637ef6fa4a\", element=\"89bd3eb8-8876-4278-ab58-90c24c6d537e\")>\n",
      "<selenium.webdriver.remote.webelement.WebElement (session=\"3d162fd006ad4193e56085637ef6fa4a\", element=\"504d3f13-0815-4dc0-bb71-e70b50019af7\")>\n",
      "<selenium.webdriver.remote.webelement.WebElement (session=\"3d162fd006ad4193e56085637ef6fa4a\", element=\"e701e4d4-8caf-4953-8d5a-2e192a6f4d4c\")>\n",
      "<selenium.webdriver.remote.webelement.WebElement (session=\"3d162fd006ad4193e56085637ef6fa4a\", element=\"6a61892d-e3b0-4944-a36f-80c610927bc5\")>\n",
      "<selenium.webdriver.remote.webelement.WebElement (session=\"3d162fd006ad4193e56085637ef6fa4a\", element=\"5d4729aa-b385-4619-9cd9-2781d26791f6\")>\n",
      "<selenium.webdriver.remote.webelement.WebElement (session=\"3d162fd006ad4193e56085637ef6fa4a\", element=\"d172eafe-1b48-4626-92b3-36afdf73b01c\")>\n",
      "<selenium.webdriver.remote.webelement.WebElement (session=\"3d162fd006ad4193e56085637ef6fa4a\", element=\"851bd3de-85ec-47e0-b055-7e455c7911cc\")>\n",
      "<selenium.webdriver.remote.webelement.WebElement (session=\"3d162fd006ad4193e56085637ef6fa4a\", element=\"5cb0ba8e-21ba-44a2-9461-f7b4a39f4d95\")>\n",
      "<selenium.webdriver.remote.webelement.WebElement (session=\"3d162fd006ad4193e56085637ef6fa4a\", element=\"41906106-7f81-4a0e-8191-af832d1b488e\")>\n",
      "<selenium.webdriver.remote.webelement.WebElement (session=\"3d162fd006ad4193e56085637ef6fa4a\", element=\"40dd08cb-f48c-412f-8b88-9aa09c4db912\")>\n",
      "<selenium.webdriver.remote.webelement.WebElement (session=\"3d162fd006ad4193e56085637ef6fa4a\", element=\"a0d040ac-e6d4-484a-ab24-0420cd689cd4\")>\n",
      "<selenium.webdriver.remote.webelement.WebElement (session=\"3d162fd006ad4193e56085637ef6fa4a\", element=\"5c12ac6a-8733-4a8f-a800-a2514ae54efc\")>\n",
      "<selenium.webdriver.remote.webelement.WebElement (session=\"3d162fd006ad4193e56085637ef6fa4a\", element=\"e48e9ed1-dcc1-4dc0-8550-45e6559c0199\")>\n",
      "<selenium.webdriver.remote.webelement.WebElement (session=\"3d162fd006ad4193e56085637ef6fa4a\", element=\"46e9575e-09f3-40db-ad7a-42bf11131a3d\")>\n",
      "<selenium.webdriver.remote.webelement.WebElement (session=\"3d162fd006ad4193e56085637ef6fa4a\", element=\"a22c5742-0fcc-4104-9171-963261dc3cf3\")>\n",
      "<selenium.webdriver.remote.webelement.WebElement (session=\"3d162fd006ad4193e56085637ef6fa4a\", element=\"92d28115-d0a7-47e7-b9ae-e8a3c9a1ace5\")>\n",
      "<selenium.webdriver.remote.webelement.WebElement (session=\"3d162fd006ad4193e56085637ef6fa4a\", element=\"09fa4528-36cb-402b-9c6b-9584fc10d171\")>\n",
      "<selenium.webdriver.remote.webelement.WebElement (session=\"3d162fd006ad4193e56085637ef6fa4a\", element=\"3747d1b8-1aa4-4cbd-9987-1bc0bd739594\")>\n",
      "<selenium.webdriver.remote.webelement.WebElement (session=\"3d162fd006ad4193e56085637ef6fa4a\", element=\"1b0ca3d2-975a-4adc-8b51-0b939d92dbb4\")>\n",
      "<selenium.webdriver.remote.webelement.WebElement (session=\"3d162fd006ad4193e56085637ef6fa4a\", element=\"247291a1-5d88-4c96-86d2-585712a7d279\")>\n",
      "<selenium.webdriver.remote.webelement.WebElement (session=\"3d162fd006ad4193e56085637ef6fa4a\", element=\"08732015-f839-41b0-921a-0bd7ecdcacf6\")>\n"
     ]
    }
   ],
   "source": [
    "images = driver.find_elements_by_css_selector(\".rg_i.Q4LuWd\") #  클래스 네임에서 공백은 .을 찍어줌\n",
    "images_url = []\n",
    "for i in images: \n",
    "   \n",
    "   if i.get_attribute('src')!= None :\n",
    "        images_url.append(i.get_attribute('src'))\n",
    "        print(i)\n",
    "   else :\n",
    "       images_url.append(i.get_attribute('data-src'))\n",
    "driver.close()"
   ]
  },
  {
   "cell_type": "code",
   "execution_count": null,
   "id": "a419c414",
   "metadata": {},
   "outputs": [],
   "source": [
    "print(\"전체 다운로드한 이미지 개수: {}\\n동일한 이미지를 제거한 이미지 개수: {}\".format(len(images_url), len(pd.DataFrame(images_url)[0].unique())))\n",
    "images_url=pd.DataFrame(images_url)[0].unique()"
   ]
  },
  {
   "cell_type": "code",
   "execution_count": null,
   "id": "f3bc4f8d",
   "metadata": {},
   "outputs": [],
   "source": []
  },
  {
   "cell_type": "code",
   "execution_count": 18,
   "id": "802405f3",
   "metadata": {},
   "outputs": [
    {
     "ename": "ValueError",
     "evalue": "'https://encrypted-tbn0.gstatic.com/images?q=tbn:ANd9GcTw1GEH5xw_VyXSZ4ghATsR4ZzyYBixqX_tgA&usqp=CAU' is not in list",
     "output_type": "error",
     "traceback": [
      "\u001b[1;31m---------------------------------------------------------------------------\u001b[0m",
      "\u001b[1;31mValueError\u001b[0m                                Traceback (most recent call last)",
      "\u001b[1;32m~\\AppData\\Local\\Temp/ipykernel_10408/433783661.py\u001b[0m in \u001b[0;36m<module>\u001b[1;34m\u001b[0m\n\u001b[1;32m----> 1\u001b[1;33m \u001b[0mimages_url\u001b[0m\u001b[1;33m.\u001b[0m\u001b[0mindex\u001b[0m\u001b[1;33m(\u001b[0m\u001b[1;34m'https://encrypted-tbn0.gstatic.com/images?q=tbn:ANd9GcTw1GEH5xw_VyXSZ4ghATsR4ZzyYBixqX_tgA&usqp=CAU'\u001b[0m\u001b[1;33m)\u001b[0m\u001b[1;33m\u001b[0m\u001b[1;33m\u001b[0m\u001b[0m\n\u001b[0m",
      "\u001b[1;31mValueError\u001b[0m: 'https://encrypted-tbn0.gstatic.com/images?q=tbn:ANd9GcTw1GEH5xw_VyXSZ4ghATsR4ZzyYBixqX_tgA&usqp=CAU' is not in list"
     ]
    }
   ],
   "source": [
    "images_url.index('https://encrypted-tbn0.gstatic.com/images?q=tbn:ANd9GcTw1GEH5xw_VyXSZ4ghATsR4ZzyYBixqX_tgA&usqp=CAU')"
   ]
  },
  {
   "cell_type": "code",
   "execution_count": 9,
   "id": "21260015",
   "metadata": {},
   "outputs": [
    {
     "data": {
      "text/plain": [
       "'https://encrypted-tbn0.gstatic.com/images?q=tbn:ANd9GcTw1GEH5xw_VyXSZ4ghATsR4ZzyYBixqX_tgA&usqp=CAU'"
      ]
     },
     "execution_count": 9,
     "metadata": {},
     "output_type": "execute_result"
    }
   ],
   "source": [
    "images_url[20]"
   ]
  },
  {
   "cell_type": "code",
   "execution_count": 19,
   "id": "696becdc",
   "metadata": {
    "scrolled": false
   },
   "outputs": [
    {
     "data": {
      "text/plain": [
       "[None,\n",
       " None,\n",
       " None,\n",
       " None,\n",
       " None,\n",
       " None,\n",
       " None,\n",
       " None,\n",
       " None,\n",
       " None,\n",
       " None,\n",
       " None,\n",
       " None,\n",
       " None,\n",
       " None,\n",
       " None,\n",
       " None,\n",
       " None,\n",
       " None,\n",
       " None,\n",
       " None,\n",
       " None,\n",
       " None,\n",
       " None,\n",
       " None,\n",
       " None,\n",
       " None,\n",
       " None,\n",
       " None,\n",
       " None,\n",
       " None,\n",
       " None,\n",
       " None,\n",
       " None,\n",
       " None,\n",
       " None,\n",
       " None,\n",
       " None,\n",
       " None,\n",
       " None,\n",
       " None,\n",
       " None,\n",
       " None,\n",
       " None,\n",
       " None,\n",
       " None,\n",
       " None,\n",
       " None]"
      ]
     },
     "execution_count": 19,
     "metadata": {},
     "output_type": "execute_result"
    }
   ],
   "source": [
    "images_url"
   ]
  },
  {
   "cell_type": "code",
   "execution_count": null,
   "id": "8c7fba57",
   "metadata": {},
   "outputs": [],
   "source": []
  }
 ],
 "metadata": {
  "kernelspec": {
   "display_name": "Python 3 (ipykernel)",
   "language": "python",
   "name": "python3"
  },
  "language_info": {
   "codemirror_mode": {
    "name": "ipython",
    "version": 3
   },
   "file_extension": ".py",
   "mimetype": "text/x-python",
   "name": "python",
   "nbconvert_exporter": "python",
   "pygments_lexer": "ipython3",
   "version": "3.9.7"
  }
 },
 "nbformat": 4,
 "nbformat_minor": 5
}
