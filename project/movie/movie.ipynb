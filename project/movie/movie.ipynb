{
 "cells": [
  {
   "cell_type": "code",
   "execution_count": 1,
   "id": "a774c81d",
   "metadata": {},
   "outputs": [],
   "source": [
    "import pandas as pd"
   ]
  },
  {
   "cell_type": "code",
   "execution_count": 35,
   "id": "a4aacce8",
   "metadata": {},
   "outputs": [],
   "source": [
    "import numpy as np"
   ]
  },
  {
   "cell_type": "code",
   "execution_count": 41,
   "id": "a45e8db8",
   "metadata": {},
   "outputs": [],
   "source": [
    "df = pd.read_csv('data/Top Rated Movie Database.csv')"
   ]
  },
  {
   "cell_type": "code",
   "execution_count": 5,
   "id": "83087f77",
   "metadata": {},
   "outputs": [
    {
     "data": {
      "text/html": [
       "<div>\n",
       "<style scoped>\n",
       "    .dataframe tbody tr th:only-of-type {\n",
       "        vertical-align: middle;\n",
       "    }\n",
       "\n",
       "    .dataframe tbody tr th {\n",
       "        vertical-align: top;\n",
       "    }\n",
       "\n",
       "    .dataframe thead th {\n",
       "        text-align: right;\n",
       "    }\n",
       "</style>\n",
       "<table border=\"1\" class=\"dataframe\">\n",
       "  <thead>\n",
       "    <tr style=\"text-align: right;\">\n",
       "      <th></th>\n",
       "      <th>Popularity</th>\n",
       "      <th>Vote Count</th>\n",
       "      <th>Titile</th>\n",
       "      <th>Vote Average</th>\n",
       "      <th>Overview</th>\n",
       "      <th>Release Date</th>\n",
       "    </tr>\n",
       "  </thead>\n",
       "  <tbody>\n",
       "    <tr>\n",
       "      <th>0</th>\n",
       "      <td>453.361</td>\n",
       "      <td>2875</td>\n",
       "      <td>Ad Astra</td>\n",
       "      <td>5.9</td>\n",
       "      <td>The near future, a time when both hope and har...</td>\n",
       "      <td>2019-09-17</td>\n",
       "    </tr>\n",
       "    <tr>\n",
       "      <th>1</th>\n",
       "      <td>315.622</td>\n",
       "      <td>2653</td>\n",
       "      <td>Bad Boys for Life</td>\n",
       "      <td>7.1</td>\n",
       "      <td>Marcus and Mike are forced to confront new thr...</td>\n",
       "      <td>2020-01-15</td>\n",
       "    </tr>\n",
       "    <tr>\n",
       "      <th>2</th>\n",
       "      <td>241.513</td>\n",
       "      <td>1419</td>\n",
       "      <td>Bloodshot</td>\n",
       "      <td>7.2</td>\n",
       "      <td>After he and his wife are murdered, marine Ray...</td>\n",
       "      <td>2020-03-05</td>\n",
       "    </tr>\n",
       "  </tbody>\n",
       "</table>\n",
       "</div>"
      ],
      "text/plain": [
       "   Popularity  Vote Count             Titile  Vote Average  \\\n",
       "0     453.361        2875           Ad Astra           5.9   \n",
       "1     315.622        2653  Bad Boys for Life           7.1   \n",
       "2     241.513        1419          Bloodshot           7.2   \n",
       "\n",
       "                                            Overview Release Date  \n",
       "0  The near future, a time when both hope and har...   2019-09-17  \n",
       "1  Marcus and Mike are forced to confront new thr...   2020-01-15  \n",
       "2  After he and his wife are murdered, marine Ray...   2020-03-05  "
      ]
     },
     "execution_count": 5,
     "metadata": {},
     "output_type": "execute_result"
    }
   ],
   "source": [
    "df.head(3)"
   ]
  },
  {
   "cell_type": "code",
   "execution_count": 6,
   "id": "390ade0c",
   "metadata": {},
   "outputs": [
    {
     "data": {
      "text/html": [
       "<div>\n",
       "<style scoped>\n",
       "    .dataframe tbody tr th:only-of-type {\n",
       "        vertical-align: middle;\n",
       "    }\n",
       "\n",
       "    .dataframe tbody tr th {\n",
       "        vertical-align: top;\n",
       "    }\n",
       "\n",
       "    .dataframe thead th {\n",
       "        text-align: right;\n",
       "    }\n",
       "</style>\n",
       "<table border=\"1\" class=\"dataframe\">\n",
       "  <thead>\n",
       "    <tr style=\"text-align: right;\">\n",
       "      <th></th>\n",
       "      <th>Popularity</th>\n",
       "      <th>Vote Count</th>\n",
       "      <th>Titile</th>\n",
       "      <th>Vote Average</th>\n",
       "      <th>Overview</th>\n",
       "      <th>Release Date</th>\n",
       "    </tr>\n",
       "  </thead>\n",
       "  <tbody>\n",
       "    <tr>\n",
       "      <th>0</th>\n",
       "      <td>453.361</td>\n",
       "      <td>2875</td>\n",
       "      <td>Ad Astra</td>\n",
       "      <td>5.9</td>\n",
       "      <td>The near future, a time when both hope and har...</td>\n",
       "      <td>2019-09-17</td>\n",
       "    </tr>\n",
       "    <tr>\n",
       "      <th>1</th>\n",
       "      <td>315.622</td>\n",
       "      <td>2653</td>\n",
       "      <td>Bad Boys for Life</td>\n",
       "      <td>7.1</td>\n",
       "      <td>Marcus and Mike are forced to confront new thr...</td>\n",
       "      <td>2020-01-15</td>\n",
       "    </tr>\n",
       "    <tr>\n",
       "      <th>2</th>\n",
       "      <td>241.513</td>\n",
       "      <td>1419</td>\n",
       "      <td>Bloodshot</td>\n",
       "      <td>7.2</td>\n",
       "      <td>After he and his wife are murdered, marine Ray...</td>\n",
       "      <td>2020-03-05</td>\n",
       "    </tr>\n",
       "    <tr>\n",
       "      <th>3</th>\n",
       "      <td>209.518</td>\n",
       "      <td>2717</td>\n",
       "      <td>Birds of Prey (and the Fantabulous Emancipatio...</td>\n",
       "      <td>7.1</td>\n",
       "      <td>Harley Quinn joins forces with a singer, an as...</td>\n",
       "      <td>2020-02-05</td>\n",
       "    </tr>\n",
       "    <tr>\n",
       "      <th>4</th>\n",
       "      <td>188.203</td>\n",
       "      <td>3834</td>\n",
       "      <td>Star Wars: The Rise of Skywalker</td>\n",
       "      <td>6.5</td>\n",
       "      <td>The surviving Resistance faces the First Order...</td>\n",
       "      <td>2019-12-18</td>\n",
       "    </tr>\n",
       "    <tr>\n",
       "      <th>...</th>\n",
       "      <td>...</td>\n",
       "      <td>...</td>\n",
       "      <td>...</td>\n",
       "      <td>...</td>\n",
       "      <td>...</td>\n",
       "      <td>...</td>\n",
       "    </tr>\n",
       "    <tr>\n",
       "      <th>9995</th>\n",
       "      <td>8.311</td>\n",
       "      <td>101</td>\n",
       "      <td>Lebanon</td>\n",
       "      <td>6.4</td>\n",
       "      <td>During the First Lebanon War in 1982, a lone t...</td>\n",
       "      <td>2009-09-24</td>\n",
       "    </tr>\n",
       "    <tr>\n",
       "      <th>9996</th>\n",
       "      <td>11.059</td>\n",
       "      <td>170</td>\n",
       "      <td>Pokémon Heroes: Latios and Latias</td>\n",
       "      <td>6.3</td>\n",
       "      <td>Satoshi, Pikachu and his friends try and stop ...</td>\n",
       "      <td>2002-07-13</td>\n",
       "    </tr>\n",
       "    <tr>\n",
       "      <th>9997</th>\n",
       "      <td>9.372</td>\n",
       "      <td>14</td>\n",
       "      <td>The Captain</td>\n",
       "      <td>6.9</td>\n",
       "      <td>Based on the true story of a pilot who had to ...</td>\n",
       "      <td>2019-09-30</td>\n",
       "    </tr>\n",
       "    <tr>\n",
       "      <th>9998</th>\n",
       "      <td>9.061</td>\n",
       "      <td>123</td>\n",
       "      <td>Feast of Love</td>\n",
       "      <td>6.1</td>\n",
       "      <td>A meditation on love and its various incarnati...</td>\n",
       "      <td>2007-09-28</td>\n",
       "    </tr>\n",
       "    <tr>\n",
       "      <th>9999</th>\n",
       "      <td>7.576</td>\n",
       "      <td>247</td>\n",
       "      <td>Our Souls at Night</td>\n",
       "      <td>6.6</td>\n",
       "      <td>Addie Moore and Louis Waters, a widow and wido...</td>\n",
       "      <td>2017-09-01</td>\n",
       "    </tr>\n",
       "  </tbody>\n",
       "</table>\n",
       "<p>10000 rows × 6 columns</p>\n",
       "</div>"
      ],
      "text/plain": [
       "      Popularity  Vote Count  \\\n",
       "0        453.361        2875   \n",
       "1        315.622        2653   \n",
       "2        241.513        1419   \n",
       "3        209.518        2717   \n",
       "4        188.203        3834   \n",
       "...          ...         ...   \n",
       "9995       8.311         101   \n",
       "9996      11.059         170   \n",
       "9997       9.372          14   \n",
       "9998       9.061         123   \n",
       "9999       7.576         247   \n",
       "\n",
       "                                                 Titile  Vote Average  \\\n",
       "0                                              Ad Astra           5.9   \n",
       "1                                     Bad Boys for Life           7.1   \n",
       "2                                             Bloodshot           7.2   \n",
       "3     Birds of Prey (and the Fantabulous Emancipatio...           7.1   \n",
       "4                      Star Wars: The Rise of Skywalker           6.5   \n",
       "...                                                 ...           ...   \n",
       "9995                                            Lebanon           6.4   \n",
       "9996                  Pokémon Heroes: Latios and Latias           6.3   \n",
       "9997                                        The Captain           6.9   \n",
       "9998                                      Feast of Love           6.1   \n",
       "9999                                 Our Souls at Night           6.6   \n",
       "\n",
       "                                               Overview Release Date  \n",
       "0     The near future, a time when both hope and har...   2019-09-17  \n",
       "1     Marcus and Mike are forced to confront new thr...   2020-01-15  \n",
       "2     After he and his wife are murdered, marine Ray...   2020-03-05  \n",
       "3     Harley Quinn joins forces with a singer, an as...   2020-02-05  \n",
       "4     The surviving Resistance faces the First Order...   2019-12-18  \n",
       "...                                                 ...          ...  \n",
       "9995  During the First Lebanon War in 1982, a lone t...   2009-09-24  \n",
       "9996  Satoshi, Pikachu and his friends try and stop ...   2002-07-13  \n",
       "9997  Based on the true story of a pilot who had to ...   2019-09-30  \n",
       "9998  A meditation on love and its various incarnati...   2007-09-28  \n",
       "9999  Addie Moore and Louis Waters, a widow and wido...   2017-09-01  \n",
       "\n",
       "[10000 rows x 6 columns]"
      ]
     },
     "execution_count": 6,
     "metadata": {},
     "output_type": "execute_result"
    }
   ],
   "source": [
    "df"
   ]
  },
  {
   "cell_type": "code",
   "execution_count": 9,
   "id": "8c66cb92",
   "metadata": {},
   "outputs": [
    {
     "data": {
      "text/plain": [
       "9674"
      ]
     },
     "execution_count": 9,
     "metadata": {},
     "output_type": "execute_result"
    }
   ],
   "source": [
    "df['Titile'].nunique()"
   ]
  },
  {
   "cell_type": "code",
   "execution_count": 15,
   "id": "04714316",
   "metadata": {},
   "outputs": [
    {
     "data": {
      "text/plain": [
       "Popularity       0\n",
       "Vote Count       0\n",
       "Titile           0\n",
       "Vote Average     0\n",
       "Overview        25\n",
       "Release Date    19\n",
       "dtype: int64"
      ]
     },
     "execution_count": 15,
     "metadata": {},
     "output_type": "execute_result"
    }
   ],
   "source": [
    "df.isnull().sum()"
   ]
  },
  {
   "cell_type": "code",
   "execution_count": 20,
   "id": "4685a88a",
   "metadata": {},
   "outputs": [
    {
     "data": {
      "text/plain": [
       "Titile\n",
       "#Iamhere                5.5\n",
       "#RealityHigh            6.4\n",
       "'71                     6.8\n",
       "'83                     0.0\n",
       "(500) Days of Summer    7.2\n",
       "                       ... \n",
       "¡Three Amigos!          6.3\n",
       "Æon Flux                5.5\n",
       "È per il tuo bene       8.0\n",
       "Смотри как я            0.0\n",
       "ספירה לאחור             6.1\n",
       "Name: Vote Average, Length: 9674, dtype: float64"
      ]
     },
     "execution_count": 20,
     "metadata": {},
     "output_type": "execute_result"
    }
   ],
   "source": [
    "df.groupby('Titile')['Vote Average'].mean()"
   ]
  },
  {
   "cell_type": "code",
   "execution_count": 27,
   "id": "8f587369",
   "metadata": {},
   "outputs": [
    {
     "data": {
      "text/html": [
       "<div>\n",
       "<style scoped>\n",
       "    .dataframe tbody tr th:only-of-type {\n",
       "        vertical-align: middle;\n",
       "    }\n",
       "\n",
       "    .dataframe tbody tr th {\n",
       "        vertical-align: top;\n",
       "    }\n",
       "\n",
       "    .dataframe thead th {\n",
       "        text-align: right;\n",
       "    }\n",
       "</style>\n",
       "<table border=\"1\" class=\"dataframe\">\n",
       "  <thead>\n",
       "    <tr style=\"text-align: right;\">\n",
       "      <th></th>\n",
       "      <th>Popularity</th>\n",
       "      <th>Vote Count</th>\n",
       "      <th>Titile</th>\n",
       "      <th>Vote Average</th>\n",
       "      <th>Overview</th>\n",
       "      <th>Release Date</th>\n",
       "    </tr>\n",
       "  </thead>\n",
       "  <tbody>\n",
       "    <tr>\n",
       "      <th>2707</th>\n",
       "      <td>14.302</td>\n",
       "      <td>1292</td>\n",
       "      <td>Æon Flux</td>\n",
       "      <td>5.5</td>\n",
       "      <td>400 years into the future, disease has wiped o...</td>\n",
       "      <td>2005-11-30</td>\n",
       "    </tr>\n",
       "  </tbody>\n",
       "</table>\n",
       "</div>"
      ],
      "text/plain": [
       "      Popularity  Vote Count    Titile  Vote Average  \\\n",
       "2707      14.302        1292  Æon Flux           5.5   \n",
       "\n",
       "                                               Overview Release Date  \n",
       "2707  400 years into the future, disease has wiped o...   2005-11-30  "
      ]
     },
     "execution_count": 27,
     "metadata": {},
     "output_type": "execute_result"
    }
   ],
   "source": [
    "df.loc[ df['Titile'] == 'Æon Flux' , ]"
   ]
  },
  {
   "cell_type": "code",
   "execution_count": 37,
   "id": "999889c1",
   "metadata": {},
   "outputs": [
    {
     "data": {
      "text/plain": [
       "0       5.9\n",
       "1       7.1\n",
       "2       7.2\n",
       "3       7.1\n",
       "4       6.5\n",
       "       ... \n",
       "9995    6.4\n",
       "9996    6.3\n",
       "9997    6.9\n",
       "9998    6.1\n",
       "9999    6.6\n",
       "Name: Vote Average, Length: 10000, dtype: float64"
      ]
     },
     "execution_count": 37,
     "metadata": {},
     "output_type": "execute_result"
    }
   ],
   "source": [
    "df['Vote Average']"
   ]
  },
  {
   "cell_type": "code",
   "execution_count": 29,
   "id": "939fe32b",
   "metadata": {},
   "outputs": [
    {
     "data": {
      "text/plain": [
       "70"
      ]
     },
     "execution_count": 29,
     "metadata": {},
     "output_type": "execute_result"
    }
   ],
   "source": [
    "df['Vote Average'].nunique()"
   ]
  },
  {
   "cell_type": "code",
   "execution_count": 30,
   "id": "bc2c0579",
   "metadata": {},
   "outputs": [
    {
     "data": {
      "text/plain": [
       "array([ 5.9,  7.1,  7.2,  6.5,  7.4,  8. ,  6.8,  6. ,  6.6,  7.8,  7. ,\n",
       "        8.5,  5.2,  8.2,  4.5,  5.5,  7.9,  6.1,  8.1,  6.9,  8.3,  6.3,\n",
       "        5.4,  8.4,  5.7,  4.9,  4.2,  7.7,  7.6,  7.5,  5.6,  8.7,  5.8,\n",
       "        6.7,  6.4,  9. ,  7.3,  5.3,  4.8,  4.4,  4.7,  0. ,  4. ,  5.1,\n",
       "        6.2, 10. ,  5. ,  2.7,  8.6,  1. ,  4.1,  4.3,  8.8,  3.6,  4.6,\n",
       "        2. ,  3.8,  3.9,  2.9,  3.4,  3.5,  3.7,  3.1,  2.6,  3. ,  2.4,\n",
       "        3.2,  2.8,  1.5,  1.8])"
      ]
     },
     "execution_count": 30,
     "metadata": {},
     "output_type": "execute_result"
    }
   ],
   "source": [
    "df['Vote Average'].unique()"
   ]
  },
  {
   "cell_type": "code",
   "execution_count": 43,
   "id": "9cb135db",
   "metadata": {},
   "outputs": [
    {
     "data": {
      "text/plain": [
       "111     0.0\n",
       "139     0.0\n",
       "144     0.0\n",
       "162     0.0\n",
       "179     0.0\n",
       "       ... \n",
       "9517    0.0\n",
       "9539    0.0\n",
       "9882    0.0\n",
       "9900    0.0\n",
       "9958    0.0\n",
       "Name: Vote Average, Length: 191, dtype: float64"
      ]
     },
     "execution_count": 43,
     "metadata": {},
     "output_type": "execute_result"
    }
   ],
   "source": [
    "df.loc[df['Vote Average'] == 0 , 'Vote Average' ]"
   ]
  },
  {
   "cell_type": "code",
   "execution_count": 44,
   "id": "5784ef99",
   "metadata": {},
   "outputs": [],
   "source": [
    "df.loc[df['Vote Average'] == 0 , 'Vote Average' ] = df.loc[df['Vote Average'] == 0 , 'Vote Average' ].replace( 0, np.nan )"
   ]
  },
  {
   "cell_type": "code",
   "execution_count": 45,
   "id": "5c27b63d",
   "metadata": {},
   "outputs": [
    {
     "data": {
      "text/plain": [
       "array([ 5.9,  7.1,  7.2,  6.5,  7.4,  8. ,  6.8,  6. ,  6.6,  7.8,  7. ,\n",
       "        8.5,  5.2,  8.2,  4.5,  5.5,  7.9,  6.1,  8.1,  6.9,  8.3,  6.3,\n",
       "        5.4,  8.4,  5.7,  4.9,  4.2,  7.7,  7.6,  7.5,  5.6,  8.7,  5.8,\n",
       "        6.7,  6.4,  9. ,  7.3,  5.3,  4.8,  4.4,  4.7,  nan,  4. ,  5.1,\n",
       "        6.2, 10. ,  5. ,  2.7,  8.6,  1. ,  4.1,  4.3,  8.8,  3.6,  4.6,\n",
       "        2. ,  3.8,  3.9,  2.9,  3.4,  3.5,  3.7,  3.1,  2.6,  3. ,  2.4,\n",
       "        3.2,  2.8,  1.5,  1.8])"
      ]
     },
     "execution_count": 45,
     "metadata": {},
     "output_type": "execute_result"
    }
   ],
   "source": [
    "df['Vote Average'].unique()"
   ]
  },
  {
   "cell_type": "code",
   "execution_count": 46,
   "id": "e4cc04f2",
   "metadata": {},
   "outputs": [
    {
     "data": {
      "text/html": [
       "<div>\n",
       "<style scoped>\n",
       "    .dataframe tbody tr th:only-of-type {\n",
       "        vertical-align: middle;\n",
       "    }\n",
       "\n",
       "    .dataframe tbody tr th {\n",
       "        vertical-align: top;\n",
       "    }\n",
       "\n",
       "    .dataframe thead th {\n",
       "        text-align: right;\n",
       "    }\n",
       "</style>\n",
       "<table border=\"1\" class=\"dataframe\">\n",
       "  <thead>\n",
       "    <tr style=\"text-align: right;\">\n",
       "      <th></th>\n",
       "      <th>Popularity</th>\n",
       "      <th>Vote Count</th>\n",
       "      <th>Titile</th>\n",
       "      <th>Vote Average</th>\n",
       "      <th>Overview</th>\n",
       "      <th>Release Date</th>\n",
       "    </tr>\n",
       "  </thead>\n",
       "  <tbody>\n",
       "    <tr>\n",
       "      <th>0</th>\n",
       "      <td>453.361</td>\n",
       "      <td>2875</td>\n",
       "      <td>Ad Astra</td>\n",
       "      <td>5.9</td>\n",
       "      <td>The near future, a time when both hope and har...</td>\n",
       "      <td>2019-09-17</td>\n",
       "    </tr>\n",
       "    <tr>\n",
       "      <th>1</th>\n",
       "      <td>315.622</td>\n",
       "      <td>2653</td>\n",
       "      <td>Bad Boys for Life</td>\n",
       "      <td>7.1</td>\n",
       "      <td>Marcus and Mike are forced to confront new thr...</td>\n",
       "      <td>2020-01-15</td>\n",
       "    </tr>\n",
       "    <tr>\n",
       "      <th>2</th>\n",
       "      <td>241.513</td>\n",
       "      <td>1419</td>\n",
       "      <td>Bloodshot</td>\n",
       "      <td>7.2</td>\n",
       "      <td>After he and his wife are murdered, marine Ray...</td>\n",
       "      <td>2020-03-05</td>\n",
       "    </tr>\n",
       "    <tr>\n",
       "      <th>3</th>\n",
       "      <td>209.518</td>\n",
       "      <td>2717</td>\n",
       "      <td>Birds of Prey (and the Fantabulous Emancipatio...</td>\n",
       "      <td>7.1</td>\n",
       "      <td>Harley Quinn joins forces with a singer, an as...</td>\n",
       "      <td>2020-02-05</td>\n",
       "    </tr>\n",
       "    <tr>\n",
       "      <th>4</th>\n",
       "      <td>188.203</td>\n",
       "      <td>3834</td>\n",
       "      <td>Star Wars: The Rise of Skywalker</td>\n",
       "      <td>6.5</td>\n",
       "      <td>The surviving Resistance faces the First Order...</td>\n",
       "      <td>2019-12-18</td>\n",
       "    </tr>\n",
       "    <tr>\n",
       "      <th>...</th>\n",
       "      <td>...</td>\n",
       "      <td>...</td>\n",
       "      <td>...</td>\n",
       "      <td>...</td>\n",
       "      <td>...</td>\n",
       "      <td>...</td>\n",
       "    </tr>\n",
       "    <tr>\n",
       "      <th>9995</th>\n",
       "      <td>8.311</td>\n",
       "      <td>101</td>\n",
       "      <td>Lebanon</td>\n",
       "      <td>6.4</td>\n",
       "      <td>During the First Lebanon War in 1982, a lone t...</td>\n",
       "      <td>2009-09-24</td>\n",
       "    </tr>\n",
       "    <tr>\n",
       "      <th>9996</th>\n",
       "      <td>11.059</td>\n",
       "      <td>170</td>\n",
       "      <td>Pokémon Heroes: Latios and Latias</td>\n",
       "      <td>6.3</td>\n",
       "      <td>Satoshi, Pikachu and his friends try and stop ...</td>\n",
       "      <td>2002-07-13</td>\n",
       "    </tr>\n",
       "    <tr>\n",
       "      <th>9997</th>\n",
       "      <td>9.372</td>\n",
       "      <td>14</td>\n",
       "      <td>The Captain</td>\n",
       "      <td>6.9</td>\n",
       "      <td>Based on the true story of a pilot who had to ...</td>\n",
       "      <td>2019-09-30</td>\n",
       "    </tr>\n",
       "    <tr>\n",
       "      <th>9998</th>\n",
       "      <td>9.061</td>\n",
       "      <td>123</td>\n",
       "      <td>Feast of Love</td>\n",
       "      <td>6.1</td>\n",
       "      <td>A meditation on love and its various incarnati...</td>\n",
       "      <td>2007-09-28</td>\n",
       "    </tr>\n",
       "    <tr>\n",
       "      <th>9999</th>\n",
       "      <td>7.576</td>\n",
       "      <td>247</td>\n",
       "      <td>Our Souls at Night</td>\n",
       "      <td>6.6</td>\n",
       "      <td>Addie Moore and Louis Waters, a widow and wido...</td>\n",
       "      <td>2017-09-01</td>\n",
       "    </tr>\n",
       "  </tbody>\n",
       "</table>\n",
       "<p>10000 rows × 6 columns</p>\n",
       "</div>"
      ],
      "text/plain": [
       "      Popularity  Vote Count  \\\n",
       "0        453.361        2875   \n",
       "1        315.622        2653   \n",
       "2        241.513        1419   \n",
       "3        209.518        2717   \n",
       "4        188.203        3834   \n",
       "...          ...         ...   \n",
       "9995       8.311         101   \n",
       "9996      11.059         170   \n",
       "9997       9.372          14   \n",
       "9998       9.061         123   \n",
       "9999       7.576         247   \n",
       "\n",
       "                                                 Titile  Vote Average  \\\n",
       "0                                              Ad Astra           5.9   \n",
       "1                                     Bad Boys for Life           7.1   \n",
       "2                                             Bloodshot           7.2   \n",
       "3     Birds of Prey (and the Fantabulous Emancipatio...           7.1   \n",
       "4                      Star Wars: The Rise of Skywalker           6.5   \n",
       "...                                                 ...           ...   \n",
       "9995                                            Lebanon           6.4   \n",
       "9996                  Pokémon Heroes: Latios and Latias           6.3   \n",
       "9997                                        The Captain           6.9   \n",
       "9998                                      Feast of Love           6.1   \n",
       "9999                                 Our Souls at Night           6.6   \n",
       "\n",
       "                                               Overview Release Date  \n",
       "0     The near future, a time when both hope and har...   2019-09-17  \n",
       "1     Marcus and Mike are forced to confront new thr...   2020-01-15  \n",
       "2     After he and his wife are murdered, marine Ray...   2020-03-05  \n",
       "3     Harley Quinn joins forces with a singer, an as...   2020-02-05  \n",
       "4     The surviving Resistance faces the First Order...   2019-12-18  \n",
       "...                                                 ...          ...  \n",
       "9995  During the First Lebanon War in 1982, a lone t...   2009-09-24  \n",
       "9996  Satoshi, Pikachu and his friends try and stop ...   2002-07-13  \n",
       "9997  Based on the true story of a pilot who had to ...   2019-09-30  \n",
       "9998  A meditation on love and its various incarnati...   2007-09-28  \n",
       "9999  Addie Moore and Louis Waters, a widow and wido...   2017-09-01  \n",
       "\n",
       "[10000 rows x 6 columns]"
      ]
     },
     "execution_count": 46,
     "metadata": {},
     "output_type": "execute_result"
    }
   ],
   "source": [
    "df"
   ]
  },
  {
   "cell_type": "code",
   "execution_count": 51,
   "id": "fec6581e",
   "metadata": {},
   "outputs": [],
   "source": [
    "df_notnull = df[df['Vote Average'].notnull()]"
   ]
  },
  {
   "cell_type": "code",
   "execution_count": 54,
   "id": "190e5845",
   "metadata": {},
   "outputs": [
    {
     "data": {
      "text/html": [
       "<div>\n",
       "<style scoped>\n",
       "    .dataframe tbody tr th:only-of-type {\n",
       "        vertical-align: middle;\n",
       "    }\n",
       "\n",
       "    .dataframe tbody tr th {\n",
       "        vertical-align: top;\n",
       "    }\n",
       "\n",
       "    .dataframe thead th {\n",
       "        text-align: right;\n",
       "    }\n",
       "</style>\n",
       "<table border=\"1\" class=\"dataframe\">\n",
       "  <thead>\n",
       "    <tr style=\"text-align: right;\">\n",
       "      <th></th>\n",
       "      <th>Popularity</th>\n",
       "      <th>Vote Count</th>\n",
       "      <th>Titile</th>\n",
       "      <th>Vote Average</th>\n",
       "      <th>Overview</th>\n",
       "      <th>Release Date</th>\n",
       "    </tr>\n",
       "  </thead>\n",
       "  <tbody>\n",
       "    <tr>\n",
       "      <th>0</th>\n",
       "      <td>453.361</td>\n",
       "      <td>2875</td>\n",
       "      <td>Ad Astra</td>\n",
       "      <td>5.9</td>\n",
       "      <td>The near future, a time when both hope and har...</td>\n",
       "      <td>2019-09-17</td>\n",
       "    </tr>\n",
       "    <tr>\n",
       "      <th>1</th>\n",
       "      <td>315.622</td>\n",
       "      <td>2653</td>\n",
       "      <td>Bad Boys for Life</td>\n",
       "      <td>7.1</td>\n",
       "      <td>Marcus and Mike are forced to confront new thr...</td>\n",
       "      <td>2020-01-15</td>\n",
       "    </tr>\n",
       "    <tr>\n",
       "      <th>2</th>\n",
       "      <td>241.513</td>\n",
       "      <td>1419</td>\n",
       "      <td>Bloodshot</td>\n",
       "      <td>7.2</td>\n",
       "      <td>After he and his wife are murdered, marine Ray...</td>\n",
       "      <td>2020-03-05</td>\n",
       "    </tr>\n",
       "    <tr>\n",
       "      <th>3</th>\n",
       "      <td>209.518</td>\n",
       "      <td>2717</td>\n",
       "      <td>Birds of Prey (and the Fantabulous Emancipatio...</td>\n",
       "      <td>7.1</td>\n",
       "      <td>Harley Quinn joins forces with a singer, an as...</td>\n",
       "      <td>2020-02-05</td>\n",
       "    </tr>\n",
       "    <tr>\n",
       "      <th>4</th>\n",
       "      <td>188.203</td>\n",
       "      <td>3834</td>\n",
       "      <td>Star Wars: The Rise of Skywalker</td>\n",
       "      <td>6.5</td>\n",
       "      <td>The surviving Resistance faces the First Order...</td>\n",
       "      <td>2019-12-18</td>\n",
       "    </tr>\n",
       "    <tr>\n",
       "      <th>...</th>\n",
       "      <td>...</td>\n",
       "      <td>...</td>\n",
       "      <td>...</td>\n",
       "      <td>...</td>\n",
       "      <td>...</td>\n",
       "      <td>...</td>\n",
       "    </tr>\n",
       "    <tr>\n",
       "      <th>9995</th>\n",
       "      <td>8.311</td>\n",
       "      <td>101</td>\n",
       "      <td>Lebanon</td>\n",
       "      <td>6.4</td>\n",
       "      <td>During the First Lebanon War in 1982, a lone t...</td>\n",
       "      <td>2009-09-24</td>\n",
       "    </tr>\n",
       "    <tr>\n",
       "      <th>9996</th>\n",
       "      <td>11.059</td>\n",
       "      <td>170</td>\n",
       "      <td>Pokémon Heroes: Latios and Latias</td>\n",
       "      <td>6.3</td>\n",
       "      <td>Satoshi, Pikachu and his friends try and stop ...</td>\n",
       "      <td>2002-07-13</td>\n",
       "    </tr>\n",
       "    <tr>\n",
       "      <th>9997</th>\n",
       "      <td>9.372</td>\n",
       "      <td>14</td>\n",
       "      <td>The Captain</td>\n",
       "      <td>6.9</td>\n",
       "      <td>Based on the true story of a pilot who had to ...</td>\n",
       "      <td>2019-09-30</td>\n",
       "    </tr>\n",
       "    <tr>\n",
       "      <th>9998</th>\n",
       "      <td>9.061</td>\n",
       "      <td>123</td>\n",
       "      <td>Feast of Love</td>\n",
       "      <td>6.1</td>\n",
       "      <td>A meditation on love and its various incarnati...</td>\n",
       "      <td>2007-09-28</td>\n",
       "    </tr>\n",
       "    <tr>\n",
       "      <th>9999</th>\n",
       "      <td>7.576</td>\n",
       "      <td>247</td>\n",
       "      <td>Our Souls at Night</td>\n",
       "      <td>6.6</td>\n",
       "      <td>Addie Moore and Louis Waters, a widow and wido...</td>\n",
       "      <td>2017-09-01</td>\n",
       "    </tr>\n",
       "  </tbody>\n",
       "</table>\n",
       "<p>9809 rows × 6 columns</p>\n",
       "</div>"
      ],
      "text/plain": [
       "      Popularity  Vote Count  \\\n",
       "0        453.361        2875   \n",
       "1        315.622        2653   \n",
       "2        241.513        1419   \n",
       "3        209.518        2717   \n",
       "4        188.203        3834   \n",
       "...          ...         ...   \n",
       "9995       8.311         101   \n",
       "9996      11.059         170   \n",
       "9997       9.372          14   \n",
       "9998       9.061         123   \n",
       "9999       7.576         247   \n",
       "\n",
       "                                                 Titile  Vote Average  \\\n",
       "0                                              Ad Astra           5.9   \n",
       "1                                     Bad Boys for Life           7.1   \n",
       "2                                             Bloodshot           7.2   \n",
       "3     Birds of Prey (and the Fantabulous Emancipatio...           7.1   \n",
       "4                      Star Wars: The Rise of Skywalker           6.5   \n",
       "...                                                 ...           ...   \n",
       "9995                                            Lebanon           6.4   \n",
       "9996                  Pokémon Heroes: Latios and Latias           6.3   \n",
       "9997                                        The Captain           6.9   \n",
       "9998                                      Feast of Love           6.1   \n",
       "9999                                 Our Souls at Night           6.6   \n",
       "\n",
       "                                               Overview Release Date  \n",
       "0     The near future, a time when both hope and har...   2019-09-17  \n",
       "1     Marcus and Mike are forced to confront new thr...   2020-01-15  \n",
       "2     After he and his wife are murdered, marine Ray...   2020-03-05  \n",
       "3     Harley Quinn joins forces with a singer, an as...   2020-02-05  \n",
       "4     The surviving Resistance faces the First Order...   2019-12-18  \n",
       "...                                                 ...          ...  \n",
       "9995  During the First Lebanon War in 1982, a lone t...   2009-09-24  \n",
       "9996  Satoshi, Pikachu and his friends try and stop ...   2002-07-13  \n",
       "9997  Based on the true story of a pilot who had to ...   2019-09-30  \n",
       "9998  A meditation on love and its various incarnati...   2007-09-28  \n",
       "9999  Addie Moore and Louis Waters, a widow and wido...   2017-09-01  \n",
       "\n",
       "[9809 rows x 6 columns]"
      ]
     },
     "execution_count": 54,
     "metadata": {},
     "output_type": "execute_result"
    }
   ],
   "source": [
    "df_notnull"
   ]
  },
  {
   "cell_type": "code",
   "execution_count": 53,
   "id": "f0cf06a4",
   "metadata": {},
   "outputs": [
    {
     "data": {
      "text/plain": [
       "Popularity      6890\n",
       "Vote Count      2767\n",
       "Titile          9490\n",
       "Vote Average      69\n",
       "Overview        9793\n",
       "Release Date    6068\n",
       "dtype: int64"
      ]
     },
     "execution_count": 53,
     "metadata": {},
     "output_type": "execute_result"
    }
   ],
   "source": [
    "df_notnull.nunique()"
   ]
  },
  {
   "cell_type": "code",
   "execution_count": 56,
   "id": "bd2a12f2",
   "metadata": {},
   "outputs": [
    {
     "data": {
      "text/plain": [
       "Popularity       0\n",
       "Vote Count       0\n",
       "Titile           0\n",
       "Vote Average     0\n",
       "Overview        14\n",
       "Release Date     1\n",
       "dtype: int64"
      ]
     },
     "execution_count": 56,
     "metadata": {},
     "output_type": "execute_result"
    }
   ],
   "source": [
    "df_notnull.isnull().sum()"
   ]
  },
  {
   "cell_type": "code",
   "execution_count": 64,
   "id": "af97b5a8",
   "metadata": {},
   "outputs": [
    {
     "data": {
      "text/plain": [
       "Titile\n",
       "#Iamhere                   5.5\n",
       "#RealityHigh               6.4\n",
       "'71                        6.8\n",
       "(500) Days of Summer       7.2\n",
       "*batteries not included    6.6\n",
       "                          ... \n",
       "xXx: State of the Union    4.9\n",
       "¡Three Amigos!             6.3\n",
       "Æon Flux                   5.5\n",
       "È per il tuo bene          8.0\n",
       "ספירה לאחור                6.1\n",
       "Name: Vote Average, Length: 9490, dtype: float64"
      ]
     },
     "execution_count": 64,
     "metadata": {},
     "output_type": "execute_result"
    }
   ],
   "source": [
    "df_notnull.groupby('Titile')['Vote Average'].mean()"
   ]
  },
  {
   "cell_type": "code",
   "execution_count": 65,
   "id": "29f16622",
   "metadata": {},
   "outputs": [
    {
     "data": {
      "text/html": [
       "<div>\n",
       "<style scoped>\n",
       "    .dataframe tbody tr th:only-of-type {\n",
       "        vertical-align: middle;\n",
       "    }\n",
       "\n",
       "    .dataframe tbody tr th {\n",
       "        vertical-align: top;\n",
       "    }\n",
       "\n",
       "    .dataframe thead th {\n",
       "        text-align: right;\n",
       "    }\n",
       "</style>\n",
       "<table border=\"1\" class=\"dataframe\">\n",
       "  <thead>\n",
       "    <tr style=\"text-align: right;\">\n",
       "      <th></th>\n",
       "      <th>Vote Average</th>\n",
       "    </tr>\n",
       "    <tr>\n",
       "      <th>Titile</th>\n",
       "      <th></th>\n",
       "    </tr>\n",
       "  </thead>\n",
       "  <tbody>\n",
       "    <tr>\n",
       "      <th>#Iamhere</th>\n",
       "      <td>5.5</td>\n",
       "    </tr>\n",
       "    <tr>\n",
       "      <th>#RealityHigh</th>\n",
       "      <td>6.4</td>\n",
       "    </tr>\n",
       "    <tr>\n",
       "      <th>'71</th>\n",
       "      <td>6.8</td>\n",
       "    </tr>\n",
       "    <tr>\n",
       "      <th>(500) Days of Summer</th>\n",
       "      <td>7.2</td>\n",
       "    </tr>\n",
       "    <tr>\n",
       "      <th>*batteries not included</th>\n",
       "      <td>6.6</td>\n",
       "    </tr>\n",
       "    <tr>\n",
       "      <th>...</th>\n",
       "      <td>...</td>\n",
       "    </tr>\n",
       "    <tr>\n",
       "      <th>xXx: State of the Union</th>\n",
       "      <td>4.9</td>\n",
       "    </tr>\n",
       "    <tr>\n",
       "      <th>¡Three Amigos!</th>\n",
       "      <td>6.3</td>\n",
       "    </tr>\n",
       "    <tr>\n",
       "      <th>Æon Flux</th>\n",
       "      <td>5.5</td>\n",
       "    </tr>\n",
       "    <tr>\n",
       "      <th>È per il tuo bene</th>\n",
       "      <td>8.0</td>\n",
       "    </tr>\n",
       "    <tr>\n",
       "      <th>ספירה לאחור</th>\n",
       "      <td>6.1</td>\n",
       "    </tr>\n",
       "  </tbody>\n",
       "</table>\n",
       "<p>9490 rows × 1 columns</p>\n",
       "</div>"
      ],
      "text/plain": [
       "                         Vote Average\n",
       "Titile                               \n",
       "#Iamhere                          5.5\n",
       "#RealityHigh                      6.4\n",
       "'71                               6.8\n",
       "(500) Days of Summer              7.2\n",
       "*batteries not included           6.6\n",
       "...                               ...\n",
       "xXx: State of the Union           4.9\n",
       "¡Three Amigos!                    6.3\n",
       "Æon Flux                          5.5\n",
       "È per il tuo bene                 8.0\n",
       "ספירה לאחור                       6.1\n",
       "\n",
       "[9490 rows x 1 columns]"
      ]
     },
     "execution_count": 65,
     "metadata": {},
     "output_type": "execute_result"
    }
   ],
   "source": [
    " = pd.DataFrame(df_notnull.groupby('Titile')['Vote Average'].mean())"
   ]
  },
  {
   "cell_type": "code",
   "execution_count": null,
   "id": "aa166d71",
   "metadata": {},
   "outputs": [],
   "source": []
  }
 ],
 "metadata": {
  "kernelspec": {
   "display_name": "Python 3 (ipykernel)",
   "language": "python",
   "name": "python3"
  },
  "language_info": {
   "codemirror_mode": {
    "name": "ipython",
    "version": 3
   },
   "file_extension": ".py",
   "mimetype": "text/x-python",
   "name": "python",
   "nbconvert_exporter": "python",
   "pygments_lexer": "ipython3",
   "version": "3.9.7"
  }
 },
 "nbformat": 4,
 "nbformat_minor": 5
}
