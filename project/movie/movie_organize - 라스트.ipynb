{
 "cells": [
  {
   "cell_type": "code",
   "execution_count": 2,
   "id": "47f5572e",
   "metadata": {},
   "outputs": [],
   "source": [
    "import pandas as pd"
   ]
  },
  {
   "cell_type": "code",
   "execution_count": 2,
   "id": "8c99a784",
   "metadata": {},
   "outputs": [],
   "source": [
    "# title 중복된값 제거"
   ]
  },
  {
   "cell_type": "code",
   "execution_count": 3,
   "id": "88bdaeeb",
   "metadata": {},
   "outputs": [],
   "source": [
    "df_title = pd.read_csv('data/movies_metadata.csv', low_memory=False)"
   ]
  },
  {
   "cell_type": "code",
   "execution_count": 4,
   "id": "73e12c49",
   "metadata": {},
   "outputs": [],
   "source": [
    "df_title = df_title[['title', 'id']]"
   ]
  },
  {
   "cell_type": "code",
   "execution_count": 5,
   "id": "4232a995",
   "metadata": {},
   "outputs": [],
   "source": [
    "df_title = df_title.drop_duplicates()"
   ]
  },
  {
   "cell_type": "code",
   "execution_count": null,
   "id": "4d3a7464",
   "metadata": {},
   "outputs": [],
   "source": []
  },
  {
   "cell_type": "code",
   "execution_count": 6,
   "id": "c9672dd0",
   "metadata": {},
   "outputs": [],
   "source": [
    "# rating 필요한 컬럼만 가공"
   ]
  },
  {
   "cell_type": "code",
   "execution_count": 7,
   "id": "3447cc33",
   "metadata": {},
   "outputs": [],
   "source": [
    "df_rating = pd.read_csv('data/ratings.csv')"
   ]
  },
  {
   "cell_type": "code",
   "execution_count": 8,
   "id": "2c438779",
   "metadata": {},
   "outputs": [
    {
     "data": {
      "text/html": [
       "<div>\n",
       "<style scoped>\n",
       "    .dataframe tbody tr th:only-of-type {\n",
       "        vertical-align: middle;\n",
       "    }\n",
       "\n",
       "    .dataframe tbody tr th {\n",
       "        vertical-align: top;\n",
       "    }\n",
       "\n",
       "    .dataframe thead th {\n",
       "        text-align: right;\n",
       "    }\n",
       "</style>\n",
       "<table border=\"1\" class=\"dataframe\">\n",
       "  <thead>\n",
       "    <tr style=\"text-align: right;\">\n",
       "      <th></th>\n",
       "      <th>userId</th>\n",
       "      <th>movieId</th>\n",
       "      <th>rating</th>\n",
       "      <th>timestamp</th>\n",
       "    </tr>\n",
       "  </thead>\n",
       "  <tbody>\n",
       "    <tr>\n",
       "      <th>0</th>\n",
       "      <td>1</td>\n",
       "      <td>110</td>\n",
       "      <td>1.0</td>\n",
       "      <td>1425941529</td>\n",
       "    </tr>\n",
       "    <tr>\n",
       "      <th>1</th>\n",
       "      <td>1</td>\n",
       "      <td>147</td>\n",
       "      <td>4.5</td>\n",
       "      <td>1425942435</td>\n",
       "    </tr>\n",
       "    <tr>\n",
       "      <th>2</th>\n",
       "      <td>1</td>\n",
       "      <td>858</td>\n",
       "      <td>5.0</td>\n",
       "      <td>1425941523</td>\n",
       "    </tr>\n",
       "    <tr>\n",
       "      <th>3</th>\n",
       "      <td>1</td>\n",
       "      <td>1221</td>\n",
       "      <td>5.0</td>\n",
       "      <td>1425941546</td>\n",
       "    </tr>\n",
       "    <tr>\n",
       "      <th>4</th>\n",
       "      <td>1</td>\n",
       "      <td>1246</td>\n",
       "      <td>5.0</td>\n",
       "      <td>1425941556</td>\n",
       "    </tr>\n",
       "    <tr>\n",
       "      <th>...</th>\n",
       "      <td>...</td>\n",
       "      <td>...</td>\n",
       "      <td>...</td>\n",
       "      <td>...</td>\n",
       "    </tr>\n",
       "    <tr>\n",
       "      <th>26024284</th>\n",
       "      <td>270896</td>\n",
       "      <td>58559</td>\n",
       "      <td>5.0</td>\n",
       "      <td>1257031564</td>\n",
       "    </tr>\n",
       "    <tr>\n",
       "      <th>26024285</th>\n",
       "      <td>270896</td>\n",
       "      <td>60069</td>\n",
       "      <td>5.0</td>\n",
       "      <td>1257032032</td>\n",
       "    </tr>\n",
       "    <tr>\n",
       "      <th>26024286</th>\n",
       "      <td>270896</td>\n",
       "      <td>63082</td>\n",
       "      <td>4.5</td>\n",
       "      <td>1257031764</td>\n",
       "    </tr>\n",
       "    <tr>\n",
       "      <th>26024287</th>\n",
       "      <td>270896</td>\n",
       "      <td>64957</td>\n",
       "      <td>4.5</td>\n",
       "      <td>1257033990</td>\n",
       "    </tr>\n",
       "    <tr>\n",
       "      <th>26024288</th>\n",
       "      <td>270896</td>\n",
       "      <td>71878</td>\n",
       "      <td>2.0</td>\n",
       "      <td>1257031858</td>\n",
       "    </tr>\n",
       "  </tbody>\n",
       "</table>\n",
       "<p>26024289 rows × 4 columns</p>\n",
       "</div>"
      ],
      "text/plain": [
       "          userId  movieId  rating   timestamp\n",
       "0              1      110     1.0  1425941529\n",
       "1              1      147     4.5  1425942435\n",
       "2              1      858     5.0  1425941523\n",
       "3              1     1221     5.0  1425941546\n",
       "4              1     1246     5.0  1425941556\n",
       "...          ...      ...     ...         ...\n",
       "26024284  270896    58559     5.0  1257031564\n",
       "26024285  270896    60069     5.0  1257032032\n",
       "26024286  270896    63082     4.5  1257031764\n",
       "26024287  270896    64957     4.5  1257033990\n",
       "26024288  270896    71878     2.0  1257031858\n",
       "\n",
       "[26024289 rows x 4 columns]"
      ]
     },
     "execution_count": 8,
     "metadata": {},
     "output_type": "execute_result"
    }
   ],
   "source": [
    "df_rating"
   ]
  },
  {
   "cell_type": "code",
   "execution_count": 9,
   "id": "9620b703",
   "metadata": {},
   "outputs": [],
   "source": [
    "df_rating = df_rating.iloc[ : , :2+1]"
   ]
  },
  {
   "cell_type": "code",
   "execution_count": null,
   "id": "7e45974e",
   "metadata": {},
   "outputs": [],
   "source": []
  },
  {
   "cell_type": "code",
   "execution_count": 10,
   "id": "d3fffaa3",
   "metadata": {},
   "outputs": [],
   "source": [
    "# merge 하기 위해 데이터 똑같이 맞춤"
   ]
  },
  {
   "cell_type": "code",
   "execution_count": 11,
   "id": "9d9afe75",
   "metadata": {},
   "outputs": [],
   "source": [
    "df_title = df_title.rename(columns={'id':'movieId'})"
   ]
  },
  {
   "cell_type": "code",
   "execution_count": 12,
   "id": "cfa0b589",
   "metadata": {},
   "outputs": [
    {
     "data": {
      "text/html": [
       "<div>\n",
       "<style scoped>\n",
       "    .dataframe tbody tr th:only-of-type {\n",
       "        vertical-align: middle;\n",
       "    }\n",
       "\n",
       "    .dataframe tbody tr th {\n",
       "        vertical-align: top;\n",
       "    }\n",
       "\n",
       "    .dataframe thead th {\n",
       "        text-align: right;\n",
       "    }\n",
       "</style>\n",
       "<table border=\"1\" class=\"dataframe\">\n",
       "  <thead>\n",
       "    <tr style=\"text-align: right;\">\n",
       "      <th></th>\n",
       "      <th>title</th>\n",
       "      <th>movieId</th>\n",
       "    </tr>\n",
       "  </thead>\n",
       "  <tbody>\n",
       "    <tr>\n",
       "      <th>0</th>\n",
       "      <td>Toy Story</td>\n",
       "      <td>862</td>\n",
       "    </tr>\n",
       "    <tr>\n",
       "      <th>1</th>\n",
       "      <td>Jumanji</td>\n",
       "      <td>8844</td>\n",
       "    </tr>\n",
       "    <tr>\n",
       "      <th>2</th>\n",
       "      <td>Grumpier Old Men</td>\n",
       "      <td>15602</td>\n",
       "    </tr>\n",
       "    <tr>\n",
       "      <th>3</th>\n",
       "      <td>Waiting to Exhale</td>\n",
       "      <td>31357</td>\n",
       "    </tr>\n",
       "    <tr>\n",
       "      <th>4</th>\n",
       "      <td>Father of the Bride Part II</td>\n",
       "      <td>11862</td>\n",
       "    </tr>\n",
       "    <tr>\n",
       "      <th>...</th>\n",
       "      <td>...</td>\n",
       "      <td>...</td>\n",
       "    </tr>\n",
       "    <tr>\n",
       "      <th>45461</th>\n",
       "      <td>Subdue</td>\n",
       "      <td>439050</td>\n",
       "    </tr>\n",
       "    <tr>\n",
       "      <th>45462</th>\n",
       "      <td>Century of Birthing</td>\n",
       "      <td>111109</td>\n",
       "    </tr>\n",
       "    <tr>\n",
       "      <th>45463</th>\n",
       "      <td>Betrayal</td>\n",
       "      <td>67758</td>\n",
       "    </tr>\n",
       "    <tr>\n",
       "      <th>45464</th>\n",
       "      <td>Satan Triumphant</td>\n",
       "      <td>227506</td>\n",
       "    </tr>\n",
       "    <tr>\n",
       "      <th>45465</th>\n",
       "      <td>Queerama</td>\n",
       "      <td>461257</td>\n",
       "    </tr>\n",
       "  </tbody>\n",
       "</table>\n",
       "<p>45436 rows × 2 columns</p>\n",
       "</div>"
      ],
      "text/plain": [
       "                             title movieId\n",
       "0                        Toy Story     862\n",
       "1                          Jumanji    8844\n",
       "2                 Grumpier Old Men   15602\n",
       "3                Waiting to Exhale   31357\n",
       "4      Father of the Bride Part II   11862\n",
       "...                            ...     ...\n",
       "45461                       Subdue  439050\n",
       "45462          Century of Birthing  111109\n",
       "45463                     Betrayal   67758\n",
       "45464             Satan Triumphant  227506\n",
       "45465                     Queerama  461257\n",
       "\n",
       "[45436 rows x 2 columns]"
      ]
     },
     "execution_count": 12,
     "metadata": {},
     "output_type": "execute_result"
    }
   ],
   "source": [
    "df_title"
   ]
  },
  {
   "cell_type": "code",
   "execution_count": 13,
   "id": "1d8b1d8b",
   "metadata": {},
   "outputs": [],
   "source": [
    "df_title = df_title.dropna()"
   ]
  },
  {
   "cell_type": "code",
   "execution_count": 14,
   "id": "31aef7d7",
   "metadata": {},
   "outputs": [
    {
     "name": "stderr",
     "output_type": "stream",
     "text": [
      "C:\\Users\\-\\AppData\\Local\\Temp/ipykernel_2316/3391263016.py:1: SettingWithCopyWarning: \n",
      "A value is trying to be set on a copy of a slice from a DataFrame.\n",
      "Try using .loc[row_indexer,col_indexer] = value instead\n",
      "\n",
      "See the caveats in the documentation: https://pandas.pydata.org/pandas-docs/stable/user_guide/indexing.html#returning-a-view-versus-a-copy\n",
      "  df_title['movieId'] = df_title['movieId'].astype(int)\n"
     ]
    }
   ],
   "source": [
    "df_title['movieId'] = df_title['movieId'].astype(int)"
   ]
  },
  {
   "cell_type": "code",
   "execution_count": 15,
   "id": "91c0ce9f",
   "metadata": {},
   "outputs": [
    {
     "name": "stdout",
     "output_type": "stream",
     "text": [
      "<class 'pandas.core.frame.DataFrame'>\n",
      "Int64Index: 45430 entries, 0 to 45465\n",
      "Data columns (total 2 columns):\n",
      " #   Column   Non-Null Count  Dtype \n",
      "---  ------   --------------  ----- \n",
      " 0   title    45430 non-null  object\n",
      " 1   movieId  45430 non-null  int32 \n",
      "dtypes: int32(1), object(1)\n",
      "memory usage: 887.3+ KB\n"
     ]
    }
   ],
   "source": [
    "df_title.info()"
   ]
  },
  {
   "cell_type": "code",
   "execution_count": null,
   "id": "4d16a931",
   "metadata": {},
   "outputs": [],
   "source": []
  },
  {
   "cell_type": "code",
   "execution_count": 16,
   "id": "92578980",
   "metadata": {},
   "outputs": [],
   "source": [
    "# 데이터 합치기"
   ]
  },
  {
   "cell_type": "code",
   "execution_count": 17,
   "id": "9fb95d57",
   "metadata": {},
   "outputs": [],
   "source": [
    "df = pd.merge(df_title, df_rating, on='movieId')"
   ]
  },
  {
   "cell_type": "code",
   "execution_count": 18,
   "id": "c447555c",
   "metadata": {},
   "outputs": [
    {
     "data": {
      "text/html": [
       "<div>\n",
       "<style scoped>\n",
       "    .dataframe tbody tr th:only-of-type {\n",
       "        vertical-align: middle;\n",
       "    }\n",
       "\n",
       "    .dataframe tbody tr th {\n",
       "        vertical-align: top;\n",
       "    }\n",
       "\n",
       "    .dataframe thead th {\n",
       "        text-align: right;\n",
       "    }\n",
       "</style>\n",
       "<table border=\"1\" class=\"dataframe\">\n",
       "  <thead>\n",
       "    <tr style=\"text-align: right;\">\n",
       "      <th></th>\n",
       "      <th>title</th>\n",
       "      <th>movieId</th>\n",
       "      <th>userId</th>\n",
       "      <th>rating</th>\n",
       "    </tr>\n",
       "  </thead>\n",
       "  <tbody>\n",
       "    <tr>\n",
       "      <th>0</th>\n",
       "      <td>Toy Story</td>\n",
       "      <td>862</td>\n",
       "      <td>1923</td>\n",
       "      <td>3.0</td>\n",
       "    </tr>\n",
       "    <tr>\n",
       "      <th>1</th>\n",
       "      <td>Toy Story</td>\n",
       "      <td>862</td>\n",
       "      <td>2103</td>\n",
       "      <td>5.0</td>\n",
       "    </tr>\n",
       "    <tr>\n",
       "      <th>2</th>\n",
       "      <td>Toy Story</td>\n",
       "      <td>862</td>\n",
       "      <td>5380</td>\n",
       "      <td>1.0</td>\n",
       "    </tr>\n",
       "    <tr>\n",
       "      <th>3</th>\n",
       "      <td>Toy Story</td>\n",
       "      <td>862</td>\n",
       "      <td>6177</td>\n",
       "      <td>4.0</td>\n",
       "    </tr>\n",
       "    <tr>\n",
       "      <th>4</th>\n",
       "      <td>Toy Story</td>\n",
       "      <td>862</td>\n",
       "      <td>6525</td>\n",
       "      <td>4.0</td>\n",
       "    </tr>\n",
       "    <tr>\n",
       "      <th>...</th>\n",
       "      <td>...</td>\n",
       "      <td>...</td>\n",
       "      <td>...</td>\n",
       "      <td>...</td>\n",
       "    </tr>\n",
       "    <tr>\n",
       "      <th>11436563</th>\n",
       "      <td>Century of Birthing</td>\n",
       "      <td>111109</td>\n",
       "      <td>33940</td>\n",
       "      <td>2.5</td>\n",
       "    </tr>\n",
       "    <tr>\n",
       "      <th>11436564</th>\n",
       "      <td>Century of Birthing</td>\n",
       "      <td>111109</td>\n",
       "      <td>172224</td>\n",
       "      <td>3.0</td>\n",
       "    </tr>\n",
       "    <tr>\n",
       "      <th>11436565</th>\n",
       "      <td>Century of Birthing</td>\n",
       "      <td>111109</td>\n",
       "      <td>210792</td>\n",
       "      <td>3.0</td>\n",
       "    </tr>\n",
       "    <tr>\n",
       "      <th>11436566</th>\n",
       "      <td>Century of Birthing</td>\n",
       "      <td>111109</td>\n",
       "      <td>225396</td>\n",
       "      <td>3.5</td>\n",
       "    </tr>\n",
       "    <tr>\n",
       "      <th>11436567</th>\n",
       "      <td>Century of Birthing</td>\n",
       "      <td>111109</td>\n",
       "      <td>269593</td>\n",
       "      <td>0.5</td>\n",
       "    </tr>\n",
       "  </tbody>\n",
       "</table>\n",
       "<p>11436568 rows × 4 columns</p>\n",
       "</div>"
      ],
      "text/plain": [
       "                        title  movieId  userId  rating\n",
       "0                   Toy Story      862    1923     3.0\n",
       "1                   Toy Story      862    2103     5.0\n",
       "2                   Toy Story      862    5380     1.0\n",
       "3                   Toy Story      862    6177     4.0\n",
       "4                   Toy Story      862    6525     4.0\n",
       "...                       ...      ...     ...     ...\n",
       "11436563  Century of Birthing   111109   33940     2.5\n",
       "11436564  Century of Birthing   111109  172224     3.0\n",
       "11436565  Century of Birthing   111109  210792     3.0\n",
       "11436566  Century of Birthing   111109  225396     3.5\n",
       "11436567  Century of Birthing   111109  269593     0.5\n",
       "\n",
       "[11436568 rows x 4 columns]"
      ]
     },
     "execution_count": 18,
     "metadata": {},
     "output_type": "execute_result"
    }
   ],
   "source": [
    "df"
   ]
  },
  {
   "cell_type": "code",
   "execution_count": null,
   "id": "c73dc39e",
   "metadata": {},
   "outputs": [],
   "source": []
  },
  {
   "cell_type": "code",
   "execution_count": 19,
   "id": "f0075e56",
   "metadata": {},
   "outputs": [],
   "source": [
    "# rating 의 count 의 분포를 분석"
   ]
  },
  {
   "cell_type": "code",
   "execution_count": 20,
   "id": "762c0709",
   "metadata": {},
   "outputs": [
    {
     "data": {
      "text/plain": [
       "7409"
      ]
     },
     "execution_count": 20,
     "metadata": {},
     "output_type": "execute_result"
    }
   ],
   "source": [
    "df['title'].nunique()"
   ]
  },
  {
   "cell_type": "code",
   "execution_count": 21,
   "id": "ecc60afd",
   "metadata": {},
   "outputs": [
    {
     "data": {
      "text/plain": [
       "count     7409.000000\n",
       "mean      1543.604805\n",
       "std       5404.904779\n",
       "min          1.000000\n",
       "25%          7.000000\n",
       "50%         45.000000\n",
       "75%        485.000000\n",
       "max      91082.000000\n",
       "Name: rating, dtype: float64"
      ]
     },
     "execution_count": 21,
     "metadata": {},
     "output_type": "execute_result"
    }
   ],
   "source": [
    "df.groupby('title')['rating'].count().describe()"
   ]
  },
  {
   "cell_type": "code",
   "execution_count": 22,
   "id": "f389365c",
   "metadata": {},
   "outputs": [
    {
     "data": {
      "text/plain": [
       "<AxesSubplot:>"
      ]
     },
     "execution_count": 22,
     "metadata": {},
     "output_type": "execute_result"
    },
    {
     "data": {
      "image/png": "[encoded data removed]",
      "text/plain": [
       "<Figure size 432x288 with 1 Axes>"
      ]
     },
     "metadata": {
      "needs_background": "light"
     },
     "output_type": "display_data"
    }
   ],
   "source": [
    "df.groupby('title')['rating'].count().to_frame()['rating'].hist()"
   ]
  },
  {
   "cell_type": "code",
   "execution_count": null,
   "id": "ea0e477f",
   "metadata": {},
   "outputs": [],
   "source": []
  },
  {
   "cell_type": "code",
   "execution_count": 23,
   "id": "d8b3c380",
   "metadata": {},
   "outputs": [],
   "source": [
    "# mean count 구하고 별점 높은 영화중 count 를 조절하여 자르자"
   ]
  },
  {
   "cell_type": "code",
   "execution_count": 24,
   "id": "4a4e97e6",
   "metadata": {},
   "outputs": [],
   "source": [
    "ratings_df_mean = df.groupby('title')['rating'].mean()"
   ]
  },
  {
   "cell_type": "code",
   "execution_count": 25,
   "id": "399955fc",
   "metadata": {},
   "outputs": [],
   "source": [
    "ratings_df_count = df.groupby('title')['rating'].count()"
   ]
  },
  {
   "cell_type": "code",
   "execution_count": 26,
   "id": "952b9c43",
   "metadata": {},
   "outputs": [],
   "source": [
    "ratings_df_mean = ratings_df_mean.to_frame()"
   ]
  },
  {
   "cell_type": "code",
   "execution_count": 27,
   "id": "94b328af",
   "metadata": {},
   "outputs": [],
   "source": [
    "ratings_df_mean.columns = ['mean']"
   ]
  },
  {
   "cell_type": "code",
   "execution_count": 28,
   "id": "5a58ef59",
   "metadata": {
    "executionInfo": {
     "elapsed": 36,
     "status": "ok",
     "timestamp": 1652334957881,
     "user": {
      "displayName": "권성표",
      "userId": "01241945839262179482"
     },
     "user_tz": -540
    },
    "id": "bh9DDR11LOIX"
   },
   "outputs": [],
   "source": [
    "ratings_df_count = ratings_df_count.to_frame()"
   ]
  },
  {
   "cell_type": "code",
   "execution_count": 29,
   "id": "884c98df",
   "metadata": {
    "executionInfo": {
     "elapsed": 36,
     "status": "ok",
     "timestamp": 1652334957882,
     "user": {
      "displayName": "권성표",
      "userId": "01241945839262179482"
     },
     "user_tz": -540
    },
    "id": "iuZz0CFAMlkH"
   },
   "outputs": [],
   "source": [
    "ratings_df_count.columns = ['count']"
   ]
  },
  {
   "cell_type": "code",
   "execution_count": 30,
   "id": "30c5b8fc",
   "metadata": {},
   "outputs": [],
   "source": [
    "ratings_mean_count_df = ratings_df_mean.join(ratings_df_count)"
   ]
  },
  {
   "cell_type": "code",
   "execution_count": 31,
   "id": "5272aedd",
   "metadata": {},
   "outputs": [
    {
     "data": {
      "text/html": [
       "<div>\n",
       "<style scoped>\n",
       "    .dataframe tbody tr th:only-of-type {\n",
       "        vertical-align: middle;\n",
       "    }\n",
       "\n",
       "    .dataframe tbody tr th {\n",
       "        vertical-align: top;\n",
       "    }\n",
       "\n",
       "    .dataframe thead th {\n",
       "        text-align: right;\n",
       "    }\n",
       "</style>\n",
       "<table border=\"1\" class=\"dataframe\">\n",
       "  <thead>\n",
       "    <tr style=\"text-align: right;\">\n",
       "      <th></th>\n",
       "      <th>mean</th>\n",
       "      <th>count</th>\n",
       "    </tr>\n",
       "    <tr>\n",
       "      <th>title</th>\n",
       "      <th></th>\n",
       "      <th></th>\n",
       "    </tr>\n",
       "  </thead>\n",
       "  <tbody>\n",
       "    <tr>\n",
       "      <th>!Women Art Revolution</th>\n",
       "      <td>2.802945</td>\n",
       "      <td>883</td>\n",
       "    </tr>\n",
       "    <tr>\n",
       "      <th>$1,000 on the Black</th>\n",
       "      <td>3.000000</td>\n",
       "      <td>1</td>\n",
       "    </tr>\n",
       "    <tr>\n",
       "      <th>$5 a Day</th>\n",
       "      <td>2.246795</td>\n",
       "      <td>156</td>\n",
       "    </tr>\n",
       "    <tr>\n",
       "      <th>'Gator Bait</th>\n",
       "      <td>3.443590</td>\n",
       "      <td>195</td>\n",
       "    </tr>\n",
       "    <tr>\n",
       "      <th>'R Xmas</th>\n",
       "      <td>2.627907</td>\n",
       "      <td>86</td>\n",
       "    </tr>\n",
       "    <tr>\n",
       "      <th>...</th>\n",
       "      <td>...</td>\n",
       "      <td>...</td>\n",
       "    </tr>\n",
       "    <tr>\n",
       "      <th>Ödipussi</th>\n",
       "      <td>3.458498</td>\n",
       "      <td>253</td>\n",
       "    </tr>\n",
       "    <tr>\n",
       "      <th>Şaban Oğlu Şaban</th>\n",
       "      <td>3.764228</td>\n",
       "      <td>123</td>\n",
       "    </tr>\n",
       "    <tr>\n",
       "      <th>Škola princů</th>\n",
       "      <td>3.750000</td>\n",
       "      <td>2</td>\n",
       "    </tr>\n",
       "    <tr>\n",
       "      <th>Šíleně smutná princezna</th>\n",
       "      <td>3.126140</td>\n",
       "      <td>329</td>\n",
       "    </tr>\n",
       "    <tr>\n",
       "      <th>Львиная доля</th>\n",
       "      <td>2.600000</td>\n",
       "      <td>5</td>\n",
       "    </tr>\n",
       "  </tbody>\n",
       "</table>\n",
       "<p>7409 rows × 2 columns</p>\n",
       "</div>"
      ],
      "text/plain": [
       "                             mean  count\n",
       "title                                   \n",
       "!Women Art Revolution    2.802945    883\n",
       "$1,000 on the Black      3.000000      1\n",
       "$5 a Day                 2.246795    156\n",
       "'Gator Bait              3.443590    195\n",
       "'R Xmas                  2.627907     86\n",
       "...                           ...    ...\n",
       "Ödipussi                 3.458498    253\n",
       "Şaban Oğlu Şaban         3.764228    123\n",
       "Škola princů             3.750000      2\n",
       "Šíleně smutná princezna  3.126140    329\n",
       "Львиная доля             2.600000      5\n",
       "\n",
       "[7409 rows x 2 columns]"
      ]
     },
     "execution_count": 31,
     "metadata": {},
     "output_type": "execute_result"
    }
   ],
   "source": [
    "ratings_mean_count_df"
   ]
  },
  {
   "cell_type": "code",
   "execution_count": 32,
   "id": "dd96589d",
   "metadata": {},
   "outputs": [
    {
     "data": {
      "text/plain": [
       "count     7409.000000\n",
       "mean      1543.604805\n",
       "std       5404.904779\n",
       "min          1.000000\n",
       "25%          7.000000\n",
       "50%         45.000000\n",
       "75%        485.000000\n",
       "max      91082.000000\n",
       "Name: count, dtype: float64"
      ]
     },
     "execution_count": 32,
     "metadata": {},
     "output_type": "execute_result"
    }
   ],
   "source": [
    "ratings_mean_count_df['count'].describe()"
   ]
  },
  {
   "cell_type": "code",
   "execution_count": 33,
   "id": "a1d7a70b",
   "metadata": {},
   "outputs": [
    {
     "data": {
      "text/plain": [
       "<AxesSubplot:>"
      ]
     },
     "execution_count": 33,
     "metadata": {},
     "output_type": "execute_result"
    },
    {
     "data": {
      "image/png": "[encoded data removed]",
      "text/plain": [
       "<Figure size 432x288 with 1 Axes>"
      ]
     },
     "metadata": {
      "needs_background": "light"
     },
     "output_type": "display_data"
    }
   ],
   "source": [
    "ratings_mean_count_df['count'].hist()"
   ]
  },
  {
   "cell_type": "code",
   "execution_count": 34,
   "id": "d9d0b3a4",
   "metadata": {},
   "outputs": [
    {
     "data": {
      "text/html": [
       "<div>\n",
       "<style scoped>\n",
       "    .dataframe tbody tr th:only-of-type {\n",
       "        vertical-align: middle;\n",
       "    }\n",
       "\n",
       "    .dataframe tbody tr th {\n",
       "        vertical-align: top;\n",
       "    }\n",
       "\n",
       "    .dataframe thead th {\n",
       "        text-align: right;\n",
       "    }\n",
       "</style>\n",
       "<table border=\"1\" class=\"dataframe\">\n",
       "  <thead>\n",
       "    <tr style=\"text-align: right;\">\n",
       "      <th></th>\n",
       "      <th>mean</th>\n",
       "      <th>count</th>\n",
       "    </tr>\n",
       "    <tr>\n",
       "      <th>title</th>\n",
       "      <th></th>\n",
       "      <th></th>\n",
       "    </tr>\n",
       "  </thead>\n",
       "  <tbody>\n",
       "    <tr>\n",
       "      <th>!Women Art Revolution</th>\n",
       "      <td>2.802945</td>\n",
       "      <td>883</td>\n",
       "    </tr>\n",
       "    <tr>\n",
       "      <th>$1,000 on the Black</th>\n",
       "      <td>3.000000</td>\n",
       "      <td>1</td>\n",
       "    </tr>\n",
       "    <tr>\n",
       "      <th>$5 a Day</th>\n",
       "      <td>2.246795</td>\n",
       "      <td>156</td>\n",
       "    </tr>\n",
       "    <tr>\n",
       "      <th>'Gator Bait</th>\n",
       "      <td>3.443590</td>\n",
       "      <td>195</td>\n",
       "    </tr>\n",
       "    <tr>\n",
       "      <th>'R Xmas</th>\n",
       "      <td>2.627907</td>\n",
       "      <td>86</td>\n",
       "    </tr>\n",
       "    <tr>\n",
       "      <th>...</th>\n",
       "      <td>...</td>\n",
       "      <td>...</td>\n",
       "    </tr>\n",
       "    <tr>\n",
       "      <th>Ödipussi</th>\n",
       "      <td>3.458498</td>\n",
       "      <td>253</td>\n",
       "    </tr>\n",
       "    <tr>\n",
       "      <th>Şaban Oğlu Şaban</th>\n",
       "      <td>3.764228</td>\n",
       "      <td>123</td>\n",
       "    </tr>\n",
       "    <tr>\n",
       "      <th>Škola princů</th>\n",
       "      <td>3.750000</td>\n",
       "      <td>2</td>\n",
       "    </tr>\n",
       "    <tr>\n",
       "      <th>Šíleně smutná princezna</th>\n",
       "      <td>3.126140</td>\n",
       "      <td>329</td>\n",
       "    </tr>\n",
       "    <tr>\n",
       "      <th>Львиная доля</th>\n",
       "      <td>2.600000</td>\n",
       "      <td>5</td>\n",
       "    </tr>\n",
       "  </tbody>\n",
       "</table>\n",
       "<p>7409 rows × 2 columns</p>\n",
       "</div>"
      ],
      "text/plain": [
       "                             mean  count\n",
       "title                                   \n",
       "!Women Art Revolution    2.802945    883\n",
       "$1,000 on the Black      3.000000      1\n",
       "$5 a Day                 2.246795    156\n",
       "'Gator Bait              3.443590    195\n",
       "'R Xmas                  2.627907     86\n",
       "...                           ...    ...\n",
       "Ödipussi                 3.458498    253\n",
       "Şaban Oğlu Şaban         3.764228    123\n",
       "Škola princů             3.750000      2\n",
       "Šíleně smutná princezna  3.126140    329\n",
       "Львиная доля             2.600000      5\n",
       "\n",
       "[7409 rows x 2 columns]"
      ]
     },
     "execution_count": 34,
     "metadata": {},
     "output_type": "execute_result"
    }
   ],
   "source": [
    "ratings_mean_count_df"
   ]
  },
  {
   "cell_type": "code",
   "execution_count": 35,
   "id": "1fa94bd0",
   "metadata": {},
   "outputs": [],
   "source": [
    "ratings_mean_count_df = \\\n",
    "ratings_mean_count_df.loc[(ratings_mean_count_df['mean'] > 3) &\n",
    "                          (ratings_mean_count_df['count'] > 5000) &\n",
    "                          (ratings_mean_count_df['count'] < 12000), ]"
   ]
  },
  {
   "cell_type": "code",
   "execution_count": 36,
   "id": "0905e47b",
   "metadata": {},
   "outputs": [
    {
     "data": {
      "text/html": [
       "<div>\n",
       "<style scoped>\n",
       "    .dataframe tbody tr th:only-of-type {\n",
       "        vertical-align: middle;\n",
       "    }\n",
       "\n",
       "    .dataframe tbody tr th {\n",
       "        vertical-align: top;\n",
       "    }\n",
       "\n",
       "    .dataframe thead th {\n",
       "        text-align: right;\n",
       "    }\n",
       "</style>\n",
       "<table border=\"1\" class=\"dataframe\">\n",
       "  <thead>\n",
       "    <tr style=\"text-align: right;\">\n",
       "      <th></th>\n",
       "      <th>mean</th>\n",
       "      <th>count</th>\n",
       "    </tr>\n",
       "    <tr>\n",
       "      <th>title</th>\n",
       "      <th></th>\n",
       "      <th></th>\n",
       "    </tr>\n",
       "  </thead>\n",
       "  <tbody>\n",
       "    <tr>\n",
       "      <th>28 Days Later</th>\n",
       "      <td>3.216995</td>\n",
       "      <td>9438</td>\n",
       "    </tr>\n",
       "    <tr>\n",
       "      <th>300</th>\n",
       "      <td>3.726079</td>\n",
       "      <td>10357</td>\n",
       "    </tr>\n",
       "    <tr>\n",
       "      <th>7 Virgins</th>\n",
       "      <td>3.339387</td>\n",
       "      <td>6002</td>\n",
       "    </tr>\n",
       "    <tr>\n",
       "      <th>8 Women</th>\n",
       "      <td>3.634179</td>\n",
       "      <td>5679</td>\n",
       "    </tr>\n",
       "    <tr>\n",
       "      <th>88 Minutes</th>\n",
       "      <td>3.208466</td>\n",
       "      <td>10335</td>\n",
       "    </tr>\n",
       "    <tr>\n",
       "      <th>...</th>\n",
       "      <td>...</td>\n",
       "      <td>...</td>\n",
       "    </tr>\n",
       "    <tr>\n",
       "      <th>Yankee Doodle Dandy</th>\n",
       "      <td>3.461006</td>\n",
       "      <td>6283</td>\n",
       "    </tr>\n",
       "    <tr>\n",
       "      <th>Young Adam</th>\n",
       "      <td>3.219454</td>\n",
       "      <td>6744</td>\n",
       "    </tr>\n",
       "    <tr>\n",
       "      <th>Young Frankenstein</th>\n",
       "      <td>3.682266</td>\n",
       "      <td>5780</td>\n",
       "    </tr>\n",
       "    <tr>\n",
       "      <th>Zatoichi</th>\n",
       "      <td>4.004338</td>\n",
       "      <td>11412</td>\n",
       "    </tr>\n",
       "    <tr>\n",
       "      <th>xXx</th>\n",
       "      <td>3.545655</td>\n",
       "      <td>7929</td>\n",
       "    </tr>\n",
       "  </tbody>\n",
       "</table>\n",
       "<p>259 rows × 2 columns</p>\n",
       "</div>"
      ],
      "text/plain": [
       "                         mean  count\n",
       "title                               \n",
       "28 Days Later        3.216995   9438\n",
       "300                  3.726079  10357\n",
       "7 Virgins            3.339387   6002\n",
       "8 Women              3.634179   5679\n",
       "88 Minutes           3.208466  10335\n",
       "...                       ...    ...\n",
       "Yankee Doodle Dandy  3.461006   6283\n",
       "Young Adam           3.219454   6744\n",
       "Young Frankenstein   3.682266   5780\n",
       "Zatoichi             4.004338  11412\n",
       "xXx                  3.545655   7929\n",
       "\n",
       "[259 rows x 2 columns]"
      ]
     },
     "execution_count": 36,
     "metadata": {},
     "output_type": "execute_result"
    }
   ],
   "source": [
    "ratings_mean_count_df"
   ]
  },
  {
   "cell_type": "code",
   "execution_count": 37,
   "id": "138bb4d8",
   "metadata": {},
   "outputs": [],
   "source": [
    "# 데이터 자른것의 영화만 df에서 가져오기"
   ]
  },
  {
   "cell_type": "code",
   "execution_count": 38,
   "id": "64db9c40",
   "metadata": {},
   "outputs": [],
   "source": [
    "ratings_mean_count_df = ratings_mean_count_df.reset_index()"
   ]
  },
  {
   "cell_type": "code",
   "execution_count": 39,
   "id": "0ec20667",
   "metadata": {},
   "outputs": [
    {
     "data": {
      "text/html": [
       "<div>\n",
       "<style scoped>\n",
       "    .dataframe tbody tr th:only-of-type {\n",
       "        vertical-align: middle;\n",
       "    }\n",
       "\n",
       "    .dataframe tbody tr th {\n",
       "        vertical-align: top;\n",
       "    }\n",
       "\n",
       "    .dataframe thead th {\n",
       "        text-align: right;\n",
       "    }\n",
       "</style>\n",
       "<table border=\"1\" class=\"dataframe\">\n",
       "  <thead>\n",
       "    <tr style=\"text-align: right;\">\n",
       "      <th></th>\n",
       "      <th>title</th>\n",
       "      <th>mean</th>\n",
       "      <th>count</th>\n",
       "    </tr>\n",
       "  </thead>\n",
       "  <tbody>\n",
       "    <tr>\n",
       "      <th>0</th>\n",
       "      <td>28 Days Later</td>\n",
       "      <td>3.216995</td>\n",
       "      <td>9438</td>\n",
       "    </tr>\n",
       "    <tr>\n",
       "      <th>1</th>\n",
       "      <td>300</td>\n",
       "      <td>3.726079</td>\n",
       "      <td>10357</td>\n",
       "    </tr>\n",
       "    <tr>\n",
       "      <th>2</th>\n",
       "      <td>7 Virgins</td>\n",
       "      <td>3.339387</td>\n",
       "      <td>6002</td>\n",
       "    </tr>\n",
       "    <tr>\n",
       "      <th>3</th>\n",
       "      <td>8 Women</td>\n",
       "      <td>3.634179</td>\n",
       "      <td>5679</td>\n",
       "    </tr>\n",
       "    <tr>\n",
       "      <th>4</th>\n",
       "      <td>88 Minutes</td>\n",
       "      <td>3.208466</td>\n",
       "      <td>10335</td>\n",
       "    </tr>\n",
       "    <tr>\n",
       "      <th>...</th>\n",
       "      <td>...</td>\n",
       "      <td>...</td>\n",
       "      <td>...</td>\n",
       "    </tr>\n",
       "    <tr>\n",
       "      <th>254</th>\n",
       "      <td>Yankee Doodle Dandy</td>\n",
       "      <td>3.461006</td>\n",
       "      <td>6283</td>\n",
       "    </tr>\n",
       "    <tr>\n",
       "      <th>255</th>\n",
       "      <td>Young Adam</td>\n",
       "      <td>3.219454</td>\n",
       "      <td>6744</td>\n",
       "    </tr>\n",
       "    <tr>\n",
       "      <th>256</th>\n",
       "      <td>Young Frankenstein</td>\n",
       "      <td>3.682266</td>\n",
       "      <td>5780</td>\n",
       "    </tr>\n",
       "    <tr>\n",
       "      <th>257</th>\n",
       "      <td>Zatoichi</td>\n",
       "      <td>4.004338</td>\n",
       "      <td>11412</td>\n",
       "    </tr>\n",
       "    <tr>\n",
       "      <th>258</th>\n",
       "      <td>xXx</td>\n",
       "      <td>3.545655</td>\n",
       "      <td>7929</td>\n",
       "    </tr>\n",
       "  </tbody>\n",
       "</table>\n",
       "<p>259 rows × 3 columns</p>\n",
       "</div>"
      ],
      "text/plain": [
       "                   title      mean  count\n",
       "0          28 Days Later  3.216995   9438\n",
       "1                    300  3.726079  10357\n",
       "2              7 Virgins  3.339387   6002\n",
       "3                8 Women  3.634179   5679\n",
       "4             88 Minutes  3.208466  10335\n",
       "..                   ...       ...    ...\n",
       "254  Yankee Doodle Dandy  3.461006   6283\n",
       "255           Young Adam  3.219454   6744\n",
       "256   Young Frankenstein  3.682266   5780\n",
       "257             Zatoichi  4.004338  11412\n",
       "258                  xXx  3.545655   7929\n",
       "\n",
       "[259 rows x 3 columns]"
      ]
     },
     "execution_count": 39,
     "metadata": {},
     "output_type": "execute_result"
    }
   ],
   "source": [
    "ratings_mean_count_df"
   ]
  },
  {
   "cell_type": "code",
   "execution_count": 40,
   "id": "32e3c394",
   "metadata": {},
   "outputs": [
    {
     "ename": "SyntaxError",
     "evalue": "invalid syntax (Temp/ipykernel_2316/1317659341.py, line 1)",
     "output_type": "error",
     "traceback": [
      "\u001b[1;36m  File \u001b[1;32m\"C:\\Users\\-\\AppData\\Local\\Temp/ipykernel_2316/1317659341.py\"\u001b[1;36m, line \u001b[1;32m1\u001b[0m\n\u001b[1;33m    if :\u001b[0m\n\u001b[1;37m       ^\u001b[0m\n\u001b[1;31mSyntaxError\u001b[0m\u001b[1;31m:\u001b[0m invalid syntax\n"
     ]
    }
   ],
   "source": [
    "if :"
   ]
  },
  {
   "cell_type": "code",
   "execution_count": null,
   "id": "4d3d0328",
   "metadata": {
    "scrolled": true
   },
   "outputs": [],
   "source": [
    "df"
   ]
  },
  {
   "cell_type": "code",
   "execution_count": null,
   "id": "a59b02ba",
   "metadata": {},
   "outputs": [],
   "source": [
    "df = df.set_index('title').loc[ ratings_mean_count_df['title'].unique() , ].reset_index()"
   ]
  },
  {
   "cell_type": "code",
   "execution_count": null,
   "id": "b24a324b",
   "metadata": {},
   "outputs": [],
   "source": [
    "df"
   ]
  },
  {
   "cell_type": "code",
   "execution_count": null,
   "id": "5c8413eb",
   "metadata": {},
   "outputs": [],
   "source": [
    "# df 피벗테이블 과 상관계수"
   ]
  },
  {
   "cell_type": "code",
   "execution_count": null,
   "id": "f7772b90",
   "metadata": {},
   "outputs": [],
   "source": [
    "df_pivot = df.pivot_table(values='rating', index='userId', columns= 'title', aggfunc='mean')"
   ]
  },
  {
   "cell_type": "code",
   "execution_count": null,
   "id": "e4b659d6",
   "metadata": {
    "scrolled": true
   },
   "outputs": [],
   "source": [
    "df_pivot"
   ]
  },
  {
   "cell_type": "code",
   "execution_count": null,
   "id": "4b0e8619",
   "metadata": {},
   "outputs": [],
   "source": [
    "df_corr = df_pivot.corr()"
   ]
  },
  {
   "cell_type": "code",
   "execution_count": null,
   "id": "454b5269",
   "metadata": {},
   "outputs": [],
   "source": [
    "df_corr"
   ]
  },
  {
   "cell_type": "code",
   "execution_count": null,
   "id": "1d0723ee",
   "metadata": {},
   "outputs": [],
   "source": [
    "df.to_csv('df.csv')\n",
    "df_pivot.to_csv('df_pivot.csv')"
   ]
  },
  {
   "cell_type": "code",
   "execution_count": null,
   "id": "04acfea5",
   "metadata": {},
   "outputs": [],
   "source": [
    "df_corr.to_csv('df_corr.csv')"
   ]
  },
  {
   "cell_type": "code",
   "execution_count": null,
   "id": "1ec16b10",
   "metadata": {},
   "outputs": [],
   "source": [
    "############################################################"
   ]
  },
  {
   "cell_type": "code",
   "execution_count": null,
   "id": "b44d3c27",
   "metadata": {},
   "outputs": [],
   "source": []
  },
  {
   "cell_type": "code",
   "execution_count": null,
   "id": "7f117c63",
   "metadata": {},
   "outputs": [],
   "source": [
    "user_rating = pd.read_csv('data/user_rating.csv')"
   ]
  },
  {
   "cell_type": "code",
   "execution_count": null,
   "id": "102d9818",
   "metadata": {},
   "outputs": [],
   "source": [
    "user_rating"
   ]
  },
  {
   "cell_type": "code",
   "execution_count": null,
   "id": "abc46deb",
   "metadata": {},
   "outputs": [],
   "source": [
    "# 내 영화 상관계수 하는 논리들"
   ]
  },
  {
   "cell_type": "code",
   "execution_count": null,
   "id": "7e21fc75",
   "metadata": {},
   "outputs": [],
   "source": [
    "user_rating['title'][0]"
   ]
  },
  {
   "cell_type": "code",
   "execution_count": null,
   "id": "2043448f",
   "metadata": {},
   "outputs": [],
   "source": [
    "df_user_corr = df_corr[user_rating['title'][0]].sort_values(ascending= False).to_frame()"
   ]
  },
  {
   "cell_type": "code",
   "execution_count": null,
   "id": "7688a85e",
   "metadata": {},
   "outputs": [],
   "source": [
    "df_user_corr.columns = ['correlation']"
   ]
  },
  {
   "cell_type": "code",
   "execution_count": null,
   "id": "2d7f36dc",
   "metadata": {},
   "outputs": [],
   "source": [
    "df_user_corr"
   ]
  },
  {
   "cell_type": "code",
   "execution_count": null,
   "id": "160406ba",
   "metadata": {},
   "outputs": [],
   "source": [
    "user_rating['rating'][0]"
   ]
  },
  {
   "cell_type": "code",
   "execution_count": null,
   "id": "178698cf",
   "metadata": {},
   "outputs": [],
   "source": [
    "df_user_corr['weight'] = user_rating['rating'][0] * df_user_corr['correlation']"
   ]
  },
  {
   "cell_type": "code",
   "execution_count": null,
   "id": "ea9ad403",
   "metadata": {},
   "outputs": [],
   "source": [
    "df_user_corr"
   ]
  },
  {
   "cell_type": "code",
   "execution_count": null,
   "id": "cccdef26",
   "metadata": {},
   "outputs": [],
   "source": [
    "############################################################"
   ]
  },
  {
   "cell_type": "code",
   "execution_count": null,
   "id": "7651fe80",
   "metadata": {},
   "outputs": [],
   "source": []
  },
  {
   "cell_type": "code",
   "execution_count": null,
   "id": "06e4bb8a",
   "metadata": {},
   "outputs": [],
   "source": [
    "# 내가 영화에 준 별점을 상관계수에 채우는 작업"
   ]
  },
  {
   "cell_type": "code",
   "execution_count": null,
   "id": "f00819d7",
   "metadata": {},
   "outputs": [],
   "source": [
    "user_rating"
   ]
  },
  {
   "cell_type": "code",
   "execution_count": null,
   "id": "94eee37a",
   "metadata": {},
   "outputs": [],
   "source": [
    "similar_movies_list = pd.DataFrame()\n",
    "\n",
    "for i in range( user_rating.shape[0] ) :\n",
    "  movie_name = user_rating['title'][i]\n",
    "  recom_movies = df_corr[movie_name].sort_values(ascending=False).to_frame()\n",
    "  recom_movies.columns = ['correlation']\n",
    "  recom_movies['weight'] = user_rating['rating'][i] * recom_movies['correlation']\n",
    "  similar_movies_list = similar_movies_list.append( recom_movies )"
   ]
  },
  {
   "cell_type": "code",
   "execution_count": null,
   "id": "bfca78b6",
   "metadata": {},
   "outputs": [],
   "source": [
    "# 내 영화들 지우고 추천영화만 정렬해서 보여주는 작업"
   ]
  },
  {
   "cell_type": "code",
   "execution_count": null,
   "id": "323cad4c",
   "metadata": {},
   "outputs": [],
   "source": [
    "similar_movies_list"
   ]
  },
  {
   "cell_type": "code",
   "execution_count": null,
   "id": "f76c3c94",
   "metadata": {},
   "outputs": [],
   "source": [
    "similar_movies_list = similar_movies_list.sort_values('weight' , ascending=False)\n",
    "user_rating['title'].to_list()\n",
    "similar_movies_list.drop( user_rating['title'].to_list() , axis=0,  inplace= True )\n",
    "\n",
    "similar_movie = similar_movies_list.groupby('title')['weight'].max().sort_values(ascending = False).to_frame().reset_index()\n",
    "\n",
    "similar_movie.loc[ : , 'title' ].to_frame().head(5)"
   ]
  },
  {
   "cell_type": "code",
   "execution_count": null,
   "id": "808ac4cb",
   "metadata": {},
   "outputs": [],
   "source": []
  },
  {
   "cell_type": "code",
   "execution_count": null,
   "id": "cd21a6c5",
   "metadata": {},
   "outputs": [],
   "source": [
    "# 6/3 작업"
   ]
  },
  {
   "cell_type": "code",
   "execution_count": null,
   "id": "b33e6e60",
   "metadata": {},
   "outputs": [],
   "source": [
    "import pandas as pd\n",
    "df_corr = pd.read_csv('df_corr.csv', index_col=0)\n",
    "user_rating = pd.read_csv('data/user_rating.csv', index_col= 0)"
   ]
  },
  {
   "cell_type": "code",
   "execution_count": null,
   "id": "04b0f9e2",
   "metadata": {},
   "outputs": [],
   "source": [
    "user_rating"
   ]
  },
  {
   "cell_type": "code",
   "execution_count": null,
   "id": "275894cb",
   "metadata": {},
   "outputs": [],
   "source": [
    "df_corr"
   ]
  },
  {
   "cell_type": "code",
   "execution_count": null,
   "id": "8f397c9a",
   "metadata": {},
   "outputs": [],
   "source": [
    "# 한개씩 드랍하는 논리\n",
    "# 인덱스를 넣어서 그인덱스값 추출해서 drop"
   ]
  },
  {
   "cell_type": "code",
   "execution_count": null,
   "id": "c7bf4cf0",
   "metadata": {},
   "outputs": [],
   "source": [
    "list(user_rating['title'].values)"
   ]
  },
  {
   "cell_type": "code",
   "execution_count": null,
   "id": "e13d6e46",
   "metadata": {},
   "outputs": [],
   "source": [
    "list(enumerate(['A']))"
   ]
  },
  {
   "cell_type": "code",
   "execution_count": null,
   "id": "00204735",
   "metadata": {},
   "outputs": [],
   "source": [
    "a = list(enumerate(user_rating['title'].values))"
   ]
  },
  {
   "cell_type": "code",
   "execution_count": null,
   "id": "835d0873",
   "metadata": {},
   "outputs": [],
   "source": [
    "a"
   ]
  },
  {
   "cell_type": "code",
   "execution_count": null,
   "id": "0f7ad486",
   "metadata": {},
   "outputs": [],
   "source": [
    "a[0]"
   ]
  },
  {
   "cell_type": "code",
   "execution_count": null,
   "id": "8e6753fc",
   "metadata": {},
   "outputs": [],
   "source": [
    "a[0][0]"
   ]
  },
  {
   "cell_type": "code",
   "execution_count": null,
   "id": "c276c02a",
   "metadata": {},
   "outputs": [],
   "source": [
    "user_rating.drop(index= 1\n",
    "        , axis=0)"
   ]
  },
  {
   "cell_type": "code",
   "execution_count": null,
   "id": "d5e30ec1",
   "metadata": {},
   "outputs": [],
   "source": [
    "##############################################################"
   ]
  },
  {
   "cell_type": "code",
   "execution_count": null,
   "id": "34814c17",
   "metadata": {},
   "outputs": [],
   "source": [
    "# overview df 만들기"
   ]
  },
  {
   "cell_type": "code",
   "execution_count": null,
   "id": "68146217",
   "metadata": {},
   "outputs": [],
   "source": [
    "df_overview = pd.read_csv('data/movies_metadata.csv')"
   ]
  },
  {
   "cell_type": "code",
   "execution_count": null,
   "id": "c7e6cfe0",
   "metadata": {},
   "outputs": [],
   "source": [
    "df_overview = df_overview[['overview', 'title']]"
   ]
  },
  {
   "cell_type": "code",
   "execution_count": null,
   "id": "4bf2a25d",
   "metadata": {},
   "outputs": [],
   "source": [
    "df_overview"
   ]
  },
  {
   "cell_type": "code",
   "execution_count": null,
   "id": "8a07f019",
   "metadata": {},
   "outputs": [],
   "source": [
    "df_overview.isnull().sum()"
   ]
  },
  {
   "cell_type": "code",
   "execution_count": null,
   "id": "7d1efa66",
   "metadata": {},
   "outputs": [],
   "source": [
    "df_overview['title'] = df_overview['title'].dropna()"
   ]
  },
  {
   "cell_type": "code",
   "execution_count": null,
   "id": "14cc9964",
   "metadata": {},
   "outputs": [],
   "source": [
    "df_overview.nunique()"
   ]
  },
  {
   "cell_type": "code",
   "execution_count": null,
   "id": "0a4ed819",
   "metadata": {},
   "outputs": [],
   "source": [
    "df_overview = df_overview.drop_duplicates('title')"
   ]
  },
  {
   "cell_type": "code",
   "execution_count": null,
   "id": "391ed58e",
   "metadata": {},
   "outputs": [],
   "source": [
    "df_overview"
   ]
  },
  {
   "cell_type": "code",
   "execution_count": null,
   "id": "10e711de",
   "metadata": {},
   "outputs": [],
   "source": []
  },
  {
   "cell_type": "code",
   "execution_count": null,
   "id": "877d2922",
   "metadata": {},
   "outputs": [],
   "source": [
    "df_overview = df_overview.set_index('title').loc[ ratings_mean_count_df['title'].unique() , ].reset_index()"
   ]
  },
  {
   "cell_type": "code",
   "execution_count": null,
   "id": "765ffc6f",
   "metadata": {},
   "outputs": [],
   "source": [
    "df_overview"
   ]
  },
  {
   "cell_type": "code",
   "execution_count": null,
   "id": "4fab7db2",
   "metadata": {},
   "outputs": [],
   "source": [
    "df_overview.loc[df_overview.duplicated(['overview'], keep=False) ]"
   ]
  },
  {
   "cell_type": "code",
   "execution_count": null,
   "id": "6091d230",
   "metadata": {},
   "outputs": [],
   "source": [
    "( df_overview.set_index('title') )"
   ]
  },
  {
   "cell_type": "code",
   "execution_count": null,
   "id": "063bdd94",
   "metadata": {},
   "outputs": [],
   "source": [
    "df_overview.set_index('title').loc['28 Days Later'][0]"
   ]
  },
  {
   "cell_type": "code",
   "execution_count": null,
   "id": "3a9cd639",
   "metadata": {},
   "outputs": [],
   "source": [
    "df_overview.to_csv('df_overview.csv')"
   ]
  },
  {
   "cell_type": "code",
   "execution_count": null,
   "id": "87f991c4",
   "metadata": {},
   "outputs": [],
   "source": [
    "##############################################################"
   ]
  },
  {
   "cell_type": "code",
   "execution_count": null,
   "id": "7872f426",
   "metadata": {},
   "outputs": [],
   "source": []
  },
  {
   "cell_type": "code",
   "execution_count": null,
   "id": "130d20ef",
   "metadata": {},
   "outputs": [],
   "source": [
    "from googletrans import Translator"
   ]
  },
  {
   "cell_type": "code",
   "execution_count": null,
   "id": "70939c7b",
   "metadata": {
    "scrolled": true
   },
   "outputs": [],
   "source": [
    "translator = Translator()\n",
    "result = translator.translate('안녕하세요.', dest=\"ja\")"
   ]
  },
  {
   "cell_type": "code",
   "execution_count": null,
   "id": "83f9e624",
   "metadata": {},
   "outputs": [],
   "source": [
    "print(result)"
   ]
  },
  {
   "cell_type": "code",
   "execution_count": null,
   "id": "2a1c909c",
   "metadata": {},
   "outputs": [],
   "source": [
    "print(result.text)"
   ]
  },
  {
   "cell_type": "code",
   "execution_count": null,
   "id": "14cd8ce6",
   "metadata": {},
   "outputs": [],
   "source": [
    "result.text"
   ]
  },
  {
   "cell_type": "code",
   "execution_count": null,
   "id": "859ddbd9",
   "metadata": {},
   "outputs": [],
   "source": []
  },
  {
   "cell_type": "code",
   "execution_count": 3,
   "id": "821cefbe",
   "metadata": {},
   "outputs": [],
   "source": [
    "user_rating_reset = pd.read_csv('data/user_rating_reset.csv', index_col= 0)\n",
    "user_rating = pd.read_csv('data/user_rating.csv', index_col= 0)"
   ]
  },
  {
   "cell_type": "code",
   "execution_count": null,
   "id": "eaa70ab8",
   "metadata": {},
   "outputs": [],
   "source": [
    "if st.button('저장하기') :\n",
    "            if ( user_rating.loc[ user_rating['userId'] == 999 , ]['userId'].tolist() ) == [] :\n",
    "                user_rating = user_rating_reset.append( { 'title' : choice_movie , 'userId' : 999, 'rating' : float(choice_rating) }, ignore_index=True )\n",
    "                user_rating.to_csv('data/user_rating.csv')\n",
    "                \n",
    "            elif ( ( (user_rating.loc[ user_rating['userId'] == 999 , ])['userId'] == 999).tolist() )[0] :\n",
    "                user_rating = user_rating.append( { 'title' : choice_movie , 'userId' : 999, 'rating' : float(choice_rating) }, ignore_index=True )\n",
    "                user_rating.to_csv('data/user_rating.csv')"
   ]
  },
  {
   "cell_type": "code",
   "execution_count": 4,
   "id": "8aa48b8d",
   "metadata": {},
   "outputs": [
    {
     "data": {
      "text/html": [
       "<div>\n",
       "<style scoped>\n",
       "    .dataframe tbody tr th:only-of-type {\n",
       "        vertical-align: middle;\n",
       "    }\n",
       "\n",
       "    .dataframe tbody tr th {\n",
       "        vertical-align: top;\n",
       "    }\n",
       "\n",
       "    .dataframe thead th {\n",
       "        text-align: right;\n",
       "    }\n",
       "</style>\n",
       "<table border=\"1\" class=\"dataframe\">\n",
       "  <thead>\n",
       "    <tr style=\"text-align: right;\">\n",
       "      <th></th>\n",
       "      <th>title</th>\n",
       "      <th>rating</th>\n",
       "      <th>userId</th>\n",
       "    </tr>\n",
       "  </thead>\n",
       "  <tbody>\n",
       "    <tr>\n",
       "      <th>0</th>\n",
       "      <td>28 Days Later</td>\n",
       "      <td>3.0</td>\n",
       "      <td>999</td>\n",
       "    </tr>\n",
       "    <tr>\n",
       "      <th>1</th>\n",
       "      <td>300</td>\n",
       "      <td>5.0</td>\n",
       "      <td>999</td>\n",
       "    </tr>\n",
       "  </tbody>\n",
       "</table>\n",
       "</div>"
      ],
      "text/plain": [
       "           title  rating  userId\n",
       "0  28 Days Later     3.0     999\n",
       "1            300     5.0     999"
      ]
     },
     "execution_count": 4,
     "metadata": {},
     "output_type": "execute_result"
    }
   ],
   "source": [
    "user_rating"
   ]
  },
  {
   "cell_type": "code",
   "execution_count": 12,
   "id": "4120232b",
   "metadata": {},
   "outputs": [
    {
     "data": {
      "text/plain": [
       "2"
      ]
     },
     "execution_count": 12,
     "metadata": {},
     "output_type": "execute_result"
    }
   ],
   "source": [
    "user_rating['title'].nunique()"
   ]
  },
  {
   "cell_type": "code",
   "execution_count": null,
   "id": "33ed02f4",
   "metadata": {},
   "outputs": [],
   "source": []
  }
 ],
 "metadata": {
  "kernelspec": {
   "display_name": "Python 3 (ipykernel)",
   "language": "python",
   "name": "python3"
  },
  "language_info": {
   "codemirror_mode": {
    "name": "ipython",
    "version": 3
   },
   "file_extension": ".py",
   "mimetype": "text/x-python",
   "name": "python",
   "nbconvert_exporter": "python",
   "pygments_lexer": "ipython3",
   "version": "3.9.7"
  }
 },
 "nbformat": 4,
 "nbformat_minor": 5
}
