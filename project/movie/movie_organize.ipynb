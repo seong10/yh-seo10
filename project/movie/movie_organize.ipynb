{
 "cells": [
  {
   "cell_type": "code",
   "execution_count": 1,
   "id": "47f5572e",
   "metadata": {},
   "outputs": [],
   "source": [
    "import pandas as pd"
   ]
  },
  {
   "cell_type": "code",
   "execution_count": null,
   "id": "8c99a784",
   "metadata": {},
   "outputs": [],
   "source": [
    "# title 중복된값 제거"
   ]
  },
  {
   "cell_type": "code",
   "execution_count": 2,
   "id": "88bdaeeb",
   "metadata": {},
   "outputs": [],
   "source": [
    "df_title = pd.read_csv('data/movies_metadata.csv', low_memory=False)"
   ]
  },
  {
   "cell_type": "code",
   "execution_count": 3,
   "id": "73e12c49",
   "metadata": {},
   "outputs": [],
   "source": [
    "df_title = df_title[['title', 'id']]"
   ]
  },
  {
   "cell_type": "code",
   "execution_count": 4,
   "id": "4232a995",
   "metadata": {},
   "outputs": [],
   "source": [
    "df_title = df_title.drop_duplicates()"
   ]
  },
  {
   "cell_type": "code",
   "execution_count": null,
   "id": "4d3a7464",
   "metadata": {},
   "outputs": [],
   "source": []
  },
  {
   "cell_type": "code",
   "execution_count": null,
   "id": "c9672dd0",
   "metadata": {},
   "outputs": [],
   "source": [
    "# rating 필요한 컬럼만 가공"
   ]
  },
  {
   "cell_type": "code",
   "execution_count": 5,
   "id": "3447cc33",
   "metadata": {},
   "outputs": [],
   "source": [
    "df_rating = pd.read_csv('data/ratings_small.csv')"
   ]
  },
  {
   "cell_type": "code",
   "execution_count": 6,
   "id": "9620b703",
   "metadata": {},
   "outputs": [],
   "source": [
    "df_rating = df_rating.iloc[ : , :2+1]"
   ]
  },
  {
   "cell_type": "code",
   "execution_count": null,
   "id": "7e45974e",
   "metadata": {},
   "outputs": [],
   "source": []
  },
  {
   "cell_type": "code",
   "execution_count": null,
   "id": "d3fffaa3",
   "metadata": {},
   "outputs": [],
   "source": [
    "# merge 하기 위해 데이터 똑같이 맞춤"
   ]
  },
  {
   "cell_type": "code",
   "execution_count": 7,
   "id": "9d9afe75",
   "metadata": {},
   "outputs": [],
   "source": [
    "df_title = df_title.rename(columns={'id':'movieId'})"
   ]
  },
  {
   "cell_type": "code",
   "execution_count": 8,
   "id": "1d8b1d8b",
   "metadata": {},
   "outputs": [],
   "source": [
    "df_title = df_title.dropna()"
   ]
  },
  {
   "cell_type": "code",
   "execution_count": 9,
   "id": "31aef7d7",
   "metadata": {},
   "outputs": [],
   "source": [
    "df_title['movieId'] = df_title['movieId'].astype(int)"
   ]
  },
  {
   "cell_type": "code",
   "execution_count": null,
   "id": "4d16a931",
   "metadata": {},
   "outputs": [],
   "source": []
  },
  {
   "cell_type": "code",
   "execution_count": null,
   "id": "c03ea6f4",
   "metadata": {},
   "outputs": [],
   "source": [
    "# 별점매긴 사람수 10개 이상인 영화만 추리기"
   ]
  },
  {
   "cell_type": "code",
   "execution_count": 14,
   "id": "2d52bea4",
   "metadata": {},
   "outputs": [],
   "source": [
    "df_ratcnt = df.groupby('title')['rating'].count()"
   ]
  },
  {
   "cell_type": "code",
   "execution_count": 15,
   "id": "dcc24b44",
   "metadata": {},
   "outputs": [],
   "source": [
    "df_ratcnt = df_ratcnt.to_frame()"
   ]
  },
  {
   "cell_type": "code",
   "execution_count": 16,
   "id": "fb9fcb19",
   "metadata": {},
   "outputs": [],
   "source": [
    "df_ratcnt = df_ratcnt.loc[ df_ratcnt['rating'] >= 10 , ]"
   ]
  },
  {
   "cell_type": "code",
   "execution_count": null,
   "id": "490e8dca",
   "metadata": {},
   "outputs": [],
   "source": []
  },
  {
   "cell_type": "code",
   "execution_count": null,
   "id": "51a68c90",
   "metadata": {},
   "outputs": [],
   "source": [
    "# 조인하고"
   ]
  },
  {
   "cell_type": "code",
   "execution_count": null,
   "id": "b41681f9",
   "metadata": {},
   "outputs": [],
   "source": [
    "df_titleindex = df_title.set_index('title')"
   ]
  },
  {
   "cell_type": "code",
   "execution_count": null,
   "id": "c44039f9",
   "metadata": {},
   "outputs": [],
   "source": [
    "df_join = df_titleindex.join(df_ratcnt)"
   ]
  },
  {
   "cell_type": "code",
   "execution_count": null,
   "id": "4d20b23d",
   "metadata": {},
   "outputs": [],
   "source": [
    "# 10개 이하인, 즉 값이 nan인 컬럼 빼고\n",
    "# title 데이터 간추림"
   ]
  },
  {
   "cell_type": "code",
   "execution_count": null,
   "id": "df9c94df",
   "metadata": {},
   "outputs": [],
   "source": [
    "df_title = df_join.dropna()"
   ]
  },
  {
   "cell_type": "code",
   "execution_count": null,
   "id": "91223e6d",
   "metadata": {},
   "outputs": [],
   "source": [
    "df_title = df_title['movieId'].to_frame()"
   ]
  },
  {
   "cell_type": "code",
   "execution_count": null,
   "id": "5cf3b1bd",
   "metadata": {},
   "outputs": [],
   "source": [
    "df_title = df_title.reset_index()"
   ]
  },
  {
   "cell_type": "code",
   "execution_count": null,
   "id": "19a9c3ce",
   "metadata": {},
   "outputs": [],
   "source": []
  },
  {
   "cell_type": "code",
   "execution_count": null,
   "id": "cd502c53",
   "metadata": {},
   "outputs": [],
   "source": [
    "# df 파일 완성"
   ]
  },
  {
   "cell_type": "code",
   "execution_count": 10,
   "id": "4792728a",
   "metadata": {},
   "outputs": [],
   "source": [
    "df = pd.merge(df_title, df_rating, on='movieId')"
   ]
  },
  {
   "cell_type": "code",
   "execution_count": 17,
   "id": "f5bd25db",
   "metadata": {},
   "outputs": [
    {
     "data": {
      "text/html": [
       "<div>\n",
       "<style scoped>\n",
       "    .dataframe tbody tr th:only-of-type {\n",
       "        vertical-align: middle;\n",
       "    }\n",
       "\n",
       "    .dataframe tbody tr th {\n",
       "        vertical-align: top;\n",
       "    }\n",
       "\n",
       "    .dataframe thead th {\n",
       "        text-align: right;\n",
       "    }\n",
       "</style>\n",
       "<table border=\"1\" class=\"dataframe\">\n",
       "  <thead>\n",
       "    <tr style=\"text-align: right;\">\n",
       "      <th></th>\n",
       "      <th>title</th>\n",
       "      <th>movieId</th>\n",
       "      <th>userId</th>\n",
       "      <th>rating</th>\n",
       "    </tr>\n",
       "  </thead>\n",
       "  <tbody>\n",
       "    <tr>\n",
       "      <th>0</th>\n",
       "      <td>Heat</td>\n",
       "      <td>949</td>\n",
       "      <td>23</td>\n",
       "      <td>3.5</td>\n",
       "    </tr>\n",
       "    <tr>\n",
       "      <th>1</th>\n",
       "      <td>Heat</td>\n",
       "      <td>949</td>\n",
       "      <td>102</td>\n",
       "      <td>4.0</td>\n",
       "    </tr>\n",
       "    <tr>\n",
       "      <th>2</th>\n",
       "      <td>Heat</td>\n",
       "      <td>949</td>\n",
       "      <td>232</td>\n",
       "      <td>2.0</td>\n",
       "    </tr>\n",
       "    <tr>\n",
       "      <th>3</th>\n",
       "      <td>Heat</td>\n",
       "      <td>949</td>\n",
       "      <td>242</td>\n",
       "      <td>5.0</td>\n",
       "    </tr>\n",
       "    <tr>\n",
       "      <th>4</th>\n",
       "      <td>Heat</td>\n",
       "      <td>949</td>\n",
       "      <td>263</td>\n",
       "      <td>3.0</td>\n",
       "    </tr>\n",
       "    <tr>\n",
       "      <th>...</th>\n",
       "      <td>...</td>\n",
       "      <td>...</td>\n",
       "      <td>...</td>\n",
       "      <td>...</td>\n",
       "    </tr>\n",
       "    <tr>\n",
       "      <th>44984</th>\n",
       "      <td>Travelling with Pets</td>\n",
       "      <td>64197</td>\n",
       "      <td>73</td>\n",
       "      <td>4.0</td>\n",
       "    </tr>\n",
       "    <tr>\n",
       "      <th>44985</th>\n",
       "      <td>Travelling with Pets</td>\n",
       "      <td>64197</td>\n",
       "      <td>544</td>\n",
       "      <td>5.0</td>\n",
       "    </tr>\n",
       "    <tr>\n",
       "      <th>44986</th>\n",
       "      <td>Travelling with Pets</td>\n",
       "      <td>64197</td>\n",
       "      <td>648</td>\n",
       "      <td>3.5</td>\n",
       "    </tr>\n",
       "    <tr>\n",
       "      <th>44987</th>\n",
       "      <td>Cinderella</td>\n",
       "      <td>98604</td>\n",
       "      <td>352</td>\n",
       "      <td>4.0</td>\n",
       "    </tr>\n",
       "    <tr>\n",
       "      <th>44988</th>\n",
       "      <td>The One-Man Band</td>\n",
       "      <td>49280</td>\n",
       "      <td>187</td>\n",
       "      <td>5.0</td>\n",
       "    </tr>\n",
       "  </tbody>\n",
       "</table>\n",
       "<p>44989 rows × 4 columns</p>\n",
       "</div>"
      ],
      "text/plain": [
       "                      title  movieId  userId  rating\n",
       "0                      Heat      949      23     3.5\n",
       "1                      Heat      949     102     4.0\n",
       "2                      Heat      949     232     2.0\n",
       "3                      Heat      949     242     5.0\n",
       "4                      Heat      949     263     3.0\n",
       "...                     ...      ...     ...     ...\n",
       "44984  Travelling with Pets    64197      73     4.0\n",
       "44985  Travelling with Pets    64197     544     5.0\n",
       "44986  Travelling with Pets    64197     648     3.5\n",
       "44987            Cinderella    98604     352     4.0\n",
       "44988      The One-Man Band    49280     187     5.0\n",
       "\n",
       "[44989 rows x 4 columns]"
      ]
     },
     "execution_count": 17,
     "metadata": {},
     "output_type": "execute_result"
    }
   ],
   "source": [
    "df"
   ]
  },
  {
   "cell_type": "code",
   "execution_count": null,
   "id": "83382ec1",
   "metadata": {},
   "outputs": [],
   "source": []
  }
 ],
 "metadata": {
  "kernelspec": {
   "display_name": "Python 3 (ipykernel)",
   "language": "python",
   "name": "python3"
  },
  "language_info": {
   "codemirror_mode": {
    "name": "ipython",
    "version": 3
   },
   "file_extension": ".py",
   "mimetype": "text/x-python",
   "name": "python",
   "nbconvert_exporter": "python",
   "pygments_lexer": "ipython3",
   "version": "3.7.13"
  }
 },
 "nbformat": 4,
 "nbformat_minor": 5
}
