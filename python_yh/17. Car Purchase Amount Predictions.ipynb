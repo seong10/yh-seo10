{
 "cells": [
  {
   "cell_type": "markdown",
   "metadata": {
    "id": "gD2TuCquRtMj"
   },
   "source": [
    "\n",
    "# 자동차 구매 가격 예측\n",
    "\n"
   ]
  },
  {
   "cell_type": "markdown",
   "metadata": {
    "id": "QRnoEP0pRtMp"
   },
   "source": [
    "# PROBLEM STATEMENT"
   ]
  },
  {
   "cell_type": "markdown",
   "metadata": {
    "id": "5rNFkL8VRtMq"
   },
   "source": [
    "다음과 같은 컬럼을 가지고 있는 데이터셋을 읽어서, 어떠한 고객이 있을때, 그 고객이 얼마정도의 차를 구매할 수 있을지를 예측하여, 그 사람에게 맞는 자동차를 보여주려 한다. \n",
    "\n",
    "- Customer Name\n",
    "- Customer e-mail\n",
    "- Country\n",
    "- Gender\n",
    "- Age\n",
    "- Annual Salary \n",
    "- Credit Card Debt \n",
    "- Net Worth (순자산)\n",
    "\n",
    "예측하고자 하는 값 : \n",
    "- Car Purchase Amount "
   ]
  },
  {
   "cell_type": "markdown",
   "metadata": {
    "id": "emqhj28LRtMq"
   },
   "source": [
    "# STEP #0: 라이브러리 임포트 및 코랩 환경 설정\n",
    "\n",
    "[구글 드라이브 파일 읽기 참고](https://vision-ai.tistory.com/entry/%EC%BD%94%EB%9E%A9%EC%97%90%EC%84%9C-%EB%93%9C%EB%9D%BC%EC%9D%B4%EB%B8%8C%EC%9D%98-csv-%ED%8C%8C%EC%9D%BC-%EC%9D%BD%EA%B8%B0)\n"
   ]
  },
  {
   "cell_type": "code",
   "execution_count": 1,
   "metadata": {
    "id": "6UkIIBVDRtMq"
   },
   "outputs": [],
   "source": [
    "import pandas as pd\n",
    "import numpy as np\n",
    "import matplotlib.pyplot as plt\n",
    "import seaborn as sns"
   ]
  },
  {
   "cell_type": "markdown",
   "metadata": {
    "id": "g8b_k5HeStq9"
   },
   "source": [
    "### csv 파일을 읽기 위해, 구글 드라이브 마운트 하시오"
   ]
  },
  {
   "cell_type": "code",
   "execution_count": 2,
   "metadata": {
    "id": "EhM6pyg-F1ai"
   },
   "outputs": [
    {
     "ename": "ModuleNotFoundError",
     "evalue": "No module named 'google'",
     "output_type": "error",
     "traceback": [
      "\u001b[1;31m---------------------------------------------------------------------------\u001b[0m",
      "\u001b[1;31mModuleNotFoundError\u001b[0m                       Traceback (most recent call last)",
      "\u001b[1;32m~\\AppData\\Local\\Temp/ipykernel_5024/859145840.py\u001b[0m in \u001b[0;36m<module>\u001b[1;34m\u001b[0m\n\u001b[1;32m----> 1\u001b[1;33m \u001b[1;32mfrom\u001b[0m \u001b[0mgoogle\u001b[0m\u001b[1;33m.\u001b[0m\u001b[0mcolab\u001b[0m \u001b[1;32mimport\u001b[0m \u001b[0mdrive\u001b[0m\u001b[1;33m\u001b[0m\u001b[1;33m\u001b[0m\u001b[0m\n\u001b[0m",
      "\u001b[1;31mModuleNotFoundError\u001b[0m: No module named 'google'"
     ]
    }
   ],
   "source": [
    "from google.colab import drive"
   ]
  },
  {
   "cell_type": "markdown",
   "metadata": {
    "id": "CNLSpzbX89lJ"
   },
   "source": [
    "### working directory 를, 현재의 파일이 속한 폴더로 셋팅하시오."
   ]
  },
  {
   "cell_type": "code",
   "execution_count": null,
   "metadata": {
    "id": "8jgYFjOBF2dp"
   },
   "outputs": [],
   "source": []
  },
  {
   "cell_type": "markdown",
   "metadata": {
    "id": "iaD06IN0RtMr"
   },
   "source": [
    "# STEP #1: IMPORT DATASET\n",
    "\n",
    "### Car_Purchasing_Data.csv 파일을 사용한다.  코랩의 경우 구글드라이브의 전체경로를 복사하여 파일 읽는다. \n",
    "\n",
    "### 인코딩은 다음처럼 한다. encoding='ISO-8859-1'"
   ]
  },
  {
   "cell_type": "code",
   "execution_count": 18,
   "metadata": {},
   "outputs": [],
   "source": [
    "car_df = pd.read_csv('data/Car_Purchasing_Data.csv', encoding='ISO-8859-1' )"
   ]
  },
  {
   "cell_type": "code",
   "execution_count": 9,
   "metadata": {
    "id": "v_R7bKO1RtMr"
   },
   "outputs": [
    {
     "data": {
      "text/html": [
       "<div>\n",
       "<style scoped>\n",
       "    .dataframe tbody tr th:only-of-type {\n",
       "        vertical-align: middle;\n",
       "    }\n",
       "\n",
       "    .dataframe tbody tr th {\n",
       "        vertical-align: top;\n",
       "    }\n",
       "\n",
       "    .dataframe thead th {\n",
       "        text-align: right;\n",
       "    }\n",
       "</style>\n",
       "<table border=\"1\" class=\"dataframe\">\n",
       "  <thead>\n",
       "    <tr style=\"text-align: right;\">\n",
       "      <th></th>\n",
       "      <th>Customer Name</th>\n",
       "      <th>Customer e-mail</th>\n",
       "      <th>Country</th>\n",
       "      <th>Gender</th>\n",
       "      <th>Age</th>\n",
       "      <th>Annual Salary</th>\n",
       "      <th>Credit Card Debt</th>\n",
       "      <th>Net Worth</th>\n",
       "      <th>Car Purchase Amount</th>\n",
       "    </tr>\n",
       "  </thead>\n",
       "  <tbody>\n",
       "    <tr>\n",
       "      <th>0</th>\n",
       "      <td>Martina Avila</td>\n",
       "      <td>cubilia.Curae.Phasellus@quisaccumsanconvallis.edu</td>\n",
       "      <td>Bulgaria</td>\n",
       "      <td>0</td>\n",
       "      <td>41.851720</td>\n",
       "      <td>62812.09301</td>\n",
       "      <td>11609.380910</td>\n",
       "      <td>238961.2505</td>\n",
       "      <td>35321.45877</td>\n",
       "    </tr>\n",
       "    <tr>\n",
       "      <th>1</th>\n",
       "      <td>Harlan Barnes</td>\n",
       "      <td>eu.dolor@diam.co.uk</td>\n",
       "      <td>Belize</td>\n",
       "      <td>0</td>\n",
       "      <td>40.870623</td>\n",
       "      <td>66646.89292</td>\n",
       "      <td>9572.957136</td>\n",
       "      <td>530973.9078</td>\n",
       "      <td>45115.52566</td>\n",
       "    </tr>\n",
       "    <tr>\n",
       "      <th>2</th>\n",
       "      <td>Naomi Rodriquez</td>\n",
       "      <td>vulputate.mauris.sagittis@ametconsectetueradip...</td>\n",
       "      <td>Algeria</td>\n",
       "      <td>1</td>\n",
       "      <td>43.152897</td>\n",
       "      <td>53798.55112</td>\n",
       "      <td>11160.355060</td>\n",
       "      <td>638467.1773</td>\n",
       "      <td>42925.70921</td>\n",
       "    </tr>\n",
       "    <tr>\n",
       "      <th>3</th>\n",
       "      <td>Jade Cunningham</td>\n",
       "      <td>malesuada@dignissim.com</td>\n",
       "      <td>Cook Islands</td>\n",
       "      <td>1</td>\n",
       "      <td>58.271369</td>\n",
       "      <td>79370.03798</td>\n",
       "      <td>14426.164850</td>\n",
       "      <td>548599.0524</td>\n",
       "      <td>67422.36313</td>\n",
       "    </tr>\n",
       "    <tr>\n",
       "      <th>4</th>\n",
       "      <td>Cedric Leach</td>\n",
       "      <td>felis.ullamcorper.viverra@egetmollislectus.net</td>\n",
       "      <td>Brazil</td>\n",
       "      <td>1</td>\n",
       "      <td>57.313749</td>\n",
       "      <td>59729.15130</td>\n",
       "      <td>5358.712177</td>\n",
       "      <td>560304.0671</td>\n",
       "      <td>55915.46248</td>\n",
       "    </tr>\n",
       "    <tr>\n",
       "      <th>...</th>\n",
       "      <td>...</td>\n",
       "      <td>...</td>\n",
       "      <td>...</td>\n",
       "      <td>...</td>\n",
       "      <td>...</td>\n",
       "      <td>...</td>\n",
       "      <td>...</td>\n",
       "      <td>...</td>\n",
       "      <td>...</td>\n",
       "    </tr>\n",
       "    <tr>\n",
       "      <th>495</th>\n",
       "      <td>Walter</td>\n",
       "      <td>ligula@Cumsociis.ca</td>\n",
       "      <td>Nepal</td>\n",
       "      <td>0</td>\n",
       "      <td>41.462515</td>\n",
       "      <td>71942.40291</td>\n",
       "      <td>6995.902524</td>\n",
       "      <td>541670.1016</td>\n",
       "      <td>48901.44342</td>\n",
       "    </tr>\n",
       "    <tr>\n",
       "      <th>496</th>\n",
       "      <td>Vanna</td>\n",
       "      <td>Cum.sociis.natoque@Sedmolestie.edu</td>\n",
       "      <td>Zimbabwe</td>\n",
       "      <td>1</td>\n",
       "      <td>37.642000</td>\n",
       "      <td>56039.49793</td>\n",
       "      <td>12301.456790</td>\n",
       "      <td>360419.0988</td>\n",
       "      <td>31491.41457</td>\n",
       "    </tr>\n",
       "    <tr>\n",
       "      <th>497</th>\n",
       "      <td>Pearl</td>\n",
       "      <td>penatibus.et@massanonante.com</td>\n",
       "      <td>Philippines</td>\n",
       "      <td>1</td>\n",
       "      <td>53.943497</td>\n",
       "      <td>68888.77805</td>\n",
       "      <td>10611.606860</td>\n",
       "      <td>764531.3203</td>\n",
       "      <td>64147.28888</td>\n",
       "    </tr>\n",
       "    <tr>\n",
       "      <th>498</th>\n",
       "      <td>Nell</td>\n",
       "      <td>Quisque.varius@arcuVivamussit.net</td>\n",
       "      <td>Botswana</td>\n",
       "      <td>1</td>\n",
       "      <td>59.160509</td>\n",
       "      <td>49811.99062</td>\n",
       "      <td>14013.034510</td>\n",
       "      <td>337826.6382</td>\n",
       "      <td>45442.15353</td>\n",
       "    </tr>\n",
       "    <tr>\n",
       "      <th>499</th>\n",
       "      <td>Marla</td>\n",
       "      <td>Camaron.marla@hotmail.com</td>\n",
       "      <td>marlal</td>\n",
       "      <td>1</td>\n",
       "      <td>46.731152</td>\n",
       "      <td>61370.67766</td>\n",
       "      <td>9391.341628</td>\n",
       "      <td>462946.4924</td>\n",
       "      <td>45107.22566</td>\n",
       "    </tr>\n",
       "  </tbody>\n",
       "</table>\n",
       "<p>500 rows × 9 columns</p>\n",
       "</div>"
      ],
      "text/plain": [
       "       Customer Name                                    Customer e-mail  \\\n",
       "0      Martina Avila  cubilia.Curae.Phasellus@quisaccumsanconvallis.edu   \n",
       "1      Harlan Barnes                                eu.dolor@diam.co.uk   \n",
       "2    Naomi Rodriquez  vulputate.mauris.sagittis@ametconsectetueradip...   \n",
       "3    Jade Cunningham                            malesuada@dignissim.com   \n",
       "4       Cedric Leach     felis.ullamcorper.viverra@egetmollislectus.net   \n",
       "..               ...                                                ...   \n",
       "495           Walter                                ligula@Cumsociis.ca   \n",
       "496            Vanna                 Cum.sociis.natoque@Sedmolestie.edu   \n",
       "497            Pearl                      penatibus.et@massanonante.com   \n",
       "498             Nell                  Quisque.varius@arcuVivamussit.net   \n",
       "499            Marla                          Camaron.marla@hotmail.com   \n",
       "\n",
       "          Country  Gender        Age  Annual Salary  Credit Card Debt  \\\n",
       "0        Bulgaria       0  41.851720    62812.09301      11609.380910   \n",
       "1          Belize       0  40.870623    66646.89292       9572.957136   \n",
       "2         Algeria       1  43.152897    53798.55112      11160.355060   \n",
       "3    Cook Islands       1  58.271369    79370.03798      14426.164850   \n",
       "4          Brazil       1  57.313749    59729.15130       5358.712177   \n",
       "..            ...     ...        ...            ...               ...   \n",
       "495         Nepal       0  41.462515    71942.40291       6995.902524   \n",
       "496      Zimbabwe       1  37.642000    56039.49793      12301.456790   \n",
       "497   Philippines       1  53.943497    68888.77805      10611.606860   \n",
       "498      Botswana       1  59.160509    49811.99062      14013.034510   \n",
       "499        marlal       1  46.731152    61370.67766       9391.341628   \n",
       "\n",
       "       Net Worth  Car Purchase Amount  \n",
       "0    238961.2505          35321.45877  \n",
       "1    530973.9078          45115.52566  \n",
       "2    638467.1773          42925.70921  \n",
       "3    548599.0524          67422.36313  \n",
       "4    560304.0671          55915.46248  \n",
       "..           ...                  ...  \n",
       "495  541670.1016          48901.44342  \n",
       "496  360419.0988          31491.41457  \n",
       "497  764531.3203          64147.28888  \n",
       "498  337826.6382          45442.15353  \n",
       "499  462946.4924          45107.22566  \n",
       "\n",
       "[500 rows x 9 columns]"
      ]
     },
     "execution_count": 9,
     "metadata": {},
     "output_type": "execute_result"
    }
   ],
   "source": [
    "car_df\n"
   ]
  },
  {
   "cell_type": "markdown",
   "metadata": {
    "id": "MSMajJ77Uz1I"
   },
   "source": [
    "### 컬럼을 확인하고\n",
    "\n",
    "### 기본 통계 데이터를 확인해 보자"
   ]
  },
  {
   "cell_type": "code",
   "execution_count": 12,
   "metadata": {},
   "outputs": [
    {
     "data": {
      "text/html": [
       "<div>\n",
       "<style scoped>\n",
       "    .dataframe tbody tr th:only-of-type {\n",
       "        vertical-align: middle;\n",
       "    }\n",
       "\n",
       "    .dataframe tbody tr th {\n",
       "        vertical-align: top;\n",
       "    }\n",
       "\n",
       "    .dataframe thead th {\n",
       "        text-align: right;\n",
       "    }\n",
       "</style>\n",
       "<table border=\"1\" class=\"dataframe\">\n",
       "  <thead>\n",
       "    <tr style=\"text-align: right;\">\n",
       "      <th></th>\n",
       "      <th>Customer Name</th>\n",
       "      <th>Customer e-mail</th>\n",
       "      <th>Country</th>\n",
       "      <th>Gender</th>\n",
       "      <th>Age</th>\n",
       "      <th>Annual Salary</th>\n",
       "      <th>Credit Card Debt</th>\n",
       "      <th>Net Worth</th>\n",
       "      <th>Car Purchase Amount</th>\n",
       "    </tr>\n",
       "  </thead>\n",
       "  <tbody>\n",
       "    <tr>\n",
       "      <th>0</th>\n",
       "      <td>Martina Avila</td>\n",
       "      <td>cubilia.Curae.Phasellus@quisaccumsanconvallis.edu</td>\n",
       "      <td>Bulgaria</td>\n",
       "      <td>0</td>\n",
       "      <td>41.851720</td>\n",
       "      <td>62812.09301</td>\n",
       "      <td>11609.380910</td>\n",
       "      <td>238961.2505</td>\n",
       "      <td>35321.45877</td>\n",
       "    </tr>\n",
       "    <tr>\n",
       "      <th>1</th>\n",
       "      <td>Harlan Barnes</td>\n",
       "      <td>eu.dolor@diam.co.uk</td>\n",
       "      <td>Belize</td>\n",
       "      <td>0</td>\n",
       "      <td>40.870623</td>\n",
       "      <td>66646.89292</td>\n",
       "      <td>9572.957136</td>\n",
       "      <td>530973.9078</td>\n",
       "      <td>45115.52566</td>\n",
       "    </tr>\n",
       "    <tr>\n",
       "      <th>2</th>\n",
       "      <td>Naomi Rodriquez</td>\n",
       "      <td>vulputate.mauris.sagittis@ametconsectetueradip...</td>\n",
       "      <td>Algeria</td>\n",
       "      <td>1</td>\n",
       "      <td>43.152897</td>\n",
       "      <td>53798.55112</td>\n",
       "      <td>11160.355060</td>\n",
       "      <td>638467.1773</td>\n",
       "      <td>42925.70921</td>\n",
       "    </tr>\n",
       "    <tr>\n",
       "      <th>3</th>\n",
       "      <td>Jade Cunningham</td>\n",
       "      <td>malesuada@dignissim.com</td>\n",
       "      <td>Cook Islands</td>\n",
       "      <td>1</td>\n",
       "      <td>58.271369</td>\n",
       "      <td>79370.03798</td>\n",
       "      <td>14426.164850</td>\n",
       "      <td>548599.0524</td>\n",
       "      <td>67422.36313</td>\n",
       "    </tr>\n",
       "    <tr>\n",
       "      <th>4</th>\n",
       "      <td>Cedric Leach</td>\n",
       "      <td>felis.ullamcorper.viverra@egetmollislectus.net</td>\n",
       "      <td>Brazil</td>\n",
       "      <td>1</td>\n",
       "      <td>57.313749</td>\n",
       "      <td>59729.15130</td>\n",
       "      <td>5358.712177</td>\n",
       "      <td>560304.0671</td>\n",
       "      <td>55915.46248</td>\n",
       "    </tr>\n",
       "  </tbody>\n",
       "</table>\n",
       "</div>"
      ],
      "text/plain": [
       "     Customer Name                                    Customer e-mail  \\\n",
       "0    Martina Avila  cubilia.Curae.Phasellus@quisaccumsanconvallis.edu   \n",
       "1    Harlan Barnes                                eu.dolor@diam.co.uk   \n",
       "2  Naomi Rodriquez  vulputate.mauris.sagittis@ametconsectetueradip...   \n",
       "3  Jade Cunningham                            malesuada@dignissim.com   \n",
       "4     Cedric Leach     felis.ullamcorper.viverra@egetmollislectus.net   \n",
       "\n",
       "        Country  Gender        Age  Annual Salary  Credit Card Debt  \\\n",
       "0      Bulgaria       0  41.851720    62812.09301      11609.380910   \n",
       "1        Belize       0  40.870623    66646.89292       9572.957136   \n",
       "2       Algeria       1  43.152897    53798.55112      11160.355060   \n",
       "3  Cook Islands       1  58.271369    79370.03798      14426.164850   \n",
       "4        Brazil       1  57.313749    59729.15130       5358.712177   \n",
       "\n",
       "     Net Worth  Car Purchase Amount  \n",
       "0  238961.2505          35321.45877  \n",
       "1  530973.9078          45115.52566  \n",
       "2  638467.1773          42925.70921  \n",
       "3  548599.0524          67422.36313  \n",
       "4  560304.0671          55915.46248  "
      ]
     },
     "execution_count": 12,
     "metadata": {},
     "output_type": "execute_result"
    }
   ],
   "source": [
    "car_df.head()"
   ]
  },
  {
   "cell_type": "code",
   "execution_count": 10,
   "metadata": {
    "id": "7KI4ylVmF88r"
   },
   "outputs": [
    {
     "data": {
      "text/html": [
       "<div>\n",
       "<style scoped>\n",
       "    .dataframe tbody tr th:only-of-type {\n",
       "        vertical-align: middle;\n",
       "    }\n",
       "\n",
       "    .dataframe tbody tr th {\n",
       "        vertical-align: top;\n",
       "    }\n",
       "\n",
       "    .dataframe thead th {\n",
       "        text-align: right;\n",
       "    }\n",
       "</style>\n",
       "<table border=\"1\" class=\"dataframe\">\n",
       "  <thead>\n",
       "    <tr style=\"text-align: right;\">\n",
       "      <th></th>\n",
       "      <th>Gender</th>\n",
       "      <th>Age</th>\n",
       "      <th>Annual Salary</th>\n",
       "      <th>Credit Card Debt</th>\n",
       "      <th>Net Worth</th>\n",
       "      <th>Car Purchase Amount</th>\n",
       "    </tr>\n",
       "  </thead>\n",
       "  <tbody>\n",
       "    <tr>\n",
       "      <th>count</th>\n",
       "      <td>500.000000</td>\n",
       "      <td>500.000000</td>\n",
       "      <td>500.000000</td>\n",
       "      <td>500.000000</td>\n",
       "      <td>500.000000</td>\n",
       "      <td>500.000000</td>\n",
       "    </tr>\n",
       "    <tr>\n",
       "      <th>mean</th>\n",
       "      <td>0.506000</td>\n",
       "      <td>46.241674</td>\n",
       "      <td>62127.239608</td>\n",
       "      <td>9607.645049</td>\n",
       "      <td>431475.713625</td>\n",
       "      <td>44209.799218</td>\n",
       "    </tr>\n",
       "    <tr>\n",
       "      <th>std</th>\n",
       "      <td>0.500465</td>\n",
       "      <td>7.978862</td>\n",
       "      <td>11703.378228</td>\n",
       "      <td>3489.187973</td>\n",
       "      <td>173536.756340</td>\n",
       "      <td>10773.178744</td>\n",
       "    </tr>\n",
       "    <tr>\n",
       "      <th>min</th>\n",
       "      <td>0.000000</td>\n",
       "      <td>20.000000</td>\n",
       "      <td>20000.000000</td>\n",
       "      <td>100.000000</td>\n",
       "      <td>20000.000000</td>\n",
       "      <td>9000.000000</td>\n",
       "    </tr>\n",
       "    <tr>\n",
       "      <th>25%</th>\n",
       "      <td>0.000000</td>\n",
       "      <td>40.949969</td>\n",
       "      <td>54391.977195</td>\n",
       "      <td>7397.515792</td>\n",
       "      <td>299824.195900</td>\n",
       "      <td>37629.896040</td>\n",
       "    </tr>\n",
       "    <tr>\n",
       "      <th>50%</th>\n",
       "      <td>1.000000</td>\n",
       "      <td>46.049901</td>\n",
       "      <td>62915.497035</td>\n",
       "      <td>9655.035568</td>\n",
       "      <td>426750.120650</td>\n",
       "      <td>43997.783390</td>\n",
       "    </tr>\n",
       "    <tr>\n",
       "      <th>75%</th>\n",
       "      <td>1.000000</td>\n",
       "      <td>51.612263</td>\n",
       "      <td>70117.862005</td>\n",
       "      <td>11798.867487</td>\n",
       "      <td>557324.478725</td>\n",
       "      <td>51254.709517</td>\n",
       "    </tr>\n",
       "    <tr>\n",
       "      <th>max</th>\n",
       "      <td>1.000000</td>\n",
       "      <td>70.000000</td>\n",
       "      <td>100000.000000</td>\n",
       "      <td>20000.000000</td>\n",
       "      <td>1000000.000000</td>\n",
       "      <td>80000.000000</td>\n",
       "    </tr>\n",
       "  </tbody>\n",
       "</table>\n",
       "</div>"
      ],
      "text/plain": [
       "           Gender         Age  Annual Salary  Credit Card Debt  \\\n",
       "count  500.000000  500.000000     500.000000        500.000000   \n",
       "mean     0.506000   46.241674   62127.239608       9607.645049   \n",
       "std      0.500465    7.978862   11703.378228       3489.187973   \n",
       "min      0.000000   20.000000   20000.000000        100.000000   \n",
       "25%      0.000000   40.949969   54391.977195       7397.515792   \n",
       "50%      1.000000   46.049901   62915.497035       9655.035568   \n",
       "75%      1.000000   51.612263   70117.862005      11798.867487   \n",
       "max      1.000000   70.000000  100000.000000      20000.000000   \n",
       "\n",
       "            Net Worth  Car Purchase Amount  \n",
       "count      500.000000           500.000000  \n",
       "mean    431475.713625         44209.799218  \n",
       "std     173536.756340         10773.178744  \n",
       "min      20000.000000          9000.000000  \n",
       "25%     299824.195900         37629.896040  \n",
       "50%     426750.120650         43997.783390  \n",
       "75%     557324.478725         51254.709517  \n",
       "max    1000000.000000         80000.000000  "
      ]
     },
     "execution_count": 10,
     "metadata": {},
     "output_type": "execute_result"
    }
   ],
   "source": [
    "car_df.describe()"
   ]
  },
  {
   "cell_type": "code",
   "execution_count": null,
   "metadata": {
    "id": "Rfl0rO5mF8yv"
   },
   "outputs": [],
   "source": []
  },
  {
   "cell_type": "markdown",
   "metadata": {
    "id": "lS_Cb9X-VK2B"
   },
   "source": [
    "### 연봉이 가장 높은 사람은 누구인가"
   ]
  },
  {
   "cell_type": "code",
   "execution_count": 19,
   "metadata": {},
   "outputs": [
    {
     "data": {
      "text/html": [
       "<div>\n",
       "<style scoped>\n",
       "    .dataframe tbody tr th:only-of-type {\n",
       "        vertical-align: middle;\n",
       "    }\n",
       "\n",
       "    .dataframe tbody tr th {\n",
       "        vertical-align: top;\n",
       "    }\n",
       "\n",
       "    .dataframe thead th {\n",
       "        text-align: right;\n",
       "    }\n",
       "</style>\n",
       "<table border=\"1\" class=\"dataframe\">\n",
       "  <thead>\n",
       "    <tr style=\"text-align: right;\">\n",
       "      <th></th>\n",
       "      <th>Customer Name</th>\n",
       "      <th>Customer e-mail</th>\n",
       "      <th>Country</th>\n",
       "      <th>Gender</th>\n",
       "      <th>Age</th>\n",
       "      <th>Annual Salary</th>\n",
       "      <th>Credit Card Debt</th>\n",
       "      <th>Net Worth</th>\n",
       "      <th>Car Purchase Amount</th>\n",
       "    </tr>\n",
       "  </thead>\n",
       "  <tbody>\n",
       "    <tr>\n",
       "      <th>0</th>\n",
       "      <td>Martina Avila</td>\n",
       "      <td>cubilia.Curae.Phasellus@quisaccumsanconvallis.edu</td>\n",
       "      <td>Bulgaria</td>\n",
       "      <td>0</td>\n",
       "      <td>41.851720</td>\n",
       "      <td>62812.09301</td>\n",
       "      <td>11609.380910</td>\n",
       "      <td>238961.2505</td>\n",
       "      <td>35321.45877</td>\n",
       "    </tr>\n",
       "    <tr>\n",
       "      <th>1</th>\n",
       "      <td>Harlan Barnes</td>\n",
       "      <td>eu.dolor@diam.co.uk</td>\n",
       "      <td>Belize</td>\n",
       "      <td>0</td>\n",
       "      <td>40.870623</td>\n",
       "      <td>66646.89292</td>\n",
       "      <td>9572.957136</td>\n",
       "      <td>530973.9078</td>\n",
       "      <td>45115.52566</td>\n",
       "    </tr>\n",
       "    <tr>\n",
       "      <th>2</th>\n",
       "      <td>Naomi Rodriquez</td>\n",
       "      <td>vulputate.mauris.sagittis@ametconsectetueradip...</td>\n",
       "      <td>Algeria</td>\n",
       "      <td>1</td>\n",
       "      <td>43.152897</td>\n",
       "      <td>53798.55112</td>\n",
       "      <td>11160.355060</td>\n",
       "      <td>638467.1773</td>\n",
       "      <td>42925.70921</td>\n",
       "    </tr>\n",
       "    <tr>\n",
       "      <th>3</th>\n",
       "      <td>Jade Cunningham</td>\n",
       "      <td>malesuada@dignissim.com</td>\n",
       "      <td>Cook Islands</td>\n",
       "      <td>1</td>\n",
       "      <td>58.271369</td>\n",
       "      <td>79370.03798</td>\n",
       "      <td>14426.164850</td>\n",
       "      <td>548599.0524</td>\n",
       "      <td>67422.36313</td>\n",
       "    </tr>\n",
       "    <tr>\n",
       "      <th>4</th>\n",
       "      <td>Cedric Leach</td>\n",
       "      <td>felis.ullamcorper.viverra@egetmollislectus.net</td>\n",
       "      <td>Brazil</td>\n",
       "      <td>1</td>\n",
       "      <td>57.313749</td>\n",
       "      <td>59729.15130</td>\n",
       "      <td>5358.712177</td>\n",
       "      <td>560304.0671</td>\n",
       "      <td>55915.46248</td>\n",
       "    </tr>\n",
       "    <tr>\n",
       "      <th>...</th>\n",
       "      <td>...</td>\n",
       "      <td>...</td>\n",
       "      <td>...</td>\n",
       "      <td>...</td>\n",
       "      <td>...</td>\n",
       "      <td>...</td>\n",
       "      <td>...</td>\n",
       "      <td>...</td>\n",
       "      <td>...</td>\n",
       "    </tr>\n",
       "    <tr>\n",
       "      <th>495</th>\n",
       "      <td>Walter</td>\n",
       "      <td>ligula@Cumsociis.ca</td>\n",
       "      <td>Nepal</td>\n",
       "      <td>0</td>\n",
       "      <td>41.462515</td>\n",
       "      <td>71942.40291</td>\n",
       "      <td>6995.902524</td>\n",
       "      <td>541670.1016</td>\n",
       "      <td>48901.44342</td>\n",
       "    </tr>\n",
       "    <tr>\n",
       "      <th>496</th>\n",
       "      <td>Vanna</td>\n",
       "      <td>Cum.sociis.natoque@Sedmolestie.edu</td>\n",
       "      <td>Zimbabwe</td>\n",
       "      <td>1</td>\n",
       "      <td>37.642000</td>\n",
       "      <td>56039.49793</td>\n",
       "      <td>12301.456790</td>\n",
       "      <td>360419.0988</td>\n",
       "      <td>31491.41457</td>\n",
       "    </tr>\n",
       "    <tr>\n",
       "      <th>497</th>\n",
       "      <td>Pearl</td>\n",
       "      <td>penatibus.et@massanonante.com</td>\n",
       "      <td>Philippines</td>\n",
       "      <td>1</td>\n",
       "      <td>53.943497</td>\n",
       "      <td>68888.77805</td>\n",
       "      <td>10611.606860</td>\n",
       "      <td>764531.3203</td>\n",
       "      <td>64147.28888</td>\n",
       "    </tr>\n",
       "    <tr>\n",
       "      <th>498</th>\n",
       "      <td>Nell</td>\n",
       "      <td>Quisque.varius@arcuVivamussit.net</td>\n",
       "      <td>Botswana</td>\n",
       "      <td>1</td>\n",
       "      <td>59.160509</td>\n",
       "      <td>49811.99062</td>\n",
       "      <td>14013.034510</td>\n",
       "      <td>337826.6382</td>\n",
       "      <td>45442.15353</td>\n",
       "    </tr>\n",
       "    <tr>\n",
       "      <th>499</th>\n",
       "      <td>Marla</td>\n",
       "      <td>Camaron.marla@hotmail.com</td>\n",
       "      <td>marlal</td>\n",
       "      <td>1</td>\n",
       "      <td>46.731152</td>\n",
       "      <td>61370.67766</td>\n",
       "      <td>9391.341628</td>\n",
       "      <td>462946.4924</td>\n",
       "      <td>45107.22566</td>\n",
       "    </tr>\n",
       "  </tbody>\n",
       "</table>\n",
       "<p>500 rows × 9 columns</p>\n",
       "</div>"
      ],
      "text/plain": [
       "       Customer Name                                    Customer e-mail  \\\n",
       "0      Martina Avila  cubilia.Curae.Phasellus@quisaccumsanconvallis.edu   \n",
       "1      Harlan Barnes                                eu.dolor@diam.co.uk   \n",
       "2    Naomi Rodriquez  vulputate.mauris.sagittis@ametconsectetueradip...   \n",
       "3    Jade Cunningham                            malesuada@dignissim.com   \n",
       "4       Cedric Leach     felis.ullamcorper.viverra@egetmollislectus.net   \n",
       "..               ...                                                ...   \n",
       "495           Walter                                ligula@Cumsociis.ca   \n",
       "496            Vanna                 Cum.sociis.natoque@Sedmolestie.edu   \n",
       "497            Pearl                      penatibus.et@massanonante.com   \n",
       "498             Nell                  Quisque.varius@arcuVivamussit.net   \n",
       "499            Marla                          Camaron.marla@hotmail.com   \n",
       "\n",
       "          Country  Gender        Age  Annual Salary  Credit Card Debt  \\\n",
       "0        Bulgaria       0  41.851720    62812.09301      11609.380910   \n",
       "1          Belize       0  40.870623    66646.89292       9572.957136   \n",
       "2         Algeria       1  43.152897    53798.55112      11160.355060   \n",
       "3    Cook Islands       1  58.271369    79370.03798      14426.164850   \n",
       "4          Brazil       1  57.313749    59729.15130       5358.712177   \n",
       "..            ...     ...        ...            ...               ...   \n",
       "495         Nepal       0  41.462515    71942.40291       6995.902524   \n",
       "496      Zimbabwe       1  37.642000    56039.49793      12301.456790   \n",
       "497   Philippines       1  53.943497    68888.77805      10611.606860   \n",
       "498      Botswana       1  59.160509    49811.99062      14013.034510   \n",
       "499        marlal       1  46.731152    61370.67766       9391.341628   \n",
       "\n",
       "       Net Worth  Car Purchase Amount  \n",
       "0    238961.2505          35321.45877  \n",
       "1    530973.9078          45115.52566  \n",
       "2    638467.1773          42925.70921  \n",
       "3    548599.0524          67422.36313  \n",
       "4    560304.0671          55915.46248  \n",
       "..           ...                  ...  \n",
       "495  541670.1016          48901.44342  \n",
       "496  360419.0988          31491.41457  \n",
       "497  764531.3203          64147.28888  \n",
       "498  337826.6382          45442.15353  \n",
       "499  462946.4924          45107.22566  \n",
       "\n",
       "[500 rows x 9 columns]"
      ]
     },
     "execution_count": 19,
     "metadata": {},
     "output_type": "execute_result"
    }
   ],
   "source": [
    "car_df"
   ]
  },
  {
   "cell_type": "code",
   "execution_count": 21,
   "metadata": {
    "id": "4woHSrv-F-pU"
   },
   "outputs": [
    {
     "data": {
      "text/html": [
       "<div>\n",
       "<style scoped>\n",
       "    .dataframe tbody tr th:only-of-type {\n",
       "        vertical-align: middle;\n",
       "    }\n",
       "\n",
       "    .dataframe tbody tr th {\n",
       "        vertical-align: top;\n",
       "    }\n",
       "\n",
       "    .dataframe thead th {\n",
       "        text-align: right;\n",
       "    }\n",
       "</style>\n",
       "<table border=\"1\" class=\"dataframe\">\n",
       "  <thead>\n",
       "    <tr style=\"text-align: right;\">\n",
       "      <th></th>\n",
       "      <th>Customer Name</th>\n",
       "      <th>Customer e-mail</th>\n",
       "      <th>Country</th>\n",
       "      <th>Gender</th>\n",
       "      <th>Age</th>\n",
       "      <th>Annual Salary</th>\n",
       "      <th>Credit Card Debt</th>\n",
       "      <th>Net Worth</th>\n",
       "      <th>Car Purchase Amount</th>\n",
       "    </tr>\n",
       "  </thead>\n",
       "  <tbody>\n",
       "    <tr>\n",
       "      <th>28</th>\n",
       "      <td>Gemma Hendrix</td>\n",
       "      <td>lobortis@non.co.uk</td>\n",
       "      <td>Denmark</td>\n",
       "      <td>1</td>\n",
       "      <td>46.124036</td>\n",
       "      <td>100000.0</td>\n",
       "      <td>17452.92179</td>\n",
       "      <td>188032.0778</td>\n",
       "      <td>58350.31809</td>\n",
       "    </tr>\n",
       "  </tbody>\n",
       "</table>\n",
       "</div>"
      ],
      "text/plain": [
       "    Customer Name     Customer e-mail  Country  Gender        Age  \\\n",
       "28  Gemma Hendrix  lobortis@non.co.uk  Denmark       1  46.124036   \n",
       "\n",
       "    Annual Salary  Credit Card Debt    Net Worth  Car Purchase Amount  \n",
       "28       100000.0       17452.92179  188032.0778          58350.31809  "
      ]
     },
     "execution_count": 21,
     "metadata": {},
     "output_type": "execute_result"
    }
   ],
   "source": [
    "car_df.loc[ car_df['Annual Salary'] == car_df['Annual Salary'].max() , ]"
   ]
  },
  {
   "cell_type": "markdown",
   "metadata": {
    "id": "m2CHsfoiVQfz"
   },
   "source": [
    "### 나이가 가장 어린 고객은, 연봉이 얼마인가"
   ]
  },
  {
   "cell_type": "code",
   "execution_count": 24,
   "metadata": {
    "id": "YivXbVo1V55m"
   },
   "outputs": [
    {
     "data": {
      "text/html": [
       "<div>\n",
       "<style scoped>\n",
       "    .dataframe tbody tr th:only-of-type {\n",
       "        vertical-align: middle;\n",
       "    }\n",
       "\n",
       "    .dataframe tbody tr th {\n",
       "        vertical-align: top;\n",
       "    }\n",
       "\n",
       "    .dataframe thead th {\n",
       "        text-align: right;\n",
       "    }\n",
       "</style>\n",
       "<table border=\"1\" class=\"dataframe\">\n",
       "  <thead>\n",
       "    <tr style=\"text-align: right;\">\n",
       "      <th></th>\n",
       "      <th>Customer Name</th>\n",
       "      <th>Customer e-mail</th>\n",
       "      <th>Country</th>\n",
       "      <th>Gender</th>\n",
       "      <th>Age</th>\n",
       "      <th>Annual Salary</th>\n",
       "      <th>Credit Card Debt</th>\n",
       "      <th>Net Worth</th>\n",
       "      <th>Car Purchase Amount</th>\n",
       "    </tr>\n",
       "  </thead>\n",
       "  <tbody>\n",
       "    <tr>\n",
       "      <th>444</th>\n",
       "      <td>Camden</td>\n",
       "      <td>Aliquam.adipiscing.lobortis@loremut.net</td>\n",
       "      <td>Congo (Brazzaville)</td>\n",
       "      <td>1</td>\n",
       "      <td>20.0</td>\n",
       "      <td>70467.29492</td>\n",
       "      <td>100.0</td>\n",
       "      <td>494606.6334</td>\n",
       "      <td>28645.39425</td>\n",
       "    </tr>\n",
       "  </tbody>\n",
       "</table>\n",
       "</div>"
      ],
      "text/plain": [
       "    Customer Name                          Customer e-mail  \\\n",
       "444        Camden  Aliquam.adipiscing.lobortis@loremut.net   \n",
       "\n",
       "                 Country  Gender   Age  Annual Salary  Credit Card Debt  \\\n",
       "444  Congo (Brazzaville)       1  20.0    70467.29492             100.0   \n",
       "\n",
       "       Net Worth  Car Purchase Amount  \n",
       "444  494606.6334          28645.39425  "
      ]
     },
     "execution_count": 24,
     "metadata": {},
     "output_type": "execute_result"
    }
   ],
   "source": [
    "car_df.loc[ car_df['Age'] == car_df['Age'].min() , ]"
   ]
  },
  {
   "cell_type": "code",
   "execution_count": 79,
   "metadata": {
    "id": "U462pATrF__r"
   },
   "outputs": [
    {
     "data": {
      "text/plain": [
       "444    70467.29492\n",
       "Name: Annual Salary, dtype: float64"
      ]
     },
     "execution_count": 79,
     "metadata": {},
     "output_type": "execute_result"
    }
   ],
   "source": [
    "car_df.loc[ car_df['Age'] == car_df['Age'].min() , 'Annual Salary' ]"
   ]
  },
  {
   "cell_type": "markdown",
   "metadata": {
    "id": "GC2XKKZaRtMt"
   },
   "source": [
    "# STEP #2: VISUALIZE DATASET\n",
    "\n",
    "### 상관관계를 분석하기 위해, pairplot 을 그려보자."
   ]
  },
  {
   "cell_type": "code",
   "execution_count": 81,
   "metadata": {},
   "outputs": [
    {
     "data": {
      "image/png": "[encoded data removed]",
      "text/plain": [
       "<Figure size 1080x1080 with 42 Axes>"
      ]
     },
     "metadata": {
      "needs_background": "light"
     },
     "output_type": "display_data"
    }
   ],
   "source": [
    "sns.pairplot(data= car_df)\n",
    "plt.show()"
   ]
  },
  {
   "cell_type": "code",
   "execution_count": 26,
   "metadata": {
    "id": "EApRuTfGGClX"
   },
   "outputs": [
    {
     "data": {
      "image/png": "[encoded data removed]",
      "text/plain": [
       "<Figure size 360x360 with 6 Axes>"
      ]
     },
     "metadata": {
      "needs_background": "light"
     },
     "output_type": "display_data"
    }
   ],
   "source": [
    "sns.pairplot(data= car_df, vars= ['Age' , 'Annual Salary'])\n",
    "plt.show()"
   ]
  },
  {
   "cell_type": "code",
   "execution_count": 82,
   "metadata": {},
   "outputs": [
    {
     "data": {
      "text/html": [
       "<div>\n",
       "<style scoped>\n",
       "    .dataframe tbody tr th:only-of-type {\n",
       "        vertical-align: middle;\n",
       "    }\n",
       "\n",
       "    .dataframe tbody tr th {\n",
       "        vertical-align: top;\n",
       "    }\n",
       "\n",
       "    .dataframe thead th {\n",
       "        text-align: right;\n",
       "    }\n",
       "</style>\n",
       "<table border=\"1\" class=\"dataframe\">\n",
       "  <thead>\n",
       "    <tr style=\"text-align: right;\">\n",
       "      <th></th>\n",
       "      <th>Gender</th>\n",
       "      <th>Age</th>\n",
       "      <th>Annual Salary</th>\n",
       "      <th>Credit Card Debt</th>\n",
       "      <th>Net Worth</th>\n",
       "      <th>Car Purchase Amount</th>\n",
       "    </tr>\n",
       "  </thead>\n",
       "  <tbody>\n",
       "    <tr>\n",
       "      <th>Gender</th>\n",
       "      <td>1.000000</td>\n",
       "      <td>-0.064481</td>\n",
       "      <td>-0.036499</td>\n",
       "      <td>0.024193</td>\n",
       "      <td>-0.008395</td>\n",
       "      <td>-0.066408</td>\n",
       "    </tr>\n",
       "    <tr>\n",
       "      <th>Age</th>\n",
       "      <td>-0.064481</td>\n",
       "      <td>1.000000</td>\n",
       "      <td>0.000130</td>\n",
       "      <td>0.034721</td>\n",
       "      <td>0.020356</td>\n",
       "      <td>0.632865</td>\n",
       "    </tr>\n",
       "    <tr>\n",
       "      <th>Annual Salary</th>\n",
       "      <td>-0.036499</td>\n",
       "      <td>0.000130</td>\n",
       "      <td>1.000000</td>\n",
       "      <td>0.049599</td>\n",
       "      <td>0.014767</td>\n",
       "      <td>0.617862</td>\n",
       "    </tr>\n",
       "    <tr>\n",
       "      <th>Credit Card Debt</th>\n",
       "      <td>0.024193</td>\n",
       "      <td>0.034721</td>\n",
       "      <td>0.049599</td>\n",
       "      <td>1.000000</td>\n",
       "      <td>-0.049378</td>\n",
       "      <td>0.028882</td>\n",
       "    </tr>\n",
       "    <tr>\n",
       "      <th>Net Worth</th>\n",
       "      <td>-0.008395</td>\n",
       "      <td>0.020356</td>\n",
       "      <td>0.014767</td>\n",
       "      <td>-0.049378</td>\n",
       "      <td>1.000000</td>\n",
       "      <td>0.488580</td>\n",
       "    </tr>\n",
       "    <tr>\n",
       "      <th>Car Purchase Amount</th>\n",
       "      <td>-0.066408</td>\n",
       "      <td>0.632865</td>\n",
       "      <td>0.617862</td>\n",
       "      <td>0.028882</td>\n",
       "      <td>0.488580</td>\n",
       "      <td>1.000000</td>\n",
       "    </tr>\n",
       "  </tbody>\n",
       "</table>\n",
       "</div>"
      ],
      "text/plain": [
       "                       Gender       Age  Annual Salary  Credit Card Debt  \\\n",
       "Gender               1.000000 -0.064481      -0.036499          0.024193   \n",
       "Age                 -0.064481  1.000000       0.000130          0.034721   \n",
       "Annual Salary       -0.036499  0.000130       1.000000          0.049599   \n",
       "Credit Card Debt     0.024193  0.034721       0.049599          1.000000   \n",
       "Net Worth           -0.008395  0.020356       0.014767         -0.049378   \n",
       "Car Purchase Amount -0.066408  0.632865       0.617862          0.028882   \n",
       "\n",
       "                     Net Worth  Car Purchase Amount  \n",
       "Gender               -0.008395            -0.066408  \n",
       "Age                   0.020356             0.632865  \n",
       "Annual Salary         0.014767             0.617862  \n",
       "Credit Card Debt     -0.049378             0.028882  \n",
       "Net Worth             1.000000             0.488580  \n",
       "Car Purchase Amount   0.488580             1.000000  "
      ]
     },
     "execution_count": 82,
     "metadata": {},
     "output_type": "execute_result"
    }
   ],
   "source": [
    "car_df.corr()"
   ]
  },
  {
   "cell_type": "code",
   "execution_count": 91,
   "metadata": {},
   "outputs": [
    {
     "data": {
      "image/png": "[encoded data removed]",
      "text/plain": [
       "<Figure size 432x288 with 2 Axes>"
      ]
     },
     "metadata": {
      "needs_background": "light"
     },
     "output_type": "display_data"
    }
   ],
   "source": [
    "sns.heatmap(data= car_df.corr(), annot=True, fmt='.2f',\n",
    "           vmin = -1, vmax = 1, cmap='coolwarm', linewidths=0.5)\n",
    "plt.show()"
   ]
  },
  {
   "cell_type": "markdown",
   "metadata": {
    "id": "hIp7mXXCRtMt"
   },
   "source": [
    "# STEP #3: CREATE TESTING AND TRAINING DATASET/DATA CLEANING\n",
    "\n",
    "\n"
   ]
  },
  {
   "cell_type": "markdown",
   "metadata": {
    "id": "iOqG1_TJWWbL"
   },
   "source": [
    "### NaN 값이 있으면, 이를 해결하시오."
   ]
  },
  {
   "cell_type": "code",
   "execution_count": 27,
   "metadata": {
    "id": "uxgGMPS9GDyM"
   },
   "outputs": [
    {
     "data": {
      "text/plain": [
       "Customer Name          0\n",
       "Customer e-mail        0\n",
       "Country                0\n",
       "Gender                 0\n",
       "Age                    0\n",
       "Annual Salary          0\n",
       "Credit Card Debt       0\n",
       "Net Worth              0\n",
       "Car Purchase Amount    0\n",
       "dtype: int64"
      ]
     },
     "execution_count": 27,
     "metadata": {},
     "output_type": "execute_result"
    }
   ],
   "source": [
    "car_df.isna().sum()"
   ]
  },
  {
   "cell_type": "markdown",
   "metadata": {
    "id": "M6JnbJJtWcgN"
   },
   "source": [
    "### 학습을 위해 'Customer Name', 'Customer e-mail', 'Country', 'Car Purchase Amount' 컬럼을 제외한 컬럼만, X로 만드시오."
   ]
  },
  {
   "cell_type": "code",
   "execution_count": 29,
   "metadata": {},
   "outputs": [
    {
     "data": {
      "text/html": [
       "<div>\n",
       "<style scoped>\n",
       "    .dataframe tbody tr th:only-of-type {\n",
       "        vertical-align: middle;\n",
       "    }\n",
       "\n",
       "    .dataframe tbody tr th {\n",
       "        vertical-align: top;\n",
       "    }\n",
       "\n",
       "    .dataframe thead th {\n",
       "        text-align: right;\n",
       "    }\n",
       "</style>\n",
       "<table border=\"1\" class=\"dataframe\">\n",
       "  <thead>\n",
       "    <tr style=\"text-align: right;\">\n",
       "      <th></th>\n",
       "      <th>Customer Name</th>\n",
       "      <th>Customer e-mail</th>\n",
       "      <th>Country</th>\n",
       "      <th>Gender</th>\n",
       "      <th>Age</th>\n",
       "      <th>Annual Salary</th>\n",
       "      <th>Credit Card Debt</th>\n",
       "      <th>Net Worth</th>\n",
       "      <th>Car Purchase Amount</th>\n",
       "    </tr>\n",
       "  </thead>\n",
       "  <tbody>\n",
       "    <tr>\n",
       "      <th>0</th>\n",
       "      <td>Martina Avila</td>\n",
       "      <td>cubilia.Curae.Phasellus@quisaccumsanconvallis.edu</td>\n",
       "      <td>Bulgaria</td>\n",
       "      <td>0</td>\n",
       "      <td>41.851720</td>\n",
       "      <td>62812.09301</td>\n",
       "      <td>11609.380910</td>\n",
       "      <td>238961.2505</td>\n",
       "      <td>35321.45877</td>\n",
       "    </tr>\n",
       "    <tr>\n",
       "      <th>1</th>\n",
       "      <td>Harlan Barnes</td>\n",
       "      <td>eu.dolor@diam.co.uk</td>\n",
       "      <td>Belize</td>\n",
       "      <td>0</td>\n",
       "      <td>40.870623</td>\n",
       "      <td>66646.89292</td>\n",
       "      <td>9572.957136</td>\n",
       "      <td>530973.9078</td>\n",
       "      <td>45115.52566</td>\n",
       "    </tr>\n",
       "    <tr>\n",
       "      <th>2</th>\n",
       "      <td>Naomi Rodriquez</td>\n",
       "      <td>vulputate.mauris.sagittis@ametconsectetueradip...</td>\n",
       "      <td>Algeria</td>\n",
       "      <td>1</td>\n",
       "      <td>43.152897</td>\n",
       "      <td>53798.55112</td>\n",
       "      <td>11160.355060</td>\n",
       "      <td>638467.1773</td>\n",
       "      <td>42925.70921</td>\n",
       "    </tr>\n",
       "    <tr>\n",
       "      <th>3</th>\n",
       "      <td>Jade Cunningham</td>\n",
       "      <td>malesuada@dignissim.com</td>\n",
       "      <td>Cook Islands</td>\n",
       "      <td>1</td>\n",
       "      <td>58.271369</td>\n",
       "      <td>79370.03798</td>\n",
       "      <td>14426.164850</td>\n",
       "      <td>548599.0524</td>\n",
       "      <td>67422.36313</td>\n",
       "    </tr>\n",
       "    <tr>\n",
       "      <th>4</th>\n",
       "      <td>Cedric Leach</td>\n",
       "      <td>felis.ullamcorper.viverra@egetmollislectus.net</td>\n",
       "      <td>Brazil</td>\n",
       "      <td>1</td>\n",
       "      <td>57.313749</td>\n",
       "      <td>59729.15130</td>\n",
       "      <td>5358.712177</td>\n",
       "      <td>560304.0671</td>\n",
       "      <td>55915.46248</td>\n",
       "    </tr>\n",
       "  </tbody>\n",
       "</table>\n",
       "</div>"
      ],
      "text/plain": [
       "     Customer Name                                    Customer e-mail  \\\n",
       "0    Martina Avila  cubilia.Curae.Phasellus@quisaccumsanconvallis.edu   \n",
       "1    Harlan Barnes                                eu.dolor@diam.co.uk   \n",
       "2  Naomi Rodriquez  vulputate.mauris.sagittis@ametconsectetueradip...   \n",
       "3  Jade Cunningham                            malesuada@dignissim.com   \n",
       "4     Cedric Leach     felis.ullamcorper.viverra@egetmollislectus.net   \n",
       "\n",
       "        Country  Gender        Age  Annual Salary  Credit Card Debt  \\\n",
       "0      Bulgaria       0  41.851720    62812.09301      11609.380910   \n",
       "1        Belize       0  40.870623    66646.89292       9572.957136   \n",
       "2       Algeria       1  43.152897    53798.55112      11160.355060   \n",
       "3  Cook Islands       1  58.271369    79370.03798      14426.164850   \n",
       "4        Brazil       1  57.313749    59729.15130       5358.712177   \n",
       "\n",
       "     Net Worth  Car Purchase Amount  \n",
       "0  238961.2505          35321.45877  \n",
       "1  530973.9078          45115.52566  \n",
       "2  638467.1773          42925.70921  \n",
       "3  548599.0524          67422.36313  \n",
       "4  560304.0671          55915.46248  "
      ]
     },
     "execution_count": 29,
     "metadata": {},
     "output_type": "execute_result"
    }
   ],
   "source": [
    "car_df.head()"
   ]
  },
  {
   "cell_type": "code",
   "execution_count": 92,
   "metadata": {},
   "outputs": [
    {
     "data": {
      "text/plain": [
       "(500, 9)"
      ]
     },
     "execution_count": 92,
     "metadata": {},
     "output_type": "execute_result"
    }
   ],
   "source": [
    "# Country 컬럼을 왜 뺐는가?\n",
    "\n",
    "car_df.shape"
   ]
  },
  {
   "cell_type": "code",
   "execution_count": 95,
   "metadata": {},
   "outputs": [
    {
     "data": {
      "text/plain": [
       "211"
      ]
     },
     "execution_count": 95,
     "metadata": {},
     "output_type": "execute_result"
    }
   ],
   "source": [
    "car_df['Country'].nunique()"
   ]
  },
  {
   "cell_type": "code",
   "execution_count": 96,
   "metadata": {
    "scrolled": true
   },
   "outputs": [
    {
     "data": {
      "text/plain": [
       "array(['Bulgaria', 'Belize', 'Algeria', 'Cook Islands', 'Brazil',\n",
       "       'Liberia', 'Syria', 'Czech Republic', 'Armenia', 'Somalia',\n",
       "       'Sint Maarten', 'Greenland', 'Nicaragua', 'Palestine, State of',\n",
       "       'United Arab Emirates', 'Gabon', 'Tokelau', 'Portugal', 'Chad',\n",
       "       'Iraq', 'Sudan', 'Angola', 'Nigeria', 'Madagascar', 'Macedonia',\n",
       "       'Oman', 'Colombia', 'Namibia', 'Denmark', 'Dominican Republic',\n",
       "       'Costa Rica', 'Botswana', 'Saint Pierre and Miquelon', 'France',\n",
       "       'Senegal', 'Cambodia', 'Suriname', 'Turkey', 'Ethiopia',\n",
       "       'French Guiana', 'Bhutan', 'Georgia', 'Mozambique', 'Nauru',\n",
       "       'Timor-Leste', 'Djibouti', 'Argentina', 'Taiwan', 'Åland Islands',\n",
       "       'Turks and Caicos Islands', 'Samoa', 'Vanuatu', 'Mongolia',\n",
       "       'Sri Lanka', 'Guinea-Bissau', 'Egypt', 'Slovenia', 'Benin',\n",
       "       'Cape Verde', 'Paraguay', 'Laos', 'Iceland', 'Viet Nam',\n",
       "       'Marshall Islands', 'Germany', 'Kyrgyzstan', 'Mauritius', 'Gambia',\n",
       "       'Reunion', 'Jordan', 'Slovakia', 'Kiribati',\n",
       "       'United States Minor Outlying Islands', 'Puerto Rico', 'Guinea',\n",
       "       'Guam', 'China', 'Sierra Leone', 'Ecuador', 'Anguilla',\n",
       "       'Kazakhstan', 'Jersey', 'Macao', 'Indonesia', 'Palau', 'Ghana',\n",
       "       'Cameroon', 'Myanmar', 'Central African Republic', 'Bolivia',\n",
       "       'Tuvalu', 'Qatar', 'Venezuela', 'Togo', 'Nepal', 'Saudi Arabia',\n",
       "       'San Marino', 'Saint Lucia', 'Solomon Islands', 'Andorra',\n",
       "       'Falkland Islands', 'Japan', 'Israel', 'Christmas Island',\n",
       "       'Liechtenstein', 'Mayotte', 'Saint Kitts and Nevis', 'Maldives',\n",
       "       'Aruba', 'Lebanon', 'Monaco', 'Martinique', 'Guadeloupe',\n",
       "       'Equatorial Guinea', 'South Africa', 'Wallis and Futuna',\n",
       "       'Tunisia', 'Pakistan', 'Bahrain', 'Serbia', 'Peru', 'Austria',\n",
       "       'Lithuania', 'Curaçao', 'Zimbabwe', 'Uganda', 'Kenya', 'Kuwait',\n",
       "       'Greece', 'Bouvet Island', 'Thailand', 'Bahamas', 'Latvia',\n",
       "       'Hong Kong', 'French Polynesia', 'Yemen',\n",
       "       'Heard Island and Mcdonald Islands', 'Virgin Islands, British',\n",
       "       'Singapore', 'Cocos (Keeling) Islands', 'Saint Martin',\n",
       "       'Northern Mariana Islands', 'Croatia', 'Malta', 'Mauritania',\n",
       "       'Guyana', 'Haiti', 'Faroe Islands', 'Saint Barthélemy', 'Poland',\n",
       "       'Congo (Brazzaville)', 'Guernsey', 'Sao Tome and Principe',\n",
       "       'Grenada', 'United States', 'Virgin Islands, United States',\n",
       "       'Bermuda', 'Norfolk Island', 'Italy', 'Bangladesh', 'Philippines',\n",
       "       'French Southern Territories', 'Jamaica', 'Belarus',\n",
       "       'Turkmenistan', 'Guatemala', 'Saint Vincent and The Grenadines',\n",
       "       'Tonga', 'Papua New Guinea', 'Canada',\n",
       "       'Bonaire, Sint Eustatius and Saba', 'El Salvador', 'Isle of Man',\n",
       "       'Bosnia and Herzegovina', 'India', 'Trinidad and Tobago',\n",
       "       'Moldova', 'Tanzania', 'Niue', 'Rwanda', 'Morocco',\n",
       "       'Western Sahara', 'Micronesia', 'American Samoa',\n",
       "       'United Kingdom (Great Britain)', 'Seychelles', 'Switzerland',\n",
       "       'Chile', 'Uruguay', 'South Georgia and The South Sandwich Islands',\n",
       "       'Afghanistan', 'Belgium', 'Antarctica', 'Korea, South',\n",
       "       'Cayman Islands', 'Honduras', 'Mexico', 'Australia', 'Montenegro',\n",
       "       'Luxembourg', 'Hungary', 'Niger', 'New Caledonia', 'Mali',\n",
       "       'Malawi', 'South Sudan', 'Ukraine', 'New Zealand',\n",
       "       'Saint Helena, Ascension and Tristan da Cunha', 'Malaysia',\n",
       "       'marlal'], dtype=object)"
      ]
     },
     "execution_count": 96,
     "metadata": {},
     "output_type": "execute_result"
    }
   ],
   "source": [
    "car_df['Country'].unique()"
   ]
  },
  {
   "cell_type": "code",
   "execution_count": 98,
   "metadata": {},
   "outputs": [
    {
     "data": {
      "text/plain": [
       "Israel                 6\n",
       "Mauritania             6\n",
       "Bolivia                6\n",
       "Greenland              5\n",
       "Saint Barthélemy       5\n",
       "                      ..\n",
       "El Salvador            1\n",
       "Denmark                1\n",
       "Oman                   1\n",
       "Trinidad and Tobago    1\n",
       "marlal                 1\n",
       "Name: Country, Length: 211, dtype: int64"
      ]
     },
     "execution_count": 98,
     "metadata": {},
     "output_type": "execute_result"
    }
   ],
   "source": [
    "car_df['Country'].value_counts()"
   ]
  },
  {
   "cell_type": "code",
   "execution_count": 103,
   "metadata": {},
   "outputs": [
    {
     "data": {
      "image/png": "[encoded data removed]",
      "text/plain": [
       "<Figure size 432x288 with 1 Axes>"
      ]
     },
     "metadata": {
      "needs_background": "light"
     },
     "output_type": "display_data"
    }
   ],
   "source": [
    "sns.countplot(data= car_df, y = 'Country')\n",
    "plt.show()\n",
    "\n",
    "# 유니크한 데이터가 너무 많아서 특성이 211개나 되서 이것으로 분류하기에 묶을만한 가치가 없다\n",
    "# 자동차 구매 금액하고는 영향을 끼치지 않을것 같다"
   ]
  },
  {
   "cell_type": "code",
   "execution_count": null,
   "metadata": {},
   "outputs": [],
   "source": []
  },
  {
   "cell_type": "code",
   "execution_count": null,
   "metadata": {},
   "outputs": [],
   "source": []
  },
  {
   "cell_type": "code",
   "execution_count": 32,
   "metadata": {},
   "outputs": [
    {
     "data": {
      "text/html": [
       "<div>\n",
       "<style scoped>\n",
       "    .dataframe tbody tr th:only-of-type {\n",
       "        vertical-align: middle;\n",
       "    }\n",
       "\n",
       "    .dataframe tbody tr th {\n",
       "        vertical-align: top;\n",
       "    }\n",
       "\n",
       "    .dataframe thead th {\n",
       "        text-align: right;\n",
       "    }\n",
       "</style>\n",
       "<table border=\"1\" class=\"dataframe\">\n",
       "  <thead>\n",
       "    <tr style=\"text-align: right;\">\n",
       "      <th></th>\n",
       "      <th>Gender</th>\n",
       "      <th>Age</th>\n",
       "      <th>Annual Salary</th>\n",
       "      <th>Credit Card Debt</th>\n",
       "      <th>Net Worth</th>\n",
       "    </tr>\n",
       "  </thead>\n",
       "  <tbody>\n",
       "    <tr>\n",
       "      <th>0</th>\n",
       "      <td>0</td>\n",
       "      <td>41.851720</td>\n",
       "      <td>62812.09301</td>\n",
       "      <td>11609.380910</td>\n",
       "      <td>238961.2505</td>\n",
       "    </tr>\n",
       "    <tr>\n",
       "      <th>1</th>\n",
       "      <td>0</td>\n",
       "      <td>40.870623</td>\n",
       "      <td>66646.89292</td>\n",
       "      <td>9572.957136</td>\n",
       "      <td>530973.9078</td>\n",
       "    </tr>\n",
       "    <tr>\n",
       "      <th>2</th>\n",
       "      <td>1</td>\n",
       "      <td>43.152897</td>\n",
       "      <td>53798.55112</td>\n",
       "      <td>11160.355060</td>\n",
       "      <td>638467.1773</td>\n",
       "    </tr>\n",
       "    <tr>\n",
       "      <th>3</th>\n",
       "      <td>1</td>\n",
       "      <td>58.271369</td>\n",
       "      <td>79370.03798</td>\n",
       "      <td>14426.164850</td>\n",
       "      <td>548599.0524</td>\n",
       "    </tr>\n",
       "    <tr>\n",
       "      <th>4</th>\n",
       "      <td>1</td>\n",
       "      <td>57.313749</td>\n",
       "      <td>59729.15130</td>\n",
       "      <td>5358.712177</td>\n",
       "      <td>560304.0671</td>\n",
       "    </tr>\n",
       "    <tr>\n",
       "      <th>...</th>\n",
       "      <td>...</td>\n",
       "      <td>...</td>\n",
       "      <td>...</td>\n",
       "      <td>...</td>\n",
       "      <td>...</td>\n",
       "    </tr>\n",
       "    <tr>\n",
       "      <th>495</th>\n",
       "      <td>0</td>\n",
       "      <td>41.462515</td>\n",
       "      <td>71942.40291</td>\n",
       "      <td>6995.902524</td>\n",
       "      <td>541670.1016</td>\n",
       "    </tr>\n",
       "    <tr>\n",
       "      <th>496</th>\n",
       "      <td>1</td>\n",
       "      <td>37.642000</td>\n",
       "      <td>56039.49793</td>\n",
       "      <td>12301.456790</td>\n",
       "      <td>360419.0988</td>\n",
       "    </tr>\n",
       "    <tr>\n",
       "      <th>497</th>\n",
       "      <td>1</td>\n",
       "      <td>53.943497</td>\n",
       "      <td>68888.77805</td>\n",
       "      <td>10611.606860</td>\n",
       "      <td>764531.3203</td>\n",
       "    </tr>\n",
       "    <tr>\n",
       "      <th>498</th>\n",
       "      <td>1</td>\n",
       "      <td>59.160509</td>\n",
       "      <td>49811.99062</td>\n",
       "      <td>14013.034510</td>\n",
       "      <td>337826.6382</td>\n",
       "    </tr>\n",
       "    <tr>\n",
       "      <th>499</th>\n",
       "      <td>1</td>\n",
       "      <td>46.731152</td>\n",
       "      <td>61370.67766</td>\n",
       "      <td>9391.341628</td>\n",
       "      <td>462946.4924</td>\n",
       "    </tr>\n",
       "  </tbody>\n",
       "</table>\n",
       "<p>500 rows × 5 columns</p>\n",
       "</div>"
      ],
      "text/plain": [
       "     Gender        Age  Annual Salary  Credit Card Debt    Net Worth\n",
       "0         0  41.851720    62812.09301      11609.380910  238961.2505\n",
       "1         0  40.870623    66646.89292       9572.957136  530973.9078\n",
       "2         1  43.152897    53798.55112      11160.355060  638467.1773\n",
       "3         1  58.271369    79370.03798      14426.164850  548599.0524\n",
       "4         1  57.313749    59729.15130       5358.712177  560304.0671\n",
       "..      ...        ...            ...               ...          ...\n",
       "495       0  41.462515    71942.40291       6995.902524  541670.1016\n",
       "496       1  37.642000    56039.49793      12301.456790  360419.0988\n",
       "497       1  53.943497    68888.77805      10611.606860  764531.3203\n",
       "498       1  59.160509    49811.99062      14013.034510  337826.6382\n",
       "499       1  46.731152    61370.67766       9391.341628  462946.4924\n",
       "\n",
       "[500 rows x 5 columns]"
      ]
     },
     "execution_count": 32,
     "metadata": {},
     "output_type": "execute_result"
    }
   ],
   "source": [
    "car_df.loc[ : , 'Gender' : 'Net Worth' ]"
   ]
  },
  {
   "cell_type": "code",
   "execution_count": 178,
   "metadata": {
    "id": "czv4afywRtMu"
   },
   "outputs": [],
   "source": [
    "X = car_df.loc[ : , 'Gender' : 'Net Worth' ]"
   ]
  },
  {
   "cell_type": "markdown",
   "metadata": {
    "id": "hmi3hhD8W5cE"
   },
   "source": [
    "### y 값은 'Car Purchase Amount' 컬럼으로 셋팅하시오."
   ]
  },
  {
   "cell_type": "code",
   "execution_count": 106,
   "metadata": {
    "id": "tyTVe8ktRtMu"
   },
   "outputs": [],
   "source": [
    "y = car_df.loc[ : , 'Car Purchase Amount' ]"
   ]
  },
  {
   "cell_type": "code",
   "execution_count": 35,
   "metadata": {},
   "outputs": [
    {
     "data": {
      "text/plain": [
       "0      35321.45877\n",
       "1      45115.52566\n",
       "2      42925.70921\n",
       "3      67422.36313\n",
       "4      55915.46248\n",
       "          ...     \n",
       "495    48901.44342\n",
       "496    31491.41457\n",
       "497    64147.28888\n",
       "498    45442.15353\n",
       "499    45107.22566\n",
       "Name: Car Purchase Amount, Length: 500, dtype: float64"
      ]
     },
     "execution_count": 35,
     "metadata": {},
     "output_type": "execute_result"
    }
   ],
   "source": [
    "y"
   ]
  },
  {
   "cell_type": "markdown",
   "metadata": {
    "id": "xDlscefZXCKM"
   },
   "source": [
    "### 피처 스케일링 하겠습니다. 정규화(normalization)를 사용합니다. MinMaxScaler 를 이용하시오."
   ]
  },
  {
   "cell_type": "code",
   "execution_count": 179,
   "metadata": {},
   "outputs": [
    {
     "data": {
      "text/html": [
       "<div>\n",
       "<style scoped>\n",
       "    .dataframe tbody tr th:only-of-type {\n",
       "        vertical-align: middle;\n",
       "    }\n",
       "\n",
       "    .dataframe tbody tr th {\n",
       "        vertical-align: top;\n",
       "    }\n",
       "\n",
       "    .dataframe thead th {\n",
       "        text-align: right;\n",
       "    }\n",
       "</style>\n",
       "<table border=\"1\" class=\"dataframe\">\n",
       "  <thead>\n",
       "    <tr style=\"text-align: right;\">\n",
       "      <th></th>\n",
       "      <th>Gender</th>\n",
       "      <th>Age</th>\n",
       "      <th>Annual Salary</th>\n",
       "      <th>Credit Card Debt</th>\n",
       "      <th>Net Worth</th>\n",
       "    </tr>\n",
       "  </thead>\n",
       "  <tbody>\n",
       "    <tr>\n",
       "      <th>0</th>\n",
       "      <td>0</td>\n",
       "      <td>41.851720</td>\n",
       "      <td>62812.09301</td>\n",
       "      <td>11609.380910</td>\n",
       "      <td>238961.2505</td>\n",
       "    </tr>\n",
       "    <tr>\n",
       "      <th>1</th>\n",
       "      <td>0</td>\n",
       "      <td>40.870623</td>\n",
       "      <td>66646.89292</td>\n",
       "      <td>9572.957136</td>\n",
       "      <td>530973.9078</td>\n",
       "    </tr>\n",
       "    <tr>\n",
       "      <th>2</th>\n",
       "      <td>1</td>\n",
       "      <td>43.152897</td>\n",
       "      <td>53798.55112</td>\n",
       "      <td>11160.355060</td>\n",
       "      <td>638467.1773</td>\n",
       "    </tr>\n",
       "    <tr>\n",
       "      <th>3</th>\n",
       "      <td>1</td>\n",
       "      <td>58.271369</td>\n",
       "      <td>79370.03798</td>\n",
       "      <td>14426.164850</td>\n",
       "      <td>548599.0524</td>\n",
       "    </tr>\n",
       "    <tr>\n",
       "      <th>4</th>\n",
       "      <td>1</td>\n",
       "      <td>57.313749</td>\n",
       "      <td>59729.15130</td>\n",
       "      <td>5358.712177</td>\n",
       "      <td>560304.0671</td>\n",
       "    </tr>\n",
       "    <tr>\n",
       "      <th>...</th>\n",
       "      <td>...</td>\n",
       "      <td>...</td>\n",
       "      <td>...</td>\n",
       "      <td>...</td>\n",
       "      <td>...</td>\n",
       "    </tr>\n",
       "    <tr>\n",
       "      <th>495</th>\n",
       "      <td>0</td>\n",
       "      <td>41.462515</td>\n",
       "      <td>71942.40291</td>\n",
       "      <td>6995.902524</td>\n",
       "      <td>541670.1016</td>\n",
       "    </tr>\n",
       "    <tr>\n",
       "      <th>496</th>\n",
       "      <td>1</td>\n",
       "      <td>37.642000</td>\n",
       "      <td>56039.49793</td>\n",
       "      <td>12301.456790</td>\n",
       "      <td>360419.0988</td>\n",
       "    </tr>\n",
       "    <tr>\n",
       "      <th>497</th>\n",
       "      <td>1</td>\n",
       "      <td>53.943497</td>\n",
       "      <td>68888.77805</td>\n",
       "      <td>10611.606860</td>\n",
       "      <td>764531.3203</td>\n",
       "    </tr>\n",
       "    <tr>\n",
       "      <th>498</th>\n",
       "      <td>1</td>\n",
       "      <td>59.160509</td>\n",
       "      <td>49811.99062</td>\n",
       "      <td>14013.034510</td>\n",
       "      <td>337826.6382</td>\n",
       "    </tr>\n",
       "    <tr>\n",
       "      <th>499</th>\n",
       "      <td>1</td>\n",
       "      <td>46.731152</td>\n",
       "      <td>61370.67766</td>\n",
       "      <td>9391.341628</td>\n",
       "      <td>462946.4924</td>\n",
       "    </tr>\n",
       "  </tbody>\n",
       "</table>\n",
       "<p>500 rows × 5 columns</p>\n",
       "</div>"
      ],
      "text/plain": [
       "     Gender        Age  Annual Salary  Credit Card Debt    Net Worth\n",
       "0         0  41.851720    62812.09301      11609.380910  238961.2505\n",
       "1         0  40.870623    66646.89292       9572.957136  530973.9078\n",
       "2         1  43.152897    53798.55112      11160.355060  638467.1773\n",
       "3         1  58.271369    79370.03798      14426.164850  548599.0524\n",
       "4         1  57.313749    59729.15130       5358.712177  560304.0671\n",
       "..      ...        ...            ...               ...          ...\n",
       "495       0  41.462515    71942.40291       6995.902524  541670.1016\n",
       "496       1  37.642000    56039.49793      12301.456790  360419.0988\n",
       "497       1  53.943497    68888.77805      10611.606860  764531.3203\n",
       "498       1  59.160509    49811.99062      14013.034510  337826.6382\n",
       "499       1  46.731152    61370.67766       9391.341628  462946.4924\n",
       "\n",
       "[500 rows x 5 columns]"
      ]
     },
     "execution_count": 179,
     "metadata": {},
     "output_type": "execute_result"
    }
   ],
   "source": [
    "X"
   ]
  },
  {
   "cell_type": "code",
   "execution_count": 180,
   "metadata": {
    "id": "XhwGquGcGMFm"
   },
   "outputs": [],
   "source": [
    "from sklearn.preprocessing import MinMaxScaler"
   ]
  },
  {
   "cell_type": "code",
   "execution_count": 181,
   "metadata": {
    "id": "yt4lqYwYGL5_"
   },
   "outputs": [],
   "source": [
    "scaler = MinMaxScaler()"
   ]
  },
  {
   "cell_type": "code",
   "execution_count": 182,
   "metadata": {
    "id": "75TWLi0LGLtW"
   },
   "outputs": [],
   "source": [
    "X = scaler.fit_transform(X)"
   ]
  },
  {
   "cell_type": "code",
   "execution_count": 183,
   "metadata": {},
   "outputs": [
    {
     "data": {
      "text/plain": [
       "array([[0.        , 0.4370344 , 0.53515116, 0.57836085, 0.22342985],\n",
       "       [0.        , 0.41741247, 0.58308616, 0.476028  , 0.52140195],\n",
       "       [1.        , 0.46305795, 0.42248189, 0.55579674, 0.63108896],\n",
       "       ...,\n",
       "       [1.        , 0.67886994, 0.61110973, 0.52822145, 0.75972584],\n",
       "       [1.        , 0.78321017, 0.37264988, 0.69914746, 0.3243129 ],\n",
       "       [1.        , 0.53462305, 0.51713347, 0.46690159, 0.45198622]])"
      ]
     },
     "execution_count": 183,
     "metadata": {},
     "output_type": "execute_result"
    }
   ],
   "source": [
    "X"
   ]
  },
  {
   "cell_type": "code",
   "execution_count": null,
   "metadata": {},
   "outputs": [],
   "source": []
  },
  {
   "cell_type": "code",
   "execution_count": null,
   "metadata": {},
   "outputs": [],
   "source": []
  },
  {
   "cell_type": "code",
   "execution_count": null,
   "metadata": {},
   "outputs": [],
   "source": []
  },
  {
   "cell_type": "code",
   "execution_count": null,
   "metadata": {},
   "outputs": [],
   "source": []
  },
  {
   "cell_type": "code",
   "execution_count": 46,
   "metadata": {
    "scrolled": true
   },
   "outputs": [
    {
     "data": {
      "text/plain": [
       "0      35321.45877\n",
       "1      45115.52566\n",
       "2      42925.70921\n",
       "3      67422.36313\n",
       "4      55915.46248\n",
       "          ...     \n",
       "495    48901.44342\n",
       "496    31491.41457\n",
       "497    64147.28888\n",
       "498    45442.15353\n",
       "499    45107.22566\n",
       "Name: Car Purchase Amount, Length: 500, dtype: float64"
      ]
     },
     "execution_count": 46,
     "metadata": {},
     "output_type": "execute_result"
    }
   ],
   "source": [
    "y"
   ]
  },
  {
   "cell_type": "code",
   "execution_count": 48,
   "metadata": {},
   "outputs": [
    {
     "data": {
      "text/plain": [
       "(500, 5)"
      ]
     },
     "execution_count": 48,
     "metadata": {},
     "output_type": "execute_result"
    }
   ],
   "source": [
    "X.shape"
   ]
  },
  {
   "cell_type": "code",
   "execution_count": 49,
   "metadata": {},
   "outputs": [
    {
     "data": {
      "text/plain": [
       "(500,)"
      ]
     },
     "execution_count": 49,
     "metadata": {},
     "output_type": "execute_result"
    }
   ],
   "source": [
    "y.shape"
   ]
  },
  {
   "cell_type": "code",
   "execution_count": 53,
   "metadata": {},
   "outputs": [
    {
     "data": {
      "text/plain": [
       "0      35321.45877\n",
       "1      45115.52566\n",
       "2      42925.70921\n",
       "3      67422.36313\n",
       "4      55915.46248\n",
       "          ...     \n",
       "495    48901.44342\n",
       "496    31491.41457\n",
       "497    64147.28888\n",
       "498    45442.15353\n",
       "499    45107.22566\n",
       "Name: Car Purchase Amount, Length: 500, dtype: float64"
      ]
     },
     "execution_count": 53,
     "metadata": {},
     "output_type": "execute_result"
    }
   ],
   "source": [
    "y"
   ]
  },
  {
   "cell_type": "code",
   "execution_count": 58,
   "metadata": {},
   "outputs": [],
   "source": [
    "y = np.array(y).reshape(500 , 1)"
   ]
  },
  {
   "cell_type": "code",
   "execution_count": 60,
   "metadata": {},
   "outputs": [
    {
     "data": {
      "text/plain": [
       "array([[35321.45877],\n",
       "       [45115.52566],\n",
       "       [42925.70921],\n",
       "       [67422.36313],\n",
       "       [55915.46248],\n",
       "       [56611.99784],\n",
       "       [28925.70549],\n",
       "       [47434.98265],\n",
       "       [48013.6141 ],\n",
       "       [38189.50601],\n",
       "       [59045.51309],\n",
       "       [42288.81046],\n",
       "       [28700.0334 ],\n",
       "       [49258.87571],\n",
       "       [49510.03356],\n",
       "       [53017.26723],\n",
       "       [41814.72067],\n",
       "       [43901.71244],\n",
       "       [44633.99241],\n",
       "       [54827.52403],\n",
       "       [51130.95379],\n",
       "       [43402.31525],\n",
       "       [47240.86004],\n",
       "       [46635.49432],\n",
       "       [45078.40193],\n",
       "       [44387.58412],\n",
       "       [37161.55393],\n",
       "       [49091.97185],\n",
       "       [58350.31809],\n",
       "       [43994.35972],\n",
       "       [17584.56963],\n",
       "       [44650.36073],\n",
       "       [66363.89316],\n",
       "       [53489.46214],\n",
       "       [39810.34817],\n",
       "       [51612.14311],\n",
       "       [38978.67458],\n",
       "       [10092.22509],\n",
       "       [35928.52404],\n",
       "       [54823.19221],\n",
       "       [45805.67186],\n",
       "       [41567.47033],\n",
       "       [28031.20985],\n",
       "       [27815.73813],\n",
       "       [68678.4352 ],\n",
       "       [68925.09447],\n",
       "       [34215.7615 ],\n",
       "       [37843.46619],\n",
       "       [37883.24231],\n",
       "       [48734.35708],\n",
       "       [27187.23914],\n",
       "       [63738.39065],\n",
       "       [48266.75516],\n",
       "       [46381.13111],\n",
       "       [31978.9799 ],\n",
       "       [48100.29052],\n",
       "       [47380.91224],\n",
       "       [41425.00116],\n",
       "       [38147.81018],\n",
       "       [32737.80177],\n",
       "       [37348.13737],\n",
       "       [47483.85316],\n",
       "       [49730.53339],\n",
       "       [40093.61981],\n",
       "       [42297.5062 ],\n",
       "       [52954.93121],\n",
       "       [48104.11184],\n",
       "       [43680.91327],\n",
       "       [52707.96816],\n",
       "       [49392.8897 ],\n",
       "       [30841.00154],\n",
       "       [49373.37555],\n",
       "       [41903.65171],\n",
       "       [45058.8969 ],\n",
       "       [52991.52667],\n",
       "       [50958.08115],\n",
       "       [41357.17897],\n",
       "       [44434.71917],\n",
       "       [38502.42392],\n",
       "       [41221.24918],\n",
       "       [38399.46139],\n",
       "       [41456.68097],\n",
       "       [30394.82494],\n",
       "       [42384.05128],\n",
       "       [39002.0771 ],\n",
       "       [19553.2739 ],\n",
       "       [45167.32542],\n",
       "       [36019.9556 ],\n",
       "       [50937.93844],\n",
       "       [12895.71468],\n",
       "       [38955.21919],\n",
       "       [51221.04249],\n",
       "       [25971.95673],\n",
       "       [60670.33672],\n",
       "       [54075.12064],\n",
       "       [40004.87142],\n",
       "       [61593.52058],\n",
       "       [39503.38829],\n",
       "       [52474.71839],\n",
       "       [42187.6828 ],\n",
       "       [57441.44414],\n",
       "       [22681.71667],\n",
       "       [33640.73697],\n",
       "       [31540.77868],\n",
       "       [60461.24268],\n",
       "       [45738.3343 ],\n",
       "       [34803.82395],\n",
       "       [34642.6024 ],\n",
       "       [27586.71854],\n",
       "       [54973.02495],\n",
       "       [49142.51174],\n",
       "       [58840.53964],\n",
       "       [57306.32866],\n",
       "       [51941.6756 ],\n",
       "       [30240.60975],\n",
       "       [67120.89878],\n",
       "       [42408.02625],\n",
       "       [41451.71843],\n",
       "       [42592.88647],\n",
       "       [34521.17618],\n",
       "       [42213.69644],\n",
       "       [41913.53713],\n",
       "       [59416.18101],\n",
       "       [51402.61506],\n",
       "       [54755.42038],\n",
       "       [47143.44008],\n",
       "       [64391.68906],\n",
       "       [37252.55194],\n",
       "       [52665.36511],\n",
       "       [44001.20706],\n",
       "       [51551.67997],\n",
       "       [38243.66481],\n",
       "       [39766.64804],\n",
       "       [40077.57289],\n",
       "       [33131.52734],\n",
       "       [48622.66097],\n",
       "       [47693.23482],\n",
       "       [39410.4616 ],\n",
       "       [33428.40183],\n",
       "       [32700.27871],\n",
       "       [62864.43011],\n",
       "       [29425.83001],\n",
       "       [44418.60955],\n",
       "       [36645.5609 ],\n",
       "       [53655.53859],\n",
       "       [45977.12502],\n",
       "       [38504.39444],\n",
       "       [47935.9394 ],\n",
       "       [60222.22672],\n",
       "       [38930.55234],\n",
       "       [27810.21814],\n",
       "       [47604.34591],\n",
       "       [42356.6895 ],\n",
       "       [31300.54347],\n",
       "       [42369.64247],\n",
       "       [31837.22537],\n",
       "       [26499.31418],\n",
       "       [38172.83602],\n",
       "       [39433.40631],\n",
       "       [37714.31659],\n",
       "       [57125.41541],\n",
       "       [46453.34819],\n",
       "       [43855.06077],\n",
       "       [55592.70383],\n",
       "       [42484.02283],\n",
       "       [40879.19107],\n",
       "       [20653.21409],\n",
       "       [35438.80549],\n",
       "       [36112.79346],\n",
       "       [38182.30465],\n",
       "       [41026.02421],\n",
       "       [27889.95197],\n",
       "       [43724.4896 ],\n",
       "       [57430.76903],\n",
       "       [41104.07108],\n",
       "       [49050.85378],\n",
       "       [41265.52929],\n",
       "       [64545.16339],\n",
       "       [29052.09521],\n",
       "       [30719.8156 ],\n",
       "       [38763.11306],\n",
       "       [39331.20127],\n",
       "       [32608.45468],\n",
       "       [58045.56257],\n",
       "       [54387.27727],\n",
       "       [36638.20688],\n",
       "       [39522.13129],\n",
       "       [42978.34626],\n",
       "       [60865.76396],\n",
       "       [46380.44732],\n",
       "       [56579.90338],\n",
       "       [42774.35579],\n",
       "       [37879.65385],\n",
       "       [45208.42539],\n",
       "       [56229.4127 ],\n",
       "       [50455.11935],\n",
       "       [49721.31082],\n",
       "       [31696.99679],\n",
       "       [49220.0218 ],\n",
       "       [46188.83514],\n",
       "       [36086.93161],\n",
       "       [43264.04965],\n",
       "       [40660.38317],\n",
       "       [51683.60859],\n",
       "       [44525.02085],\n",
       "       [48518.90163],\n",
       "       [45805.30588],\n",
       "       [54850.38742],\n",
       "       [32478.44758],\n",
       "       [42209.28948],\n",
       "       [55125.93237],\n",
       "       [47984.42062],\n",
       "       [43405.89086],\n",
       "       [44577.44829],\n",
       "       [37744.54285],\n",
       "       [47805.25605],\n",
       "       [44846.68557],\n",
       "       [46643.26581],\n",
       "       [56563.98675],\n",
       "       [41673.44617],\n",
       "       [61118.46947],\n",
       "       [37303.56701],\n",
       "       [46892.26617],\n",
       "       [56457.74038],\n",
       "       [45509.69732],\n",
       "       [27625.44144],\n",
       "       [46389.50237],\n",
       "       [29002.05665],\n",
       "       [51355.7106 ],\n",
       "       [42011.19965],\n",
       "       [52654.40455],\n",
       "       [44432.71747],\n",
       "       [46054.60253],\n",
       "       [58235.41454],\n",
       "       [42990.29255],\n",
       "       [50702.18103],\n",
       "       [47009.57741],\n",
       "       [49399.97041],\n",
       "       [42997.16761],\n",
       "       [44434.98419],\n",
       "       [46325.50959],\n",
       "       [46846.7305 ],\n",
       "       [56499.10202],\n",
       "       [42773.75905],\n",
       "       [52313.98392],\n",
       "       [34139.6373 ],\n",
       "       [60763.24731],\n",
       "       [66158.69494],\n",
       "       [31215.6421 ],\n",
       "       [46135.27233],\n",
       "       [56973.18105],\n",
       "       [24184.07443],\n",
       "       [49079.61942],\n",
       "       [37093.92033],\n",
       "       [43401.56612],\n",
       "       [29092.1311 ],\n",
       "       [48349.16457],\n",
       "       [33261.00057],\n",
       "       [41327.16554],\n",
       "       [49336.11628],\n",
       "       [51405.55229],\n",
       "       [31249.98803],\n",
       "       [43598.96993],\n",
       "       [48300.02057],\n",
       "       [54013.47595],\n",
       "       [38674.66038],\n",
       "       [37076.82508],\n",
       "       [37947.85125],\n",
       "       [41320.07256],\n",
       "       [66888.93694],\n",
       "       [12536.93842],\n",
       "       [39549.13039],\n",
       "       [52709.08196],\n",
       "       [53502.97742],\n",
       "       [52116.90791],\n",
       "       [38705.65839],\n",
       "       [48025.02542],\n",
       "       [59483.91183],\n",
       "       [35911.64559],\n",
       "       [41034.28343],\n",
       "       [51730.17434],\n",
       "       [53021.86074],\n",
       "       [32828.03477],\n",
       "       [29417.64694],\n",
       "       [57461.51158],\n",
       "       [50441.62427],\n",
       "       [41575.34739],\n",
       "       [46412.47781],\n",
       "       [47610.11718],\n",
       "       [70878.29664],\n",
       "       [55543.38497],\n",
       "       [53848.7555 ],\n",
       "       [39904.81613],\n",
       "       [44736.41097],\n",
       "       [46937.17422],\n",
       "       [28440.81268],\n",
       "       [38148.00163],\n",
       "       [42747.53925],\n",
       "       [29670.83337],\n",
       "       [63038.20422],\n",
       "       [63248.76188],\n",
       "       [42321.56548],\n",
       "       [44463.30502],\n",
       "       [67092.23276],\n",
       "       [22091.11839],\n",
       "       [40022.17406],\n",
       "       [56071.61377],\n",
       "       [49442.12107],\n",
       "       [42497.72862],\n",
       "       [37084.77621],\n",
       "       [51866.48719],\n",
       "       [35716.31133],\n",
       "       [39892.93343],\n",
       "       [35781.16156],\n",
       "       [42866.21274],\n",
       "       [80000.     ],\n",
       "       [60526.97788],\n",
       "       [59758.73247],\n",
       "       [39606.24598],\n",
       "       [58641.71051],\n",
       "       [52983.89411],\n",
       "       [50666.88173],\n",
       "       [59625.02618],\n",
       "       [22630.25982],\n",
       "       [41137.89459],\n",
       "       [53496.48183],\n",
       "       [36543.93642],\n",
       "       [43503.97349],\n",
       "       [31146.71078],\n",
       "       [31526.04931],\n",
       "       [31083.70271],\n",
       "       [45366.35963],\n",
       "       [25252.93221],\n",
       "       [39888.59789],\n",
       "       [52240.72866],\n",
       "       [39911.6116 ],\n",
       "       [45857.75365],\n",
       "       [30826.10903],\n",
       "       [39422.79389],\n",
       "       [34678.83226],\n",
       "       [23517.91983],\n",
       "       [28733.68779],\n",
       "       [59096.26978],\n",
       "       [50188.86612],\n",
       "       [35659.12237],\n",
       "       [46398.35204],\n",
       "       [32291.18978],\n",
       "       [49079.29461],\n",
       "       [49348.88394],\n",
       "       [41427.59797],\n",
       "       [24221.99937],\n",
       "       [44424.07681],\n",
       "       [60390.06616],\n",
       "       [42793.9932 ],\n",
       "       [46935.72774],\n",
       "       [58667.06865],\n",
       "       [38042.80065],\n",
       "       [39270.57909],\n",
       "       [54606.18769],\n",
       "       [39083.94268],\n",
       "       [47984.12043],\n",
       "       [46082.80993],\n",
       "       [30964.07804],\n",
       "       [35726.95299],\n",
       "       [49065.1634 ],\n",
       "       [48955.85816],\n",
       "       [37183.10293],\n",
       "       [46710.52519],\n",
       "       [52889.56257],\n",
       "       [29754.66271],\n",
       "       [60960.83428],\n",
       "       [39975.43302],\n",
       "       [38545.80328],\n",
       "       [56764.44728],\n",
       "       [63079.84329],\n",
       "       [55700.83389],\n",
       "       [36367.18452],\n",
       "       [52477.83479],\n",
       "       [50296.67496],\n",
       "       [37259.84386],\n",
       "       [47715.96049],\n",
       "       [29540.87013],\n",
       "       [60567.18837],\n",
       "       [36125.48846],\n",
       "       [57303.87131],\n",
       "       [51922.07691],\n",
       "       [35848.82935],\n",
       "       [42704.3221 ],\n",
       "       [55174.98946],\n",
       "       [26599.90843],\n",
       "       [53993.44322],\n",
       "       [47970.76767],\n",
       "       [43641.65727],\n",
       "       [41679.7929 ],\n",
       "       [63140.05082],\n",
       "       [30757.65726],\n",
       "       [65592.22012],\n",
       "       [37871.7082 ],\n",
       "       [42919.5196 ],\n",
       "       [22599.45863],\n",
       "       [70598.96768],\n",
       "       [43242.58224],\n",
       "       [38138.57511],\n",
       "       [30419.8    ],\n",
       "       [63868.94051],\n",
       "       [45112.94547],\n",
       "       [44361.87507],\n",
       "       [19525.29827],\n",
       "       [49991.60697],\n",
       "       [61731.71426],\n",
       "       [41769.38288],\n",
       "       [46402.53583],\n",
       "       [37376.63439],\n",
       "       [33766.6413 ],\n",
       "       [30667.60927],\n",
       "       [52056.41478],\n",
       "       [30736.5798 ],\n",
       "       [39439.45349],\n",
       "       [38174.87433],\n",
       "       [40589.8625 ],\n",
       "       [62028.71192],\n",
       "       [48465.27211],\n",
       "       [40095.0498 ],\n",
       "       [49568.47685],\n",
       "       [31408.62631],\n",
       "       [47719.47741],\n",
       "       [35784.42411],\n",
       "       [42905.53815],\n",
       "       [48516.84335],\n",
       "       [45593.6849 ],\n",
       "       [32061.6467 ],\n",
       "       [32208.37522],\n",
       "       [35475.00344],\n",
       "       [29519.56184],\n",
       "       [55420.56668],\n",
       "       [42139.64528],\n",
       "       [50539.90169],\n",
       "       [34922.42846],\n",
       "       [43898.2733 ],\n",
       "       [39135.03023],\n",
       "       [41147.46679],\n",
       "       [24134.59205],\n",
       "       [42705.11311],\n",
       "       [38901.60925],\n",
       "       [28645.39425],\n",
       "       [52150.41786],\n",
       "       [66648.25077],\n",
       "       [42909.27129],\n",
       "       [49248.10595],\n",
       "       [27303.17104],\n",
       "       [47869.82593],\n",
       "       [59984.16361],\n",
       "       [45271.46081],\n",
       "       [ 9000.     ],\n",
       "       [46012.10616],\n",
       "       [32967.20191],\n",
       "       [48785.15839],\n",
       "       [45824.5656 ],\n",
       "       [40102.11417],\n",
       "       [35457.1486 ],\n",
       "       [29556.7932 ],\n",
       "       [38243.06228],\n",
       "       [44430.63323],\n",
       "       [51046.42226],\n",
       "       [52570.36517],\n",
       "       [61404.22578],\n",
       "       [28463.64326],\n",
       "       [27586.20078],\n",
       "       [47979.48549],\n",
       "       [28164.86039],\n",
       "       [69669.47402],\n",
       "       [48052.65091],\n",
       "       [37364.23474],\n",
       "       [44500.81936],\n",
       "       [35139.24793],\n",
       "       [55167.37361],\n",
       "       [48383.69071],\n",
       "       [35823.55471],\n",
       "       [36517.70996],\n",
       "       [53110.88052],\n",
       "       [53049.44567],\n",
       "       [21471.11367],\n",
       "       [45015.67953],\n",
       "       [55377.87697],\n",
       "       [56510.13294],\n",
       "       [47443.74443],\n",
       "       [41489.64123],\n",
       "       [32553.53423],\n",
       "       [41984.62412],\n",
       "       [59538.40327],\n",
       "       [41352.47071],\n",
       "       [52785.16947],\n",
       "       [60117.67886],\n",
       "       [47760.66427],\n",
       "       [64188.26862],\n",
       "       [48901.44342],\n",
       "       [31491.41457],\n",
       "       [64147.28888],\n",
       "       [45442.15353],\n",
       "       [45107.22566]])"
      ]
     },
     "execution_count": 60,
     "metadata": {},
     "output_type": "execute_result"
    }
   ],
   "source": [
    "y"
   ]
  },
  {
   "cell_type": "code",
   "execution_count": 63,
   "metadata": {},
   "outputs": [],
   "source": [
    "y =scaler.fit_transform(y)"
   ]
  },
  {
   "cell_type": "markdown",
   "metadata": {
    "id": "ZV_ddN6vXbu-"
   },
   "source": [
    "### 학습을 위해서, y 의 shape 을 변경하시오."
   ]
  },
  {
   "cell_type": "code",
   "execution_count": 104,
   "metadata": {
    "id": "BtiGUumEGO9p"
   },
   "outputs": [],
   "source": [
    "# y용 스케일러를 따로 만들어야됨\n",
    "scaler_y = MinMaxScaler()"
   ]
  },
  {
   "cell_type": "code",
   "execution_count": 107,
   "metadata": {},
   "outputs": [
    {
     "ename": "ValueError",
     "evalue": "Expected 2D array, got 1D array instead:\narray=[35321.45877 45115.52566 42925.70921 67422.36313 55915.46248 56611.99784\n 28925.70549 47434.98265 48013.6141  38189.50601 59045.51309 42288.81046\n 28700.0334  49258.87571 49510.03356 53017.26723 41814.72067 43901.71244\n 44633.99241 54827.52403 51130.95379 43402.31525 47240.86004 46635.49432\n 45078.40193 44387.58412 37161.55393 49091.97185 58350.31809 43994.35972\n 17584.56963 44650.36073 66363.89316 53489.46214 39810.34817 51612.14311\n 38978.67458 10092.22509 35928.52404 54823.19221 45805.67186 41567.47033\n 28031.20985 27815.73813 68678.4352  68925.09447 34215.7615  37843.46619\n 37883.24231 48734.35708 27187.23914 63738.39065 48266.75516 46381.13111\n 31978.9799  48100.29052 47380.91224 41425.00116 38147.81018 32737.80177\n 37348.13737 47483.85316 49730.53339 40093.61981 42297.5062  52954.93121\n 48104.11184 43680.91327 52707.96816 49392.8897  30841.00154 49373.37555\n 41903.65171 45058.8969  52991.52667 50958.08115 41357.17897 44434.71917\n 38502.42392 41221.24918 38399.46139 41456.68097 30394.82494 42384.05128\n 39002.0771  19553.2739  45167.32542 36019.9556  50937.93844 12895.71468\n 38955.21919 51221.04249 25971.95673 60670.33672 54075.12064 40004.87142\n 61593.52058 39503.38829 52474.71839 42187.6828  57441.44414 22681.71667\n 33640.73697 31540.77868 60461.24268 45738.3343  34803.82395 34642.6024\n 27586.71854 54973.02495 49142.51174 58840.53964 57306.32866 51941.6756\n 30240.60975 67120.89878 42408.02625 41451.71843 42592.88647 34521.17618\n 42213.69644 41913.53713 59416.18101 51402.61506 54755.42038 47143.44008\n 64391.68906 37252.55194 52665.36511 44001.20706 51551.67997 38243.66481\n 39766.64804 40077.57289 33131.52734 48622.66097 47693.23482 39410.4616\n 33428.40183 32700.27871 62864.43011 29425.83001 44418.60955 36645.5609\n 53655.53859 45977.12502 38504.39444 47935.9394  60222.22672 38930.55234\n 27810.21814 47604.34591 42356.6895  31300.54347 42369.64247 31837.22537\n 26499.31418 38172.83602 39433.40631 37714.31659 57125.41541 46453.34819\n 43855.06077 55592.70383 42484.02283 40879.19107 20653.21409 35438.80549\n 36112.79346 38182.30465 41026.02421 27889.95197 43724.4896  57430.76903\n 41104.07108 49050.85378 41265.52929 64545.16339 29052.09521 30719.8156\n 38763.11306 39331.20127 32608.45468 58045.56257 54387.27727 36638.20688\n 39522.13129 42978.34626 60865.76396 46380.44732 56579.90338 42774.35579\n 37879.65385 45208.42539 56229.4127  50455.11935 49721.31082 31696.99679\n 49220.0218  46188.83514 36086.93161 43264.04965 40660.38317 51683.60859\n 44525.02085 48518.90163 45805.30588 54850.38742 32478.44758 42209.28948\n 55125.93237 47984.42062 43405.89086 44577.44829 37744.54285 47805.25605\n 44846.68557 46643.26581 56563.98675 41673.44617 61118.46947 37303.56701\n 46892.26617 56457.74038 45509.69732 27625.44144 46389.50237 29002.05665\n 51355.7106  42011.19965 52654.40455 44432.71747 46054.60253 58235.41454\n 42990.29255 50702.18103 47009.57741 49399.97041 42997.16761 44434.98419\n 46325.50959 46846.7305  56499.10202 42773.75905 52313.98392 34139.6373\n 60763.24731 66158.69494 31215.6421  46135.27233 56973.18105 24184.07443\n 49079.61942 37093.92033 43401.56612 29092.1311  48349.16457 33261.00057\n 41327.16554 49336.11628 51405.55229 31249.98803 43598.96993 48300.02057\n 54013.47595 38674.66038 37076.82508 37947.85125 41320.07256 66888.93694\n 12536.93842 39549.13039 52709.08196 53502.97742 52116.90791 38705.65839\n 48025.02542 59483.91183 35911.64559 41034.28343 51730.17434 53021.86074\n 32828.03477 29417.64694 57461.51158 50441.62427 41575.34739 46412.47781\n 47610.11718 70878.29664 55543.38497 53848.7555  39904.81613 44736.41097\n 46937.17422 28440.81268 38148.00163 42747.53925 29670.83337 63038.20422\n 63248.76188 42321.56548 44463.30502 67092.23276 22091.11839 40022.17406\n 56071.61377 49442.12107 42497.72862 37084.77621 51866.48719 35716.31133\n 39892.93343 35781.16156 42866.21274 80000.      60526.97788 59758.73247\n 39606.24598 58641.71051 52983.89411 50666.88173 59625.02618 22630.25982\n 41137.89459 53496.48183 36543.93642 43503.97349 31146.71078 31526.04931\n 31083.70271 45366.35963 25252.93221 39888.59789 52240.72866 39911.6116\n 45857.75365 30826.10903 39422.79389 34678.83226 23517.91983 28733.68779\n 59096.26978 50188.86612 35659.12237 46398.35204 32291.18978 49079.29461\n 49348.88394 41427.59797 24221.99937 44424.07681 60390.06616 42793.9932\n 46935.72774 58667.06865 38042.80065 39270.57909 54606.18769 39083.94268\n 47984.12043 46082.80993 30964.07804 35726.95299 49065.1634  48955.85816\n 37183.10293 46710.52519 52889.56257 29754.66271 60960.83428 39975.43302\n 38545.80328 56764.44728 63079.84329 55700.83389 36367.18452 52477.83479\n 50296.67496 37259.84386 47715.96049 29540.87013 60567.18837 36125.48846\n 57303.87131 51922.07691 35848.82935 42704.3221  55174.98946 26599.90843\n 53993.44322 47970.76767 43641.65727 41679.7929  63140.05082 30757.65726\n 65592.22012 37871.7082  42919.5196  22599.45863 70598.96768 43242.58224\n 38138.57511 30419.8     63868.94051 45112.94547 44361.87507 19525.29827\n 49991.60697 61731.71426 41769.38288 46402.53583 37376.63439 33766.6413\n 30667.60927 52056.41478 30736.5798  39439.45349 38174.87433 40589.8625\n 62028.71192 48465.27211 40095.0498  49568.47685 31408.62631 47719.47741\n 35784.42411 42905.53815 48516.84335 45593.6849  32061.6467  32208.37522\n 35475.00344 29519.56184 55420.56668 42139.64528 50539.90169 34922.42846\n 43898.2733  39135.03023 41147.46679 24134.59205 42705.11311 38901.60925\n 28645.39425 52150.41786 66648.25077 42909.27129 49248.10595 27303.17104\n 47869.82593 59984.16361 45271.46081  9000.      46012.10616 32967.20191\n 48785.15839 45824.5656  40102.11417 35457.1486  29556.7932  38243.06228\n 44430.63323 51046.42226 52570.36517 61404.22578 28463.64326 27586.20078\n 47979.48549 28164.86039 69669.47402 48052.65091 37364.23474 44500.81936\n 35139.24793 55167.37361 48383.69071 35823.55471 36517.70996 53110.88052\n 53049.44567 21471.11367 45015.67953 55377.87697 56510.13294 47443.74443\n 41489.64123 32553.53423 41984.62412 59538.40327 41352.47071 52785.16947\n 60117.67886 47760.66427 64188.26862 48901.44342 31491.41457 64147.28888\n 45442.15353 45107.22566].\nReshape your data either using array.reshape(-1, 1) if your data has a single feature or array.reshape(1, -1) if it contains a single sample.",
     "output_type": "error",
     "traceback": [
      "\u001b[1;31m---------------------------------------------------------------------------\u001b[0m",
      "\u001b[1;31mValueError\u001b[0m                                Traceback (most recent call last)",
      "\u001b[1;32m~\\AppData\\Local\\Temp/ipykernel_5024/2602485216.py\u001b[0m in \u001b[0;36m<module>\u001b[1;34m\u001b[0m\n\u001b[1;32m----> 1\u001b[1;33m \u001b[0mscaler_y\u001b[0m\u001b[1;33m.\u001b[0m\u001b[0mfit_transform\u001b[0m\u001b[1;33m(\u001b[0m\u001b[0my\u001b[0m\u001b[1;33m)\u001b[0m\u001b[1;33m\u001b[0m\u001b[1;33m\u001b[0m\u001b[0m\n\u001b[0m",
      "\u001b[1;32mC:\\ProgramData\\Anaconda3\\lib\\site-packages\\sklearn\\base.py\u001b[0m in \u001b[0;36mfit_transform\u001b[1;34m(self, X, y, **fit_params)\u001b[0m\n\u001b[0;32m    697\u001b[0m         \u001b[1;32mif\u001b[0m \u001b[0my\u001b[0m \u001b[1;32mis\u001b[0m \u001b[1;32mNone\u001b[0m\u001b[1;33m:\u001b[0m\u001b[1;33m\u001b[0m\u001b[1;33m\u001b[0m\u001b[0m\n\u001b[0;32m    698\u001b[0m             \u001b[1;31m# fit method of arity 1 (unsupervised transformation)\u001b[0m\u001b[1;33m\u001b[0m\u001b[1;33m\u001b[0m\u001b[0m\n\u001b[1;32m--> 699\u001b[1;33m             \u001b[1;32mreturn\u001b[0m \u001b[0mself\u001b[0m\u001b[1;33m.\u001b[0m\u001b[0mfit\u001b[0m\u001b[1;33m(\u001b[0m\u001b[0mX\u001b[0m\u001b[1;33m,\u001b[0m \u001b[1;33m**\u001b[0m\u001b[0mfit_params\u001b[0m\u001b[1;33m)\u001b[0m\u001b[1;33m.\u001b[0m\u001b[0mtransform\u001b[0m\u001b[1;33m(\u001b[0m\u001b[0mX\u001b[0m\u001b[1;33m)\u001b[0m\u001b[1;33m\u001b[0m\u001b[1;33m\u001b[0m\u001b[0m\n\u001b[0m\u001b[0;32m    700\u001b[0m         \u001b[1;32melse\u001b[0m\u001b[1;33m:\u001b[0m\u001b[1;33m\u001b[0m\u001b[1;33m\u001b[0m\u001b[0m\n\u001b[0;32m    701\u001b[0m             \u001b[1;31m# fit method of arity 2 (supervised transformation)\u001b[0m\u001b[1;33m\u001b[0m\u001b[1;33m\u001b[0m\u001b[0m\n",
      "\u001b[1;32mC:\\ProgramData\\Anaconda3\\lib\\site-packages\\sklearn\\preprocessing\\_data.py\u001b[0m in \u001b[0;36mfit\u001b[1;34m(self, X, y)\u001b[0m\n\u001b[0;32m    361\u001b[0m         \u001b[1;31m# Reset internal state before fitting\u001b[0m\u001b[1;33m\u001b[0m\u001b[1;33m\u001b[0m\u001b[0m\n\u001b[0;32m    362\u001b[0m         \u001b[0mself\u001b[0m\u001b[1;33m.\u001b[0m\u001b[0m_reset\u001b[0m\u001b[1;33m(\u001b[0m\u001b[1;33m)\u001b[0m\u001b[1;33m\u001b[0m\u001b[1;33m\u001b[0m\u001b[0m\n\u001b[1;32m--> 363\u001b[1;33m         \u001b[1;32mreturn\u001b[0m \u001b[0mself\u001b[0m\u001b[1;33m.\u001b[0m\u001b[0mpartial_fit\u001b[0m\u001b[1;33m(\u001b[0m\u001b[0mX\u001b[0m\u001b[1;33m,\u001b[0m \u001b[0my\u001b[0m\u001b[1;33m)\u001b[0m\u001b[1;33m\u001b[0m\u001b[1;33m\u001b[0m\u001b[0m\n\u001b[0m\u001b[0;32m    364\u001b[0m \u001b[1;33m\u001b[0m\u001b[0m\n\u001b[0;32m    365\u001b[0m     \u001b[1;32mdef\u001b[0m \u001b[0mpartial_fit\u001b[0m\u001b[1;33m(\u001b[0m\u001b[0mself\u001b[0m\u001b[1;33m,\u001b[0m \u001b[0mX\u001b[0m\u001b[1;33m,\u001b[0m \u001b[0my\u001b[0m\u001b[1;33m=\u001b[0m\u001b[1;32mNone\u001b[0m\u001b[1;33m)\u001b[0m\u001b[1;33m:\u001b[0m\u001b[1;33m\u001b[0m\u001b[1;33m\u001b[0m\u001b[0m\n",
      "\u001b[1;32mC:\\ProgramData\\Anaconda3\\lib\\site-packages\\sklearn\\preprocessing\\_data.py\u001b[0m in \u001b[0;36mpartial_fit\u001b[1;34m(self, X, y)\u001b[0m\n\u001b[0;32m    394\u001b[0m \u001b[1;33m\u001b[0m\u001b[0m\n\u001b[0;32m    395\u001b[0m         \u001b[0mfirst_pass\u001b[0m \u001b[1;33m=\u001b[0m \u001b[1;32mnot\u001b[0m \u001b[0mhasattr\u001b[0m\u001b[1;33m(\u001b[0m\u001b[0mself\u001b[0m\u001b[1;33m,\u001b[0m \u001b[1;34m'n_samples_seen_'\u001b[0m\u001b[1;33m)\u001b[0m\u001b[1;33m\u001b[0m\u001b[1;33m\u001b[0m\u001b[0m\n\u001b[1;32m--> 396\u001b[1;33m         X = self._validate_data(X, reset=first_pass,\n\u001b[0m\u001b[0;32m    397\u001b[0m                                 \u001b[0mestimator\u001b[0m\u001b[1;33m=\u001b[0m\u001b[0mself\u001b[0m\u001b[1;33m,\u001b[0m \u001b[0mdtype\u001b[0m\u001b[1;33m=\u001b[0m\u001b[0mFLOAT_DTYPES\u001b[0m\u001b[1;33m,\u001b[0m\u001b[1;33m\u001b[0m\u001b[1;33m\u001b[0m\u001b[0m\n\u001b[0;32m    398\u001b[0m                                 force_all_finite=\"allow-nan\")\n",
      "\u001b[1;32mC:\\ProgramData\\Anaconda3\\lib\\site-packages\\sklearn\\base.py\u001b[0m in \u001b[0;36m_validate_data\u001b[1;34m(self, X, y, reset, validate_separately, **check_params)\u001b[0m\n\u001b[0;32m    419\u001b[0m             \u001b[0mout\u001b[0m \u001b[1;33m=\u001b[0m \u001b[0mX\u001b[0m\u001b[1;33m\u001b[0m\u001b[1;33m\u001b[0m\u001b[0m\n\u001b[0;32m    420\u001b[0m         \u001b[1;32melif\u001b[0m \u001b[0misinstance\u001b[0m\u001b[1;33m(\u001b[0m\u001b[0my\u001b[0m\u001b[1;33m,\u001b[0m \u001b[0mstr\u001b[0m\u001b[1;33m)\u001b[0m \u001b[1;32mand\u001b[0m \u001b[0my\u001b[0m \u001b[1;33m==\u001b[0m \u001b[1;34m'no_validation'\u001b[0m\u001b[1;33m:\u001b[0m\u001b[1;33m\u001b[0m\u001b[1;33m\u001b[0m\u001b[0m\n\u001b[1;32m--> 421\u001b[1;33m             \u001b[0mX\u001b[0m \u001b[1;33m=\u001b[0m \u001b[0mcheck_array\u001b[0m\u001b[1;33m(\u001b[0m\u001b[0mX\u001b[0m\u001b[1;33m,\u001b[0m \u001b[1;33m**\u001b[0m\u001b[0mcheck_params\u001b[0m\u001b[1;33m)\u001b[0m\u001b[1;33m\u001b[0m\u001b[1;33m\u001b[0m\u001b[0m\n\u001b[0m\u001b[0;32m    422\u001b[0m             \u001b[0mout\u001b[0m \u001b[1;33m=\u001b[0m \u001b[0mX\u001b[0m\u001b[1;33m\u001b[0m\u001b[1;33m\u001b[0m\u001b[0m\n\u001b[0;32m    423\u001b[0m         \u001b[1;32melse\u001b[0m\u001b[1;33m:\u001b[0m\u001b[1;33m\u001b[0m\u001b[1;33m\u001b[0m\u001b[0m\n",
      "\u001b[1;32mC:\\ProgramData\\Anaconda3\\lib\\site-packages\\sklearn\\utils\\validation.py\u001b[0m in \u001b[0;36minner_f\u001b[1;34m(*args, **kwargs)\u001b[0m\n\u001b[0;32m     61\u001b[0m             \u001b[0mextra_args\u001b[0m \u001b[1;33m=\u001b[0m \u001b[0mlen\u001b[0m\u001b[1;33m(\u001b[0m\u001b[0margs\u001b[0m\u001b[1;33m)\u001b[0m \u001b[1;33m-\u001b[0m \u001b[0mlen\u001b[0m\u001b[1;33m(\u001b[0m\u001b[0mall_args\u001b[0m\u001b[1;33m)\u001b[0m\u001b[1;33m\u001b[0m\u001b[1;33m\u001b[0m\u001b[0m\n\u001b[0;32m     62\u001b[0m             \u001b[1;32mif\u001b[0m \u001b[0mextra_args\u001b[0m \u001b[1;33m<=\u001b[0m \u001b[1;36m0\u001b[0m\u001b[1;33m:\u001b[0m\u001b[1;33m\u001b[0m\u001b[1;33m\u001b[0m\u001b[0m\n\u001b[1;32m---> 63\u001b[1;33m                 \u001b[1;32mreturn\u001b[0m \u001b[0mf\u001b[0m\u001b[1;33m(\u001b[0m\u001b[1;33m*\u001b[0m\u001b[0margs\u001b[0m\u001b[1;33m,\u001b[0m \u001b[1;33m**\u001b[0m\u001b[0mkwargs\u001b[0m\u001b[1;33m)\u001b[0m\u001b[1;33m\u001b[0m\u001b[1;33m\u001b[0m\u001b[0m\n\u001b[0m\u001b[0;32m     64\u001b[0m \u001b[1;33m\u001b[0m\u001b[0m\n\u001b[0;32m     65\u001b[0m             \u001b[1;31m# extra_args > 0\u001b[0m\u001b[1;33m\u001b[0m\u001b[1;33m\u001b[0m\u001b[0m\n",
      "\u001b[1;32mC:\\ProgramData\\Anaconda3\\lib\\site-packages\\sklearn\\utils\\validation.py\u001b[0m in \u001b[0;36mcheck_array\u001b[1;34m(array, accept_sparse, accept_large_sparse, dtype, order, copy, force_all_finite, ensure_2d, allow_nd, ensure_min_samples, ensure_min_features, estimator)\u001b[0m\n\u001b[0;32m    692\u001b[0m             \u001b[1;31m# If input is 1D raise error\u001b[0m\u001b[1;33m\u001b[0m\u001b[1;33m\u001b[0m\u001b[0m\n\u001b[0;32m    693\u001b[0m             \u001b[1;32mif\u001b[0m \u001b[0marray\u001b[0m\u001b[1;33m.\u001b[0m\u001b[0mndim\u001b[0m \u001b[1;33m==\u001b[0m \u001b[1;36m1\u001b[0m\u001b[1;33m:\u001b[0m\u001b[1;33m\u001b[0m\u001b[1;33m\u001b[0m\u001b[0m\n\u001b[1;32m--> 694\u001b[1;33m                 raise ValueError(\n\u001b[0m\u001b[0;32m    695\u001b[0m                     \u001b[1;34m\"Expected 2D array, got 1D array instead:\\narray={}.\\n\"\u001b[0m\u001b[1;33m\u001b[0m\u001b[1;33m\u001b[0m\u001b[0m\n\u001b[0;32m    696\u001b[0m                     \u001b[1;34m\"Reshape your data either using array.reshape(-1, 1) if \"\u001b[0m\u001b[1;33m\u001b[0m\u001b[1;33m\u001b[0m\u001b[0m\n",
      "\u001b[1;31mValueError\u001b[0m: Expected 2D array, got 1D array instead:\narray=[35321.45877 45115.52566 42925.70921 67422.36313 55915.46248 56611.99784\n 28925.70549 47434.98265 48013.6141  38189.50601 59045.51309 42288.81046\n 28700.0334  49258.87571 49510.03356 53017.26723 41814.72067 43901.71244\n 44633.99241 54827.52403 51130.95379 43402.31525 47240.86004 46635.49432\n 45078.40193 44387.58412 37161.55393 49091.97185 58350.31809 43994.35972\n 17584.56963 44650.36073 66363.89316 53489.46214 39810.34817 51612.14311\n 38978.67458 10092.22509 35928.52404 54823.19221 45805.67186 41567.47033\n 28031.20985 27815.73813 68678.4352  68925.09447 34215.7615  37843.46619\n 37883.24231 48734.35708 27187.23914 63738.39065 48266.75516 46381.13111\n 31978.9799  48100.29052 47380.91224 41425.00116 38147.81018 32737.80177\n 37348.13737 47483.85316 49730.53339 40093.61981 42297.5062  52954.93121\n 48104.11184 43680.91327 52707.96816 49392.8897  30841.00154 49373.37555\n 41903.65171 45058.8969  52991.52667 50958.08115 41357.17897 44434.71917\n 38502.42392 41221.24918 38399.46139 41456.68097 30394.82494 42384.05128\n 39002.0771  19553.2739  45167.32542 36019.9556  50937.93844 12895.71468\n 38955.21919 51221.04249 25971.95673 60670.33672 54075.12064 40004.87142\n 61593.52058 39503.38829 52474.71839 42187.6828  57441.44414 22681.71667\n 33640.73697 31540.77868 60461.24268 45738.3343  34803.82395 34642.6024\n 27586.71854 54973.02495 49142.51174 58840.53964 57306.32866 51941.6756\n 30240.60975 67120.89878 42408.02625 41451.71843 42592.88647 34521.17618\n 42213.69644 41913.53713 59416.18101 51402.61506 54755.42038 47143.44008\n 64391.68906 37252.55194 52665.36511 44001.20706 51551.67997 38243.66481\n 39766.64804 40077.57289 33131.52734 48622.66097 47693.23482 39410.4616\n 33428.40183 32700.27871 62864.43011 29425.83001 44418.60955 36645.5609\n 53655.53859 45977.12502 38504.39444 47935.9394  60222.22672 38930.55234\n 27810.21814 47604.34591 42356.6895  31300.54347 42369.64247 31837.22537\n 26499.31418 38172.83602 39433.40631 37714.31659 57125.41541 46453.34819\n 43855.06077 55592.70383 42484.02283 40879.19107 20653.21409 35438.80549\n 36112.79346 38182.30465 41026.02421 27889.95197 43724.4896  57430.76903\n 41104.07108 49050.85378 41265.52929 64545.16339 29052.09521 30719.8156\n 38763.11306 39331.20127 32608.45468 58045.56257 54387.27727 36638.20688\n 39522.13129 42978.34626 60865.76396 46380.44732 56579.90338 42774.35579\n 37879.65385 45208.42539 56229.4127  50455.11935 49721.31082 31696.99679\n 49220.0218  46188.83514 36086.93161 43264.04965 40660.38317 51683.60859\n 44525.02085 48518.90163 45805.30588 54850.38742 32478.44758 42209.28948\n 55125.93237 47984.42062 43405.89086 44577.44829 37744.54285 47805.25605\n 44846.68557 46643.26581 56563.98675 41673.44617 61118.46947 37303.56701\n 46892.26617 56457.74038 45509.69732 27625.44144 46389.50237 29002.05665\n 51355.7106  42011.19965 52654.40455 44432.71747 46054.60253 58235.41454\n 42990.29255 50702.18103 47009.57741 49399.97041 42997.16761 44434.98419\n 46325.50959 46846.7305  56499.10202 42773.75905 52313.98392 34139.6373\n 60763.24731 66158.69494 31215.6421  46135.27233 56973.18105 24184.07443\n 49079.61942 37093.92033 43401.56612 29092.1311  48349.16457 33261.00057\n 41327.16554 49336.11628 51405.55229 31249.98803 43598.96993 48300.02057\n 54013.47595 38674.66038 37076.82508 37947.85125 41320.07256 66888.93694\n 12536.93842 39549.13039 52709.08196 53502.97742 52116.90791 38705.65839\n 48025.02542 59483.91183 35911.64559 41034.28343 51730.17434 53021.86074\n 32828.03477 29417.64694 57461.51158 50441.62427 41575.34739 46412.47781\n 47610.11718 70878.29664 55543.38497 53848.7555  39904.81613 44736.41097\n 46937.17422 28440.81268 38148.00163 42747.53925 29670.83337 63038.20422\n 63248.76188 42321.56548 44463.30502 67092.23276 22091.11839 40022.17406\n 56071.61377 49442.12107 42497.72862 37084.77621 51866.48719 35716.31133\n 39892.93343 35781.16156 42866.21274 80000.      60526.97788 59758.73247\n 39606.24598 58641.71051 52983.89411 50666.88173 59625.02618 22630.25982\n 41137.89459 53496.48183 36543.93642 43503.97349 31146.71078 31526.04931\n 31083.70271 45366.35963 25252.93221 39888.59789 52240.72866 39911.6116\n 45857.75365 30826.10903 39422.79389 34678.83226 23517.91983 28733.68779\n 59096.26978 50188.86612 35659.12237 46398.35204 32291.18978 49079.29461\n 49348.88394 41427.59797 24221.99937 44424.07681 60390.06616 42793.9932\n 46935.72774 58667.06865 38042.80065 39270.57909 54606.18769 39083.94268\n 47984.12043 46082.80993 30964.07804 35726.95299 49065.1634  48955.85816\n 37183.10293 46710.52519 52889.56257 29754.66271 60960.83428 39975.43302\n 38545.80328 56764.44728 63079.84329 55700.83389 36367.18452 52477.83479\n 50296.67496 37259.84386 47715.96049 29540.87013 60567.18837 36125.48846\n 57303.87131 51922.07691 35848.82935 42704.3221  55174.98946 26599.90843\n 53993.44322 47970.76767 43641.65727 41679.7929  63140.05082 30757.65726\n 65592.22012 37871.7082  42919.5196  22599.45863 70598.96768 43242.58224\n 38138.57511 30419.8     63868.94051 45112.94547 44361.87507 19525.29827\n 49991.60697 61731.71426 41769.38288 46402.53583 37376.63439 33766.6413\n 30667.60927 52056.41478 30736.5798  39439.45349 38174.87433 40589.8625\n 62028.71192 48465.27211 40095.0498  49568.47685 31408.62631 47719.47741\n 35784.42411 42905.53815 48516.84335 45593.6849  32061.6467  32208.37522\n 35475.00344 29519.56184 55420.56668 42139.64528 50539.90169 34922.42846\n 43898.2733  39135.03023 41147.46679 24134.59205 42705.11311 38901.60925\n 28645.39425 52150.41786 66648.25077 42909.27129 49248.10595 27303.17104\n 47869.82593 59984.16361 45271.46081  9000.      46012.10616 32967.20191\n 48785.15839 45824.5656  40102.11417 35457.1486  29556.7932  38243.06228\n 44430.63323 51046.42226 52570.36517 61404.22578 28463.64326 27586.20078\n 47979.48549 28164.86039 69669.47402 48052.65091 37364.23474 44500.81936\n 35139.24793 55167.37361 48383.69071 35823.55471 36517.70996 53110.88052\n 53049.44567 21471.11367 45015.67953 55377.87697 56510.13294 47443.74443\n 41489.64123 32553.53423 41984.62412 59538.40327 41352.47071 52785.16947\n 60117.67886 47760.66427 64188.26862 48901.44342 31491.41457 64147.28888\n 45442.15353 45107.22566].\nReshape your data either using array.reshape(-1, 1) if your data has a single feature or array.reshape(1, -1) if it contains a single sample."
     ]
    }
   ],
   "source": [
    "scaler_y.fit_transform(y)\n",
    "\n",
    "# scaler는 2차원으로 만들어야된다"
   ]
  },
  {
   "cell_type": "code",
   "execution_count": 108,
   "metadata": {},
   "outputs": [
    {
     "data": {
      "text/plain": [
       "(500,)"
      ]
     },
     "execution_count": 108,
     "metadata": {},
     "output_type": "execute_result"
    }
   ],
   "source": [
    "y.shape"
   ]
  },
  {
   "cell_type": "code",
   "execution_count": 109,
   "metadata": {},
   "outputs": [
    {
     "data": {
      "text/plain": [
       "0      35321.45877\n",
       "1      45115.52566\n",
       "2      42925.70921\n",
       "3      67422.36313\n",
       "4      55915.46248\n",
       "          ...     \n",
       "495    48901.44342\n",
       "496    31491.41457\n",
       "497    64147.28888\n",
       "498    45442.15353\n",
       "499    45107.22566\n",
       "Name: Car Purchase Amount, Length: 500, dtype: float64"
      ]
     },
     "execution_count": 109,
     "metadata": {},
     "output_type": "execute_result"
    }
   ],
   "source": [
    "y\n",
    "\n",
    "# 판다스 시리즈에는 reshape이 없음"
   ]
  },
  {
   "cell_type": "code",
   "execution_count": 113,
   "metadata": {},
   "outputs": [],
   "source": [
    "y = y.values.reshape(500, 1)\n",
    "\n",
    "# values 하면 넘파이로 가져옴"
   ]
  },
  {
   "cell_type": "code",
   "execution_count": 115,
   "metadata": {},
   "outputs": [
    {
     "data": {
      "text/plain": [
       "array([[35321.45877],\n",
       "       [45115.52566],\n",
       "       [42925.70921],\n",
       "       [67422.36313],\n",
       "       [55915.46248],\n",
       "       [56611.99784],\n",
       "       [28925.70549],\n",
       "       [47434.98265],\n",
       "       [48013.6141 ],\n",
       "       [38189.50601],\n",
       "       [59045.51309],\n",
       "       [42288.81046],\n",
       "       [28700.0334 ],\n",
       "       [49258.87571],\n",
       "       [49510.03356],\n",
       "       [53017.26723],\n",
       "       [41814.72067],\n",
       "       [43901.71244],\n",
       "       [44633.99241],\n",
       "       [54827.52403],\n",
       "       [51130.95379],\n",
       "       [43402.31525],\n",
       "       [47240.86004],\n",
       "       [46635.49432],\n",
       "       [45078.40193],\n",
       "       [44387.58412],\n",
       "       [37161.55393],\n",
       "       [49091.97185],\n",
       "       [58350.31809],\n",
       "       [43994.35972],\n",
       "       [17584.56963],\n",
       "       [44650.36073],\n",
       "       [66363.89316],\n",
       "       [53489.46214],\n",
       "       [39810.34817],\n",
       "       [51612.14311],\n",
       "       [38978.67458],\n",
       "       [10092.22509],\n",
       "       [35928.52404],\n",
       "       [54823.19221],\n",
       "       [45805.67186],\n",
       "       [41567.47033],\n",
       "       [28031.20985],\n",
       "       [27815.73813],\n",
       "       [68678.4352 ],\n",
       "       [68925.09447],\n",
       "       [34215.7615 ],\n",
       "       [37843.46619],\n",
       "       [37883.24231],\n",
       "       [48734.35708],\n",
       "       [27187.23914],\n",
       "       [63738.39065],\n",
       "       [48266.75516],\n",
       "       [46381.13111],\n",
       "       [31978.9799 ],\n",
       "       [48100.29052],\n",
       "       [47380.91224],\n",
       "       [41425.00116],\n",
       "       [38147.81018],\n",
       "       [32737.80177],\n",
       "       [37348.13737],\n",
       "       [47483.85316],\n",
       "       [49730.53339],\n",
       "       [40093.61981],\n",
       "       [42297.5062 ],\n",
       "       [52954.93121],\n",
       "       [48104.11184],\n",
       "       [43680.91327],\n",
       "       [52707.96816],\n",
       "       [49392.8897 ],\n",
       "       [30841.00154],\n",
       "       [49373.37555],\n",
       "       [41903.65171],\n",
       "       [45058.8969 ],\n",
       "       [52991.52667],\n",
       "       [50958.08115],\n",
       "       [41357.17897],\n",
       "       [44434.71917],\n",
       "       [38502.42392],\n",
       "       [41221.24918],\n",
       "       [38399.46139],\n",
       "       [41456.68097],\n",
       "       [30394.82494],\n",
       "       [42384.05128],\n",
       "       [39002.0771 ],\n",
       "       [19553.2739 ],\n",
       "       [45167.32542],\n",
       "       [36019.9556 ],\n",
       "       [50937.93844],\n",
       "       [12895.71468],\n",
       "       [38955.21919],\n",
       "       [51221.04249],\n",
       "       [25971.95673],\n",
       "       [60670.33672],\n",
       "       [54075.12064],\n",
       "       [40004.87142],\n",
       "       [61593.52058],\n",
       "       [39503.38829],\n",
       "       [52474.71839],\n",
       "       [42187.6828 ],\n",
       "       [57441.44414],\n",
       "       [22681.71667],\n",
       "       [33640.73697],\n",
       "       [31540.77868],\n",
       "       [60461.24268],\n",
       "       [45738.3343 ],\n",
       "       [34803.82395],\n",
       "       [34642.6024 ],\n",
       "       [27586.71854],\n",
       "       [54973.02495],\n",
       "       [49142.51174],\n",
       "       [58840.53964],\n",
       "       [57306.32866],\n",
       "       [51941.6756 ],\n",
       "       [30240.60975],\n",
       "       [67120.89878],\n",
       "       [42408.02625],\n",
       "       [41451.71843],\n",
       "       [42592.88647],\n",
       "       [34521.17618],\n",
       "       [42213.69644],\n",
       "       [41913.53713],\n",
       "       [59416.18101],\n",
       "       [51402.61506],\n",
       "       [54755.42038],\n",
       "       [47143.44008],\n",
       "       [64391.68906],\n",
       "       [37252.55194],\n",
       "       [52665.36511],\n",
       "       [44001.20706],\n",
       "       [51551.67997],\n",
       "       [38243.66481],\n",
       "       [39766.64804],\n",
       "       [40077.57289],\n",
       "       [33131.52734],\n",
       "       [48622.66097],\n",
       "       [47693.23482],\n",
       "       [39410.4616 ],\n",
       "       [33428.40183],\n",
       "       [32700.27871],\n",
       "       [62864.43011],\n",
       "       [29425.83001],\n",
       "       [44418.60955],\n",
       "       [36645.5609 ],\n",
       "       [53655.53859],\n",
       "       [45977.12502],\n",
       "       [38504.39444],\n",
       "       [47935.9394 ],\n",
       "       [60222.22672],\n",
       "       [38930.55234],\n",
       "       [27810.21814],\n",
       "       [47604.34591],\n",
       "       [42356.6895 ],\n",
       "       [31300.54347],\n",
       "       [42369.64247],\n",
       "       [31837.22537],\n",
       "       [26499.31418],\n",
       "       [38172.83602],\n",
       "       [39433.40631],\n",
       "       [37714.31659],\n",
       "       [57125.41541],\n",
       "       [46453.34819],\n",
       "       [43855.06077],\n",
       "       [55592.70383],\n",
       "       [42484.02283],\n",
       "       [40879.19107],\n",
       "       [20653.21409],\n",
       "       [35438.80549],\n",
       "       [36112.79346],\n",
       "       [38182.30465],\n",
       "       [41026.02421],\n",
       "       [27889.95197],\n",
       "       [43724.4896 ],\n",
       "       [57430.76903],\n",
       "       [41104.07108],\n",
       "       [49050.85378],\n",
       "       [41265.52929],\n",
       "       [64545.16339],\n",
       "       [29052.09521],\n",
       "       [30719.8156 ],\n",
       "       [38763.11306],\n",
       "       [39331.20127],\n",
       "       [32608.45468],\n",
       "       [58045.56257],\n",
       "       [54387.27727],\n",
       "       [36638.20688],\n",
       "       [39522.13129],\n",
       "       [42978.34626],\n",
       "       [60865.76396],\n",
       "       [46380.44732],\n",
       "       [56579.90338],\n",
       "       [42774.35579],\n",
       "       [37879.65385],\n",
       "       [45208.42539],\n",
       "       [56229.4127 ],\n",
       "       [50455.11935],\n",
       "       [49721.31082],\n",
       "       [31696.99679],\n",
       "       [49220.0218 ],\n",
       "       [46188.83514],\n",
       "       [36086.93161],\n",
       "       [43264.04965],\n",
       "       [40660.38317],\n",
       "       [51683.60859],\n",
       "       [44525.02085],\n",
       "       [48518.90163],\n",
       "       [45805.30588],\n",
       "       [54850.38742],\n",
       "       [32478.44758],\n",
       "       [42209.28948],\n",
       "       [55125.93237],\n",
       "       [47984.42062],\n",
       "       [43405.89086],\n",
       "       [44577.44829],\n",
       "       [37744.54285],\n",
       "       [47805.25605],\n",
       "       [44846.68557],\n",
       "       [46643.26581],\n",
       "       [56563.98675],\n",
       "       [41673.44617],\n",
       "       [61118.46947],\n",
       "       [37303.56701],\n",
       "       [46892.26617],\n",
       "       [56457.74038],\n",
       "       [45509.69732],\n",
       "       [27625.44144],\n",
       "       [46389.50237],\n",
       "       [29002.05665],\n",
       "       [51355.7106 ],\n",
       "       [42011.19965],\n",
       "       [52654.40455],\n",
       "       [44432.71747],\n",
       "       [46054.60253],\n",
       "       [58235.41454],\n",
       "       [42990.29255],\n",
       "       [50702.18103],\n",
       "       [47009.57741],\n",
       "       [49399.97041],\n",
       "       [42997.16761],\n",
       "       [44434.98419],\n",
       "       [46325.50959],\n",
       "       [46846.7305 ],\n",
       "       [56499.10202],\n",
       "       [42773.75905],\n",
       "       [52313.98392],\n",
       "       [34139.6373 ],\n",
       "       [60763.24731],\n",
       "       [66158.69494],\n",
       "       [31215.6421 ],\n",
       "       [46135.27233],\n",
       "       [56973.18105],\n",
       "       [24184.07443],\n",
       "       [49079.61942],\n",
       "       [37093.92033],\n",
       "       [43401.56612],\n",
       "       [29092.1311 ],\n",
       "       [48349.16457],\n",
       "       [33261.00057],\n",
       "       [41327.16554],\n",
       "       [49336.11628],\n",
       "       [51405.55229],\n",
       "       [31249.98803],\n",
       "       [43598.96993],\n",
       "       [48300.02057],\n",
       "       [54013.47595],\n",
       "       [38674.66038],\n",
       "       [37076.82508],\n",
       "       [37947.85125],\n",
       "       [41320.07256],\n",
       "       [66888.93694],\n",
       "       [12536.93842],\n",
       "       [39549.13039],\n",
       "       [52709.08196],\n",
       "       [53502.97742],\n",
       "       [52116.90791],\n",
       "       [38705.65839],\n",
       "       [48025.02542],\n",
       "       [59483.91183],\n",
       "       [35911.64559],\n",
       "       [41034.28343],\n",
       "       [51730.17434],\n",
       "       [53021.86074],\n",
       "       [32828.03477],\n",
       "       [29417.64694],\n",
       "       [57461.51158],\n",
       "       [50441.62427],\n",
       "       [41575.34739],\n",
       "       [46412.47781],\n",
       "       [47610.11718],\n",
       "       [70878.29664],\n",
       "       [55543.38497],\n",
       "       [53848.7555 ],\n",
       "       [39904.81613],\n",
       "       [44736.41097],\n",
       "       [46937.17422],\n",
       "       [28440.81268],\n",
       "       [38148.00163],\n",
       "       [42747.53925],\n",
       "       [29670.83337],\n",
       "       [63038.20422],\n",
       "       [63248.76188],\n",
       "       [42321.56548],\n",
       "       [44463.30502],\n",
       "       [67092.23276],\n",
       "       [22091.11839],\n",
       "       [40022.17406],\n",
       "       [56071.61377],\n",
       "       [49442.12107],\n",
       "       [42497.72862],\n",
       "       [37084.77621],\n",
       "       [51866.48719],\n",
       "       [35716.31133],\n",
       "       [39892.93343],\n",
       "       [35781.16156],\n",
       "       [42866.21274],\n",
       "       [80000.     ],\n",
       "       [60526.97788],\n",
       "       [59758.73247],\n",
       "       [39606.24598],\n",
       "       [58641.71051],\n",
       "       [52983.89411],\n",
       "       [50666.88173],\n",
       "       [59625.02618],\n",
       "       [22630.25982],\n",
       "       [41137.89459],\n",
       "       [53496.48183],\n",
       "       [36543.93642],\n",
       "       [43503.97349],\n",
       "       [31146.71078],\n",
       "       [31526.04931],\n",
       "       [31083.70271],\n",
       "       [45366.35963],\n",
       "       [25252.93221],\n",
       "       [39888.59789],\n",
       "       [52240.72866],\n",
       "       [39911.6116 ],\n",
       "       [45857.75365],\n",
       "       [30826.10903],\n",
       "       [39422.79389],\n",
       "       [34678.83226],\n",
       "       [23517.91983],\n",
       "       [28733.68779],\n",
       "       [59096.26978],\n",
       "       [50188.86612],\n",
       "       [35659.12237],\n",
       "       [46398.35204],\n",
       "       [32291.18978],\n",
       "       [49079.29461],\n",
       "       [49348.88394],\n",
       "       [41427.59797],\n",
       "       [24221.99937],\n",
       "       [44424.07681],\n",
       "       [60390.06616],\n",
       "       [42793.9932 ],\n",
       "       [46935.72774],\n",
       "       [58667.06865],\n",
       "       [38042.80065],\n",
       "       [39270.57909],\n",
       "       [54606.18769],\n",
       "       [39083.94268],\n",
       "       [47984.12043],\n",
       "       [46082.80993],\n",
       "       [30964.07804],\n",
       "       [35726.95299],\n",
       "       [49065.1634 ],\n",
       "       [48955.85816],\n",
       "       [37183.10293],\n",
       "       [46710.52519],\n",
       "       [52889.56257],\n",
       "       [29754.66271],\n",
       "       [60960.83428],\n",
       "       [39975.43302],\n",
       "       [38545.80328],\n",
       "       [56764.44728],\n",
       "       [63079.84329],\n",
       "       [55700.83389],\n",
       "       [36367.18452],\n",
       "       [52477.83479],\n",
       "       [50296.67496],\n",
       "       [37259.84386],\n",
       "       [47715.96049],\n",
       "       [29540.87013],\n",
       "       [60567.18837],\n",
       "       [36125.48846],\n",
       "       [57303.87131],\n",
       "       [51922.07691],\n",
       "       [35848.82935],\n",
       "       [42704.3221 ],\n",
       "       [55174.98946],\n",
       "       [26599.90843],\n",
       "       [53993.44322],\n",
       "       [47970.76767],\n",
       "       [43641.65727],\n",
       "       [41679.7929 ],\n",
       "       [63140.05082],\n",
       "       [30757.65726],\n",
       "       [65592.22012],\n",
       "       [37871.7082 ],\n",
       "       [42919.5196 ],\n",
       "       [22599.45863],\n",
       "       [70598.96768],\n",
       "       [43242.58224],\n",
       "       [38138.57511],\n",
       "       [30419.8    ],\n",
       "       [63868.94051],\n",
       "       [45112.94547],\n",
       "       [44361.87507],\n",
       "       [19525.29827],\n",
       "       [49991.60697],\n",
       "       [61731.71426],\n",
       "       [41769.38288],\n",
       "       [46402.53583],\n",
       "       [37376.63439],\n",
       "       [33766.6413 ],\n",
       "       [30667.60927],\n",
       "       [52056.41478],\n",
       "       [30736.5798 ],\n",
       "       [39439.45349],\n",
       "       [38174.87433],\n",
       "       [40589.8625 ],\n",
       "       [62028.71192],\n",
       "       [48465.27211],\n",
       "       [40095.0498 ],\n",
       "       [49568.47685],\n",
       "       [31408.62631],\n",
       "       [47719.47741],\n",
       "       [35784.42411],\n",
       "       [42905.53815],\n",
       "       [48516.84335],\n",
       "       [45593.6849 ],\n",
       "       [32061.6467 ],\n",
       "       [32208.37522],\n",
       "       [35475.00344],\n",
       "       [29519.56184],\n",
       "       [55420.56668],\n",
       "       [42139.64528],\n",
       "       [50539.90169],\n",
       "       [34922.42846],\n",
       "       [43898.2733 ],\n",
       "       [39135.03023],\n",
       "       [41147.46679],\n",
       "       [24134.59205],\n",
       "       [42705.11311],\n",
       "       [38901.60925],\n",
       "       [28645.39425],\n",
       "       [52150.41786],\n",
       "       [66648.25077],\n",
       "       [42909.27129],\n",
       "       [49248.10595],\n",
       "       [27303.17104],\n",
       "       [47869.82593],\n",
       "       [59984.16361],\n",
       "       [45271.46081],\n",
       "       [ 9000.     ],\n",
       "       [46012.10616],\n",
       "       [32967.20191],\n",
       "       [48785.15839],\n",
       "       [45824.5656 ],\n",
       "       [40102.11417],\n",
       "       [35457.1486 ],\n",
       "       [29556.7932 ],\n",
       "       [38243.06228],\n",
       "       [44430.63323],\n",
       "       [51046.42226],\n",
       "       [52570.36517],\n",
       "       [61404.22578],\n",
       "       [28463.64326],\n",
       "       [27586.20078],\n",
       "       [47979.48549],\n",
       "       [28164.86039],\n",
       "       [69669.47402],\n",
       "       [48052.65091],\n",
       "       [37364.23474],\n",
       "       [44500.81936],\n",
       "       [35139.24793],\n",
       "       [55167.37361],\n",
       "       [48383.69071],\n",
       "       [35823.55471],\n",
       "       [36517.70996],\n",
       "       [53110.88052],\n",
       "       [53049.44567],\n",
       "       [21471.11367],\n",
       "       [45015.67953],\n",
       "       [55377.87697],\n",
       "       [56510.13294],\n",
       "       [47443.74443],\n",
       "       [41489.64123],\n",
       "       [32553.53423],\n",
       "       [41984.62412],\n",
       "       [59538.40327],\n",
       "       [41352.47071],\n",
       "       [52785.16947],\n",
       "       [60117.67886],\n",
       "       [47760.66427],\n",
       "       [64188.26862],\n",
       "       [48901.44342],\n",
       "       [31491.41457],\n",
       "       [64147.28888],\n",
       "       [45442.15353],\n",
       "       [45107.22566]])"
      ]
     },
     "execution_count": 115,
     "metadata": {},
     "output_type": "execute_result"
    }
   ],
   "source": [
    "y"
   ]
  },
  {
   "cell_type": "code",
   "execution_count": 116,
   "metadata": {},
   "outputs": [],
   "source": [
    "y = scaler_y.fit_transform(y)"
   ]
  },
  {
   "cell_type": "code",
   "execution_count": 117,
   "metadata": {},
   "outputs": [
    {
     "data": {
      "text/plain": [
       "array([[0.37072477],\n",
       "       [0.50866938],\n",
       "       [0.47782689],\n",
       "       [0.82285018],\n",
       "       [0.66078116],\n",
       "       [0.67059152],\n",
       "       [0.28064374],\n",
       "       [0.54133778],\n",
       "       [0.54948752],\n",
       "       [0.4111198 ],\n",
       "       [0.70486638],\n",
       "       [0.46885649],\n",
       "       [0.27746526],\n",
       "       [0.56702642],\n",
       "       [0.57056385],\n",
       "       [0.61996151],\n",
       "       [0.46217916],\n",
       "       [0.49157341],\n",
       "       [0.50188722],\n",
       "       [0.64545808],\n",
       "       [0.59339372],\n",
       "       [0.48453965],\n",
       "       [0.53860366],\n",
       "       [0.53007738],\n",
       "       [0.50814651],\n",
       "       [0.49841668],\n",
       "       [0.3966416 ],\n",
       "       [0.56467566],\n",
       "       [0.6950749 ],\n",
       "       [0.49287831],\n",
       "       [0.12090943],\n",
       "       [0.50211776],\n",
       "       [0.80794216],\n",
       "       [0.62661214],\n",
       "       [0.43394857],\n",
       "       [0.60017103],\n",
       "       [0.42223485],\n",
       "       [0.01538345],\n",
       "       [0.37927499],\n",
       "       [0.64539707],\n",
       "       [0.51838974],\n",
       "       [0.45869677],\n",
       "       [0.26804521],\n",
       "       [0.2650104 ],\n",
       "       [0.84054134],\n",
       "       [0.84401542],\n",
       "       [0.35515157],\n",
       "       [0.406246  ],\n",
       "       [0.40680623],\n",
       "       [0.55963883],\n",
       "       [0.2561583 ],\n",
       "       [0.77096325],\n",
       "       [0.55305289],\n",
       "       [0.5264948 ],\n",
       "       [0.3236476 ],\n",
       "       [0.55070832],\n",
       "       [0.54057623],\n",
       "       [0.45669016],\n",
       "       [0.41053254],\n",
       "       [0.33433524],\n",
       "       [0.39926954],\n",
       "       [0.5420261 ],\n",
       "       [0.57366948],\n",
       "       [0.43793831],\n",
       "       [0.46897896],\n",
       "       [0.61908354],\n",
       "       [0.55076214],\n",
       "       [0.48846357],\n",
       "       [0.61560519],\n",
       "       [0.56891394],\n",
       "       [0.30761974],\n",
       "       [0.56863909],\n",
       "       [0.46343171],\n",
       "       [0.50787179],\n",
       "       [0.61959897],\n",
       "       [0.59095889],\n",
       "       [0.45573492],\n",
       "       [0.49908055],\n",
       "       [0.4155271 ],\n",
       "       [0.45382041],\n",
       "       [0.41407692],\n",
       "       [0.45713635],\n",
       "       [0.30133556],\n",
       "       [0.47019791],\n",
       "       [0.42256447],\n",
       "       [0.14863766],\n",
       "       [0.50939895],\n",
       "       [0.38056275],\n",
       "       [0.59067519],\n",
       "       [0.05486922],\n",
       "       [0.4219045 ],\n",
       "       [0.59466257],\n",
       "       [0.23904164],\n",
       "       [0.72775122],\n",
       "       [0.63486085],\n",
       "       [0.43668833],\n",
       "       [0.74075381],\n",
       "       [0.42962519],\n",
       "       [0.61231998],\n",
       "       [0.46743215],\n",
       "       [0.68227386],\n",
       "       [0.19270023],\n",
       "       [0.34705263],\n",
       "       [0.31747576],\n",
       "       [0.72480623],\n",
       "       [0.51744133],\n",
       "       [0.36343414],\n",
       "       [0.36116341],\n",
       "       [0.26178477],\n",
       "       [0.64750739],\n",
       "       [0.56538749],\n",
       "       [0.70197943],\n",
       "       [0.68037083],\n",
       "       [0.60481233],\n",
       "       [0.29916352],\n",
       "       [0.81860421],\n",
       "       [0.47053558],\n",
       "       [0.45706646],\n",
       "       [0.47313925],\n",
       "       [0.35945319],\n",
       "       [0.46779854],\n",
       "       [0.46357095],\n",
       "       [0.71008706],\n",
       "       [0.59721993],\n",
       "       [0.64444254],\n",
       "       [0.53723155],\n",
       "       [0.78016463],\n",
       "       [0.39792327],\n",
       "       [0.61500514],\n",
       "       [0.49297475],\n",
       "       [0.59931944],\n",
       "       [0.4118826 ],\n",
       "       [0.43333307],\n",
       "       [0.43771229],\n",
       "       [0.33988067],\n",
       "       [0.55806565],\n",
       "       [0.54497514],\n",
       "       [0.42831636],\n",
       "       [0.344062  ],\n",
       "       [0.33380674],\n",
       "       [0.75865395],\n",
       "       [0.28768775],\n",
       "       [0.49885366],\n",
       "       [0.3893741 ],\n",
       "       [0.62895125],\n",
       "       [0.52080458],\n",
       "       [0.41555485],\n",
       "       [0.54839351],\n",
       "       [0.72143981],\n",
       "       [0.42155708],\n",
       "       [0.26493265],\n",
       "       [0.54372318],\n",
       "       [0.46981253],\n",
       "       [0.31409216],\n",
       "       [0.46999496],\n",
       "       [0.32165106],\n",
       "       [0.24646921],\n",
       "       [0.41088501],\n",
       "       [0.42863953],\n",
       "       [0.40442699],\n",
       "       [0.67782275],\n",
       "       [0.52751195],\n",
       "       [0.49091635],\n",
       "       [0.65623527],\n",
       "       [0.47160596],\n",
       "       [0.44900269],\n",
       "       [0.16412978],\n",
       "       [0.37237754],\n",
       "       [0.38187033],\n",
       "       [0.41101838],\n",
       "       [0.45107076],\n",
       "       [0.26605566],\n",
       "       [0.48907732],\n",
       "       [0.68212351],\n",
       "       [0.45217002],\n",
       "       [0.56409653],\n",
       "       [0.45444407],\n",
       "       [0.78232624],\n",
       "       [0.28242388],\n",
       "       [0.3059129 ],\n",
       "       [0.41919878],\n",
       "       [0.42720002],\n",
       "       [0.33251345],\n",
       "       [0.69078257],\n",
       "       [0.63925743],\n",
       "       [0.38927052],\n",
       "       [0.42988917],\n",
       "       [0.47856826],\n",
       "       [0.73050372],\n",
       "       [0.52648517],\n",
       "       [0.67013948],\n",
       "       [0.47569515],\n",
       "       [0.40675569],\n",
       "       [0.50997782],\n",
       "       [0.665203  ],\n",
       "       [0.58387492],\n",
       "       [0.57353959],\n",
       "       [0.31967601],\n",
       "       [0.56647918],\n",
       "       [0.52378641],\n",
       "       [0.38150608],\n",
       "       [0.48259225],\n",
       "       [0.44592089],\n",
       "       [0.60117759],\n",
       "       [0.50035241],\n",
       "       [0.55660425],\n",
       "       [0.51838459],\n",
       "       [0.6457801 ],\n",
       "       [0.33068236],\n",
       "       [0.46773647],\n",
       "       [0.64966102],\n",
       "       [0.54907635],\n",
       "       [0.48459001],\n",
       "       [0.50109082],\n",
       "       [0.40485272],\n",
       "       [0.5465529 ],\n",
       "       [0.5048829 ],\n",
       "       [0.53018684],\n",
       "       [0.66991531],\n",
       "       [0.46018938],\n",
       "       [0.73406295],\n",
       "       [0.39864179],\n",
       "       [0.53369389],\n",
       "       [0.66841888],\n",
       "       [0.51422109],\n",
       "       [0.26233016],\n",
       "       [0.52661271],\n",
       "       [0.28171911],\n",
       "       [0.5965593 ],\n",
       "       [0.46494647],\n",
       "       [0.61485077],\n",
       "       [0.49905236],\n",
       "       [0.52189581],\n",
       "       [0.69345654],\n",
       "       [0.47873651],\n",
       "       [0.58735466],\n",
       "       [0.53534616],\n",
       "       [0.56901367],\n",
       "       [0.47883335],\n",
       "       [0.49908428],\n",
       "       [0.5257114 ],\n",
       "       [0.53305254],\n",
       "       [0.66900144],\n",
       "       [0.47568675],\n",
       "       [0.61005611],\n",
       "       [0.3540794 ],\n",
       "       [0.72905982],\n",
       "       [0.80505204],\n",
       "       [0.31289637],\n",
       "       [0.523032  ],\n",
       "       [0.67567861],\n",
       "       [0.2138602 ],\n",
       "       [0.56450168],\n",
       "       [0.39568902],\n",
       "       [0.4845291 ],\n",
       "       [0.28298776],\n",
       "       [0.55421359],\n",
       "       [0.34170423],\n",
       "       [0.45531219],\n",
       "       [0.56811431],\n",
       "       [0.5972613 ],\n",
       "       [0.31338011],\n",
       "       [0.48730944],\n",
       "       [0.55352142],\n",
       "       [0.63399262],\n",
       "       [0.41795296],\n",
       "       [0.39544824],\n",
       "       [0.40771621],\n",
       "       [0.45521229],\n",
       "       [0.81533714],\n",
       "       [0.04981603],\n",
       "       [0.43026944],\n",
       "       [0.61562087],\n",
       "       [0.6268025 ],\n",
       "       [0.60728039],\n",
       "       [0.41838955],\n",
       "       [0.54964825],\n",
       "       [0.71104101],\n",
       "       [0.37903726],\n",
       "       [0.45118709],\n",
       "       [0.60183344],\n",
       "       [0.62002621],\n",
       "       [0.33560612],\n",
       "       [0.28757249],\n",
       "       [0.6825565 ],\n",
       "       [0.58368485],\n",
       "       [0.45880771],\n",
       "       [0.52693631],\n",
       "       [0.54380447],\n",
       "       [0.8715253 ],\n",
       "       [0.65554063],\n",
       "       [0.63167261],\n",
       "       [0.4352791 ],\n",
       "       [0.50332973],\n",
       "       [0.5343264 ],\n",
       "       [0.27381426],\n",
       "       [0.41053523],\n",
       "       [0.47531745],\n",
       "       [0.2911385 ],\n",
       "       [0.76110147],\n",
       "       [0.76406707],\n",
       "       [0.46931782],\n",
       "       [0.49948317],\n",
       "       [0.81820046],\n",
       "       [0.18438195],\n",
       "       [0.43693203],\n",
       "       [0.66298048],\n",
       "       [0.56960734],\n",
       "       [0.47179899],\n",
       "       [0.39556023],\n",
       "       [0.60375334],\n",
       "       [0.37628608],\n",
       "       [0.43511174],\n",
       "       [0.37719946],\n",
       "       [0.47698891],\n",
       "       [1.        ],\n",
       "       [0.72573208],\n",
       "       [0.71491172],\n",
       "       [0.43107389],\n",
       "       [0.69917902],\n",
       "       [0.61949147],\n",
       "       [0.58685749],\n",
       "       [0.71302854],\n",
       "       [0.19197549],\n",
       "       [0.4526464 ],\n",
       "       [0.62671101],\n",
       "       [0.38794277],\n",
       "       [0.48597146],\n",
       "       [0.3119255 ],\n",
       "       [0.3172683 ],\n",
       "       [0.31103807],\n",
       "       [0.51220225],\n",
       "       [0.22891454],\n",
       "       [0.43505067],\n",
       "       [0.60902435],\n",
       "       [0.43537481],\n",
       "       [0.51912329],\n",
       "       [0.30740999],\n",
       "       [0.42849005],\n",
       "       [0.36167369],\n",
       "       [0.20447774],\n",
       "       [0.27793926],\n",
       "       [0.70558126],\n",
       "       [0.58012487],\n",
       "       [0.3754806 ],\n",
       "       [0.52673735],\n",
       "       [0.32804493],\n",
       "       [0.56449711],\n",
       "       [0.56829414],\n",
       "       [0.45672673],\n",
       "       [0.21439436],\n",
       "       [0.49893066],\n",
       "       [0.72380375],\n",
       "       [0.47597174],\n",
       "       [0.53430602],\n",
       "       [0.69953618],\n",
       "       [0.40905353],\n",
       "       [0.42634618],\n",
       "       [0.64234067],\n",
       "       [0.4237175 ],\n",
       "       [0.54907212],\n",
       "       [0.5222931 ],\n",
       "       [0.30935321],\n",
       "       [0.37643596],\n",
       "       [0.56429808],\n",
       "       [0.56275857],\n",
       "       [0.39694511],\n",
       "       [0.53113416],\n",
       "       [0.61816285],\n",
       "       [0.29231919],\n",
       "       [0.73184274],\n",
       "       [0.4362737 ],\n",
       "       [0.41613807],\n",
       "       [0.67273869],\n",
       "       [0.76168793],\n",
       "       [0.65775822],\n",
       "       [0.3854533 ],\n",
       "       [0.61236387],\n",
       "       [0.58164331],\n",
       "       [0.39802597],\n",
       "       [0.54529522],\n",
       "       [0.28930803],\n",
       "       [0.72629843],\n",
       "       [0.38204913],\n",
       "       [0.68033622],\n",
       "       [0.60453629],\n",
       "       [0.37815253],\n",
       "       [0.47470876],\n",
       "       [0.65035196],\n",
       "       [0.24788603],\n",
       "       [0.63371047],\n",
       "       [0.54888405],\n",
       "       [0.48791067],\n",
       "       [0.46027877],\n",
       "       [0.76253593],\n",
       "       [0.30644588],\n",
       "       [0.79707352],\n",
       "       [0.40664378],\n",
       "       [0.47773971],\n",
       "       [0.19154167],\n",
       "       [0.86759109],\n",
       "       [0.48228989],\n",
       "       [0.41040247],\n",
       "       [0.30168732],\n",
       "       [0.77280198],\n",
       "       [0.50863303],\n",
       "       [0.49805458],\n",
       "       [0.14824364],\n",
       "       [0.57734658],\n",
       "       [0.7427002 ],\n",
       "       [0.4615406 ],\n",
       "       [0.52679628],\n",
       "       [0.39967091],\n",
       "       [0.34882593],\n",
       "       [0.3051776 ],\n",
       "       [0.60642838],\n",
       "       [0.30614901],\n",
       "       [0.4287247 ],\n",
       "       [0.41091372],\n",
       "       [0.44492764],\n",
       "       [0.74688327],\n",
       "       [0.5558489 ],\n",
       "       [0.43795845],\n",
       "       [0.571387  ],\n",
       "       [0.31561446],\n",
       "       [0.54534475],\n",
       "       [0.37724541],\n",
       "       [0.47754279],\n",
       "       [0.55657526],\n",
       "       [0.51540401],\n",
       "       [0.32481193],\n",
       "       [0.32687852],\n",
       "       [0.37288737],\n",
       "       [0.28900791],\n",
       "       [0.6538108 ],\n",
       "       [0.46675557],\n",
       "       [0.58506904],\n",
       "       [0.36510463],\n",
       "       [0.49152498],\n",
       "       [0.42443705],\n",
       "       [0.45278122],\n",
       "       [0.21316327],\n",
       "       [0.4747199 ],\n",
       "       [0.42114943],\n",
       "       [0.27669569],\n",
       "       [0.60775236],\n",
       "       [0.81194719],\n",
       "       [0.47759537],\n",
       "       [0.56687473],\n",
       "       [0.25779114],\n",
       "       [0.54746234],\n",
       "       [0.71808681],\n",
       "       [0.51086565],\n",
       "       [0.        ],\n",
       "       [0.52129727],\n",
       "       [0.33756622],\n",
       "       [0.56035434],\n",
       "       [0.51865585],\n",
       "       [0.43805795],\n",
       "       [0.3726359 ],\n",
       "       [0.2895323 ],\n",
       "       [0.41187412],\n",
       "       [0.499023  ],\n",
       "       [0.59220313],\n",
       "       [0.61366712],\n",
       "       [0.73808769],\n",
       "       [0.27413582],\n",
       "       [0.26177748],\n",
       "       [0.54900684],\n",
       "       [0.26992761],\n",
       "       [0.85449963],\n",
       "       [0.55003734],\n",
       "       [0.39949626],\n",
       "       [0.50001154],\n",
       "       [0.36815842],\n",
       "       [0.6502447 ],\n",
       "       [0.55469987],\n",
       "       [0.37779655],\n",
       "       [0.38757338],\n",
       "       [0.62128001],\n",
       "       [0.62041473],\n",
       "       [0.17564949],\n",
       "       [0.50726309],\n",
       "       [0.65320953],\n",
       "       [0.6691568 ],\n",
       "       [0.54146119],\n",
       "       [0.45760058],\n",
       "       [0.33173992],\n",
       "       [0.46457217],\n",
       "       [0.7118085 ],\n",
       "       [0.4556686 ],\n",
       "       [0.61669253],\n",
       "       [0.71996731],\n",
       "       [0.54592485],\n",
       "       [0.77729956],\n",
       "       [0.56199216],\n",
       "       [0.31678049],\n",
       "       [0.77672238],\n",
       "       [0.51326977],\n",
       "       [0.50855247]])"
      ]
     },
     "execution_count": 117,
     "metadata": {},
     "output_type": "execute_result"
    }
   ],
   "source": [
    "y"
   ]
  },
  {
   "cell_type": "code",
   "execution_count": null,
   "metadata": {},
   "outputs": [],
   "source": []
  },
  {
   "cell_type": "markdown",
   "metadata": {
    "id": "QL6cexP2Xlr9"
   },
   "source": [
    "### y 도 피처 스케일링 하겠습니다. X 처럼 y도 노멀라이징 하시오."
   ]
  },
  {
   "cell_type": "code",
   "execution_count": null,
   "metadata": {
    "id": "pgq2-ThbGQe2"
   },
   "outputs": [],
   "source": [
    "# 노멀라이징 = 표준화 한다 정상화 한다"
   ]
  },
  {
   "cell_type": "code",
   "execution_count": 148,
   "metadata": {
    "id": "uP4b7L1LGQVM"
   },
   "outputs": [
    {
     "data": {
      "text/plain": [
       "array([[0.        , 0.4370344 , 0.53515116, 0.57836085, 0.22342985],\n",
       "       [0.        , 0.41741247, 0.58308616, 0.476028  , 0.52140195],\n",
       "       [1.        , 0.46305795, 0.42248189, 0.55579674, 0.63108896],\n",
       "       ...,\n",
       "       [1.        , 0.67886994, 0.61110973, 0.52822145, 0.75972584],\n",
       "       [1.        , 0.78321017, 0.37264988, 0.69914746, 0.3243129 ],\n",
       "       [1.        , 0.53462305, 0.51713347, 0.46690159, 0.45198622]])"
      ]
     },
     "execution_count": 148,
     "metadata": {},
     "output_type": "execute_result"
    }
   ],
   "source": [
    "X"
   ]
  },
  {
   "cell_type": "code",
   "execution_count": 64,
   "metadata": {
    "id": "eSpTKt7uGQLr"
   },
   "outputs": [
    {
     "data": {
      "text/plain": [
       "array([[0.37072477],\n",
       "       [0.50866938],\n",
       "       [0.47782689],\n",
       "       [0.82285018],\n",
       "       [0.66078116],\n",
       "       [0.67059152],\n",
       "       [0.28064374],\n",
       "       [0.54133778],\n",
       "       [0.54948752],\n",
       "       [0.4111198 ],\n",
       "       [0.70486638],\n",
       "       [0.46885649],\n",
       "       [0.27746526],\n",
       "       [0.56702642],\n",
       "       [0.57056385],\n",
       "       [0.61996151],\n",
       "       [0.46217916],\n",
       "       [0.49157341],\n",
       "       [0.50188722],\n",
       "       [0.64545808],\n",
       "       [0.59339372],\n",
       "       [0.48453965],\n",
       "       [0.53860366],\n",
       "       [0.53007738],\n",
       "       [0.50814651],\n",
       "       [0.49841668],\n",
       "       [0.3966416 ],\n",
       "       [0.56467566],\n",
       "       [0.6950749 ],\n",
       "       [0.49287831],\n",
       "       [0.12090943],\n",
       "       [0.50211776],\n",
       "       [0.80794216],\n",
       "       [0.62661214],\n",
       "       [0.43394857],\n",
       "       [0.60017103],\n",
       "       [0.42223485],\n",
       "       [0.01538345],\n",
       "       [0.37927499],\n",
       "       [0.64539707],\n",
       "       [0.51838974],\n",
       "       [0.45869677],\n",
       "       [0.26804521],\n",
       "       [0.2650104 ],\n",
       "       [0.84054134],\n",
       "       [0.84401542],\n",
       "       [0.35515157],\n",
       "       [0.406246  ],\n",
       "       [0.40680623],\n",
       "       [0.55963883],\n",
       "       [0.2561583 ],\n",
       "       [0.77096325],\n",
       "       [0.55305289],\n",
       "       [0.5264948 ],\n",
       "       [0.3236476 ],\n",
       "       [0.55070832],\n",
       "       [0.54057623],\n",
       "       [0.45669016],\n",
       "       [0.41053254],\n",
       "       [0.33433524],\n",
       "       [0.39926954],\n",
       "       [0.5420261 ],\n",
       "       [0.57366948],\n",
       "       [0.43793831],\n",
       "       [0.46897896],\n",
       "       [0.61908354],\n",
       "       [0.55076214],\n",
       "       [0.48846357],\n",
       "       [0.61560519],\n",
       "       [0.56891394],\n",
       "       [0.30761974],\n",
       "       [0.56863909],\n",
       "       [0.46343171],\n",
       "       [0.50787179],\n",
       "       [0.61959897],\n",
       "       [0.59095889],\n",
       "       [0.45573492],\n",
       "       [0.49908055],\n",
       "       [0.4155271 ],\n",
       "       [0.45382041],\n",
       "       [0.41407692],\n",
       "       [0.45713635],\n",
       "       [0.30133556],\n",
       "       [0.47019791],\n",
       "       [0.42256447],\n",
       "       [0.14863766],\n",
       "       [0.50939895],\n",
       "       [0.38056275],\n",
       "       [0.59067519],\n",
       "       [0.05486922],\n",
       "       [0.4219045 ],\n",
       "       [0.59466257],\n",
       "       [0.23904164],\n",
       "       [0.72775122],\n",
       "       [0.63486085],\n",
       "       [0.43668833],\n",
       "       [0.74075381],\n",
       "       [0.42962519],\n",
       "       [0.61231998],\n",
       "       [0.46743215],\n",
       "       [0.68227386],\n",
       "       [0.19270023],\n",
       "       [0.34705263],\n",
       "       [0.31747576],\n",
       "       [0.72480623],\n",
       "       [0.51744133],\n",
       "       [0.36343414],\n",
       "       [0.36116341],\n",
       "       [0.26178477],\n",
       "       [0.64750739],\n",
       "       [0.56538749],\n",
       "       [0.70197943],\n",
       "       [0.68037083],\n",
       "       [0.60481233],\n",
       "       [0.29916352],\n",
       "       [0.81860421],\n",
       "       [0.47053558],\n",
       "       [0.45706646],\n",
       "       [0.47313925],\n",
       "       [0.35945319],\n",
       "       [0.46779854],\n",
       "       [0.46357095],\n",
       "       [0.71008706],\n",
       "       [0.59721993],\n",
       "       [0.64444254],\n",
       "       [0.53723155],\n",
       "       [0.78016463],\n",
       "       [0.39792327],\n",
       "       [0.61500514],\n",
       "       [0.49297475],\n",
       "       [0.59931944],\n",
       "       [0.4118826 ],\n",
       "       [0.43333307],\n",
       "       [0.43771229],\n",
       "       [0.33988067],\n",
       "       [0.55806565],\n",
       "       [0.54497514],\n",
       "       [0.42831636],\n",
       "       [0.344062  ],\n",
       "       [0.33380674],\n",
       "       [0.75865395],\n",
       "       [0.28768775],\n",
       "       [0.49885366],\n",
       "       [0.3893741 ],\n",
       "       [0.62895125],\n",
       "       [0.52080458],\n",
       "       [0.41555485],\n",
       "       [0.54839351],\n",
       "       [0.72143981],\n",
       "       [0.42155708],\n",
       "       [0.26493265],\n",
       "       [0.54372318],\n",
       "       [0.46981253],\n",
       "       [0.31409216],\n",
       "       [0.46999496],\n",
       "       [0.32165106],\n",
       "       [0.24646921],\n",
       "       [0.41088501],\n",
       "       [0.42863953],\n",
       "       [0.40442699],\n",
       "       [0.67782275],\n",
       "       [0.52751195],\n",
       "       [0.49091635],\n",
       "       [0.65623527],\n",
       "       [0.47160596],\n",
       "       [0.44900269],\n",
       "       [0.16412978],\n",
       "       [0.37237754],\n",
       "       [0.38187033],\n",
       "       [0.41101838],\n",
       "       [0.45107076],\n",
       "       [0.26605566],\n",
       "       [0.48907732],\n",
       "       [0.68212351],\n",
       "       [0.45217002],\n",
       "       [0.56409653],\n",
       "       [0.45444407],\n",
       "       [0.78232624],\n",
       "       [0.28242388],\n",
       "       [0.3059129 ],\n",
       "       [0.41919878],\n",
       "       [0.42720002],\n",
       "       [0.33251345],\n",
       "       [0.69078257],\n",
       "       [0.63925743],\n",
       "       [0.38927052],\n",
       "       [0.42988917],\n",
       "       [0.47856826],\n",
       "       [0.73050372],\n",
       "       [0.52648517],\n",
       "       [0.67013948],\n",
       "       [0.47569515],\n",
       "       [0.40675569],\n",
       "       [0.50997782],\n",
       "       [0.665203  ],\n",
       "       [0.58387492],\n",
       "       [0.57353959],\n",
       "       [0.31967601],\n",
       "       [0.56647918],\n",
       "       [0.52378641],\n",
       "       [0.38150608],\n",
       "       [0.48259225],\n",
       "       [0.44592089],\n",
       "       [0.60117759],\n",
       "       [0.50035241],\n",
       "       [0.55660425],\n",
       "       [0.51838459],\n",
       "       [0.6457801 ],\n",
       "       [0.33068236],\n",
       "       [0.46773647],\n",
       "       [0.64966102],\n",
       "       [0.54907635],\n",
       "       [0.48459001],\n",
       "       [0.50109082],\n",
       "       [0.40485272],\n",
       "       [0.5465529 ],\n",
       "       [0.5048829 ],\n",
       "       [0.53018684],\n",
       "       [0.66991531],\n",
       "       [0.46018938],\n",
       "       [0.73406295],\n",
       "       [0.39864179],\n",
       "       [0.53369389],\n",
       "       [0.66841888],\n",
       "       [0.51422109],\n",
       "       [0.26233016],\n",
       "       [0.52661271],\n",
       "       [0.28171911],\n",
       "       [0.5965593 ],\n",
       "       [0.46494647],\n",
       "       [0.61485077],\n",
       "       [0.49905236],\n",
       "       [0.52189581],\n",
       "       [0.69345654],\n",
       "       [0.47873651],\n",
       "       [0.58735466],\n",
       "       [0.53534616],\n",
       "       [0.56901367],\n",
       "       [0.47883335],\n",
       "       [0.49908428],\n",
       "       [0.5257114 ],\n",
       "       [0.53305254],\n",
       "       [0.66900144],\n",
       "       [0.47568675],\n",
       "       [0.61005611],\n",
       "       [0.3540794 ],\n",
       "       [0.72905982],\n",
       "       [0.80505204],\n",
       "       [0.31289637],\n",
       "       [0.523032  ],\n",
       "       [0.67567861],\n",
       "       [0.2138602 ],\n",
       "       [0.56450168],\n",
       "       [0.39568902],\n",
       "       [0.4845291 ],\n",
       "       [0.28298776],\n",
       "       [0.55421359],\n",
       "       [0.34170423],\n",
       "       [0.45531219],\n",
       "       [0.56811431],\n",
       "       [0.5972613 ],\n",
       "       [0.31338011],\n",
       "       [0.48730944],\n",
       "       [0.55352142],\n",
       "       [0.63399262],\n",
       "       [0.41795296],\n",
       "       [0.39544824],\n",
       "       [0.40771621],\n",
       "       [0.45521229],\n",
       "       [0.81533714],\n",
       "       [0.04981603],\n",
       "       [0.43026944],\n",
       "       [0.61562087],\n",
       "       [0.6268025 ],\n",
       "       [0.60728039],\n",
       "       [0.41838955],\n",
       "       [0.54964825],\n",
       "       [0.71104101],\n",
       "       [0.37903726],\n",
       "       [0.45118709],\n",
       "       [0.60183344],\n",
       "       [0.62002621],\n",
       "       [0.33560612],\n",
       "       [0.28757249],\n",
       "       [0.6825565 ],\n",
       "       [0.58368485],\n",
       "       [0.45880771],\n",
       "       [0.52693631],\n",
       "       [0.54380447],\n",
       "       [0.8715253 ],\n",
       "       [0.65554063],\n",
       "       [0.63167261],\n",
       "       [0.4352791 ],\n",
       "       [0.50332973],\n",
       "       [0.5343264 ],\n",
       "       [0.27381426],\n",
       "       [0.41053523],\n",
       "       [0.47531745],\n",
       "       [0.2911385 ],\n",
       "       [0.76110147],\n",
       "       [0.76406707],\n",
       "       [0.46931782],\n",
       "       [0.49948317],\n",
       "       [0.81820046],\n",
       "       [0.18438195],\n",
       "       [0.43693203],\n",
       "       [0.66298048],\n",
       "       [0.56960734],\n",
       "       [0.47179899],\n",
       "       [0.39556023],\n",
       "       [0.60375334],\n",
       "       [0.37628608],\n",
       "       [0.43511174],\n",
       "       [0.37719946],\n",
       "       [0.47698891],\n",
       "       [1.        ],\n",
       "       [0.72573208],\n",
       "       [0.71491172],\n",
       "       [0.43107389],\n",
       "       [0.69917902],\n",
       "       [0.61949147],\n",
       "       [0.58685749],\n",
       "       [0.71302854],\n",
       "       [0.19197549],\n",
       "       [0.4526464 ],\n",
       "       [0.62671101],\n",
       "       [0.38794277],\n",
       "       [0.48597146],\n",
       "       [0.3119255 ],\n",
       "       [0.3172683 ],\n",
       "       [0.31103807],\n",
       "       [0.51220225],\n",
       "       [0.22891454],\n",
       "       [0.43505067],\n",
       "       [0.60902435],\n",
       "       [0.43537481],\n",
       "       [0.51912329],\n",
       "       [0.30740999],\n",
       "       [0.42849005],\n",
       "       [0.36167369],\n",
       "       [0.20447774],\n",
       "       [0.27793926],\n",
       "       [0.70558126],\n",
       "       [0.58012487],\n",
       "       [0.3754806 ],\n",
       "       [0.52673735],\n",
       "       [0.32804493],\n",
       "       [0.56449711],\n",
       "       [0.56829414],\n",
       "       [0.45672673],\n",
       "       [0.21439436],\n",
       "       [0.49893066],\n",
       "       [0.72380375],\n",
       "       [0.47597174],\n",
       "       [0.53430602],\n",
       "       [0.69953618],\n",
       "       [0.40905353],\n",
       "       [0.42634618],\n",
       "       [0.64234067],\n",
       "       [0.4237175 ],\n",
       "       [0.54907212],\n",
       "       [0.5222931 ],\n",
       "       [0.30935321],\n",
       "       [0.37643596],\n",
       "       [0.56429808],\n",
       "       [0.56275857],\n",
       "       [0.39694511],\n",
       "       [0.53113416],\n",
       "       [0.61816285],\n",
       "       [0.29231919],\n",
       "       [0.73184274],\n",
       "       [0.4362737 ],\n",
       "       [0.41613807],\n",
       "       [0.67273869],\n",
       "       [0.76168793],\n",
       "       [0.65775822],\n",
       "       [0.3854533 ],\n",
       "       [0.61236387],\n",
       "       [0.58164331],\n",
       "       [0.39802597],\n",
       "       [0.54529522],\n",
       "       [0.28930803],\n",
       "       [0.72629843],\n",
       "       [0.38204913],\n",
       "       [0.68033622],\n",
       "       [0.60453629],\n",
       "       [0.37815253],\n",
       "       [0.47470876],\n",
       "       [0.65035196],\n",
       "       [0.24788603],\n",
       "       [0.63371047],\n",
       "       [0.54888405],\n",
       "       [0.48791067],\n",
       "       [0.46027877],\n",
       "       [0.76253593],\n",
       "       [0.30644588],\n",
       "       [0.79707352],\n",
       "       [0.40664378],\n",
       "       [0.47773971],\n",
       "       [0.19154167],\n",
       "       [0.86759109],\n",
       "       [0.48228989],\n",
       "       [0.41040247],\n",
       "       [0.30168732],\n",
       "       [0.77280198],\n",
       "       [0.50863303],\n",
       "       [0.49805458],\n",
       "       [0.14824364],\n",
       "       [0.57734658],\n",
       "       [0.7427002 ],\n",
       "       [0.4615406 ],\n",
       "       [0.52679628],\n",
       "       [0.39967091],\n",
       "       [0.34882593],\n",
       "       [0.3051776 ],\n",
       "       [0.60642838],\n",
       "       [0.30614901],\n",
       "       [0.4287247 ],\n",
       "       [0.41091372],\n",
       "       [0.44492764],\n",
       "       [0.74688327],\n",
       "       [0.5558489 ],\n",
       "       [0.43795845],\n",
       "       [0.571387  ],\n",
       "       [0.31561446],\n",
       "       [0.54534475],\n",
       "       [0.37724541],\n",
       "       [0.47754279],\n",
       "       [0.55657526],\n",
       "       [0.51540401],\n",
       "       [0.32481193],\n",
       "       [0.32687852],\n",
       "       [0.37288737],\n",
       "       [0.28900791],\n",
       "       [0.6538108 ],\n",
       "       [0.46675557],\n",
       "       [0.58506904],\n",
       "       [0.36510463],\n",
       "       [0.49152498],\n",
       "       [0.42443705],\n",
       "       [0.45278122],\n",
       "       [0.21316327],\n",
       "       [0.4747199 ],\n",
       "       [0.42114943],\n",
       "       [0.27669569],\n",
       "       [0.60775236],\n",
       "       [0.81194719],\n",
       "       [0.47759537],\n",
       "       [0.56687473],\n",
       "       [0.25779114],\n",
       "       [0.54746234],\n",
       "       [0.71808681],\n",
       "       [0.51086565],\n",
       "       [0.        ],\n",
       "       [0.52129727],\n",
       "       [0.33756622],\n",
       "       [0.56035434],\n",
       "       [0.51865585],\n",
       "       [0.43805795],\n",
       "       [0.3726359 ],\n",
       "       [0.2895323 ],\n",
       "       [0.41187412],\n",
       "       [0.499023  ],\n",
       "       [0.59220313],\n",
       "       [0.61366712],\n",
       "       [0.73808769],\n",
       "       [0.27413582],\n",
       "       [0.26177748],\n",
       "       [0.54900684],\n",
       "       [0.26992761],\n",
       "       [0.85449963],\n",
       "       [0.55003734],\n",
       "       [0.39949626],\n",
       "       [0.50001154],\n",
       "       [0.36815842],\n",
       "       [0.6502447 ],\n",
       "       [0.55469987],\n",
       "       [0.37779655],\n",
       "       [0.38757338],\n",
       "       [0.62128001],\n",
       "       [0.62041473],\n",
       "       [0.17564949],\n",
       "       [0.50726309],\n",
       "       [0.65320953],\n",
       "       [0.6691568 ],\n",
       "       [0.54146119],\n",
       "       [0.45760058],\n",
       "       [0.33173992],\n",
       "       [0.46457217],\n",
       "       [0.7118085 ],\n",
       "       [0.4556686 ],\n",
       "       [0.61669253],\n",
       "       [0.71996731],\n",
       "       [0.54592485],\n",
       "       [0.77729956],\n",
       "       [0.56199216],\n",
       "       [0.31678049],\n",
       "       [0.77672238],\n",
       "       [0.51326977],\n",
       "       [0.50855247]])"
      ]
     },
     "execution_count": 64,
     "metadata": {},
     "output_type": "execute_result"
    }
   ],
   "source": [
    "y"
   ]
  },
  {
   "cell_type": "markdown",
   "metadata": {
    "id": "tdIyXRRWRtMx"
   },
   "source": [
    "# STEP#4: TRAINING THE MODEL"
   ]
  },
  {
   "cell_type": "markdown",
   "metadata": {
    "id": "rJrL9OePX2QV"
   },
   "source": [
    "### 트레이닝셋과 테스트셋으로 분리하시오. (테스트 사이즈는 25%로 하며, 동일 결과를 위해 랜덤스테이트는 50 으로 셋팅하시오.)"
   ]
  },
  {
   "cell_type": "code",
   "execution_count": null,
   "metadata": {
    "id": "EeRpttvUGSn9"
   },
   "outputs": [],
   "source": [
    "# 리니어 리그레션으로 모델링하고 학습한후, 평가해 주세요"
   ]
  },
  {
   "cell_type": "code",
   "execution_count": 65,
   "metadata": {},
   "outputs": [],
   "source": [
    "from sklearn.model_selection import train_test_split"
   ]
  },
  {
   "cell_type": "code",
   "execution_count": 149,
   "metadata": {},
   "outputs": [],
   "source": [
    "X_train, X_test, y_train, y_test = train_test_split(X, y, test_size= 0.25, random_state= 50 )"
   ]
  },
  {
   "cell_type": "code",
   "execution_count": 119,
   "metadata": {},
   "outputs": [
    {
     "data": {
      "text/plain": [
       "(125, 5)"
      ]
     },
     "execution_count": 119,
     "metadata": {},
     "output_type": "execute_result"
    }
   ],
   "source": [
    "X_test.shape"
   ]
  },
  {
   "cell_type": "code",
   "execution_count": 120,
   "metadata": {},
   "outputs": [
    {
     "data": {
      "text/plain": [
       "(125, 1)"
      ]
     },
     "execution_count": 120,
     "metadata": {},
     "output_type": "execute_result"
    }
   ],
   "source": [
    "y_test.shape"
   ]
  },
  {
   "cell_type": "code",
   "execution_count": 71,
   "metadata": {},
   "outputs": [],
   "source": [
    "from sklearn.linear_model import LinearRegression"
   ]
  },
  {
   "cell_type": "code",
   "execution_count": 150,
   "metadata": {},
   "outputs": [],
   "source": [
    "regressor = LinearRegression()"
   ]
  },
  {
   "cell_type": "code",
   "execution_count": 151,
   "metadata": {},
   "outputs": [
    {
     "data": {
      "text/plain": [
       "LinearRegression()"
      ]
     },
     "execution_count": 151,
     "metadata": {},
     "output_type": "execute_result"
    }
   ],
   "source": [
    "regressor.fit(X_train, y_train)"
   ]
  },
  {
   "cell_type": "code",
   "execution_count": 123,
   "metadata": {},
   "outputs": [
    {
     "data": {
      "text/plain": [
       "array([[5.12227270e-01],\n",
       "       [7.61713283e-01],\n",
       "       [6.53804452e-01],\n",
       "       [5.34310612e-01],\n",
       "       [5.26774100e-01],\n",
       "       [2.13149796e-01],\n",
       "       [5.68122150e-01],\n",
       "       [4.27201611e-01],\n",
       "       [5.60360295e-01],\n",
       "       [6.55559396e-01],\n",
       "       [5.30082543e-01],\n",
       "       [4.63587047e-01],\n",
       "       [4.28511279e-01],\n",
       "       [3.35625386e-01],\n",
       "       [5.33688786e-01],\n",
       "       [1.84376209e-01],\n",
       "       [5.45296344e-01],\n",
       "       [6.12297579e-01],\n",
       "       [5.41454208e-01],\n",
       "       [6.06433941e-01],\n",
       "       [4.60204285e-01],\n",
       "       [5.34329032e-01],\n",
       "       [2.68040516e-01],\n",
       "       [8.67565790e-01],\n",
       "       [5.90615314e-01],\n",
       "       [4.88455434e-01],\n",
       "       [6.72753644e-01],\n",
       "       [4.29632720e-01],\n",
       "       [6.68419915e-01],\n",
       "       [5.21310876e-01],\n",
       "       [6.01188739e-01],\n",
       "       [5.09411779e-01],\n",
       "       [7.18081945e-01],\n",
       "       [5.15402836e-01],\n",
       "       [5.49461282e-01],\n",
       "       [6.01860016e-01],\n",
       "       [6.80313143e-01],\n",
       "       [5.20774995e-01],\n",
       "       [4.33949856e-01],\n",
       "       [6.15621620e-01],\n",
       "       [4.67816210e-01],\n",
       "       [3.31766847e-01],\n",
       "       [2.14395555e-01],\n",
       "       [6.82284621e-01],\n",
       "       [5.08663923e-01],\n",
       "       [6.44475042e-01],\n",
       "       [5.53566653e-01],\n",
       "       [4.68868281e-01],\n",
       "       [3.17300319e-01],\n",
       "       [4.75322296e-01],\n",
       "       [7.26294798e-01],\n",
       "       [7.58665680e-01],\n",
       "       [3.77153016e-01],\n",
       "       [4.24404919e-01],\n",
       "       [2.62343605e-01],\n",
       "       [5.64083765e-01],\n",
       "       [6.34011939e-01],\n",
       "       [5.01086948e-01],\n",
       "       [5.64530689e-01],\n",
       "       [4.99066909e-01],\n",
       "       [4.10857349e-01],\n",
       "       [5.08136195e-01],\n",
       "       [6.49662894e-01],\n",
       "       [2.76698541e-01],\n",
       "       [4.10916914e-01],\n",
       "       [3.13394424e-01],\n",
       "       [4.62160128e-01],\n",
       "       [5.48867871e-01],\n",
       "       [6.77815015e-01],\n",
       "       [1.91541271e-01],\n",
       "       [3.55151159e-01],\n",
       "       [2.13843491e-01],\n",
       "       [4.78742577e-01],\n",
       "       [3.41687584e-01],\n",
       "       [4.70499832e-01],\n",
       "       [3.97907165e-01],\n",
       "       [4.92842743e-01],\n",
       "       [2.32974309e-05],\n",
       "       [6.26729974e-01],\n",
       "       [3.79286878e-01],\n",
       "       [3.61167516e-01],\n",
       "       [6.80375863e-01],\n",
       "       [1.64153302e-01],\n",
       "       [4.90932326e-01],\n",
       "       [6.14876203e-01],\n",
       "       [4.31094119e-01],\n",
       "       [2.28903501e-01],\n",
       "       [4.98408352e-01],\n",
       "       [4.99496148e-01],\n",
       "       [2.64915909e-01],\n",
       "       [3.15639004e-01],\n",
       "       [3.65089232e-01],\n",
       "       [4.98045651e-01],\n",
       "       [7.21456638e-01],\n",
       "       [4.89082249e-01],\n",
       "       [8.18586013e-01],\n",
       "       [3.47010783e-01],\n",
       "       [6.19053924e-01],\n",
       "       [3.80542054e-01],\n",
       "       [3.12887296e-01],\n",
       "       [2.92359824e-01],\n",
       "       [5.64282846e-01],\n",
       "       [6.99555349e-01],\n",
       "       [2.99178957e-01],\n",
       "       [6.99190283e-01],\n",
       "       [5.61987906e-01],\n",
       "       [3.97992140e-01],\n",
       "       [2.73802043e-01],\n",
       "       [6.70200183e-01],\n",
       "       [6.07763487e-01],\n",
       "       [5.26621932e-01],\n",
       "       [5.43726493e-01],\n",
       "       [4.51094641e-01],\n",
       "       [2.69945600e-01],\n",
       "       [5.07252006e-01],\n",
       "       [4.55704465e-01],\n",
       "       [4.84627389e-01],\n",
       "       [7.80161911e-01],\n",
       "       [8.11901717e-01],\n",
       "       [3.11925312e-01],\n",
       "       [3.81839854e-01],\n",
       "       [3.07409359e-01],\n",
       "       [5.93398790e-01],\n",
       "       [4.67418804e-01],\n",
       "       [1.53794195e-02]])"
      ]
     },
     "execution_count": 123,
     "metadata": {},
     "output_type": "execute_result"
    }
   ],
   "source": [
    "regressor.predict(X_test)"
   ]
  },
  {
   "cell_type": "code",
   "execution_count": 124,
   "metadata": {},
   "outputs": [],
   "source": [
    "y_pred = regressor.predict(X_test)"
   ]
  },
  {
   "cell_type": "code",
   "execution_count": 125,
   "metadata": {},
   "outputs": [
    {
     "data": {
      "text/plain": [
       "array([[0.51220225],\n",
       "       [0.76168793],\n",
       "       [0.6538108 ],\n",
       "       [0.53430602],\n",
       "       [0.52673735],\n",
       "       [0.21316327],\n",
       "       [0.56811431],\n",
       "       [0.42720002],\n",
       "       [0.56035434],\n",
       "       [0.65554063],\n",
       "       [0.53007738],\n",
       "       [0.46357095],\n",
       "       [0.42849005],\n",
       "       [0.33560612],\n",
       "       [0.53369389],\n",
       "       [0.18438195],\n",
       "       [0.54529522],\n",
       "       [0.61231998],\n",
       "       [0.54146119],\n",
       "       [0.60642838],\n",
       "       [0.46018938],\n",
       "       [0.5343264 ],\n",
       "       [0.26804521],\n",
       "       [0.86759109],\n",
       "       [0.59067519],\n",
       "       [0.48846357],\n",
       "       [0.67273869],\n",
       "       [0.42962519],\n",
       "       [0.66841888],\n",
       "       [0.52129727],\n",
       "       [0.60117759],\n",
       "       [0.50939895],\n",
       "       [0.71808681],\n",
       "       [0.51540401],\n",
       "       [0.54948752],\n",
       "       [0.60183344],\n",
       "       [0.68033622],\n",
       "       [0.52080458],\n",
       "       [0.43394857],\n",
       "       [0.61562087],\n",
       "       [0.46779854],\n",
       "       [0.33173992],\n",
       "       [0.21439436],\n",
       "       [0.68227386],\n",
       "       [0.50866938],\n",
       "       [0.64444254],\n",
       "       [0.55352142],\n",
       "       [0.46885649],\n",
       "       [0.3172683 ],\n",
       "       [0.47531745],\n",
       "       [0.72629843],\n",
       "       [0.75865395],\n",
       "       [0.37719946],\n",
       "       [0.42443705],\n",
       "       [0.26233016],\n",
       "       [0.56409653],\n",
       "       [0.63399262],\n",
       "       [0.50109082],\n",
       "       [0.56449711],\n",
       "       [0.49908055],\n",
       "       [0.41088501],\n",
       "       [0.50814651],\n",
       "       [0.64966102],\n",
       "       [0.27669569],\n",
       "       [0.41091372],\n",
       "       [0.31338011],\n",
       "       [0.46217916],\n",
       "       [0.54888405],\n",
       "       [0.67782275],\n",
       "       [0.19154167],\n",
       "       [0.35515157],\n",
       "       [0.2138602 ],\n",
       "       [0.47873651],\n",
       "       [0.34170423],\n",
       "       [0.47053558],\n",
       "       [0.39792327],\n",
       "       [0.49287831],\n",
       "       [0.        ],\n",
       "       [0.62671101],\n",
       "       [0.37927499],\n",
       "       [0.36116341],\n",
       "       [0.68037083],\n",
       "       [0.16412978],\n",
       "       [0.49091635],\n",
       "       [0.61485077],\n",
       "       [0.43107389],\n",
       "       [0.22891454],\n",
       "       [0.49841668],\n",
       "       [0.49948317],\n",
       "       [0.26493265],\n",
       "       [0.31561446],\n",
       "       [0.36510463],\n",
       "       [0.49805458],\n",
       "       [0.72143981],\n",
       "       [0.48907732],\n",
       "       [0.81860421],\n",
       "       [0.34705263],\n",
       "       [0.61908354],\n",
       "       [0.38056275],\n",
       "       [0.31289637],\n",
       "       [0.29231919],\n",
       "       [0.56429808],\n",
       "       [0.69953618],\n",
       "       [0.29916352],\n",
       "       [0.69917902],\n",
       "       [0.56199216],\n",
       "       [0.39802597],\n",
       "       [0.27381426],\n",
       "       [0.67013948],\n",
       "       [0.60775236],\n",
       "       [0.52661271],\n",
       "       [0.54372318],\n",
       "       [0.45107076],\n",
       "       [0.26992761],\n",
       "       [0.50726309],\n",
       "       [0.45573492],\n",
       "       [0.48459001],\n",
       "       [0.78016463],\n",
       "       [0.81194719],\n",
       "       [0.3119255 ],\n",
       "       [0.38187033],\n",
       "       [0.30740999],\n",
       "       [0.59339372],\n",
       "       [0.46743215],\n",
       "       [0.01538345]])"
      ]
     },
     "execution_count": 125,
     "metadata": {},
     "output_type": "execute_result"
    }
   ],
   "source": [
    "y_test"
   ]
  },
  {
   "cell_type": "code",
   "execution_count": null,
   "metadata": {},
   "outputs": [],
   "source": [
    "# 리그레이션의 평가는??\n",
    "# MSE 계산하기"
   ]
  },
  {
   "cell_type": "code",
   "execution_count": 129,
   "metadata": {},
   "outputs": [
    {
     "data": {
      "text/plain": [
       "4.1530666637728536e-10"
      ]
     },
     "execution_count": 129,
     "metadata": {},
     "output_type": "execute_result"
    }
   ],
   "source": [
    "# 이것이 error 오차\n",
    "((y_test - y_pred) ** 2).mean()\n",
    "\n",
    "# 평균의 작은숫자가 나온것이 더 성능좋은 인공지능"
   ]
  },
  {
   "cell_type": "code",
   "execution_count": null,
   "metadata": {},
   "outputs": [],
   "source": [
    "# 얘는 y를 최대값최소값해서 피처스케일링해라 한 스케일러\n",
    "scaler_y"
   ]
  },
  {
   "cell_type": "code",
   "execution_count": 130,
   "metadata": {},
   "outputs": [
    {
     "data": {
      "text/plain": [
       "array([[45368.13620317],\n",
       "       [63081.64310173],\n",
       "       [55420.11612655],\n",
       "       [46936.05343149],\n",
       "       [46400.96109063],\n",
       "       [24133.63552028],\n",
       "       [49336.67261964],\n",
       "       [39331.31440266],\n",
       "       [48785.58092518],\n",
       "       [55544.71712462],\n",
       "       [46635.86055926],\n",
       "       [41914.68031853],\n",
       "       [39424.3008    ],\n",
       "       [32829.40241015],\n",
       "       [46891.90379519],\n",
       "       [22090.71084388],\n",
       "       [47716.04039148],\n",
       "       [52473.12808864],\n",
       "       [47443.24874698],\n",
       "       [52056.80980324],\n",
       "       [41674.50420605],\n",
       "       [46937.36125514],\n",
       "       [28030.87666368],\n",
       "       [70597.17109275],\n",
       "       [50933.68731935],\n",
       "       [43680.33580074],\n",
       "       [56765.50870515],\n",
       "       [39503.92312401],\n",
       "       [56457.81398805],\n",
       "       [46013.07218773],\n",
       "       [51684.40050124],\n",
       "       [45168.23634403],\n",
       "       [59983.81807948],\n",
       "       [45593.60138143],\n",
       "       [48011.75101168],\n",
       "       [51732.0611544 ],\n",
       "       [57302.23316403],\n",
       "       [45975.02465965],\n",
       "       [39810.43975712],\n",
       "       [52709.13503062],\n",
       "       [42214.95091565],\n",
       "       [32555.44613137],\n",
       "       [24222.08437427],\n",
       "       [57442.20805653],\n",
       "       [45115.13851754],\n",
       "       [54757.72800944],\n",
       "       [48303.23237703],\n",
       "       [42289.6479693 ],\n",
       "       [31528.3226832 ],\n",
       "       [42747.88302061],\n",
       "       [60566.93063409],\n",
       "       [62865.26329995],\n",
       "       [35777.86412156],\n",
       "       [39132.74925383],\n",
       "       [27626.39598998],\n",
       "       [49049.94732219],\n",
       "       [54014.84765445],\n",
       "       [44577.17334084],\n",
       "       [49081.67891051],\n",
       "       [44433.75050849],\n",
       "       [38170.8718024 ],\n",
       "       [45077.6698747 ],\n",
       "       [55126.06544716],\n",
       "       [28645.59637713],\n",
       "       [38175.10089883],\n",
       "       [31251.00408442],\n",
       "       [41813.3691046 ],\n",
       "       [47969.61884209],\n",
       "       [57124.86605291],\n",
       "       [22599.43021372],\n",
       "       [34215.73225431],\n",
       "       [24182.8878715 ],\n",
       "       [42990.7229949 ],\n",
       "       [33259.81847722],\n",
       "       [42405.48807295],\n",
       "       [37251.40872998],\n",
       "       [43991.83471838],\n",
       "       [ 9001.6541176 ],\n",
       "       [53497.82815811],\n",
       "       [35929.3683603 ],\n",
       "       [34642.89361589],\n",
       "       [57306.68624638],\n",
       "       [20654.88446605],\n",
       "       [43856.19517339],\n",
       "       [52656.21037949],\n",
       "       [39607.6824206 ],\n",
       "       [25252.14857793],\n",
       "       [44386.99301242],\n",
       "       [44464.22648077],\n",
       "       [27809.02953919],\n",
       "       [31410.36925006],\n",
       "       [34921.33550621],\n",
       "       [44361.2411996 ],\n",
       "       [60223.42128663],\n",
       "       [43724.8396441 ],\n",
       "       [67119.6069237 ],\n",
       "       [33637.76557804],\n",
       "       [52952.82858697],\n",
       "       [36018.48586839],\n",
       "       [31214.99802986],\n",
       "       [29757.54747713],\n",
       "       [49064.08204185],\n",
       "       [58668.42980374],\n",
       "       [30241.70596051],\n",
       "       [58642.51011173],\n",
       "       [48901.14133667],\n",
       "       [37257.44194801],\n",
       "       [28439.94506536],\n",
       "       [56584.21296051],\n",
       "       [52151.20759538],\n",
       "       [46390.15716768],\n",
       "       [47604.58099248],\n",
       "       [41027.71948576],\n",
       "       [28166.13759708],\n",
       "       [45014.89244124],\n",
       "       [41355.01700697],\n",
       "       [43408.54460637],\n",
       "       [64391.49568777],\n",
       "       [66645.02193474],\n",
       "       [31146.69716753],\n",
       "       [36110.62960041],\n",
       "       [30826.0645172 ],\n",
       "       [51131.31412447],\n",
       "       [42186.73509163],\n",
       "       [10091.9387817 ]])"
      ]
     },
     "execution_count": 130,
     "metadata": {},
     "output_type": "execute_result"
    }
   ],
   "source": [
    "# 다시 역으로 원래값으로 돌릴 수 있다\n",
    "scaler_y.inverse_transform(y_pred)"
   ]
  },
  {
   "cell_type": "code",
   "execution_count": null,
   "metadata": {},
   "outputs": [],
   "source": []
  },
  {
   "cell_type": "code",
   "execution_count": null,
   "metadata": {},
   "outputs": [],
   "source": [
    "# 유저가 앱을 통해서 데이터를 입력했습니다.\n",
    "# 이 사람은 얼마정도의 차를 구매할수 있을지 예측해서, 그사람에게 맞는 차를\n",
    "# 보여주려 합니다.\n",
    "\n",
    "# 여자이고, 나이는 38살, 연봉은 78,000 달러, 카드빚은 15,000 달러이고,\n",
    "# 자산은 480,000 달러입니다.\n",
    "\n",
    "# 이 사람은 얼마짜리 차를 구매할 여력이 될까요?"
   ]
  },
  {
   "cell_type": "code",
   "execution_count": 133,
   "metadata": {},
   "outputs": [
    {
     "data": {
      "text/html": [
       "<div>\n",
       "<style scoped>\n",
       "    .dataframe tbody tr th:only-of-type {\n",
       "        vertical-align: middle;\n",
       "    }\n",
       "\n",
       "    .dataframe tbody tr th {\n",
       "        vertical-align: top;\n",
       "    }\n",
       "\n",
       "    .dataframe thead th {\n",
       "        text-align: right;\n",
       "    }\n",
       "</style>\n",
       "<table border=\"1\" class=\"dataframe\">\n",
       "  <thead>\n",
       "    <tr style=\"text-align: right;\">\n",
       "      <th></th>\n",
       "      <th>Customer Name</th>\n",
       "      <th>Customer e-mail</th>\n",
       "      <th>Country</th>\n",
       "      <th>Gender</th>\n",
       "      <th>Age</th>\n",
       "      <th>Annual Salary</th>\n",
       "      <th>Credit Card Debt</th>\n",
       "      <th>Net Worth</th>\n",
       "      <th>Car Purchase Amount</th>\n",
       "    </tr>\n",
       "  </thead>\n",
       "  <tbody>\n",
       "    <tr>\n",
       "      <th>0</th>\n",
       "      <td>Martina Avila</td>\n",
       "      <td>cubilia.Curae.Phasellus@quisaccumsanconvallis.edu</td>\n",
       "      <td>Bulgaria</td>\n",
       "      <td>0</td>\n",
       "      <td>41.851720</td>\n",
       "      <td>62812.09301</td>\n",
       "      <td>11609.380910</td>\n",
       "      <td>238961.2505</td>\n",
       "      <td>35321.45877</td>\n",
       "    </tr>\n",
       "    <tr>\n",
       "      <th>1</th>\n",
       "      <td>Harlan Barnes</td>\n",
       "      <td>eu.dolor@diam.co.uk</td>\n",
       "      <td>Belize</td>\n",
       "      <td>0</td>\n",
       "      <td>40.870623</td>\n",
       "      <td>66646.89292</td>\n",
       "      <td>9572.957136</td>\n",
       "      <td>530973.9078</td>\n",
       "      <td>45115.52566</td>\n",
       "    </tr>\n",
       "    <tr>\n",
       "      <th>2</th>\n",
       "      <td>Naomi Rodriquez</td>\n",
       "      <td>vulputate.mauris.sagittis@ametconsectetueradip...</td>\n",
       "      <td>Algeria</td>\n",
       "      <td>1</td>\n",
       "      <td>43.152897</td>\n",
       "      <td>53798.55112</td>\n",
       "      <td>11160.355060</td>\n",
       "      <td>638467.1773</td>\n",
       "      <td>42925.70921</td>\n",
       "    </tr>\n",
       "    <tr>\n",
       "      <th>3</th>\n",
       "      <td>Jade Cunningham</td>\n",
       "      <td>malesuada@dignissim.com</td>\n",
       "      <td>Cook Islands</td>\n",
       "      <td>1</td>\n",
       "      <td>58.271369</td>\n",
       "      <td>79370.03798</td>\n",
       "      <td>14426.164850</td>\n",
       "      <td>548599.0524</td>\n",
       "      <td>67422.36313</td>\n",
       "    </tr>\n",
       "    <tr>\n",
       "      <th>4</th>\n",
       "      <td>Cedric Leach</td>\n",
       "      <td>felis.ullamcorper.viverra@egetmollislectus.net</td>\n",
       "      <td>Brazil</td>\n",
       "      <td>1</td>\n",
       "      <td>57.313749</td>\n",
       "      <td>59729.15130</td>\n",
       "      <td>5358.712177</td>\n",
       "      <td>560304.0671</td>\n",
       "      <td>55915.46248</td>\n",
       "    </tr>\n",
       "  </tbody>\n",
       "</table>\n",
       "</div>"
      ],
      "text/plain": [
       "     Customer Name                                    Customer e-mail  \\\n",
       "0    Martina Avila  cubilia.Curae.Phasellus@quisaccumsanconvallis.edu   \n",
       "1    Harlan Barnes                                eu.dolor@diam.co.uk   \n",
       "2  Naomi Rodriquez  vulputate.mauris.sagittis@ametconsectetueradip...   \n",
       "3  Jade Cunningham                            malesuada@dignissim.com   \n",
       "4     Cedric Leach     felis.ullamcorper.viverra@egetmollislectus.net   \n",
       "\n",
       "        Country  Gender        Age  Annual Salary  Credit Card Debt  \\\n",
       "0      Bulgaria       0  41.851720    62812.09301      11609.380910   \n",
       "1        Belize       0  40.870623    66646.89292       9572.957136   \n",
       "2       Algeria       1  43.152897    53798.55112      11160.355060   \n",
       "3  Cook Islands       1  58.271369    79370.03798      14426.164850   \n",
       "4        Brazil       1  57.313749    59729.15130       5358.712177   \n",
       "\n",
       "     Net Worth  Car Purchase Amount  \n",
       "0  238961.2505          35321.45877  \n",
       "1  530973.9078          45115.52566  \n",
       "2  638467.1773          42925.70921  \n",
       "3  548599.0524          67422.36313  \n",
       "4  560304.0671          55915.46248  "
      ]
     },
     "execution_count": 133,
     "metadata": {},
     "output_type": "execute_result"
    }
   ],
   "source": [
    "car_df.head()"
   ]
  },
  {
   "cell_type": "code",
   "execution_count": 134,
   "metadata": {},
   "outputs": [],
   "source": [
    "new_data = {'Age' : 38 , 'Annual Salary' : 78000 , 'Credit Card Debt' : 15000 , 'Net Worth' : 480000}"
   ]
  },
  {
   "cell_type": "code",
   "execution_count": null,
   "metadata": {},
   "outputs": [],
   "source": [
    "pd.DataFrame"
   ]
  },
  {
   "cell_type": "code",
   "execution_count": null,
   "metadata": {},
   "outputs": [],
   "source": []
  },
  {
   "cell_type": "code",
   "execution_count": null,
   "metadata": {},
   "outputs": [],
   "source": []
  },
  {
   "cell_type": "code",
   "execution_count": null,
   "metadata": {},
   "outputs": [],
   "source": [
    "############"
   ]
  },
  {
   "cell_type": "code",
   "execution_count": 184,
   "metadata": {},
   "outputs": [],
   "source": [
    "new_data = np.array( [0, 38, 78000, 15000, 480000] )"
   ]
  },
  {
   "cell_type": "code",
   "execution_count": null,
   "metadata": {},
   "outputs": [],
   "source": [
    "# 오류남 아직 1차원이라\n",
    "# regressor.predict(new_data)"
   ]
  },
  {
   "cell_type": "code",
   "execution_count": 185,
   "metadata": {},
   "outputs": [
    {
     "data": {
      "text/plain": [
       "(5,)"
      ]
     },
     "execution_count": 185,
     "metadata": {},
     "output_type": "execute_result"
    }
   ],
   "source": [
    "new_data.shape"
   ]
  },
  {
   "cell_type": "code",
   "execution_count": 186,
   "metadata": {},
   "outputs": [],
   "source": [
    "new_data = new_data.reshape(1, 5)"
   ]
  },
  {
   "cell_type": "code",
   "execution_count": 187,
   "metadata": {},
   "outputs": [
    {
     "data": {
      "text/plain": [
       "array([[     0,     38,  78000,  15000, 480000]])"
      ]
     },
     "execution_count": 187,
     "metadata": {},
     "output_type": "execute_result"
    }
   ],
   "source": [
    "new_data"
   ]
  },
  {
   "cell_type": "code",
   "execution_count": 188,
   "metadata": {},
   "outputs": [
    {
     "data": {
      "text/plain": [
       "(1, 5)"
      ]
     },
     "execution_count": 188,
     "metadata": {},
     "output_type": "execute_result"
    }
   ],
   "source": [
    "new_data.shape"
   ]
  },
  {
   "cell_type": "code",
   "execution_count": 173,
   "metadata": {},
   "outputs": [
    {
     "data": {
      "text/plain": [
       "array([0.92570389])"
      ]
     },
     "execution_count": 173,
     "metadata": {},
     "output_type": "execute_result"
    }
   ],
   "source": [
    "# 이건 피처스케일링 안한걸로 했기때문에 안맞는다\n",
    "regressor.predict(new_data)"
   ]
  },
  {
   "cell_type": "code",
   "execution_count": 189,
   "metadata": {},
   "outputs": [
    {
     "data": {
      "text/plain": [
       "array([[0.        , 0.4370344 , 0.53515116, 0.57836085, 0.22342985],\n",
       "       [0.        , 0.41741247, 0.58308616, 0.476028  , 0.52140195],\n",
       "       [1.        , 0.46305795, 0.42248189, 0.55579674, 0.63108896],\n",
       "       ...,\n",
       "       [1.        , 0.67886994, 0.61110973, 0.52822145, 0.75972584],\n",
       "       [1.        , 0.78321017, 0.37264988, 0.69914746, 0.3243129 ],\n",
       "       [1.        , 0.53462305, 0.51713347, 0.46690159, 0.45198622]])"
      ]
     },
     "execution_count": 189,
     "metadata": {},
     "output_type": "execute_result"
    }
   ],
   "source": [
    "X"
   ]
  },
  {
   "cell_type": "code",
   "execution_count": 190,
   "metadata": {},
   "outputs": [],
   "source": [
    "new_data = scaler.transform(new_data)"
   ]
  },
  {
   "cell_type": "code",
   "execution_count": 191,
   "metadata": {},
   "outputs": [
    {
     "data": {
      "text/plain": [
       "array([[0.        , 0.36      , 0.725     , 0.74874372, 0.46938776]])"
      ]
     },
     "execution_count": 191,
     "metadata": {},
     "output_type": "execute_result"
    }
   ],
   "source": [
    "new_data"
   ]
  },
  {
   "cell_type": "code",
   "execution_count": 192,
   "metadata": {},
   "outputs": [],
   "source": [
    "y_pred = regressor.predict(new_data)"
   ]
  },
  {
   "cell_type": "code",
   "execution_count": 193,
   "metadata": {},
   "outputs": [
    {
     "data": {
      "text/plain": [
       "array([0.54043514])"
      ]
     },
     "execution_count": 193,
     "metadata": {},
     "output_type": "execute_result"
    }
   ],
   "source": [
    "y_pred"
   ]
  },
  {
   "cell_type": "code",
   "execution_count": null,
   "metadata": {},
   "outputs": [],
   "source": [
    "## 잘못됨 ##"
   ]
  },
  {
   "cell_type": "code",
   "execution_count": 197,
   "metadata": {},
   "outputs": [
    {
     "ename": "ValueError",
     "evalue": "Expected 2D array, got 1D array instead:\narray=[0.54043514].\nReshape your data either using array.reshape(-1, 1) if your data has a single feature or array.reshape(1, -1) if it contains a single sample.",
     "output_type": "error",
     "traceback": [
      "\u001b[1;31m---------------------------------------------------------------------------\u001b[0m",
      "\u001b[1;31mValueError\u001b[0m                                Traceback (most recent call last)",
      "\u001b[1;32m~\\AppData\\Local\\Temp/ipykernel_5024/1269241543.py\u001b[0m in \u001b[0;36m<module>\u001b[1;34m\u001b[0m\n\u001b[1;32m----> 1\u001b[1;33m \u001b[0mscaler_y\u001b[0m\u001b[1;33m.\u001b[0m\u001b[0minverse_transform\u001b[0m\u001b[1;33m(\u001b[0m\u001b[0my_pred\u001b[0m\u001b[1;33m.\u001b[0m\u001b[0mravel\u001b[0m\u001b[1;33m(\u001b[0m\u001b[1;33m)\u001b[0m\u001b[1;33m)\u001b[0m\u001b[1;33m\u001b[0m\u001b[1;33m\u001b[0m\u001b[0m\n\u001b[0m",
      "\u001b[1;32mC:\\ProgramData\\Anaconda3\\lib\\site-packages\\sklearn\\preprocessing\\_data.py\u001b[0m in \u001b[0;36minverse_transform\u001b[1;34m(self, X)\u001b[0m\n\u001b[0;32m    456\u001b[0m         \u001b[0mcheck_is_fitted\u001b[0m\u001b[1;33m(\u001b[0m\u001b[0mself\u001b[0m\u001b[1;33m)\u001b[0m\u001b[1;33m\u001b[0m\u001b[1;33m\u001b[0m\u001b[0m\n\u001b[0;32m    457\u001b[0m \u001b[1;33m\u001b[0m\u001b[0m\n\u001b[1;32m--> 458\u001b[1;33m         X = check_array(X, copy=self.copy, dtype=FLOAT_DTYPES,\n\u001b[0m\u001b[0;32m    459\u001b[0m                         force_all_finite=\"allow-nan\")\n\u001b[0;32m    460\u001b[0m \u001b[1;33m\u001b[0m\u001b[0m\n",
      "\u001b[1;32mC:\\ProgramData\\Anaconda3\\lib\\site-packages\\sklearn\\utils\\validation.py\u001b[0m in \u001b[0;36minner_f\u001b[1;34m(*args, **kwargs)\u001b[0m\n\u001b[0;32m     61\u001b[0m             \u001b[0mextra_args\u001b[0m \u001b[1;33m=\u001b[0m \u001b[0mlen\u001b[0m\u001b[1;33m(\u001b[0m\u001b[0margs\u001b[0m\u001b[1;33m)\u001b[0m \u001b[1;33m-\u001b[0m \u001b[0mlen\u001b[0m\u001b[1;33m(\u001b[0m\u001b[0mall_args\u001b[0m\u001b[1;33m)\u001b[0m\u001b[1;33m\u001b[0m\u001b[1;33m\u001b[0m\u001b[0m\n\u001b[0;32m     62\u001b[0m             \u001b[1;32mif\u001b[0m \u001b[0mextra_args\u001b[0m \u001b[1;33m<=\u001b[0m \u001b[1;36m0\u001b[0m\u001b[1;33m:\u001b[0m\u001b[1;33m\u001b[0m\u001b[1;33m\u001b[0m\u001b[0m\n\u001b[1;32m---> 63\u001b[1;33m                 \u001b[1;32mreturn\u001b[0m \u001b[0mf\u001b[0m\u001b[1;33m(\u001b[0m\u001b[1;33m*\u001b[0m\u001b[0margs\u001b[0m\u001b[1;33m,\u001b[0m \u001b[1;33m**\u001b[0m\u001b[0mkwargs\u001b[0m\u001b[1;33m)\u001b[0m\u001b[1;33m\u001b[0m\u001b[1;33m\u001b[0m\u001b[0m\n\u001b[0m\u001b[0;32m     64\u001b[0m \u001b[1;33m\u001b[0m\u001b[0m\n\u001b[0;32m     65\u001b[0m             \u001b[1;31m# extra_args > 0\u001b[0m\u001b[1;33m\u001b[0m\u001b[1;33m\u001b[0m\u001b[0m\n",
      "\u001b[1;32mC:\\ProgramData\\Anaconda3\\lib\\site-packages\\sklearn\\utils\\validation.py\u001b[0m in \u001b[0;36mcheck_array\u001b[1;34m(array, accept_sparse, accept_large_sparse, dtype, order, copy, force_all_finite, ensure_2d, allow_nd, ensure_min_samples, ensure_min_features, estimator)\u001b[0m\n\u001b[0;32m    692\u001b[0m             \u001b[1;31m# If input is 1D raise error\u001b[0m\u001b[1;33m\u001b[0m\u001b[1;33m\u001b[0m\u001b[0m\n\u001b[0;32m    693\u001b[0m             \u001b[1;32mif\u001b[0m \u001b[0marray\u001b[0m\u001b[1;33m.\u001b[0m\u001b[0mndim\u001b[0m \u001b[1;33m==\u001b[0m \u001b[1;36m1\u001b[0m\u001b[1;33m:\u001b[0m\u001b[1;33m\u001b[0m\u001b[1;33m\u001b[0m\u001b[0m\n\u001b[1;32m--> 694\u001b[1;33m                 raise ValueError(\n\u001b[0m\u001b[0;32m    695\u001b[0m                     \u001b[1;34m\"Expected 2D array, got 1D array instead:\\narray={}.\\n\"\u001b[0m\u001b[1;33m\u001b[0m\u001b[1;33m\u001b[0m\u001b[0m\n\u001b[0;32m    696\u001b[0m                     \u001b[1;34m\"Reshape your data either using array.reshape(-1, 1) if \"\u001b[0m\u001b[1;33m\u001b[0m\u001b[1;33m\u001b[0m\u001b[0m\n",
      "\u001b[1;31mValueError\u001b[0m: Expected 2D array, got 1D array instead:\narray=[0.54043514].\nReshape your data either using array.reshape(-1, 1) if your data has a single feature or array.reshape(1, -1) if it contains a single sample."
     ]
    }
   ],
   "source": [
    "scaler_y.inverse_transform(y_pred.ravel())"
   ]
  },
  {
   "cell_type": "code",
   "execution_count": null,
   "metadata": {},
   "outputs": [],
   "source": []
  },
  {
   "cell_type": "code",
   "execution_count": null,
   "metadata": {},
   "outputs": [],
   "source": []
  },
  {
   "cell_type": "markdown",
   "metadata": {
    "id": "QLobL_2_GidS"
   },
   "source": [
    "## 1. RandomForest 나 XGBoost 를 이용하시오."
   ]
  },
  {
   "cell_type": "code",
   "execution_count": 161,
   "metadata": {
    "id": "Pq-UotolGu-i"
   },
   "outputs": [],
   "source": [
    "from sklearn.ensemble import RandomForestRegressor"
   ]
  },
  {
   "cell_type": "code",
   "execution_count": 162,
   "metadata": {
    "id": "NGt6--17Gu7X"
   },
   "outputs": [],
   "source": [
    "regressor = RandomForestRegressor(random_state= 50)"
   ]
  },
  {
   "cell_type": "code",
   "execution_count": 159,
   "metadata": {
    "id": "rwSRPDoYGu4j"
   },
   "outputs": [
    {
     "name": "stderr",
     "output_type": "stream",
     "text": [
      "C:\\Users\\-\\AppData\\Local\\Temp/ipykernel_5024/938670134.py:1: DataConversionWarning: A column-vector y was passed when a 1d array was expected. Please change the shape of y to (n_samples,), for example using ravel().\n",
      "  regressor.fit(X_train, y_train)\n"
     ]
    },
    {
     "data": {
      "text/plain": [
       "RandomForestRegressor(random_state=50)"
      ]
     },
     "execution_count": 159,
     "metadata": {},
     "output_type": "execute_result"
    }
   ],
   "source": [
    "regressor.fit(X_train, y_train)\n",
    "\n",
    "# 아까 2차원으로 해놔서 1차원으로 만들어달라는 오류"
   ]
  },
  {
   "cell_type": "code",
   "execution_count": 163,
   "metadata": {
    "id": "6yVEGp2nGuyY"
   },
   "outputs": [
    {
     "data": {
      "text/plain": [
       "RandomForestRegressor(random_state=50)"
      ]
     },
     "execution_count": 163,
     "metadata": {},
     "output_type": "execute_result"
    }
   ],
   "source": [
    "regressor.fit(X_train, y_train.ravel())\n",
    "                    # ravel => 학습시킬때 1차원으로 해라"
   ]
  },
  {
   "cell_type": "code",
   "execution_count": 165,
   "metadata": {
    "id": "fRlZ0mdVGuvR"
   },
   "outputs": [],
   "source": [
    "y_pred = regressor.predict(X_test)"
   ]
  },
  {
   "cell_type": "code",
   "execution_count": null,
   "metadata": {},
   "outputs": [],
   "source": [
    "# y_pred 값도 1차원"
   ]
  },
  {
   "cell_type": "code",
   "execution_count": 168,
   "metadata": {
    "id": "btfa-jB8GusR"
   },
   "outputs": [
    {
     "data": {
      "text/plain": [
       "0.0019071093199875217"
      ]
     },
     "execution_count": 168,
     "metadata": {},
     "output_type": "execute_result"
    }
   ],
   "source": [
    "((y_test.ravel() - y_pred) ** 2).mean()"
   ]
  },
  {
   "cell_type": "code",
   "execution_count": null,
   "metadata": {
    "id": "eK8y-hVoGupG"
   },
   "outputs": [],
   "source": []
  },
  {
   "cell_type": "code",
   "execution_count": null,
   "metadata": {
    "id": "pSgSrrkbGrJU"
   },
   "outputs": [],
   "source": []
  },
  {
   "cell_type": "code",
   "execution_count": null,
   "metadata": {
    "id": "HnO2HipRGq9i"
   },
   "outputs": [],
   "source": []
  },
  {
   "cell_type": "code",
   "execution_count": null,
   "metadata": {
    "id": "BsY1cozXGq8l"
   },
   "outputs": [],
   "source": []
  },
  {
   "cell_type": "code",
   "execution_count": null,
   "metadata": {
    "id": "XHqPii9JGq05"
   },
   "outputs": [],
   "source": []
  },
  {
   "cell_type": "code",
   "execution_count": null,
   "metadata": {
    "id": "ejJmVsUuGqyU"
   },
   "outputs": [],
   "source": []
  },
  {
   "cell_type": "code",
   "execution_count": null,
   "metadata": {
    "id": "OKc-itQ5Gqva"
   },
   "outputs": [],
   "source": []
  },
  {
   "cell_type": "code",
   "execution_count": null,
   "metadata": {
    "id": "j7CrYW6bGqsh"
   },
   "outputs": [],
   "source": []
  },
  {
   "cell_type": "code",
   "execution_count": null,
   "metadata": {
    "id": "oOC7_NCiGqIc"
   },
   "outputs": [],
   "source": []
  },
  {
   "cell_type": "markdown",
   "metadata": {
    "id": "nx5nMvCwGsRy"
   },
   "source": [
    "## 2. 딥러닝을 이용하시오"
   ]
  },
  {
   "cell_type": "markdown",
   "metadata": {
    "id": "CV0PTX7_Yo_-"
   },
   "source": [
    "### 아래 라이브러리를 임포트 하시오"
   ]
  },
  {
   "cell_type": "code",
   "execution_count": null,
   "metadata": {
    "id": "QyL8e6JtYkvT"
   },
   "outputs": [],
   "source": [
    "import tensorflow.keras\n",
    "from keras.models import Sequential\n",
    "from keras.layers import Dense\n",
    "from sklearn.preprocessing import MinMaxScaler"
   ]
  },
  {
   "cell_type": "markdown",
   "metadata": {
    "id": "SJnGmrdTYMTX"
   },
   "source": [
    "### 딥러닝을 이용한 모델링을 하시오."
   ]
  },
  {
   "cell_type": "code",
   "execution_count": null,
   "metadata": {
    "id": "euGsWXokGZ1O"
   },
   "outputs": [],
   "source": []
  },
  {
   "cell_type": "code",
   "execution_count": null,
   "metadata": {
    "id": "Y9XKxOl1GZpc"
   },
   "outputs": [],
   "source": []
  },
  {
   "cell_type": "markdown",
   "metadata": {
    "id": "THd6-J7RYzOq"
   },
   "source": [
    "### 옵티마이저는 'adam' 으로 하고, 로스펑션은 'mean_squared_error' 로 셋팅하여 컴파일 하시오"
   ]
  },
  {
   "cell_type": "code",
   "execution_count": null,
   "metadata": {
    "id": "y3fMGttkGam-"
   },
   "outputs": [],
   "source": []
  },
  {
   "cell_type": "code",
   "execution_count": null,
   "metadata": {
    "id": "qa2UC8TfGaeX"
   },
   "outputs": [],
   "source": []
  },
  {
   "cell_type": "markdown",
   "metadata": {
    "id": "1M-Yb_mHY-Zw"
   },
   "source": [
    "### 학습을 진행하시오."
   ]
  },
  {
   "cell_type": "code",
   "execution_count": null,
   "metadata": {
    "id": "Z1V1-Qo3GbvO"
   },
   "outputs": [],
   "source": []
  },
  {
   "cell_type": "code",
   "execution_count": null,
   "metadata": {
    "id": "jvXuJ-khGbl5"
   },
   "outputs": [],
   "source": []
  },
  {
   "cell_type": "markdown",
   "metadata": {
    "id": "9LoAz60hRtMy"
   },
   "source": [
    "# STEP#5: EVALUATING THE MODEL "
   ]
  },
  {
   "cell_type": "code",
   "execution_count": null,
   "metadata": {
    "id": "hn3P1uTuGg6D"
   },
   "outputs": [],
   "source": []
  },
  {
   "cell_type": "code",
   "execution_count": null,
   "metadata": {
    "id": "0_kjcAR6GgWu"
   },
   "outputs": [],
   "source": []
  },
  {
   "cell_type": "code",
   "execution_count": null,
   "metadata": {
    "id": "OndM-zcuGgKl"
   },
   "outputs": [],
   "source": []
  },
  {
   "cell_type": "markdown",
   "metadata": {
    "id": "v5Nz9chyZfgC"
   },
   "source": [
    "### 테스트셋으로 예측을 해 보시오."
   ]
  },
  {
   "cell_type": "code",
   "execution_count": null,
   "metadata": {
    "id": "6PLVpHxoGh9N"
   },
   "outputs": [],
   "source": []
  },
  {
   "cell_type": "code",
   "execution_count": null,
   "metadata": {
    "id": "wlmn8d3jGh1z"
   },
   "outputs": [],
   "source": []
  },
  {
   "cell_type": "markdown",
   "metadata": {
    "id": "ajTZIActwmXl"
   },
   "source": [
    "### 실제값과 예측값을 plot 으로 나타내시오."
   ]
  },
  {
   "cell_type": "code",
   "execution_count": null,
   "metadata": {
    "id": "WQQlDXtRGi6z"
   },
   "outputs": [],
   "source": []
  },
  {
   "cell_type": "code",
   "execution_count": null,
   "metadata": {
    "id": "LxBLMUixGiyH"
   },
   "outputs": [],
   "source": []
  },
  {
   "cell_type": "markdown",
   "metadata": {
    "id": "jO7KgSTT4UFV"
   },
   "source": [
    "### MSE 를 계산하시오."
   ]
  },
  {
   "cell_type": "code",
   "execution_count": null,
   "metadata": {
    "id": "FC5U-R7_GlW0"
   },
   "outputs": [],
   "source": []
  },
  {
   "cell_type": "code",
   "execution_count": null,
   "metadata": {
    "id": "Uu-uRLK1GlQf"
   },
   "outputs": [],
   "source": []
  },
  {
   "cell_type": "markdown",
   "metadata": {
    "id": "dBvga-cMZop5"
   },
   "source": [
    "### 새로운 고객 데이터가 있습니다. 이 사람은 차량을 얼마정도 구매 가능한지 예측하시오.\n",
    "\n",
    "### 여자이고, 나이는 38, 연봉은 90000,  카드빚은 2000, 순자산은 500000 일때, 어느정도의 차량을 구매할 수 있을지 예측하시오."
   ]
  },
  {
   "cell_type": "code",
   "execution_count": null,
   "metadata": {
    "id": "7zNqna2jyxSE"
   },
   "outputs": [],
   "source": []
  },
  {
   "cell_type": "code",
   "execution_count": null,
   "metadata": {
    "id": "BACq6hFAGsed"
   },
   "outputs": [],
   "source": []
  },
  {
   "cell_type": "code",
   "execution_count": null,
   "metadata": {
    "id": "1vWoE_Ntys_9"
   },
   "outputs": [],
   "source": []
  }
 ],
 "metadata": {
  "colab": {
   "collapsed_sections": [],
   "name": "06. Car Purchase Amount Predictions Using ANNs.ipynb",
   "provenance": []
  },
  "kernelspec": {
   "display_name": "Python 3 (ipykernel)",
   "language": "python",
   "name": "python3"
  },
  "language_info": {
   "codemirror_mode": {
    "name": "ipython",
    "version": 3
   },
   "file_extension": ".py",
   "mimetype": "text/x-python",
   "name": "python",
   "nbconvert_exporter": "python",
   "pygments_lexer": "ipython3",
   "version": "3.9.7"
  }
 },
 "nbformat": 4,
 "nbformat_minor": 1
}
