{
 "cells": [
  {
   "cell_type": "markdown",
   "metadata": {
    "id": "xiaJvX7llU1W"
   },
   "source": [
    "\n",
    "# 영화 추천 시스템 \n",
    "\n"
   ]
  },
  {
   "cell_type": "markdown",
   "metadata": {
    "id": "bsWgk2Y4lU1c"
   },
   "source": [
    "# PROBLEM STATEMENT"
   ]
  },
  {
   "cell_type": "markdown",
   "metadata": {
    "id": "AiDDzCBOlU1d"
   },
   "source": [
    "- 추천시스템은 영화나 노래등을 추천하는데 사용되며, 주로 관심사나 이용 내역을 기반으로 추천한다.\n",
    "- 이 노트북에서는, Item-based Collaborative Filtering 으로 추천시스템을 구현한다.\n",
    "\n",
    "- Dataset MovieLens: https://grouplens.org/datasets/movielens/100k/ \n"
   ]
  },
  {
   "cell_type": "markdown",
   "metadata": {
    "id": "tF0UWe89lU1e"
   },
   "source": [
    "# STEP #0: LIBRARIES IMPORT\n"
   ]
  },
  {
   "cell_type": "code",
   "execution_count": 1,
   "metadata": {
    "executionInfo": {
     "elapsed": 1478,
     "status": "ok",
     "timestamp": 1652334748347,
     "user": {
      "displayName": "권성표",
      "userId": "01241945839262179482"
     },
     "user_tz": -540
    },
    "id": "A_JcDas3lU1e"
   },
   "outputs": [],
   "source": [
    "import pandas as pd\n",
    "import numpy as np\n",
    "import matplotlib.pyplot as plt\n",
    "import seaborn as sns\n",
    "%matplotlib inline"
   ]
  },
  {
   "cell_type": "code",
   "execution_count": 2,
   "metadata": {
    "colab": {
     "base_uri": "https://localhost:8080/"
    },
    "executionInfo": {
     "elapsed": 3959,
     "status": "ok",
     "timestamp": 1652334752955,
     "user": {
      "displayName": "권성표",
      "userId": "01241945839262179482"
     },
     "user_tz": -540
    },
    "id": "AW8LqR9u8EiP",
    "outputId": "41304a35-bc66-4f0f-b995-59f9c353fd3a"
   },
   "outputs": [
    {
     "name": "stdout",
     "output_type": "stream",
     "text": [
      "Drive already mounted at /content/drive; to attempt to forcibly remount, call drive.mount(\"/content/drive\", force_remount=True).\n"
     ]
    }
   ],
   "source": [
    "from google.colab import drive\n",
    "drive.mount('/content/drive')"
   ]
  },
  {
   "cell_type": "code",
   "execution_count": 3,
   "metadata": {
    "executionInfo": {
     "elapsed": 58,
     "status": "ok",
     "timestamp": 1652334752957,
     "user": {
      "displayName": "권성표",
      "userId": "01241945839262179482"
     },
     "user_tz": -540
    },
    "id": "69JVzKC-8AkT"
   },
   "outputs": [],
   "source": [
    "import os\n",
    "os.chdir('/content/drive/MyDrive/Colab Notebooks')"
   ]
  },
  {
   "cell_type": "markdown",
   "metadata": {
    "id": "6Ee4RseElU1f"
   },
   "source": [
    "# STEP #1: IMPORT DATASET"
   ]
  },
  {
   "cell_type": "markdown",
   "metadata": {
    "id": "0V2lQhZ98Cly"
   },
   "source": [
    "### Movie_Id_Titles.csv 파일을 읽으세요."
   ]
  },
  {
   "cell_type": "code",
   "execution_count": 4,
   "metadata": {
    "executionInfo": {
     "elapsed": 59,
     "status": "ok",
     "timestamp": 1652334752959,
     "user": {
      "displayName": "권성표",
      "userId": "01241945839262179482"
     },
     "user_tz": -540
    },
    "id": "8SwdsTHb8HSX"
   },
   "outputs": [],
   "source": [
    "movie_titles_df = pd.read_csv('Movie_Id_Titles.csv')"
   ]
  },
  {
   "cell_type": "code",
   "execution_count": 5,
   "metadata": {
    "colab": {
     "base_uri": "https://localhost:8080/",
     "height": 424
    },
    "executionInfo": {
     "elapsed": 60,
     "status": "ok",
     "timestamp": 1652334752960,
     "user": {
      "displayName": "권성표",
      "userId": "01241945839262179482"
     },
     "user_tz": -540
    },
    "id": "4dIq9RvV8HGY",
    "outputId": "7f7a9b2d-5c8b-4702-cea4-2e70c5179b88"
   },
   "outputs": [
    {
     "data": {
      "text/html": [
       "\n",
       "  <div id=\"df-0c101a41-c22d-4fa5-b6f1-8e18cd013dae\">\n",
       "    <div class=\"colab-df-container\">\n",
       "      <div>\n",
       "<style scoped>\n",
       "    .dataframe tbody tr th:only-of-type {\n",
       "        vertical-align: middle;\n",
       "    }\n",
       "\n",
       "    .dataframe tbody tr th {\n",
       "        vertical-align: top;\n",
       "    }\n",
       "\n",
       "    .dataframe thead th {\n",
       "        text-align: right;\n",
       "    }\n",
       "</style>\n",
       "<table border=\"1\" class=\"dataframe\">\n",
       "  <thead>\n",
       "    <tr style=\"text-align: right;\">\n",
       "      <th></th>\n",
       "      <th>item_id</th>\n",
       "      <th>title</th>\n",
       "    </tr>\n",
       "  </thead>\n",
       "  <tbody>\n",
       "    <tr>\n",
       "      <th>0</th>\n",
       "      <td>1</td>\n",
       "      <td>Toy Story (1995)</td>\n",
       "    </tr>\n",
       "    <tr>\n",
       "      <th>1</th>\n",
       "      <td>2</td>\n",
       "      <td>GoldenEye (1995)</td>\n",
       "    </tr>\n",
       "    <tr>\n",
       "      <th>2</th>\n",
       "      <td>3</td>\n",
       "      <td>Four Rooms (1995)</td>\n",
       "    </tr>\n",
       "    <tr>\n",
       "      <th>3</th>\n",
       "      <td>4</td>\n",
       "      <td>Get Shorty (1995)</td>\n",
       "    </tr>\n",
       "    <tr>\n",
       "      <th>4</th>\n",
       "      <td>5</td>\n",
       "      <td>Copycat (1995)</td>\n",
       "    </tr>\n",
       "    <tr>\n",
       "      <th>...</th>\n",
       "      <td>...</td>\n",
       "      <td>...</td>\n",
       "    </tr>\n",
       "    <tr>\n",
       "      <th>1677</th>\n",
       "      <td>1678</td>\n",
       "      <td>Mat' i syn (1997)</td>\n",
       "    </tr>\n",
       "    <tr>\n",
       "      <th>1678</th>\n",
       "      <td>1679</td>\n",
       "      <td>B. Monkey (1998)</td>\n",
       "    </tr>\n",
       "    <tr>\n",
       "      <th>1679</th>\n",
       "      <td>1680</td>\n",
       "      <td>Sliding Doors (1998)</td>\n",
       "    </tr>\n",
       "    <tr>\n",
       "      <th>1680</th>\n",
       "      <td>1681</td>\n",
       "      <td>You So Crazy (1994)</td>\n",
       "    </tr>\n",
       "    <tr>\n",
       "      <th>1681</th>\n",
       "      <td>1682</td>\n",
       "      <td>Scream of Stone (Schrei aus Stein) (1991)</td>\n",
       "    </tr>\n",
       "  </tbody>\n",
       "</table>\n",
       "<p>1682 rows × 2 columns</p>\n",
       "</div>\n",
       "      <button class=\"colab-df-convert\" onclick=\"convertToInteractive('df-0c101a41-c22d-4fa5-b6f1-8e18cd013dae')\"\n",
       "              title=\"Convert this dataframe to an interactive table.\"\n",
       "              style=\"display:none;\">\n",
       "        \n",
       "  <svg xmlns=\"http://www.w3.org/2000/svg\" height=\"24px\"viewBox=\"0 0 24 24\"\n",
       "       width=\"24px\">\n",
       "    <path d=\"M0 0h24v24H0V0z\" fill=\"none\"/>\n",
       "    <path d=\"M18.56 5.44l.94 2.06.94-2.06 2.06-.94-2.06-.94-.94-2.06-.94 2.06-2.06.94zm-11 1L8.5 8.5l.94-2.06 2.06-.94-2.06-.94L8.5 2.5l-.94 2.06-2.06.94zm10 10l.94 2.06.94-2.06 2.06-.94-2.06-.94-.94-2.06-.94 2.06-2.06.94z\"/><path d=\"M17.41 7.96l-1.37-1.37c-.4-.4-.92-.59-1.43-.59-.52 0-1.04.2-1.43.59L10.3 9.45l-7.72 7.72c-.78.78-.78 2.05 0 2.83L4 21.41c.39.39.9.59 1.41.59.51 0 1.02-.2 1.41-.59l7.78-7.78 2.81-2.81c.8-.78.8-2.07 0-2.86zM5.41 20L4 18.59l7.72-7.72 1.47 1.35L5.41 20z\"/>\n",
       "  </svg>\n",
       "      </button>\n",
       "      \n",
       "  <style>\n",
       "    .colab-df-container {\n",
       "      display:flex;\n",
       "      flex-wrap:wrap;\n",
       "      gap: 12px;\n",
       "    }\n",
       "\n",
       "    .colab-df-convert {\n",
       "      background-color: #E8F0FE;\n",
       "      border: none;\n",
       "      border-radius: 50%;\n",
       "      cursor: pointer;\n",
       "      display: none;\n",
       "      fill: #1967D2;\n",
       "      height: 32px;\n",
       "      padding: 0 0 0 0;\n",
       "      width: 32px;\n",
       "    }\n",
       "\n",
       "    .colab-df-convert:hover {\n",
       "      background-color: #E2EBFA;\n",
       "      box-shadow: 0px 1px 2px rgba(60, 64, 67, 0.3), 0px 1px 3px 1px rgba(60, 64, 67, 0.15);\n",
       "      fill: #174EA6;\n",
       "    }\n",
       "\n",
       "    [theme=dark] .colab-df-convert {\n",
       "      background-color: #3B4455;\n",
       "      fill: #D2E3FC;\n",
       "    }\n",
       "\n",
       "    [theme=dark] .colab-df-convert:hover {\n",
       "      background-color: #434B5C;\n",
       "      box-shadow: 0px 1px 3px 1px rgba(0, 0, 0, 0.15);\n",
       "      filter: drop-shadow(0px 1px 2px rgba(0, 0, 0, 0.3));\n",
       "      fill: #FFFFFF;\n",
       "    }\n",
       "  </style>\n",
       "\n",
       "      <script>\n",
       "        const buttonEl =\n",
       "          document.querySelector('#df-0c101a41-c22d-4fa5-b6f1-8e18cd013dae button.colab-df-convert');\n",
       "        buttonEl.style.display =\n",
       "          google.colab.kernel.accessAllowed ? 'block' : 'none';\n",
       "\n",
       "        async function convertToInteractive(key) {\n",
       "          const element = document.querySelector('#df-0c101a41-c22d-4fa5-b6f1-8e18cd013dae');\n",
       "          const dataTable =\n",
       "            await google.colab.kernel.invokeFunction('convertToInteractive',\n",
       "                                                     [key], {});\n",
       "          if (!dataTable) return;\n",
       "\n",
       "          const docLinkHtml = 'Like what you see? Visit the ' +\n",
       "            '<a target=\"_blank\" href=https://colab.research.google.com/notebooks/data_table.ipynb>data table notebook</a>'\n",
       "            + ' to learn more about interactive tables.';\n",
       "          element.innerHTML = '';\n",
       "          dataTable['output_type'] = 'display_data';\n",
       "          await google.colab.output.renderOutput(dataTable, element);\n",
       "          const docLink = document.createElement('div');\n",
       "          docLink.innerHTML = docLinkHtml;\n",
       "          element.appendChild(docLink);\n",
       "        }\n",
       "      </script>\n",
       "    </div>\n",
       "  </div>\n",
       "  "
      ],
      "text/plain": [
       "      item_id                                      title\n",
       "0           1                           Toy Story (1995)\n",
       "1           2                           GoldenEye (1995)\n",
       "2           3                          Four Rooms (1995)\n",
       "3           4                          Get Shorty (1995)\n",
       "4           5                             Copycat (1995)\n",
       "...       ...                                        ...\n",
       "1677     1678                          Mat' i syn (1997)\n",
       "1678     1679                           B. Monkey (1998)\n",
       "1679     1680                       Sliding Doors (1998)\n",
       "1680     1681                        You So Crazy (1994)\n",
       "1681     1682  Scream of Stone (Schrei aus Stein) (1991)\n",
       "\n",
       "[1682 rows x 2 columns]"
      ]
     },
     "execution_count": 5,
     "metadata": {},
     "output_type": "execute_result"
    }
   ],
   "source": [
    "movie_titles_df"
   ]
  },
  {
   "cell_type": "markdown",
   "metadata": {
    "id": "dHxurxA9rwni"
   },
   "source": [
    "### 'u.data' 파일을 구글드라이브에서 열어보세요.\n",
    "\n",
    "그러면, 탭으로 구분되어 있고, 맨 위에 컬럼이름이 없습니다.\n",
    "\n",
    "따라서 컬럼이름을 'user_id', 'item_id', 'rating', 'timestamp' 로 지어주면서 데이터프레임으로 읽어오세요."
   ]
  },
  {
   "cell_type": "code",
   "execution_count": 6,
   "metadata": {
    "executionInfo": {
     "elapsed": 60,
     "status": "ok",
     "timestamp": 1652334752962,
     "user": {
      "displayName": "권성표",
      "userId": "01241945839262179482"
     },
     "user_tz": -540
    },
    "id": "U704Abro8g4w"
   },
   "outputs": [],
   "source": [
    "movies_rating_df = pd.read_csv('u.data', sep='\\t', names=['user_id', 'item_id', 'rating', 'timestamp'])"
   ]
  },
  {
   "cell_type": "code",
   "execution_count": 7,
   "metadata": {
    "colab": {
     "base_uri": "https://localhost:8080/",
     "height": 424
    },
    "executionInfo": {
     "elapsed": 60,
     "status": "ok",
     "timestamp": 1652334752963,
     "user": {
      "displayName": "권성표",
      "userId": "01241945839262179482"
     },
     "user_tz": -540
    },
    "id": "kunrV-br8gww",
    "outputId": "f67f6de6-b332-4fa1-c9ed-a83e9145f40e"
   },
   "outputs": [
    {
     "data": {
      "text/html": [
       "\n",
       "  <div id=\"df-50e833d4-eb19-4695-8332-3262ba3aa105\">\n",
       "    <div class=\"colab-df-container\">\n",
       "      <div>\n",
       "<style scoped>\n",
       "    .dataframe tbody tr th:only-of-type {\n",
       "        vertical-align: middle;\n",
       "    }\n",
       "\n",
       "    .dataframe tbody tr th {\n",
       "        vertical-align: top;\n",
       "    }\n",
       "\n",
       "    .dataframe thead th {\n",
       "        text-align: right;\n",
       "    }\n",
       "</style>\n",
       "<table border=\"1\" class=\"dataframe\">\n",
       "  <thead>\n",
       "    <tr style=\"text-align: right;\">\n",
       "      <th></th>\n",
       "      <th>user_id</th>\n",
       "      <th>item_id</th>\n",
       "      <th>rating</th>\n",
       "      <th>timestamp</th>\n",
       "    </tr>\n",
       "  </thead>\n",
       "  <tbody>\n",
       "    <tr>\n",
       "      <th>0</th>\n",
       "      <td>0</td>\n",
       "      <td>50</td>\n",
       "      <td>5</td>\n",
       "      <td>881250949</td>\n",
       "    </tr>\n",
       "    <tr>\n",
       "      <th>1</th>\n",
       "      <td>0</td>\n",
       "      <td>172</td>\n",
       "      <td>5</td>\n",
       "      <td>881250949</td>\n",
       "    </tr>\n",
       "    <tr>\n",
       "      <th>2</th>\n",
       "      <td>0</td>\n",
       "      <td>133</td>\n",
       "      <td>1</td>\n",
       "      <td>881250949</td>\n",
       "    </tr>\n",
       "    <tr>\n",
       "      <th>3</th>\n",
       "      <td>196</td>\n",
       "      <td>242</td>\n",
       "      <td>3</td>\n",
       "      <td>881250949</td>\n",
       "    </tr>\n",
       "    <tr>\n",
       "      <th>4</th>\n",
       "      <td>186</td>\n",
       "      <td>302</td>\n",
       "      <td>3</td>\n",
       "      <td>891717742</td>\n",
       "    </tr>\n",
       "    <tr>\n",
       "      <th>...</th>\n",
       "      <td>...</td>\n",
       "      <td>...</td>\n",
       "      <td>...</td>\n",
       "      <td>...</td>\n",
       "    </tr>\n",
       "    <tr>\n",
       "      <th>99998</th>\n",
       "      <td>880</td>\n",
       "      <td>476</td>\n",
       "      <td>3</td>\n",
       "      <td>880175444</td>\n",
       "    </tr>\n",
       "    <tr>\n",
       "      <th>99999</th>\n",
       "      <td>716</td>\n",
       "      <td>204</td>\n",
       "      <td>5</td>\n",
       "      <td>879795543</td>\n",
       "    </tr>\n",
       "    <tr>\n",
       "      <th>100000</th>\n",
       "      <td>276</td>\n",
       "      <td>1090</td>\n",
       "      <td>1</td>\n",
       "      <td>874795795</td>\n",
       "    </tr>\n",
       "    <tr>\n",
       "      <th>100001</th>\n",
       "      <td>13</td>\n",
       "      <td>225</td>\n",
       "      <td>2</td>\n",
       "      <td>882399156</td>\n",
       "    </tr>\n",
       "    <tr>\n",
       "      <th>100002</th>\n",
       "      <td>12</td>\n",
       "      <td>203</td>\n",
       "      <td>3</td>\n",
       "      <td>879959583</td>\n",
       "    </tr>\n",
       "  </tbody>\n",
       "</table>\n",
       "<p>100003 rows × 4 columns</p>\n",
       "</div>\n",
       "      <button class=\"colab-df-convert\" onclick=\"convertToInteractive('df-50e833d4-eb19-4695-8332-3262ba3aa105')\"\n",
       "              title=\"Convert this dataframe to an interactive table.\"\n",
       "              style=\"display:none;\">\n",
       "        \n",
       "  <svg xmlns=\"http://www.w3.org/2000/svg\" height=\"24px\"viewBox=\"0 0 24 24\"\n",
       "       width=\"24px\">\n",
       "    <path d=\"M0 0h24v24H0V0z\" fill=\"none\"/>\n",
       "    <path d=\"M18.56 5.44l.94 2.06.94-2.06 2.06-.94-2.06-.94-.94-2.06-.94 2.06-2.06.94zm-11 1L8.5 8.5l.94-2.06 2.06-.94-2.06-.94L8.5 2.5l-.94 2.06-2.06.94zm10 10l.94 2.06.94-2.06 2.06-.94-2.06-.94-.94-2.06-.94 2.06-2.06.94z\"/><path d=\"M17.41 7.96l-1.37-1.37c-.4-.4-.92-.59-1.43-.59-.52 0-1.04.2-1.43.59L10.3 9.45l-7.72 7.72c-.78.78-.78 2.05 0 2.83L4 21.41c.39.39.9.59 1.41.59.51 0 1.02-.2 1.41-.59l7.78-7.78 2.81-2.81c.8-.78.8-2.07 0-2.86zM5.41 20L4 18.59l7.72-7.72 1.47 1.35L5.41 20z\"/>\n",
       "  </svg>\n",
       "      </button>\n",
       "      \n",
       "  <style>\n",
       "    .colab-df-container {\n",
       "      display:flex;\n",
       "      flex-wrap:wrap;\n",
       "      gap: 12px;\n",
       "    }\n",
       "\n",
       "    .colab-df-convert {\n",
       "      background-color: #E8F0FE;\n",
       "      border: none;\n",
       "      border-radius: 50%;\n",
       "      cursor: pointer;\n",
       "      display: none;\n",
       "      fill: #1967D2;\n",
       "      height: 32px;\n",
       "      padding: 0 0 0 0;\n",
       "      width: 32px;\n",
       "    }\n",
       "\n",
       "    .colab-df-convert:hover {\n",
       "      background-color: #E2EBFA;\n",
       "      box-shadow: 0px 1px 2px rgba(60, 64, 67, 0.3), 0px 1px 3px 1px rgba(60, 64, 67, 0.15);\n",
       "      fill: #174EA6;\n",
       "    }\n",
       "\n",
       "    [theme=dark] .colab-df-convert {\n",
       "      background-color: #3B4455;\n",
       "      fill: #D2E3FC;\n",
       "    }\n",
       "\n",
       "    [theme=dark] .colab-df-convert:hover {\n",
       "      background-color: #434B5C;\n",
       "      box-shadow: 0px 1px 3px 1px rgba(0, 0, 0, 0.15);\n",
       "      filter: drop-shadow(0px 1px 2px rgba(0, 0, 0, 0.3));\n",
       "      fill: #FFFFFF;\n",
       "    }\n",
       "  </style>\n",
       "\n",
       "      <script>\n",
       "        const buttonEl =\n",
       "          document.querySelector('#df-50e833d4-eb19-4695-8332-3262ba3aa105 button.colab-df-convert');\n",
       "        buttonEl.style.display =\n",
       "          google.colab.kernel.accessAllowed ? 'block' : 'none';\n",
       "\n",
       "        async function convertToInteractive(key) {\n",
       "          const element = document.querySelector('#df-50e833d4-eb19-4695-8332-3262ba3aa105');\n",
       "          const dataTable =\n",
       "            await google.colab.kernel.invokeFunction('convertToInteractive',\n",
       "                                                     [key], {});\n",
       "          if (!dataTable) return;\n",
       "\n",
       "          const docLinkHtml = 'Like what you see? Visit the ' +\n",
       "            '<a target=\"_blank\" href=https://colab.research.google.com/notebooks/data_table.ipynb>data table notebook</a>'\n",
       "            + ' to learn more about interactive tables.';\n",
       "          element.innerHTML = '';\n",
       "          dataTable['output_type'] = 'display_data';\n",
       "          await google.colab.output.renderOutput(dataTable, element);\n",
       "          const docLink = document.createElement('div');\n",
       "          docLink.innerHTML = docLinkHtml;\n",
       "          element.appendChild(docLink);\n",
       "        }\n",
       "      </script>\n",
       "    </div>\n",
       "  </div>\n",
       "  "
      ],
      "text/plain": [
       "        user_id  item_id  rating  timestamp\n",
       "0             0       50       5  881250949\n",
       "1             0      172       5  881250949\n",
       "2             0      133       1  881250949\n",
       "3           196      242       3  881250949\n",
       "4           186      302       3  891717742\n",
       "...         ...      ...     ...        ...\n",
       "99998       880      476       3  880175444\n",
       "99999       716      204       5  879795543\n",
       "100000      276     1090       1  874795795\n",
       "100001       13      225       2  882399156\n",
       "100002       12      203       3  879959583\n",
       "\n",
       "[100003 rows x 4 columns]"
      ]
     },
     "execution_count": 7,
     "metadata": {},
     "output_type": "execute_result"
    }
   ],
   "source": [
    "movies_rating_df\n",
    "\n",
    "                                    # timestamp => 몇년도부터 초로 센것"
   ]
  },
  {
   "cell_type": "code",
   "execution_count": 8,
   "metadata": {
    "colab": {
     "base_uri": "https://localhost:8080/",
     "height": 81
    },
    "executionInfo": {
     "elapsed": 58,
     "status": "ok",
     "timestamp": 1652334752963,
     "user": {
      "displayName": "권성표",
      "userId": "01241945839262179482"
     },
     "user_tz": -540
    },
    "id": "EsHZFF1-8gqK",
    "outputId": "95f2436d-9a69-4af9-b47b-d84e902318f8"
   },
   "outputs": [
    {
     "data": {
      "text/html": [
       "\n",
       "  <div id=\"df-a1ee4421-755a-4548-b184-c637a817b2ff\">\n",
       "    <div class=\"colab-df-container\">\n",
       "      <div>\n",
       "<style scoped>\n",
       "    .dataframe tbody tr th:only-of-type {\n",
       "        vertical-align: middle;\n",
       "    }\n",
       "\n",
       "    .dataframe tbody tr th {\n",
       "        vertical-align: top;\n",
       "    }\n",
       "\n",
       "    .dataframe thead th {\n",
       "        text-align: right;\n",
       "    }\n",
       "</style>\n",
       "<table border=\"1\" class=\"dataframe\">\n",
       "  <thead>\n",
       "    <tr style=\"text-align: right;\">\n",
       "      <th></th>\n",
       "      <th>item_id</th>\n",
       "      <th>title</th>\n",
       "    </tr>\n",
       "  </thead>\n",
       "  <tbody>\n",
       "    <tr>\n",
       "      <th>132</th>\n",
       "      <td>133</td>\n",
       "      <td>Gone with the Wind (1939)</td>\n",
       "    </tr>\n",
       "  </tbody>\n",
       "</table>\n",
       "</div>\n",
       "      <button class=\"colab-df-convert\" onclick=\"convertToInteractive('df-a1ee4421-755a-4548-b184-c637a817b2ff')\"\n",
       "              title=\"Convert this dataframe to an interactive table.\"\n",
       "              style=\"display:none;\">\n",
       "        \n",
       "  <svg xmlns=\"http://www.w3.org/2000/svg\" height=\"24px\"viewBox=\"0 0 24 24\"\n",
       "       width=\"24px\">\n",
       "    <path d=\"M0 0h24v24H0V0z\" fill=\"none\"/>\n",
       "    <path d=\"M18.56 5.44l.94 2.06.94-2.06 2.06-.94-2.06-.94-.94-2.06-.94 2.06-2.06.94zm-11 1L8.5 8.5l.94-2.06 2.06-.94-2.06-.94L8.5 2.5l-.94 2.06-2.06.94zm10 10l.94 2.06.94-2.06 2.06-.94-2.06-.94-.94-2.06-.94 2.06-2.06.94z\"/><path d=\"M17.41 7.96l-1.37-1.37c-.4-.4-.92-.59-1.43-.59-.52 0-1.04.2-1.43.59L10.3 9.45l-7.72 7.72c-.78.78-.78 2.05 0 2.83L4 21.41c.39.39.9.59 1.41.59.51 0 1.02-.2 1.41-.59l7.78-7.78 2.81-2.81c.8-.78.8-2.07 0-2.86zM5.41 20L4 18.59l7.72-7.72 1.47 1.35L5.41 20z\"/>\n",
       "  </svg>\n",
       "      </button>\n",
       "      \n",
       "  <style>\n",
       "    .colab-df-container {\n",
       "      display:flex;\n",
       "      flex-wrap:wrap;\n",
       "      gap: 12px;\n",
       "    }\n",
       "\n",
       "    .colab-df-convert {\n",
       "      background-color: #E8F0FE;\n",
       "      border: none;\n",
       "      border-radius: 50%;\n",
       "      cursor: pointer;\n",
       "      display: none;\n",
       "      fill: #1967D2;\n",
       "      height: 32px;\n",
       "      padding: 0 0 0 0;\n",
       "      width: 32px;\n",
       "    }\n",
       "\n",
       "    .colab-df-convert:hover {\n",
       "      background-color: #E2EBFA;\n",
       "      box-shadow: 0px 1px 2px rgba(60, 64, 67, 0.3), 0px 1px 3px 1px rgba(60, 64, 67, 0.15);\n",
       "      fill: #174EA6;\n",
       "    }\n",
       "\n",
       "    [theme=dark] .colab-df-convert {\n",
       "      background-color: #3B4455;\n",
       "      fill: #D2E3FC;\n",
       "    }\n",
       "\n",
       "    [theme=dark] .colab-df-convert:hover {\n",
       "      background-color: #434B5C;\n",
       "      box-shadow: 0px 1px 3px 1px rgba(0, 0, 0, 0.15);\n",
       "      filter: drop-shadow(0px 1px 2px rgba(0, 0, 0, 0.3));\n",
       "      fill: #FFFFFF;\n",
       "    }\n",
       "  </style>\n",
       "\n",
       "      <script>\n",
       "        const buttonEl =\n",
       "          document.querySelector('#df-a1ee4421-755a-4548-b184-c637a817b2ff button.colab-df-convert');\n",
       "        buttonEl.style.display =\n",
       "          google.colab.kernel.accessAllowed ? 'block' : 'none';\n",
       "\n",
       "        async function convertToInteractive(key) {\n",
       "          const element = document.querySelector('#df-a1ee4421-755a-4548-b184-c637a817b2ff');\n",
       "          const dataTable =\n",
       "            await google.colab.kernel.invokeFunction('convertToInteractive',\n",
       "                                                     [key], {});\n",
       "          if (!dataTable) return;\n",
       "\n",
       "          const docLinkHtml = 'Like what you see? Visit the ' +\n",
       "            '<a target=\"_blank\" href=https://colab.research.google.com/notebooks/data_table.ipynb>data table notebook</a>'\n",
       "            + ' to learn more about interactive tables.';\n",
       "          element.innerHTML = '';\n",
       "          dataTable['output_type'] = 'display_data';\n",
       "          await google.colab.output.renderOutput(dataTable, element);\n",
       "          const docLink = document.createElement('div');\n",
       "          docLink.innerHTML = docLinkHtml;\n",
       "          element.appendChild(docLink);\n",
       "        }\n",
       "      </script>\n",
       "    </div>\n",
       "  </div>\n",
       "  "
      ],
      "text/plain": [
       "     item_id                      title\n",
       "132      133  Gone with the Wind (1939)"
      ]
     },
     "execution_count": 8,
     "metadata": {},
     "output_type": "execute_result"
    }
   ],
   "source": [
    "movie_titles_df.loc[movie_titles_df['item_id'] == 133 , ]"
   ]
  },
  {
   "cell_type": "code",
   "execution_count": 8,
   "metadata": {
    "executionInfo": {
     "elapsed": 58,
     "status": "ok",
     "timestamp": 1652334752964,
     "user": {
      "displayName": "권성표",
      "userId": "01241945839262179482"
     },
     "user_tz": -540
    },
    "id": "LS9Ioh80-mgP"
   },
   "outputs": [],
   "source": []
  },
  {
   "cell_type": "markdown",
   "metadata": {
    "id": "_U0M6pWasAcl"
   },
   "source": [
    "### timestamp 컬럼은 필요없으니, movies_rating_df 에서 아예 제거하시오."
   ]
  },
  {
   "cell_type": "code",
   "execution_count": 9,
   "metadata": {
    "colab": {
     "base_uri": "https://localhost:8080/",
     "height": 143
    },
    "executionInfo": {
     "elapsed": 58,
     "status": "ok",
     "timestamp": 1652334752965,
     "user": {
      "displayName": "권성표",
      "userId": "01241945839262179482"
     },
     "user_tz": -540
    },
    "id": "ygNztomZ8jLi",
    "outputId": "3af775d6-8d1d-4498-c4a0-26ab84afec4f"
   },
   "outputs": [
    {
     "data": {
      "text/html": [
       "\n",
       "  <div id=\"df-c5f5006a-fe96-48ee-b286-acd62396ce0a\">\n",
       "    <div class=\"colab-df-container\">\n",
       "      <div>\n",
       "<style scoped>\n",
       "    .dataframe tbody tr th:only-of-type {\n",
       "        vertical-align: middle;\n",
       "    }\n",
       "\n",
       "    .dataframe tbody tr th {\n",
       "        vertical-align: top;\n",
       "    }\n",
       "\n",
       "    .dataframe thead th {\n",
       "        text-align: right;\n",
       "    }\n",
       "</style>\n",
       "<table border=\"1\" class=\"dataframe\">\n",
       "  <thead>\n",
       "    <tr style=\"text-align: right;\">\n",
       "      <th></th>\n",
       "      <th>user_id</th>\n",
       "      <th>item_id</th>\n",
       "      <th>rating</th>\n",
       "      <th>timestamp</th>\n",
       "    </tr>\n",
       "  </thead>\n",
       "  <tbody>\n",
       "    <tr>\n",
       "      <th>0</th>\n",
       "      <td>0</td>\n",
       "      <td>50</td>\n",
       "      <td>5</td>\n",
       "      <td>881250949</td>\n",
       "    </tr>\n",
       "    <tr>\n",
       "      <th>1</th>\n",
       "      <td>0</td>\n",
       "      <td>172</td>\n",
       "      <td>5</td>\n",
       "      <td>881250949</td>\n",
       "    </tr>\n",
       "    <tr>\n",
       "      <th>2</th>\n",
       "      <td>0</td>\n",
       "      <td>133</td>\n",
       "      <td>1</td>\n",
       "      <td>881250949</td>\n",
       "    </tr>\n",
       "  </tbody>\n",
       "</table>\n",
       "</div>\n",
       "      <button class=\"colab-df-convert\" onclick=\"convertToInteractive('df-c5f5006a-fe96-48ee-b286-acd62396ce0a')\"\n",
       "              title=\"Convert this dataframe to an interactive table.\"\n",
       "              style=\"display:none;\">\n",
       "        \n",
       "  <svg xmlns=\"http://www.w3.org/2000/svg\" height=\"24px\"viewBox=\"0 0 24 24\"\n",
       "       width=\"24px\">\n",
       "    <path d=\"M0 0h24v24H0V0z\" fill=\"none\"/>\n",
       "    <path d=\"M18.56 5.44l.94 2.06.94-2.06 2.06-.94-2.06-.94-.94-2.06-.94 2.06-2.06.94zm-11 1L8.5 8.5l.94-2.06 2.06-.94-2.06-.94L8.5 2.5l-.94 2.06-2.06.94zm10 10l.94 2.06.94-2.06 2.06-.94-2.06-.94-.94-2.06-.94 2.06-2.06.94z\"/><path d=\"M17.41 7.96l-1.37-1.37c-.4-.4-.92-.59-1.43-.59-.52 0-1.04.2-1.43.59L10.3 9.45l-7.72 7.72c-.78.78-.78 2.05 0 2.83L4 21.41c.39.39.9.59 1.41.59.51 0 1.02-.2 1.41-.59l7.78-7.78 2.81-2.81c.8-.78.8-2.07 0-2.86zM5.41 20L4 18.59l7.72-7.72 1.47 1.35L5.41 20z\"/>\n",
       "  </svg>\n",
       "      </button>\n",
       "      \n",
       "  <style>\n",
       "    .colab-df-container {\n",
       "      display:flex;\n",
       "      flex-wrap:wrap;\n",
       "      gap: 12px;\n",
       "    }\n",
       "\n",
       "    .colab-df-convert {\n",
       "      background-color: #E8F0FE;\n",
       "      border: none;\n",
       "      border-radius: 50%;\n",
       "      cursor: pointer;\n",
       "      display: none;\n",
       "      fill: #1967D2;\n",
       "      height: 32px;\n",
       "      padding: 0 0 0 0;\n",
       "      width: 32px;\n",
       "    }\n",
       "\n",
       "    .colab-df-convert:hover {\n",
       "      background-color: #E2EBFA;\n",
       "      box-shadow: 0px 1px 2px rgba(60, 64, 67, 0.3), 0px 1px 3px 1px rgba(60, 64, 67, 0.15);\n",
       "      fill: #174EA6;\n",
       "    }\n",
       "\n",
       "    [theme=dark] .colab-df-convert {\n",
       "      background-color: #3B4455;\n",
       "      fill: #D2E3FC;\n",
       "    }\n",
       "\n",
       "    [theme=dark] .colab-df-convert:hover {\n",
       "      background-color: #434B5C;\n",
       "      box-shadow: 0px 1px 3px 1px rgba(0, 0, 0, 0.15);\n",
       "      filter: drop-shadow(0px 1px 2px rgba(0, 0, 0, 0.3));\n",
       "      fill: #FFFFFF;\n",
       "    }\n",
       "  </style>\n",
       "\n",
       "      <script>\n",
       "        const buttonEl =\n",
       "          document.querySelector('#df-c5f5006a-fe96-48ee-b286-acd62396ce0a button.colab-df-convert');\n",
       "        buttonEl.style.display =\n",
       "          google.colab.kernel.accessAllowed ? 'block' : 'none';\n",
       "\n",
       "        async function convertToInteractive(key) {\n",
       "          const element = document.querySelector('#df-c5f5006a-fe96-48ee-b286-acd62396ce0a');\n",
       "          const dataTable =\n",
       "            await google.colab.kernel.invokeFunction('convertToInteractive',\n",
       "                                                     [key], {});\n",
       "          if (!dataTable) return;\n",
       "\n",
       "          const docLinkHtml = 'Like what you see? Visit the ' +\n",
       "            '<a target=\"_blank\" href=https://colab.research.google.com/notebooks/data_table.ipynb>data table notebook</a>'\n",
       "            + ' to learn more about interactive tables.';\n",
       "          element.innerHTML = '';\n",
       "          dataTable['output_type'] = 'display_data';\n",
       "          await google.colab.output.renderOutput(dataTable, element);\n",
       "          const docLink = document.createElement('div');\n",
       "          docLink.innerHTML = docLinkHtml;\n",
       "          element.appendChild(docLink);\n",
       "        }\n",
       "      </script>\n",
       "    </div>\n",
       "  </div>\n",
       "  "
      ],
      "text/plain": [
       "   user_id  item_id  rating  timestamp\n",
       "0        0       50       5  881250949\n",
       "1        0      172       5  881250949\n",
       "2        0      133       1  881250949"
      ]
     },
     "execution_count": 9,
     "metadata": {},
     "output_type": "execute_result"
    }
   ],
   "source": [
    "movies_rating_df.head(3)"
   ]
  },
  {
   "cell_type": "code",
   "execution_count": 10,
   "metadata": {
    "executionInfo": {
     "elapsed": 58,
     "status": "ok",
     "timestamp": 1652334752966,
     "user": {
      "displayName": "권성표",
      "userId": "01241945839262179482"
     },
     "user_tz": -540
    },
    "id": "EIhpMemC8jIU"
   },
   "outputs": [],
   "source": [
    "movies_rating_df = movies_rating_df.drop(columns= 'timestamp')"
   ]
  },
  {
   "cell_type": "code",
   "execution_count": 11,
   "metadata": {
    "colab": {
     "base_uri": "https://localhost:8080/",
     "height": 112
    },
    "executionInfo": {
     "elapsed": 59,
     "status": "ok",
     "timestamp": 1652334752967,
     "user": {
      "displayName": "권성표",
      "userId": "01241945839262179482"
     },
     "user_tz": -540
    },
    "id": "HglMbj628jEY",
    "outputId": "63ef925a-f8dc-40a2-e724-05b243b42a41"
   },
   "outputs": [
    {
     "data": {
      "text/html": [
       "\n",
       "  <div id=\"df-51a200cc-2f55-49b5-81f6-3d17429456ee\">\n",
       "    <div class=\"colab-df-container\">\n",
       "      <div>\n",
       "<style scoped>\n",
       "    .dataframe tbody tr th:only-of-type {\n",
       "        vertical-align: middle;\n",
       "    }\n",
       "\n",
       "    .dataframe tbody tr th {\n",
       "        vertical-align: top;\n",
       "    }\n",
       "\n",
       "    .dataframe thead th {\n",
       "        text-align: right;\n",
       "    }\n",
       "</style>\n",
       "<table border=\"1\" class=\"dataframe\">\n",
       "  <thead>\n",
       "    <tr style=\"text-align: right;\">\n",
       "      <th></th>\n",
       "      <th>user_id</th>\n",
       "      <th>item_id</th>\n",
       "      <th>rating</th>\n",
       "    </tr>\n",
       "  </thead>\n",
       "  <tbody>\n",
       "    <tr>\n",
       "      <th>0</th>\n",
       "      <td>0</td>\n",
       "      <td>50</td>\n",
       "      <td>5</td>\n",
       "    </tr>\n",
       "    <tr>\n",
       "      <th>1</th>\n",
       "      <td>0</td>\n",
       "      <td>172</td>\n",
       "      <td>5</td>\n",
       "    </tr>\n",
       "  </tbody>\n",
       "</table>\n",
       "</div>\n",
       "      <button class=\"colab-df-convert\" onclick=\"convertToInteractive('df-51a200cc-2f55-49b5-81f6-3d17429456ee')\"\n",
       "              title=\"Convert this dataframe to an interactive table.\"\n",
       "              style=\"display:none;\">\n",
       "        \n",
       "  <svg xmlns=\"http://www.w3.org/2000/svg\" height=\"24px\"viewBox=\"0 0 24 24\"\n",
       "       width=\"24px\">\n",
       "    <path d=\"M0 0h24v24H0V0z\" fill=\"none\"/>\n",
       "    <path d=\"M18.56 5.44l.94 2.06.94-2.06 2.06-.94-2.06-.94-.94-2.06-.94 2.06-2.06.94zm-11 1L8.5 8.5l.94-2.06 2.06-.94-2.06-.94L8.5 2.5l-.94 2.06-2.06.94zm10 10l.94 2.06.94-2.06 2.06-.94-2.06-.94-.94-2.06-.94 2.06-2.06.94z\"/><path d=\"M17.41 7.96l-1.37-1.37c-.4-.4-.92-.59-1.43-.59-.52 0-1.04.2-1.43.59L10.3 9.45l-7.72 7.72c-.78.78-.78 2.05 0 2.83L4 21.41c.39.39.9.59 1.41.59.51 0 1.02-.2 1.41-.59l7.78-7.78 2.81-2.81c.8-.78.8-2.07 0-2.86zM5.41 20L4 18.59l7.72-7.72 1.47 1.35L5.41 20z\"/>\n",
       "  </svg>\n",
       "      </button>\n",
       "      \n",
       "  <style>\n",
       "    .colab-df-container {\n",
       "      display:flex;\n",
       "      flex-wrap:wrap;\n",
       "      gap: 12px;\n",
       "    }\n",
       "\n",
       "    .colab-df-convert {\n",
       "      background-color: #E8F0FE;\n",
       "      border: none;\n",
       "      border-radius: 50%;\n",
       "      cursor: pointer;\n",
       "      display: none;\n",
       "      fill: #1967D2;\n",
       "      height: 32px;\n",
       "      padding: 0 0 0 0;\n",
       "      width: 32px;\n",
       "    }\n",
       "\n",
       "    .colab-df-convert:hover {\n",
       "      background-color: #E2EBFA;\n",
       "      box-shadow: 0px 1px 2px rgba(60, 64, 67, 0.3), 0px 1px 3px 1px rgba(60, 64, 67, 0.15);\n",
       "      fill: #174EA6;\n",
       "    }\n",
       "\n",
       "    [theme=dark] .colab-df-convert {\n",
       "      background-color: #3B4455;\n",
       "      fill: #D2E3FC;\n",
       "    }\n",
       "\n",
       "    [theme=dark] .colab-df-convert:hover {\n",
       "      background-color: #434B5C;\n",
       "      box-shadow: 0px 1px 3px 1px rgba(0, 0, 0, 0.15);\n",
       "      filter: drop-shadow(0px 1px 2px rgba(0, 0, 0, 0.3));\n",
       "      fill: #FFFFFF;\n",
       "    }\n",
       "  </style>\n",
       "\n",
       "      <script>\n",
       "        const buttonEl =\n",
       "          document.querySelector('#df-51a200cc-2f55-49b5-81f6-3d17429456ee button.colab-df-convert');\n",
       "        buttonEl.style.display =\n",
       "          google.colab.kernel.accessAllowed ? 'block' : 'none';\n",
       "\n",
       "        async function convertToInteractive(key) {\n",
       "          const element = document.querySelector('#df-51a200cc-2f55-49b5-81f6-3d17429456ee');\n",
       "          const dataTable =\n",
       "            await google.colab.kernel.invokeFunction('convertToInteractive',\n",
       "                                                     [key], {});\n",
       "          if (!dataTable) return;\n",
       "\n",
       "          const docLinkHtml = 'Like what you see? Visit the ' +\n",
       "            '<a target=\"_blank\" href=https://colab.research.google.com/notebooks/data_table.ipynb>data table notebook</a>'\n",
       "            + ' to learn more about interactive tables.';\n",
       "          element.innerHTML = '';\n",
       "          dataTable['output_type'] = 'display_data';\n",
       "          await google.colab.output.renderOutput(dataTable, element);\n",
       "          const docLink = document.createElement('div');\n",
       "          docLink.innerHTML = docLinkHtml;\n",
       "          element.appendChild(docLink);\n",
       "        }\n",
       "      </script>\n",
       "    </div>\n",
       "  </div>\n",
       "  "
      ],
      "text/plain": [
       "   user_id  item_id  rating\n",
       "0        0       50       5\n",
       "1        0      172       5"
      ]
     },
     "execution_count": 11,
     "metadata": {},
     "output_type": "execute_result"
    }
   ],
   "source": [
    "movies_rating_df.head(2)"
   ]
  },
  {
   "cell_type": "code",
   "execution_count": 12,
   "metadata": {
    "colab": {
     "base_uri": "https://localhost:8080/",
     "height": 112
    },
    "executionInfo": {
     "elapsed": 57,
     "status": "ok",
     "timestamp": 1652334752967,
     "user": {
      "displayName": "권성표",
      "userId": "01241945839262179482"
     },
     "user_tz": -540
    },
    "id": "XWX7ipTL8jAk",
    "outputId": "c6fe382d-bf2a-48fd-85f9-230d8611f54d"
   },
   "outputs": [
    {
     "data": {
      "text/html": [
       "\n",
       "  <div id=\"df-25b3ab5b-cebe-468b-9bec-6db30bc1bb49\">\n",
       "    <div class=\"colab-df-container\">\n",
       "      <div>\n",
       "<style scoped>\n",
       "    .dataframe tbody tr th:only-of-type {\n",
       "        vertical-align: middle;\n",
       "    }\n",
       "\n",
       "    .dataframe tbody tr th {\n",
       "        vertical-align: top;\n",
       "    }\n",
       "\n",
       "    .dataframe thead th {\n",
       "        text-align: right;\n",
       "    }\n",
       "</style>\n",
       "<table border=\"1\" class=\"dataframe\">\n",
       "  <thead>\n",
       "    <tr style=\"text-align: right;\">\n",
       "      <th></th>\n",
       "      <th>item_id</th>\n",
       "      <th>title</th>\n",
       "    </tr>\n",
       "  </thead>\n",
       "  <tbody>\n",
       "    <tr>\n",
       "      <th>0</th>\n",
       "      <td>1</td>\n",
       "      <td>Toy Story (1995)</td>\n",
       "    </tr>\n",
       "    <tr>\n",
       "      <th>1</th>\n",
       "      <td>2</td>\n",
       "      <td>GoldenEye (1995)</td>\n",
       "    </tr>\n",
       "  </tbody>\n",
       "</table>\n",
       "</div>\n",
       "      <button class=\"colab-df-convert\" onclick=\"convertToInteractive('df-25b3ab5b-cebe-468b-9bec-6db30bc1bb49')\"\n",
       "              title=\"Convert this dataframe to an interactive table.\"\n",
       "              style=\"display:none;\">\n",
       "        \n",
       "  <svg xmlns=\"http://www.w3.org/2000/svg\" height=\"24px\"viewBox=\"0 0 24 24\"\n",
       "       width=\"24px\">\n",
       "    <path d=\"M0 0h24v24H0V0z\" fill=\"none\"/>\n",
       "    <path d=\"M18.56 5.44l.94 2.06.94-2.06 2.06-.94-2.06-.94-.94-2.06-.94 2.06-2.06.94zm-11 1L8.5 8.5l.94-2.06 2.06-.94-2.06-.94L8.5 2.5l-.94 2.06-2.06.94zm10 10l.94 2.06.94-2.06 2.06-.94-2.06-.94-.94-2.06-.94 2.06-2.06.94z\"/><path d=\"M17.41 7.96l-1.37-1.37c-.4-.4-.92-.59-1.43-.59-.52 0-1.04.2-1.43.59L10.3 9.45l-7.72 7.72c-.78.78-.78 2.05 0 2.83L4 21.41c.39.39.9.59 1.41.59.51 0 1.02-.2 1.41-.59l7.78-7.78 2.81-2.81c.8-.78.8-2.07 0-2.86zM5.41 20L4 18.59l7.72-7.72 1.47 1.35L5.41 20z\"/>\n",
       "  </svg>\n",
       "      </button>\n",
       "      \n",
       "  <style>\n",
       "    .colab-df-container {\n",
       "      display:flex;\n",
       "      flex-wrap:wrap;\n",
       "      gap: 12px;\n",
       "    }\n",
       "\n",
       "    .colab-df-convert {\n",
       "      background-color: #E8F0FE;\n",
       "      border: none;\n",
       "      border-radius: 50%;\n",
       "      cursor: pointer;\n",
       "      display: none;\n",
       "      fill: #1967D2;\n",
       "      height: 32px;\n",
       "      padding: 0 0 0 0;\n",
       "      width: 32px;\n",
       "    }\n",
       "\n",
       "    .colab-df-convert:hover {\n",
       "      background-color: #E2EBFA;\n",
       "      box-shadow: 0px 1px 2px rgba(60, 64, 67, 0.3), 0px 1px 3px 1px rgba(60, 64, 67, 0.15);\n",
       "      fill: #174EA6;\n",
       "    }\n",
       "\n",
       "    [theme=dark] .colab-df-convert {\n",
       "      background-color: #3B4455;\n",
       "      fill: #D2E3FC;\n",
       "    }\n",
       "\n",
       "    [theme=dark] .colab-df-convert:hover {\n",
       "      background-color: #434B5C;\n",
       "      box-shadow: 0px 1px 3px 1px rgba(0, 0, 0, 0.15);\n",
       "      filter: drop-shadow(0px 1px 2px rgba(0, 0, 0, 0.3));\n",
       "      fill: #FFFFFF;\n",
       "    }\n",
       "  </style>\n",
       "\n",
       "      <script>\n",
       "        const buttonEl =\n",
       "          document.querySelector('#df-25b3ab5b-cebe-468b-9bec-6db30bc1bb49 button.colab-df-convert');\n",
       "        buttonEl.style.display =\n",
       "          google.colab.kernel.accessAllowed ? 'block' : 'none';\n",
       "\n",
       "        async function convertToInteractive(key) {\n",
       "          const element = document.querySelector('#df-25b3ab5b-cebe-468b-9bec-6db30bc1bb49');\n",
       "          const dataTable =\n",
       "            await google.colab.kernel.invokeFunction('convertToInteractive',\n",
       "                                                     [key], {});\n",
       "          if (!dataTable) return;\n",
       "\n",
       "          const docLinkHtml = 'Like what you see? Visit the ' +\n",
       "            '<a target=\"_blank\" href=https://colab.research.google.com/notebooks/data_table.ipynb>data table notebook</a>'\n",
       "            + ' to learn more about interactive tables.';\n",
       "          element.innerHTML = '';\n",
       "          dataTable['output_type'] = 'display_data';\n",
       "          await google.colab.output.renderOutput(dataTable, element);\n",
       "          const docLink = document.createElement('div');\n",
       "          docLink.innerHTML = docLinkHtml;\n",
       "          element.appendChild(docLink);\n",
       "        }\n",
       "      </script>\n",
       "    </div>\n",
       "  </div>\n",
       "  "
      ],
      "text/plain": [
       "   item_id             title\n",
       "0        1  Toy Story (1995)\n",
       "1        2  GoldenEye (1995)"
      ]
     },
     "execution_count": 12,
     "metadata": {},
     "output_type": "execute_result"
    }
   ],
   "source": [
    "movie_titles_df.head(2)"
   ]
  },
  {
   "cell_type": "markdown",
   "metadata": {
    "id": "bfpPMhUDsMBX"
   },
   "source": [
    "### 두개의 데이터프레임을 합치시오.\n",
    "\n",
    "### 어떻게 합칠지 모양을 잘 보고 합칩니다."
   ]
  },
  {
   "cell_type": "code",
   "execution_count": 13,
   "metadata": {
    "colab": {
     "base_uri": "https://localhost:8080/",
     "height": 424
    },
    "executionInfo": {
     "elapsed": 57,
     "status": "ok",
     "timestamp": 1652334752968,
     "user": {
      "displayName": "권성표",
      "userId": "01241945839262179482"
     },
     "user_tz": -540
    },
    "id": "sWAGHZrHDHlm",
    "outputId": "4aec0a95-1b63-4797-ec02-5e6538523ce0"
   },
   "outputs": [
    {
     "data": {
      "text/html": [
       "\n",
       "  <div id=\"df-91ab7ce7-ff36-409f-9312-8f2f88570c1e\">\n",
       "    <div class=\"colab-df-container\">\n",
       "      <div>\n",
       "<style scoped>\n",
       "    .dataframe tbody tr th:only-of-type {\n",
       "        vertical-align: middle;\n",
       "    }\n",
       "\n",
       "    .dataframe tbody tr th {\n",
       "        vertical-align: top;\n",
       "    }\n",
       "\n",
       "    .dataframe thead th {\n",
       "        text-align: right;\n",
       "    }\n",
       "</style>\n",
       "<table border=\"1\" class=\"dataframe\">\n",
       "  <thead>\n",
       "    <tr style=\"text-align: right;\">\n",
       "      <th></th>\n",
       "      <th>item_id</th>\n",
       "      <th>title</th>\n",
       "      <th>user_id</th>\n",
       "      <th>rating</th>\n",
       "    </tr>\n",
       "  </thead>\n",
       "  <tbody>\n",
       "    <tr>\n",
       "      <th>0</th>\n",
       "      <td>1</td>\n",
       "      <td>Toy Story (1995)</td>\n",
       "      <td>308</td>\n",
       "      <td>4</td>\n",
       "    </tr>\n",
       "    <tr>\n",
       "      <th>1</th>\n",
       "      <td>1</td>\n",
       "      <td>Toy Story (1995)</td>\n",
       "      <td>287</td>\n",
       "      <td>5</td>\n",
       "    </tr>\n",
       "    <tr>\n",
       "      <th>2</th>\n",
       "      <td>1</td>\n",
       "      <td>Toy Story (1995)</td>\n",
       "      <td>148</td>\n",
       "      <td>4</td>\n",
       "    </tr>\n",
       "    <tr>\n",
       "      <th>3</th>\n",
       "      <td>1</td>\n",
       "      <td>Toy Story (1995)</td>\n",
       "      <td>280</td>\n",
       "      <td>4</td>\n",
       "    </tr>\n",
       "    <tr>\n",
       "      <th>4</th>\n",
       "      <td>1</td>\n",
       "      <td>Toy Story (1995)</td>\n",
       "      <td>66</td>\n",
       "      <td>3</td>\n",
       "    </tr>\n",
       "    <tr>\n",
       "      <th>...</th>\n",
       "      <td>...</td>\n",
       "      <td>...</td>\n",
       "      <td>...</td>\n",
       "      <td>...</td>\n",
       "    </tr>\n",
       "    <tr>\n",
       "      <th>99998</th>\n",
       "      <td>1678</td>\n",
       "      <td>Mat' i syn (1997)</td>\n",
       "      <td>863</td>\n",
       "      <td>1</td>\n",
       "    </tr>\n",
       "    <tr>\n",
       "      <th>99999</th>\n",
       "      <td>1679</td>\n",
       "      <td>B. Monkey (1998)</td>\n",
       "      <td>863</td>\n",
       "      <td>3</td>\n",
       "    </tr>\n",
       "    <tr>\n",
       "      <th>100000</th>\n",
       "      <td>1680</td>\n",
       "      <td>Sliding Doors (1998)</td>\n",
       "      <td>863</td>\n",
       "      <td>2</td>\n",
       "    </tr>\n",
       "    <tr>\n",
       "      <th>100001</th>\n",
       "      <td>1681</td>\n",
       "      <td>You So Crazy (1994)</td>\n",
       "      <td>896</td>\n",
       "      <td>3</td>\n",
       "    </tr>\n",
       "    <tr>\n",
       "      <th>100002</th>\n",
       "      <td>1682</td>\n",
       "      <td>Scream of Stone (Schrei aus Stein) (1991)</td>\n",
       "      <td>916</td>\n",
       "      <td>3</td>\n",
       "    </tr>\n",
       "  </tbody>\n",
       "</table>\n",
       "<p>100003 rows × 4 columns</p>\n",
       "</div>\n",
       "      <button class=\"colab-df-convert\" onclick=\"convertToInteractive('df-91ab7ce7-ff36-409f-9312-8f2f88570c1e')\"\n",
       "              title=\"Convert this dataframe to an interactive table.\"\n",
       "              style=\"display:none;\">\n",
       "        \n",
       "  <svg xmlns=\"http://www.w3.org/2000/svg\" height=\"24px\"viewBox=\"0 0 24 24\"\n",
       "       width=\"24px\">\n",
       "    <path d=\"M0 0h24v24H0V0z\" fill=\"none\"/>\n",
       "    <path d=\"M18.56 5.44l.94 2.06.94-2.06 2.06-.94-2.06-.94-.94-2.06-.94 2.06-2.06.94zm-11 1L8.5 8.5l.94-2.06 2.06-.94-2.06-.94L8.5 2.5l-.94 2.06-2.06.94zm10 10l.94 2.06.94-2.06 2.06-.94-2.06-.94-.94-2.06-.94 2.06-2.06.94z\"/><path d=\"M17.41 7.96l-1.37-1.37c-.4-.4-.92-.59-1.43-.59-.52 0-1.04.2-1.43.59L10.3 9.45l-7.72 7.72c-.78.78-.78 2.05 0 2.83L4 21.41c.39.39.9.59 1.41.59.51 0 1.02-.2 1.41-.59l7.78-7.78 2.81-2.81c.8-.78.8-2.07 0-2.86zM5.41 20L4 18.59l7.72-7.72 1.47 1.35L5.41 20z\"/>\n",
       "  </svg>\n",
       "      </button>\n",
       "      \n",
       "  <style>\n",
       "    .colab-df-container {\n",
       "      display:flex;\n",
       "      flex-wrap:wrap;\n",
       "      gap: 12px;\n",
       "    }\n",
       "\n",
       "    .colab-df-convert {\n",
       "      background-color: #E8F0FE;\n",
       "      border: none;\n",
       "      border-radius: 50%;\n",
       "      cursor: pointer;\n",
       "      display: none;\n",
       "      fill: #1967D2;\n",
       "      height: 32px;\n",
       "      padding: 0 0 0 0;\n",
       "      width: 32px;\n",
       "    }\n",
       "\n",
       "    .colab-df-convert:hover {\n",
       "      background-color: #E2EBFA;\n",
       "      box-shadow: 0px 1px 2px rgba(60, 64, 67, 0.3), 0px 1px 3px 1px rgba(60, 64, 67, 0.15);\n",
       "      fill: #174EA6;\n",
       "    }\n",
       "\n",
       "    [theme=dark] .colab-df-convert {\n",
       "      background-color: #3B4455;\n",
       "      fill: #D2E3FC;\n",
       "    }\n",
       "\n",
       "    [theme=dark] .colab-df-convert:hover {\n",
       "      background-color: #434B5C;\n",
       "      box-shadow: 0px 1px 3px 1px rgba(0, 0, 0, 0.15);\n",
       "      filter: drop-shadow(0px 1px 2px rgba(0, 0, 0, 0.3));\n",
       "      fill: #FFFFFF;\n",
       "    }\n",
       "  </style>\n",
       "\n",
       "      <script>\n",
       "        const buttonEl =\n",
       "          document.querySelector('#df-91ab7ce7-ff36-409f-9312-8f2f88570c1e button.colab-df-convert');\n",
       "        buttonEl.style.display =\n",
       "          google.colab.kernel.accessAllowed ? 'block' : 'none';\n",
       "\n",
       "        async function convertToInteractive(key) {\n",
       "          const element = document.querySelector('#df-91ab7ce7-ff36-409f-9312-8f2f88570c1e');\n",
       "          const dataTable =\n",
       "            await google.colab.kernel.invokeFunction('convertToInteractive',\n",
       "                                                     [key], {});\n",
       "          if (!dataTable) return;\n",
       "\n",
       "          const docLinkHtml = 'Like what you see? Visit the ' +\n",
       "            '<a target=\"_blank\" href=https://colab.research.google.com/notebooks/data_table.ipynb>data table notebook</a>'\n",
       "            + ' to learn more about interactive tables.';\n",
       "          element.innerHTML = '';\n",
       "          dataTable['output_type'] = 'display_data';\n",
       "          await google.colab.output.renderOutput(dataTable, element);\n",
       "          const docLink = document.createElement('div');\n",
       "          docLink.innerHTML = docLinkHtml;\n",
       "          element.appendChild(docLink);\n",
       "        }\n",
       "      </script>\n",
       "    </div>\n",
       "  </div>\n",
       "  "
      ],
      "text/plain": [
       "        item_id                                      title  user_id  rating\n",
       "0             1                           Toy Story (1995)      308       4\n",
       "1             1                           Toy Story (1995)      287       5\n",
       "2             1                           Toy Story (1995)      148       4\n",
       "3             1                           Toy Story (1995)      280       4\n",
       "4             1                           Toy Story (1995)       66       3\n",
       "...         ...                                        ...      ...     ...\n",
       "99998      1678                          Mat' i syn (1997)      863       1\n",
       "99999      1679                           B. Monkey (1998)      863       3\n",
       "100000     1680                       Sliding Doors (1998)      863       2\n",
       "100001     1681                        You So Crazy (1994)      896       3\n",
       "100002     1682  Scream of Stone (Schrei aus Stein) (1991)      916       3\n",
       "\n",
       "[100003 rows x 4 columns]"
      ]
     },
     "execution_count": 13,
     "metadata": {},
     "output_type": "execute_result"
    }
   ],
   "source": [
    "pd.merge(movie_titles_df, movies_rating_df , on= 'item_id')"
   ]
  },
  {
   "cell_type": "code",
   "execution_count": 14,
   "metadata": {
    "executionInfo": {
     "elapsed": 55,
     "status": "ok",
     "timestamp": 1652334752968,
     "user": {
      "displayName": "권성표",
      "userId": "01241945839262179482"
     },
     "user_tz": -540
    },
    "id": "__T_pkb88mXv"
   },
   "outputs": [],
   "source": [
    "movies_rating_df = pd.merge(movie_titles_df, movies_rating_df , on= 'item_id')"
   ]
  },
  {
   "cell_type": "code",
   "execution_count": 15,
   "metadata": {
    "executionInfo": {
     "elapsed": 56,
     "status": "ok",
     "timestamp": 1652334752969,
     "user": {
      "displayName": "권성표",
      "userId": "01241945839262179482"
     },
     "user_tz": -540
    },
    "id": "Pewy5U-k8mRC"
   },
   "outputs": [],
   "source": [
    "# pd.merge(movies_rating_df , movies_titles_df , on= 'item_id')"
   ]
  },
  {
   "cell_type": "code",
   "execution_count": 16,
   "metadata": {
    "colab": {
     "base_uri": "https://localhost:8080/",
     "height": 424
    },
    "executionInfo": {
     "elapsed": 56,
     "status": "ok",
     "timestamp": 1652334752970,
     "user": {
      "displayName": "권성표",
      "userId": "01241945839262179482"
     },
     "user_tz": -540
    },
    "id": "nqLQCUuOHzOU",
    "outputId": "a81103de-b315-485e-8ae0-8a9b552b6626"
   },
   "outputs": [
    {
     "data": {
      "text/html": [
       "\n",
       "  <div id=\"df-7a89a89e-3d11-451f-aeb6-8d1a78cd510b\">\n",
       "    <div class=\"colab-df-container\">\n",
       "      <div>\n",
       "<style scoped>\n",
       "    .dataframe tbody tr th:only-of-type {\n",
       "        vertical-align: middle;\n",
       "    }\n",
       "\n",
       "    .dataframe tbody tr th {\n",
       "        vertical-align: top;\n",
       "    }\n",
       "\n",
       "    .dataframe thead th {\n",
       "        text-align: right;\n",
       "    }\n",
       "</style>\n",
       "<table border=\"1\" class=\"dataframe\">\n",
       "  <thead>\n",
       "    <tr style=\"text-align: right;\">\n",
       "      <th></th>\n",
       "      <th>item_id</th>\n",
       "      <th>title_x</th>\n",
       "      <th>title_y</th>\n",
       "      <th>user_id</th>\n",
       "      <th>rating</th>\n",
       "    </tr>\n",
       "  </thead>\n",
       "  <tbody>\n",
       "    <tr>\n",
       "      <th>0</th>\n",
       "      <td>1</td>\n",
       "      <td>Toy Story (1995)</td>\n",
       "      <td>Toy Story (1995)</td>\n",
       "      <td>308</td>\n",
       "      <td>4</td>\n",
       "    </tr>\n",
       "    <tr>\n",
       "      <th>1</th>\n",
       "      <td>1</td>\n",
       "      <td>Toy Story (1995)</td>\n",
       "      <td>Toy Story (1995)</td>\n",
       "      <td>287</td>\n",
       "      <td>5</td>\n",
       "    </tr>\n",
       "    <tr>\n",
       "      <th>2</th>\n",
       "      <td>1</td>\n",
       "      <td>Toy Story (1995)</td>\n",
       "      <td>Toy Story (1995)</td>\n",
       "      <td>148</td>\n",
       "      <td>4</td>\n",
       "    </tr>\n",
       "    <tr>\n",
       "      <th>3</th>\n",
       "      <td>1</td>\n",
       "      <td>Toy Story (1995)</td>\n",
       "      <td>Toy Story (1995)</td>\n",
       "      <td>280</td>\n",
       "      <td>4</td>\n",
       "    </tr>\n",
       "    <tr>\n",
       "      <th>4</th>\n",
       "      <td>1</td>\n",
       "      <td>Toy Story (1995)</td>\n",
       "      <td>Toy Story (1995)</td>\n",
       "      <td>66</td>\n",
       "      <td>3</td>\n",
       "    </tr>\n",
       "    <tr>\n",
       "      <th>...</th>\n",
       "      <td>...</td>\n",
       "      <td>...</td>\n",
       "      <td>...</td>\n",
       "      <td>...</td>\n",
       "      <td>...</td>\n",
       "    </tr>\n",
       "    <tr>\n",
       "      <th>99998</th>\n",
       "      <td>1678</td>\n",
       "      <td>Mat' i syn (1997)</td>\n",
       "      <td>Mat' i syn (1997)</td>\n",
       "      <td>863</td>\n",
       "      <td>1</td>\n",
       "    </tr>\n",
       "    <tr>\n",
       "      <th>99999</th>\n",
       "      <td>1679</td>\n",
       "      <td>B. Monkey (1998)</td>\n",
       "      <td>B. Monkey (1998)</td>\n",
       "      <td>863</td>\n",
       "      <td>3</td>\n",
       "    </tr>\n",
       "    <tr>\n",
       "      <th>100000</th>\n",
       "      <td>1680</td>\n",
       "      <td>Sliding Doors (1998)</td>\n",
       "      <td>Sliding Doors (1998)</td>\n",
       "      <td>863</td>\n",
       "      <td>2</td>\n",
       "    </tr>\n",
       "    <tr>\n",
       "      <th>100001</th>\n",
       "      <td>1681</td>\n",
       "      <td>You So Crazy (1994)</td>\n",
       "      <td>You So Crazy (1994)</td>\n",
       "      <td>896</td>\n",
       "      <td>3</td>\n",
       "    </tr>\n",
       "    <tr>\n",
       "      <th>100002</th>\n",
       "      <td>1682</td>\n",
       "      <td>Scream of Stone (Schrei aus Stein) (1991)</td>\n",
       "      <td>Scream of Stone (Schrei aus Stein) (1991)</td>\n",
       "      <td>916</td>\n",
       "      <td>3</td>\n",
       "    </tr>\n",
       "  </tbody>\n",
       "</table>\n",
       "<p>100003 rows × 5 columns</p>\n",
       "</div>\n",
       "      <button class=\"colab-df-convert\" onclick=\"convertToInteractive('df-7a89a89e-3d11-451f-aeb6-8d1a78cd510b')\"\n",
       "              title=\"Convert this dataframe to an interactive table.\"\n",
       "              style=\"display:none;\">\n",
       "        \n",
       "  <svg xmlns=\"http://www.w3.org/2000/svg\" height=\"24px\"viewBox=\"0 0 24 24\"\n",
       "       width=\"24px\">\n",
       "    <path d=\"M0 0h24v24H0V0z\" fill=\"none\"/>\n",
       "    <path d=\"M18.56 5.44l.94 2.06.94-2.06 2.06-.94-2.06-.94-.94-2.06-.94 2.06-2.06.94zm-11 1L8.5 8.5l.94-2.06 2.06-.94-2.06-.94L8.5 2.5l-.94 2.06-2.06.94zm10 10l.94 2.06.94-2.06 2.06-.94-2.06-.94-.94-2.06-.94 2.06-2.06.94z\"/><path d=\"M17.41 7.96l-1.37-1.37c-.4-.4-.92-.59-1.43-.59-.52 0-1.04.2-1.43.59L10.3 9.45l-7.72 7.72c-.78.78-.78 2.05 0 2.83L4 21.41c.39.39.9.59 1.41.59.51 0 1.02-.2 1.41-.59l7.78-7.78 2.81-2.81c.8-.78.8-2.07 0-2.86zM5.41 20L4 18.59l7.72-7.72 1.47 1.35L5.41 20z\"/>\n",
       "  </svg>\n",
       "      </button>\n",
       "      \n",
       "  <style>\n",
       "    .colab-df-container {\n",
       "      display:flex;\n",
       "      flex-wrap:wrap;\n",
       "      gap: 12px;\n",
       "    }\n",
       "\n",
       "    .colab-df-convert {\n",
       "      background-color: #E8F0FE;\n",
       "      border: none;\n",
       "      border-radius: 50%;\n",
       "      cursor: pointer;\n",
       "      display: none;\n",
       "      fill: #1967D2;\n",
       "      height: 32px;\n",
       "      padding: 0 0 0 0;\n",
       "      width: 32px;\n",
       "    }\n",
       "\n",
       "    .colab-df-convert:hover {\n",
       "      background-color: #E2EBFA;\n",
       "      box-shadow: 0px 1px 2px rgba(60, 64, 67, 0.3), 0px 1px 3px 1px rgba(60, 64, 67, 0.15);\n",
       "      fill: #174EA6;\n",
       "    }\n",
       "\n",
       "    [theme=dark] .colab-df-convert {\n",
       "      background-color: #3B4455;\n",
       "      fill: #D2E3FC;\n",
       "    }\n",
       "\n",
       "    [theme=dark] .colab-df-convert:hover {\n",
       "      background-color: #434B5C;\n",
       "      box-shadow: 0px 1px 3px 1px rgba(0, 0, 0, 0.15);\n",
       "      filter: drop-shadow(0px 1px 2px rgba(0, 0, 0, 0.3));\n",
       "      fill: #FFFFFF;\n",
       "    }\n",
       "  </style>\n",
       "\n",
       "      <script>\n",
       "        const buttonEl =\n",
       "          document.querySelector('#df-7a89a89e-3d11-451f-aeb6-8d1a78cd510b button.colab-df-convert');\n",
       "        buttonEl.style.display =\n",
       "          google.colab.kernel.accessAllowed ? 'block' : 'none';\n",
       "\n",
       "        async function convertToInteractive(key) {\n",
       "          const element = document.querySelector('#df-7a89a89e-3d11-451f-aeb6-8d1a78cd510b');\n",
       "          const dataTable =\n",
       "            await google.colab.kernel.invokeFunction('convertToInteractive',\n",
       "                                                     [key], {});\n",
       "          if (!dataTable) return;\n",
       "\n",
       "          const docLinkHtml = 'Like what you see? Visit the ' +\n",
       "            '<a target=\"_blank\" href=https://colab.research.google.com/notebooks/data_table.ipynb>data table notebook</a>'\n",
       "            + ' to learn more about interactive tables.';\n",
       "          element.innerHTML = '';\n",
       "          dataTable['output_type'] = 'display_data';\n",
       "          await google.colab.output.renderOutput(dataTable, element);\n",
       "          const docLink = document.createElement('div');\n",
       "          docLink.innerHTML = docLinkHtml;\n",
       "          element.appendChild(docLink);\n",
       "        }\n",
       "      </script>\n",
       "    </div>\n",
       "  </div>\n",
       "  "
      ],
      "text/plain": [
       "        item_id                                    title_x  \\\n",
       "0             1                           Toy Story (1995)   \n",
       "1             1                           Toy Story (1995)   \n",
       "2             1                           Toy Story (1995)   \n",
       "3             1                           Toy Story (1995)   \n",
       "4             1                           Toy Story (1995)   \n",
       "...         ...                                        ...   \n",
       "99998      1678                          Mat' i syn (1997)   \n",
       "99999      1679                           B. Monkey (1998)   \n",
       "100000     1680                       Sliding Doors (1998)   \n",
       "100001     1681                        You So Crazy (1994)   \n",
       "100002     1682  Scream of Stone (Schrei aus Stein) (1991)   \n",
       "\n",
       "                                          title_y  user_id  rating  \n",
       "0                                Toy Story (1995)      308       4  \n",
       "1                                Toy Story (1995)      287       5  \n",
       "2                                Toy Story (1995)      148       4  \n",
       "3                                Toy Story (1995)      280       4  \n",
       "4                                Toy Story (1995)       66       3  \n",
       "...                                           ...      ...     ...  \n",
       "99998                           Mat' i syn (1997)      863       1  \n",
       "99999                            B. Monkey (1998)      863       3  \n",
       "100000                       Sliding Doors (1998)      863       2  \n",
       "100001                        You So Crazy (1994)      896       3  \n",
       "100002  Scream of Stone (Schrei aus Stein) (1991)      916       3  \n",
       "\n",
       "[100003 rows x 5 columns]"
      ]
     },
     "execution_count": 16,
     "metadata": {},
     "output_type": "execute_result"
    }
   ],
   "source": [
    "pd.merge(movie_titles_df, movies_rating_df , on= 'item_id')"
   ]
  },
  {
   "cell_type": "code",
   "execution_count": 17,
   "metadata": {
    "executionInfo": {
     "elapsed": 56,
     "status": "ok",
     "timestamp": 1652334752971,
     "user": {
      "displayName": "권성표",
      "userId": "01241945839262179482"
     },
     "user_tz": -540
    },
    "id": "sQsUAtNS8mNj"
   },
   "outputs": [],
   "source": [
    "movies_rating_df = pd.merge(movie_titles_df, movies_rating_df , on= 'item_id')"
   ]
  },
  {
   "cell_type": "code",
   "execution_count": 17,
   "metadata": {
    "executionInfo": {
     "elapsed": 56,
     "status": "ok",
     "timestamp": 1652334752972,
     "user": {
      "displayName": "권성표",
      "userId": "01241945839262179482"
     },
     "user_tz": -540
    },
    "id": "uwBD8wtC8mJ9"
   },
   "outputs": [],
   "source": []
  },
  {
   "cell_type": "code",
   "execution_count": 17,
   "metadata": {
    "executionInfo": {
     "elapsed": 56,
     "status": "ok",
     "timestamp": 1652334752972,
     "user": {
      "displayName": "권성표",
      "userId": "01241945839262179482"
     },
     "user_tz": -540
    },
    "id": "toAUwhCb8mGl"
   },
   "outputs": [],
   "source": []
  },
  {
   "cell_type": "markdown",
   "metadata": {
    "id": "21W2dPFVlU1j"
   },
   "source": [
    "# STEP #2: VISUALIZE DATASET"
   ]
  },
  {
   "cell_type": "markdown",
   "metadata": {
    "id": "e4NFAXg-tGku"
   },
   "source": [
    "### 각 영화 제목별로, 별점에 대한 기본통계치(최대,최소,중앙,표준편차,1/4,3/4 값)를 보여주세요."
   ]
  },
  {
   "cell_type": "code",
   "execution_count": 18,
   "metadata": {
    "colab": {
     "base_uri": "https://localhost:8080/",
     "height": 424
    },
    "executionInfo": {
     "elapsed": 55,
     "status": "ok",
     "timestamp": 1652334752972,
     "user": {
      "displayName": "권성표",
      "userId": "01241945839262179482"
     },
     "user_tz": -540
    },
    "id": "SsHm2FuK8r21",
    "outputId": "1fc4dedc-dd0c-4f82-de7f-e335a79a640b"
   },
   "outputs": [
    {
     "data": {
      "text/html": [
       "\n",
       "  <div id=\"df-e8fc4644-5983-4a2d-9d18-defa34d42374\">\n",
       "    <div class=\"colab-df-container\">\n",
       "      <div>\n",
       "<style scoped>\n",
       "    .dataframe tbody tr th:only-of-type {\n",
       "        vertical-align: middle;\n",
       "    }\n",
       "\n",
       "    .dataframe tbody tr th {\n",
       "        vertical-align: top;\n",
       "    }\n",
       "\n",
       "    .dataframe thead th {\n",
       "        text-align: right;\n",
       "    }\n",
       "</style>\n",
       "<table border=\"1\" class=\"dataframe\">\n",
       "  <thead>\n",
       "    <tr style=\"text-align: right;\">\n",
       "      <th></th>\n",
       "      <th>item_id</th>\n",
       "      <th>title_x</th>\n",
       "      <th>title_y</th>\n",
       "      <th>user_id</th>\n",
       "      <th>rating</th>\n",
       "    </tr>\n",
       "  </thead>\n",
       "  <tbody>\n",
       "    <tr>\n",
       "      <th>0</th>\n",
       "      <td>1</td>\n",
       "      <td>Toy Story (1995)</td>\n",
       "      <td>Toy Story (1995)</td>\n",
       "      <td>308</td>\n",
       "      <td>4</td>\n",
       "    </tr>\n",
       "    <tr>\n",
       "      <th>1</th>\n",
       "      <td>1</td>\n",
       "      <td>Toy Story (1995)</td>\n",
       "      <td>Toy Story (1995)</td>\n",
       "      <td>287</td>\n",
       "      <td>5</td>\n",
       "    </tr>\n",
       "    <tr>\n",
       "      <th>2</th>\n",
       "      <td>1</td>\n",
       "      <td>Toy Story (1995)</td>\n",
       "      <td>Toy Story (1995)</td>\n",
       "      <td>148</td>\n",
       "      <td>4</td>\n",
       "    </tr>\n",
       "    <tr>\n",
       "      <th>3</th>\n",
       "      <td>1</td>\n",
       "      <td>Toy Story (1995)</td>\n",
       "      <td>Toy Story (1995)</td>\n",
       "      <td>280</td>\n",
       "      <td>4</td>\n",
       "    </tr>\n",
       "    <tr>\n",
       "      <th>4</th>\n",
       "      <td>1</td>\n",
       "      <td>Toy Story (1995)</td>\n",
       "      <td>Toy Story (1995)</td>\n",
       "      <td>66</td>\n",
       "      <td>3</td>\n",
       "    </tr>\n",
       "    <tr>\n",
       "      <th>...</th>\n",
       "      <td>...</td>\n",
       "      <td>...</td>\n",
       "      <td>...</td>\n",
       "      <td>...</td>\n",
       "      <td>...</td>\n",
       "    </tr>\n",
       "    <tr>\n",
       "      <th>99998</th>\n",
       "      <td>1678</td>\n",
       "      <td>Mat' i syn (1997)</td>\n",
       "      <td>Mat' i syn (1997)</td>\n",
       "      <td>863</td>\n",
       "      <td>1</td>\n",
       "    </tr>\n",
       "    <tr>\n",
       "      <th>99999</th>\n",
       "      <td>1679</td>\n",
       "      <td>B. Monkey (1998)</td>\n",
       "      <td>B. Monkey (1998)</td>\n",
       "      <td>863</td>\n",
       "      <td>3</td>\n",
       "    </tr>\n",
       "    <tr>\n",
       "      <th>100000</th>\n",
       "      <td>1680</td>\n",
       "      <td>Sliding Doors (1998)</td>\n",
       "      <td>Sliding Doors (1998)</td>\n",
       "      <td>863</td>\n",
       "      <td>2</td>\n",
       "    </tr>\n",
       "    <tr>\n",
       "      <th>100001</th>\n",
       "      <td>1681</td>\n",
       "      <td>You So Crazy (1994)</td>\n",
       "      <td>You So Crazy (1994)</td>\n",
       "      <td>896</td>\n",
       "      <td>3</td>\n",
       "    </tr>\n",
       "    <tr>\n",
       "      <th>100002</th>\n",
       "      <td>1682</td>\n",
       "      <td>Scream of Stone (Schrei aus Stein) (1991)</td>\n",
       "      <td>Scream of Stone (Schrei aus Stein) (1991)</td>\n",
       "      <td>916</td>\n",
       "      <td>3</td>\n",
       "    </tr>\n",
       "  </tbody>\n",
       "</table>\n",
       "<p>100003 rows × 5 columns</p>\n",
       "</div>\n",
       "      <button class=\"colab-df-convert\" onclick=\"convertToInteractive('df-e8fc4644-5983-4a2d-9d18-defa34d42374')\"\n",
       "              title=\"Convert this dataframe to an interactive table.\"\n",
       "              style=\"display:none;\">\n",
       "        \n",
       "  <svg xmlns=\"http://www.w3.org/2000/svg\" height=\"24px\"viewBox=\"0 0 24 24\"\n",
       "       width=\"24px\">\n",
       "    <path d=\"M0 0h24v24H0V0z\" fill=\"none\"/>\n",
       "    <path d=\"M18.56 5.44l.94 2.06.94-2.06 2.06-.94-2.06-.94-.94-2.06-.94 2.06-2.06.94zm-11 1L8.5 8.5l.94-2.06 2.06-.94-2.06-.94L8.5 2.5l-.94 2.06-2.06.94zm10 10l.94 2.06.94-2.06 2.06-.94-2.06-.94-.94-2.06-.94 2.06-2.06.94z\"/><path d=\"M17.41 7.96l-1.37-1.37c-.4-.4-.92-.59-1.43-.59-.52 0-1.04.2-1.43.59L10.3 9.45l-7.72 7.72c-.78.78-.78 2.05 0 2.83L4 21.41c.39.39.9.59 1.41.59.51 0 1.02-.2 1.41-.59l7.78-7.78 2.81-2.81c.8-.78.8-2.07 0-2.86zM5.41 20L4 18.59l7.72-7.72 1.47 1.35L5.41 20z\"/>\n",
       "  </svg>\n",
       "      </button>\n",
       "      \n",
       "  <style>\n",
       "    .colab-df-container {\n",
       "      display:flex;\n",
       "      flex-wrap:wrap;\n",
       "      gap: 12px;\n",
       "    }\n",
       "\n",
       "    .colab-df-convert {\n",
       "      background-color: #E8F0FE;\n",
       "      border: none;\n",
       "      border-radius: 50%;\n",
       "      cursor: pointer;\n",
       "      display: none;\n",
       "      fill: #1967D2;\n",
       "      height: 32px;\n",
       "      padding: 0 0 0 0;\n",
       "      width: 32px;\n",
       "    }\n",
       "\n",
       "    .colab-df-convert:hover {\n",
       "      background-color: #E2EBFA;\n",
       "      box-shadow: 0px 1px 2px rgba(60, 64, 67, 0.3), 0px 1px 3px 1px rgba(60, 64, 67, 0.15);\n",
       "      fill: #174EA6;\n",
       "    }\n",
       "\n",
       "    [theme=dark] .colab-df-convert {\n",
       "      background-color: #3B4455;\n",
       "      fill: #D2E3FC;\n",
       "    }\n",
       "\n",
       "    [theme=dark] .colab-df-convert:hover {\n",
       "      background-color: #434B5C;\n",
       "      box-shadow: 0px 1px 3px 1px rgba(0, 0, 0, 0.15);\n",
       "      filter: drop-shadow(0px 1px 2px rgba(0, 0, 0, 0.3));\n",
       "      fill: #FFFFFF;\n",
       "    }\n",
       "  </style>\n",
       "\n",
       "      <script>\n",
       "        const buttonEl =\n",
       "          document.querySelector('#df-e8fc4644-5983-4a2d-9d18-defa34d42374 button.colab-df-convert');\n",
       "        buttonEl.style.display =\n",
       "          google.colab.kernel.accessAllowed ? 'block' : 'none';\n",
       "\n",
       "        async function convertToInteractive(key) {\n",
       "          const element = document.querySelector('#df-e8fc4644-5983-4a2d-9d18-defa34d42374');\n",
       "          const dataTable =\n",
       "            await google.colab.kernel.invokeFunction('convertToInteractive',\n",
       "                                                     [key], {});\n",
       "          if (!dataTable) return;\n",
       "\n",
       "          const docLinkHtml = 'Like what you see? Visit the ' +\n",
       "            '<a target=\"_blank\" href=https://colab.research.google.com/notebooks/data_table.ipynb>data table notebook</a>'\n",
       "            + ' to learn more about interactive tables.';\n",
       "          element.innerHTML = '';\n",
       "          dataTable['output_type'] = 'display_data';\n",
       "          await google.colab.output.renderOutput(dataTable, element);\n",
       "          const docLink = document.createElement('div');\n",
       "          docLink.innerHTML = docLinkHtml;\n",
       "          element.appendChild(docLink);\n",
       "        }\n",
       "      </script>\n",
       "    </div>\n",
       "  </div>\n",
       "  "
      ],
      "text/plain": [
       "        item_id                                    title_x  \\\n",
       "0             1                           Toy Story (1995)   \n",
       "1             1                           Toy Story (1995)   \n",
       "2             1                           Toy Story (1995)   \n",
       "3             1                           Toy Story (1995)   \n",
       "4             1                           Toy Story (1995)   \n",
       "...         ...                                        ...   \n",
       "99998      1678                          Mat' i syn (1997)   \n",
       "99999      1679                           B. Monkey (1998)   \n",
       "100000     1680                       Sliding Doors (1998)   \n",
       "100001     1681                        You So Crazy (1994)   \n",
       "100002     1682  Scream of Stone (Schrei aus Stein) (1991)   \n",
       "\n",
       "                                          title_y  user_id  rating  \n",
       "0                                Toy Story (1995)      308       4  \n",
       "1                                Toy Story (1995)      287       5  \n",
       "2                                Toy Story (1995)      148       4  \n",
       "3                                Toy Story (1995)      280       4  \n",
       "4                                Toy Story (1995)       66       3  \n",
       "...                                           ...      ...     ...  \n",
       "99998                           Mat' i syn (1997)      863       1  \n",
       "99999                            B. Monkey (1998)      863       3  \n",
       "100000                       Sliding Doors (1998)      863       2  \n",
       "100001                        You So Crazy (1994)      896       3  \n",
       "100002  Scream of Stone (Schrei aus Stein) (1991)      916       3  \n",
       "\n",
       "[100003 rows x 5 columns]"
      ]
     },
     "execution_count": 18,
     "metadata": {},
     "output_type": "execute_result"
    }
   ],
   "source": [
    "movies_rating_df"
   ]
  },
  {
   "cell_type": "code",
   "execution_count": 19,
   "metadata": {
    "colab": {
     "base_uri": "https://localhost:8080/",
     "height": 327
    },
    "executionInfo": {
     "elapsed": 1748,
     "status": "error",
     "timestamp": 1652334754666,
     "user": {
      "displayName": "권성표",
      "userId": "01241945839262179482"
     },
     "user_tz": -540
    },
    "id": "jjDKeGfSI1Kc",
    "outputId": "92e5f5eb-07b9-4b20-e302-705975da84ea"
   },
   "outputs": [
    {
     "ename": "KeyError",
     "evalue": "ignored",
     "output_type": "error",
     "traceback": [
      "\u001b[0;31m---------------------------------------------------------------------------\u001b[0m",
      "\u001b[0;31mKeyError\u001b[0m                                  Traceback (most recent call last)",
      "\u001b[0;32m<ipython-input-19-6b7f9bd5065b>\u001b[0m in \u001b[0;36m<module>\u001b[0;34m()\u001b[0m\n\u001b[0;32m----> 1\u001b[0;31m \u001b[0mmovies_rating_df\u001b[0m\u001b[0;34m.\u001b[0m\u001b[0mgroupby\u001b[0m\u001b[0;34m(\u001b[0m\u001b[0;34m'title'\u001b[0m\u001b[0;34m)\u001b[0m\u001b[0;34m[\u001b[0m\u001b[0;34m'rating'\u001b[0m\u001b[0;34m]\u001b[0m\u001b[0;34m.\u001b[0m\u001b[0mdescribe\u001b[0m\u001b[0;34m(\u001b[0m\u001b[0;34m)\u001b[0m\u001b[0;34m\u001b[0m\u001b[0;34m\u001b[0m\u001b[0m\n\u001b[0m",
      "\u001b[0;32m/usr/local/lib/python3.7/dist-packages/pandas/core/frame.py\u001b[0m in \u001b[0;36mgroupby\u001b[0;34m(self, by, axis, level, as_index, sort, group_keys, squeeze, observed, dropna)\u001b[0m\n\u001b[1;32m   7639\u001b[0m             \u001b[0msqueeze\u001b[0m\u001b[0;34m=\u001b[0m\u001b[0msqueeze\u001b[0m\u001b[0;34m,\u001b[0m  \u001b[0;31m# type: ignore[arg-type]\u001b[0m\u001b[0;34m\u001b[0m\u001b[0;34m\u001b[0m\u001b[0m\n\u001b[1;32m   7640\u001b[0m             \u001b[0mobserved\u001b[0m\u001b[0;34m=\u001b[0m\u001b[0mobserved\u001b[0m\u001b[0;34m,\u001b[0m\u001b[0;34m\u001b[0m\u001b[0;34m\u001b[0m\u001b[0m\n\u001b[0;32m-> 7641\u001b[0;31m             \u001b[0mdropna\u001b[0m\u001b[0;34m=\u001b[0m\u001b[0mdropna\u001b[0m\u001b[0;34m,\u001b[0m\u001b[0;34m\u001b[0m\u001b[0;34m\u001b[0m\u001b[0m\n\u001b[0m\u001b[1;32m   7642\u001b[0m         )\n\u001b[1;32m   7643\u001b[0m \u001b[0;34m\u001b[0m\u001b[0m\n",
      "\u001b[0;32m/usr/local/lib/python3.7/dist-packages/pandas/core/groupby/groupby.py\u001b[0m in \u001b[0;36m__init__\u001b[0;34m(self, obj, keys, axis, level, grouper, exclusions, selection, as_index, sort, group_keys, squeeze, observed, mutated, dropna)\u001b[0m\n\u001b[1;32m    895\u001b[0m                 \u001b[0mobserved\u001b[0m\u001b[0;34m=\u001b[0m\u001b[0mobserved\u001b[0m\u001b[0;34m,\u001b[0m\u001b[0;34m\u001b[0m\u001b[0;34m\u001b[0m\u001b[0m\n\u001b[1;32m    896\u001b[0m                 \u001b[0mmutated\u001b[0m\u001b[0;34m=\u001b[0m\u001b[0mself\u001b[0m\u001b[0;34m.\u001b[0m\u001b[0mmutated\u001b[0m\u001b[0;34m,\u001b[0m\u001b[0;34m\u001b[0m\u001b[0;34m\u001b[0m\u001b[0m\n\u001b[0;32m--> 897\u001b[0;31m                 \u001b[0mdropna\u001b[0m\u001b[0;34m=\u001b[0m\u001b[0mself\u001b[0m\u001b[0;34m.\u001b[0m\u001b[0mdropna\u001b[0m\u001b[0;34m,\u001b[0m\u001b[0;34m\u001b[0m\u001b[0;34m\u001b[0m\u001b[0m\n\u001b[0m\u001b[1;32m    898\u001b[0m             )\n\u001b[1;32m    899\u001b[0m \u001b[0;34m\u001b[0m\u001b[0m\n",
      "\u001b[0;32m/usr/local/lib/python3.7/dist-packages/pandas/core/groupby/grouper.py\u001b[0m in \u001b[0;36mget_grouper\u001b[0;34m(obj, key, axis, level, sort, observed, mutated, validate, dropna)\u001b[0m\n\u001b[1;32m    860\u001b[0m                 \u001b[0min_axis\u001b[0m\u001b[0;34m,\u001b[0m \u001b[0mlevel\u001b[0m\u001b[0;34m,\u001b[0m \u001b[0mgpr\u001b[0m \u001b[0;34m=\u001b[0m \u001b[0;32mFalse\u001b[0m\u001b[0;34m,\u001b[0m \u001b[0mgpr\u001b[0m\u001b[0;34m,\u001b[0m \u001b[0;32mNone\u001b[0m\u001b[0;34m\u001b[0m\u001b[0;34m\u001b[0m\u001b[0m\n\u001b[1;32m    861\u001b[0m             \u001b[0;32melse\u001b[0m\u001b[0;34m:\u001b[0m\u001b[0;34m\u001b[0m\u001b[0;34m\u001b[0m\u001b[0m\n\u001b[0;32m--> 862\u001b[0;31m                 \u001b[0;32mraise\u001b[0m \u001b[0mKeyError\u001b[0m\u001b[0;34m(\u001b[0m\u001b[0mgpr\u001b[0m\u001b[0;34m)\u001b[0m\u001b[0;34m\u001b[0m\u001b[0;34m\u001b[0m\u001b[0m\n\u001b[0m\u001b[1;32m    863\u001b[0m         \u001b[0;32melif\u001b[0m \u001b[0misinstance\u001b[0m\u001b[0;34m(\u001b[0m\u001b[0mgpr\u001b[0m\u001b[0;34m,\u001b[0m \u001b[0mGrouper\u001b[0m\u001b[0;34m)\u001b[0m \u001b[0;32mand\u001b[0m \u001b[0mgpr\u001b[0m\u001b[0;34m.\u001b[0m\u001b[0mkey\u001b[0m \u001b[0;32mis\u001b[0m \u001b[0;32mnot\u001b[0m \u001b[0;32mNone\u001b[0m\u001b[0;34m:\u001b[0m\u001b[0;34m\u001b[0m\u001b[0;34m\u001b[0m\u001b[0m\n\u001b[1;32m    864\u001b[0m             \u001b[0;31m# Add key to exclusions\u001b[0m\u001b[0;34m\u001b[0m\u001b[0;34m\u001b[0m\u001b[0;34m\u001b[0m\u001b[0m\n",
      "\u001b[0;31mKeyError\u001b[0m: 'title'"
     ]
    }
   ],
   "source": [
    "movies_rating_df.groupby('title')['rating'].describe()"
   ]
  },
  {
   "cell_type": "code",
   "execution_count": null,
   "metadata": {
    "executionInfo": {
     "elapsed": 28,
     "status": "aborted",
     "timestamp": 1652334753717,
     "user": {
      "displayName": "권성표",
      "userId": "01241945839262179482"
     },
     "user_tz": -540
    },
    "id": "SCf6gPRvI1EM"
   },
   "outputs": [],
   "source": []
  },
  {
   "cell_type": "markdown",
   "metadata": {
    "id": "FBBaJRLsuVJ6"
   },
   "source": [
    "### 각 영화별 별점의 평균을 구하고, 이를 ratings_df_mean 에 저장하시오."
   ]
  },
  {
   "cell_type": "code",
   "execution_count": null,
   "metadata": {
    "executionInfo": {
     "elapsed": 29,
     "status": "aborted",
     "timestamp": 1652334753718,
     "user": {
      "displayName": "권성표",
      "userId": "01241945839262179482"
     },
     "user_tz": -540
    },
    "id": "cTTA0oIV8tqQ"
   },
   "outputs": [],
   "source": [
    "ratings_df_mean = movies_rating_df.groupby('title')['rating'].mean()"
   ]
  },
  {
   "cell_type": "markdown",
   "metadata": {
    "id": "Q3SRuDu-zbrN"
   },
   "source": []
  },
  {
   "cell_type": "code",
   "execution_count": null,
   "metadata": {
    "executionInfo": {
     "elapsed": 30,
     "status": "aborted",
     "timestamp": 1652334753719,
     "user": {
      "displayName": "권성표",
      "userId": "01241945839262179482"
     },
     "user_tz": -540
    },
    "id": "QD623e2V8tWG"
   },
   "outputs": [],
   "source": []
  },
  {
   "cell_type": "code",
   "execution_count": null,
   "metadata": {
    "executionInfo": {
     "elapsed": 31,
     "status": "aborted",
     "timestamp": 1652334753720,
     "user": {
      "displayName": "권성표",
      "userId": "01241945839262179482"
     },
     "user_tz": -540
    },
    "id": "jzSOkesh8tS3"
   },
   "outputs": [],
   "source": []
  },
  {
   "cell_type": "markdown",
   "metadata": {
    "id": "MAM86nPhtuVi"
   },
   "source": [
    "### 각 영화별로, 몇개의 데이터가 있는지 구하고, 이를 ratings_df_count 에 저장하시오."
   ]
  },
  {
   "cell_type": "code",
   "execution_count": null,
   "metadata": {
    "executionInfo": {
     "elapsed": 31,
     "status": "aborted",
     "timestamp": 1652334753720,
     "user": {
      "displayName": "권성표",
      "userId": "01241945839262179482"
     },
     "user_tz": -540
    },
    "id": "sMgPW4gO8wKy"
   },
   "outputs": [],
   "source": [
    "movies_rating_df.head()"
   ]
  },
  {
   "cell_type": "code",
   "execution_count": null,
   "metadata": {
    "executionInfo": {
     "elapsed": 32,
     "status": "aborted",
     "timestamp": 1652334753721,
     "user": {
      "displayName": "권성표",
      "userId": "01241945839262179482"
     },
     "user_tz": -540
    },
    "id": "8L9EA6Tj8vbd"
   },
   "outputs": [],
   "source": [
    "movies_rating_df['title'].value_counts()"
   ]
  },
  {
   "cell_type": "code",
   "execution_count": null,
   "metadata": {
    "executionInfo": {
     "elapsed": 32,
     "status": "aborted",
     "timestamp": 1652334753721,
     "user": {
      "displayName": "권성표",
      "userId": "01241945839262179482"
     },
     "user_tz": -540
    },
    "id": "AdZxlmdx8vYW"
   },
   "outputs": [],
   "source": [
    "ratings_df_count = movies_rating_df['title'].value_counts()"
   ]
  },
  {
   "cell_type": "markdown",
   "metadata": {
    "id": "WAovqURtuSCY"
   },
   "source": [
    "### 두 데이터프레임을 합치세요. "
   ]
  },
  {
   "cell_type": "code",
   "execution_count": null,
   "metadata": {
    "executionInfo": {
     "elapsed": 33,
     "status": "aborted",
     "timestamp": 1652334753722,
     "user": {
      "displayName": "권성표",
      "userId": "01241945839262179482"
     },
     "user_tz": -540
    },
    "id": "fM1ECP_fKDOF"
   },
   "outputs": [],
   "source": [
    "ratings_df_mean"
   ]
  },
  {
   "cell_type": "code",
   "execution_count": null,
   "metadata": {
    "executionInfo": {
     "elapsed": 32,
     "status": "aborted",
     "timestamp": 1652334753722,
     "user": {
      "displayName": "권성표",
      "userId": "01241945839262179482"
     },
     "user_tz": -540
    },
    "id": "ASkAesybKDL8"
   },
   "outputs": [],
   "source": [
    "ratings_df_count.reset_index"
   ]
  },
  {
   "cell_type": "code",
   "execution_count": null,
   "metadata": {
    "executionInfo": {
     "elapsed": 32,
     "status": "aborted",
     "timestamp": 1652334753722,
     "user": {
      "displayName": "권성표",
      "userId": "01241945839262179482"
     },
     "user_tz": -540
    },
    "id": "Uzh_RigOKDJu"
   },
   "outputs": [],
   "source": [
    "pd.DataFrame(data= [ratings_df_mean, ratings_df_count])"
   ]
  },
  {
   "cell_type": "code",
   "execution_count": null,
   "metadata": {
    "executionInfo": {
     "elapsed": 33,
     "status": "aborted",
     "timestamp": 1652334753723,
     "user": {
      "displayName": "권성표",
      "userId": "01241945839262179482"
     },
     "user_tz": -540
    },
    "id": "cGVluTe0KDG2"
   },
   "outputs": [],
   "source": [
    "ratings_mean_count_df =  "
   ]
  },
  {
   "cell_type": "code",
   "execution_count": null,
   "metadata": {
    "executionInfo": {
     "elapsed": 33,
     "status": "aborted",
     "timestamp": 1652334753723,
     "user": {
      "displayName": "권성표",
      "userId": "01241945839262179482"
     },
     "user_tz": -540
    },
    "id": "VqVIdVaeLJlZ"
   },
   "outputs": [],
   "source": []
  },
  {
   "cell_type": "code",
   "execution_count": null,
   "metadata": {
    "executionInfo": {
     "elapsed": 34,
     "status": "aborted",
     "timestamp": 1652334753724,
     "user": {
      "displayName": "권성표",
      "userId": "01241945839262179482"
     },
     "user_tz": -540
    },
    "id": "3JKHR3sbLJjH"
   },
   "outputs": [],
   "source": []
  },
  {
   "cell_type": "code",
   "execution_count": null,
   "metadata": {
    "executionInfo": {
     "elapsed": 34,
     "status": "aborted",
     "timestamp": 1652334753724,
     "user": {
      "displayName": "권성표",
      "userId": "01241945839262179482"
     },
     "user_tz": -540
    },
    "id": "wGyxYqXoLJgA"
   },
   "outputs": [],
   "source": []
  },
  {
   "cell_type": "code",
   "execution_count": null,
   "metadata": {
    "executionInfo": {
     "elapsed": 35,
     "status": "aborted",
     "timestamp": 1652334753725,
     "user": {
      "displayName": "권성표",
      "userId": "01241945839262179482"
     },
     "user_tz": -540
    },
    "id": "AlbhiwSNMFUD"
   },
   "outputs": [],
   "source": [
    "ratings_df_mean"
   ]
  },
  {
   "cell_type": "code",
   "execution_count": null,
   "metadata": {
    "executionInfo": {
     "elapsed": 35,
     "status": "aborted",
     "timestamp": 1652334753725,
     "user": {
      "displayName": "권성표",
      "userId": "01241945839262179482"
     },
     "user_tz": -540
    },
    "id": "sjBQ4OfWLLBY"
   },
   "outputs": [],
   "source": [
    "ratings_df_mean.to_frame()"
   ]
  },
  {
   "cell_type": "code",
   "execution_count": null,
   "metadata": {
    "executionInfo": {
     "elapsed": 36,
     "status": "aborted",
     "timestamp": 1652334753725,
     "user": {
      "displayName": "권성표",
      "userId": "01241945839262179482"
     },
     "user_tz": -540
    },
    "id": "p29w7p1xLnEj"
   },
   "outputs": [],
   "source": [
    "ratings_df_mean1 = ratings_df_mean.to_frame()"
   ]
  },
  {
   "cell_type": "code",
   "execution_count": null,
   "metadata": {
    "executionInfo": {
     "elapsed": 36,
     "status": "aborted",
     "timestamp": 1652334753726,
     "user": {
      "displayName": "권성표",
      "userId": "01241945839262179482"
     },
     "user_tz": -540
    },
    "id": "26j2Ju6DL1Yj"
   },
   "outputs": [],
   "source": [
    "ratings_df_mean1.columns = ['mean']"
   ]
  },
  {
   "cell_type": "code",
   "execution_count": null,
   "metadata": {
    "executionInfo": {
     "elapsed": 36,
     "status": "aborted",
     "timestamp": 1652334753726,
     "user": {
      "displayName": "권성표",
      "userId": "01241945839262179482"
     },
     "user_tz": -540
    },
    "id": "N3wSpO4GL1S7"
   },
   "outputs": [],
   "source": [
    "ratings_df_mean1"
   ]
  },
  {
   "cell_type": "code",
   "execution_count": null,
   "metadata": {
    "executionInfo": {
     "elapsed": 37,
     "status": "aborted",
     "timestamp": 1652334753727,
     "user": {
      "displayName": "권성표",
      "userId": "01241945839262179482"
     },
     "user_tz": -540
    },
    "id": "lKLW713PL1Qk"
   },
   "outputs": [],
   "source": []
  },
  {
   "cell_type": "code",
   "execution_count": null,
   "metadata": {
    "executionInfo": {
     "elapsed": 37,
     "status": "aborted",
     "timestamp": 1652334753727,
     "user": {
      "displayName": "권성표",
      "userId": "01241945839262179482"
     },
     "user_tz": -540
    },
    "id": "xtulaFCGMdkB"
   },
   "outputs": [],
   "source": [
    "ratings_df_count"
   ]
  },
  {
   "cell_type": "code",
   "execution_count": null,
   "metadata": {
    "executionInfo": {
     "elapsed": 36,
     "status": "aborted",
     "timestamp": 1652334753727,
     "user": {
      "displayName": "권성표",
      "userId": "01241945839262179482"
     },
     "user_tz": -540
    },
    "id": "bXZmlRlcMaZx"
   },
   "outputs": [],
   "source": [
    "ratings_df_count.to_frame()"
   ]
  },
  {
   "cell_type": "code",
   "execution_count": null,
   "metadata": {
    "executionInfo": {
     "elapsed": 37,
     "status": "aborted",
     "timestamp": 1652334753728,
     "user": {
      "displayName": "권성표",
      "userId": "01241945839262179482"
     },
     "user_tz": -540
    },
    "id": "uoDLw1rmLK_L"
   },
   "outputs": [],
   "source": [
    "ratings_df_count1 = ratings_df_count.to_frame()"
   ]
  },
  {
   "cell_type": "code",
   "execution_count": null,
   "metadata": {
    "executionInfo": {
     "elapsed": 37,
     "status": "aborted",
     "timestamp": 1652334753728,
     "user": {
      "displayName": "권성표",
      "userId": "01241945839262179482"
     },
     "user_tz": -540
    },
    "id": "Cw0RKHSHMV1z"
   },
   "outputs": [],
   "source": [
    "ratings_df_count1.columns = ['count']"
   ]
  },
  {
   "cell_type": "code",
   "execution_count": null,
   "metadata": {
    "executionInfo": {
     "elapsed": 37,
     "status": "aborted",
     "timestamp": 1652334753728,
     "user": {
      "displayName": "권성표",
      "userId": "01241945839262179482"
     },
     "user_tz": -540
    },
    "id": "nOWbuqwmMVzm"
   },
   "outputs": [],
   "source": [
    "ratings_df_count1"
   ]
  },
  {
   "cell_type": "code",
   "execution_count": null,
   "metadata": {
    "executionInfo": {
     "elapsed": 37,
     "status": "aborted",
     "timestamp": 1652334753728,
     "user": {
      "displayName": "권성표",
      "userId": "01241945839262179482"
     },
     "user_tz": -540
    },
    "id": "KpgfZp5GMVxL"
   },
   "outputs": [],
   "source": []
  },
  {
   "cell_type": "code",
   "execution_count": null,
   "metadata": {
    "executionInfo": {
     "elapsed": 38,
     "status": "aborted",
     "timestamp": 1652334753729,
     "user": {
      "displayName": "권성표",
      "userId": "01241945839262179482"
     },
     "user_tz": -540
    },
    "id": "OSBSOgJ-LJdg"
   },
   "outputs": [],
   "source": [
    "# 두개 데이터프레임 준비됐고 합치기\n",
    "\n",
    "ratings_df_mean1.join(ratings_df_count1)\n",
    "\n",
    "# pandas의 join 함수는, 데이터프레임끼리 합치는 함수이되, \n",
    "# 인덱스가 같은것들 끼리 알아서 합쳐준다\n",
    "\n",
    "# 시리즈는 join 함수가 없습니다."
   ]
  },
  {
   "cell_type": "code",
   "execution_count": null,
   "metadata": {
    "executionInfo": {
     "elapsed": 38,
     "status": "aborted",
     "timestamp": 1652334753729,
     "user": {
      "displayName": "권성표",
      "userId": "01241945839262179482"
     },
     "user_tz": -540
    },
    "id": "Hw1OUUiKlU1k"
   },
   "outputs": [],
   "source": [
    "ratings_mean_count_df =  ratings_df_mean1.join(ratings_df_count1)"
   ]
  },
  {
   "cell_type": "code",
   "execution_count": null,
   "metadata": {
    "executionInfo": {
     "elapsed": 38,
     "status": "aborted",
     "timestamp": 1652334753729,
     "user": {
      "displayName": "권성표",
      "userId": "01241945839262179482"
     },
     "user_tz": -540
    },
    "id": "FXxkOyN29PoY"
   },
   "outputs": [],
   "source": []
  },
  {
   "cell_type": "code",
   "execution_count": null,
   "metadata": {
    "executionInfo": {
     "elapsed": 39,
     "status": "aborted",
     "timestamp": 1652334753730,
     "user": {
      "displayName": "권성표",
      "userId": "01241945839262179482"
     },
     "user_tz": -540
    },
    "id": "NAngNA3x9PBs"
   },
   "outputs": [],
   "source": []
  },
  {
   "cell_type": "markdown",
   "metadata": {
    "id": "H3fiC1TExfAS"
   },
   "source": [
    "### 컬럼명을 확인하면, 합쳐진 컬럼들이 rating, rating 이라고 되어있습니다. 이를 count, mean 으로 컬럼명을 셋팅하세요."
   ]
  },
  {
   "cell_type": "code",
   "execution_count": null,
   "metadata": {
    "executionInfo": {
     "elapsed": 39,
     "status": "aborted",
     "timestamp": 1652334753730,
     "user": {
      "displayName": "권성표",
      "userId": "01241945839262179482"
     },
     "user_tz": -540
    },
    "id": "SQu0mKR-9Yav"
   },
   "outputs": [],
   "source": [
    "ratings_mean_count_df"
   ]
  },
  {
   "cell_type": "code",
   "execution_count": null,
   "metadata": {
    "executionInfo": {
     "elapsed": 936,
     "status": "aborted",
     "timestamp": 1652334754627,
     "user": {
      "displayName": "권성표",
      "userId": "01241945839262179482"
     },
     "user_tz": -540
    },
    "id": "m1A_hFx19YRw"
   },
   "outputs": [],
   "source": []
  },
  {
   "cell_type": "code",
   "execution_count": null,
   "metadata": {
    "executionInfo": {
     "elapsed": 936,
     "status": "aborted",
     "timestamp": 1652334754627,
     "user": {
      "displayName": "권성표",
      "userId": "01241945839262179482"
     },
     "user_tz": -540
    },
    "id": "Zz2gIlFi9YIZ"
   },
   "outputs": [],
   "source": []
  },
  {
   "cell_type": "markdown",
   "metadata": {
    "id": "c6NnUzHqxt9F"
   },
   "source": [
    "### mean 으로 히스토그램을 그려보세요."
   ]
  },
  {
   "cell_type": "code",
   "execution_count": null,
   "metadata": {
    "executionInfo": {
     "elapsed": 936,
     "status": "aborted",
     "timestamp": 1652334754628,
     "user": {
      "displayName": "권성표",
      "userId": "01241945839262179482"
     },
     "user_tz": -540
    },
    "id": "CbqKosBJ9gU2"
   },
   "outputs": [],
   "source": [
    "ratings_mean_count_df['mean'].hist()\n",
    "plt.show()"
   ]
  },
  {
   "cell_type": "markdown",
   "metadata": {
    "id": "OfbVoJ2o9hUA"
   },
   "source": [
    "### count 로 히스토그램을 그려보세요."
   ]
  },
  {
   "cell_type": "code",
   "execution_count": null,
   "metadata": {
    "executionInfo": {
     "elapsed": 936,
     "status": "aborted",
     "timestamp": 1652334754628,
     "user": {
      "displayName": "권성표",
      "userId": "01241945839262179482"
     },
     "user_tz": -540
    },
    "id": "oAvi5a0h9gGR"
   },
   "outputs": [],
   "source": [
    "ratings_mean_count_df['count'].hist()\n",
    "plt.show()"
   ]
  },
  {
   "cell_type": "markdown",
   "metadata": {
    "id": "8z7LVG3px35c"
   },
   "source": [
    "### 평균점수가 5점인 영화들은 어떤 영화인지 확인하세요."
   ]
  },
  {
   "cell_type": "code",
   "execution_count": null,
   "metadata": {
    "executionInfo": {
     "elapsed": 936,
     "status": "aborted",
     "timestamp": 1652334754628,
     "user": {
      "displayName": "권성표",
      "userId": "01241945839262179482"
     },
     "user_tz": -540
    },
    "id": "NeYBx50c9mM8"
   },
   "outputs": [],
   "source": [
    "ratings_mean_count_df.loc[ratings_mean_count_df['mean'] == 5 , ]"
   ]
  },
  {
   "cell_type": "code",
   "execution_count": null,
   "metadata": {
    "executionInfo": {
     "elapsed": 937,
     "status": "aborted",
     "timestamp": 1652334754629,
     "user": {
      "displayName": "권성표",
      "userId": "01241945839262179482"
     },
     "user_tz": -540
    },
    "id": "Z7f8vBGG9mEC"
   },
   "outputs": [],
   "source": []
  },
  {
   "cell_type": "markdown",
   "metadata": {
    "id": "RTjc-HlOyKH6"
   },
   "source": [
    "### count 가 가장 많은 것부터 정렬하여 100개까지만 보여주세요."
   ]
  },
  {
   "cell_type": "code",
   "execution_count": null,
   "metadata": {
    "executionInfo": {
     "elapsed": 937,
     "status": "aborted",
     "timestamp": 1652334754629,
     "user": {
      "displayName": "권성표",
      "userId": "01241945839262179482"
     },
     "user_tz": -540
    },
    "id": "8XVxiAuC9npa"
   },
   "outputs": [],
   "source": [
    "ratings_mean_count_df.sort_values(by= 'count', ascending= False).head(100)"
   ]
  },
  {
   "cell_type": "code",
   "execution_count": null,
   "metadata": {
    "executionInfo": {
     "elapsed": 937,
     "status": "aborted",
     "timestamp": 1652334754629,
     "user": {
      "displayName": "권성표",
      "userId": "01241945839262179482"
     },
     "user_tz": -540
    },
    "id": "_Qizccxs9nhi"
   },
   "outputs": [],
   "source": []
  },
  {
   "cell_type": "markdown",
   "metadata": {
    "id": "22FT4NFwlU1l"
   },
   "source": [
    "# STEP #3: 영화 하나에 대한, ITEM-BASED COLLABORATIVE FILTERING 수행!"
   ]
  },
  {
   "cell_type": "code",
   "execution_count": null,
   "metadata": {
    "executionInfo": {
     "elapsed": 938,
     "status": "aborted",
     "timestamp": 1652334754630,
     "user": {
      "displayName": "권성표",
      "userId": "01241945839262179482"
     },
     "user_tz": -540
    },
    "id": "PtcHnxsFRBvt"
   },
   "outputs": [],
   "source": [
    "movie_titles_df.shape"
   ]
  },
  {
   "cell_type": "code",
   "execution_count": null,
   "metadata": {
    "executionInfo": {
     "elapsed": 938,
     "status": "aborted",
     "timestamp": 1652334754630,
     "user": {
      "displayName": "권성표",
      "userId": "01241945839262179482"
     },
     "user_tz": -540
    },
    "id": "t2BgiAa0RKrl"
   },
   "outputs": [],
   "source": [
    "movies_rating_df.groupby('user_id')['user_id'].count()\n",
    "\n",
    "# 표를 만들어야 된다는걸 외우자\n",
    "# 위에 영화이름\n",
    "# 옆에 유저아이디"
   ]
  },
  {
   "cell_type": "code",
   "execution_count": null,
   "metadata": {
    "executionInfo": {
     "elapsed": 938,
     "status": "aborted",
     "timestamp": 1652334754630,
     "user": {
      "displayName": "권성표",
      "userId": "01241945839262179482"
     },
     "user_tz": -540
    },
    "id": "HK6MMWx8P9-q"
   },
   "outputs": [],
   "source": [
    "movies_rating_df.corr()\n",
    "\n",
    "# 상관계수는 corr()을 써야되고\n",
    "# corr()은 컬럼에 있어야됨"
   ]
  },
  {
   "cell_type": "code",
   "execution_count": null,
   "metadata": {
    "executionInfo": {
     "elapsed": 939,
     "status": "aborted",
     "timestamp": 1652334754631,
     "user": {
      "displayName": "권성표",
      "userId": "01241945839262179482"
     },
     "user_tz": -540
    },
    "id": "41OC2DKDPvnR"
   },
   "outputs": [],
   "source": [
    "movies_rating_df"
   ]
  },
  {
   "cell_type": "code",
   "execution_count": null,
   "metadata": {
    "executionInfo": {
     "elapsed": 939,
     "status": "aborted",
     "timestamp": 1652334754631,
     "user": {
      "displayName": "권성표",
      "userId": "01241945839262179482"
     },
     "user_tz": -540
    },
    "id": "VqLdZSvGRATP"
   },
   "outputs": [],
   "source": []
  },
  {
   "cell_type": "code",
   "execution_count": null,
   "metadata": {
    "executionInfo": {
     "elapsed": 939,
     "status": "aborted",
     "timestamp": 1652334754631,
     "user": {
      "displayName": "권성표",
      "userId": "01241945839262179482"
     },
     "user_tz": -540
    },
    "id": "BAZhpZNwy2fN"
   },
   "outputs": [],
   "source": [
    "# movies_rating_df 를 가지고 아래 피봇테이블 합니다."
   ]
  },
  {
   "cell_type": "markdown",
   "metadata": {
    "id": "xur5XS0azVVd"
   },
   "source": [
    "### 피봇 테이블을 하여, 콜라보레이티브 필터링 포맷으로 변경"
   ]
  },
  {
   "cell_type": "code",
   "execution_count": null,
   "metadata": {
    "executionInfo": {
     "elapsed": 940,
     "status": "aborted",
     "timestamp": 1652334754632,
     "user": {
      "displayName": "권성표",
      "userId": "01241945839262179482"
     },
     "user_tz": -540
    },
    "id": "lot4oLYf95OE"
   },
   "outputs": [],
   "source": [
    "movies_rating_df.pivot_table(values= 'rating', index= 'user_id', columns='title', aggfunc= 'mean')"
   ]
  },
  {
   "cell_type": "code",
   "execution_count": null,
   "metadata": {
    "executionInfo": {
     "elapsed": 939,
     "status": "aborted",
     "timestamp": 1652334754632,
     "user": {
      "displayName": "권성표",
      "userId": "01241945839262179482"
     },
     "user_tz": -540
    },
    "id": "UuwoZrqb95J7"
   },
   "outputs": [],
   "source": [
    "df = movies_rating_df.pivot_table(values= 'rating', index= 'user_id', columns='title', aggfunc= 'mean')"
   ]
  },
  {
   "cell_type": "code",
   "execution_count": null,
   "metadata": {
    "executionInfo": {
     "elapsed": 939,
     "status": "aborted",
     "timestamp": 1652334754632,
     "user": {
      "displayName": "권성표",
      "userId": "01241945839262179482"
     },
     "user_tz": -540
    },
    "id": "ITjNoi3295Fz"
   },
   "outputs": [],
   "source": []
  },
  {
   "cell_type": "code",
   "execution_count": null,
   "metadata": {
    "executionInfo": {
     "elapsed": 940,
     "status": "aborted",
     "timestamp": 1652334754633,
     "user": {
      "displayName": "권성표",
      "userId": "01241945839262179482"
     },
     "user_tz": -540
    },
    "id": "iw-iACfJ95Co"
   },
   "outputs": [],
   "source": []
  },
  {
   "cell_type": "markdown",
   "metadata": {
    "id": "jLJbKgpMmxAD"
   },
   "source": [
    "### 전체 영화와, 타이타닉 영화의 상관관계 분석을 하면, 타이타닉을 본 사람들에게 상관계수가 높은 영화를 추천하면 된다. corrwith 함수를 이용한다."
   ]
  },
  {
   "cell_type": "code",
   "execution_count": null,
   "metadata": {
    "executionInfo": {
     "elapsed": 940,
     "status": "aborted",
     "timestamp": 1652334754633,
     "user": {
      "displayName": "권성표",
      "userId": "01241945839262179482"
     },
     "user_tz": -540
    },
    "id": "PMk1KwLMVryb"
   },
   "outputs": [],
   "source": [
    "df['Titanic (1997)']"
   ]
  },
  {
   "cell_type": "code",
   "execution_count": null,
   "metadata": {
    "executionInfo": {
     "elapsed": 940,
     "status": "aborted",
     "timestamp": 1652334754633,
     "user": {
      "displayName": "권성표",
      "userId": "01241945839262179482"
     },
     "user_tz": -540
    },
    "id": "MoQYMv5w-Ach"
   },
   "outputs": [],
   "source": [
    "titanic_corr = df.corrwith( df['Titanic (1997)'] )"
   ]
  },
  {
   "cell_type": "code",
   "execution_count": null,
   "metadata": {
    "executionInfo": {
     "elapsed": 941,
     "status": "aborted",
     "timestamp": 1652334754634,
     "user": {
      "displayName": "권성표",
      "userId": "01241945839262179482"
     },
     "user_tz": -540
    },
    "id": "Z5xlrOF4-AZa"
   },
   "outputs": [],
   "source": [
    "titanic_corr = titanic_corr.to_frame()"
   ]
  },
  {
   "cell_type": "code",
   "execution_count": null,
   "metadata": {
    "executionInfo": {
     "elapsed": 941,
     "status": "aborted",
     "timestamp": 1652334754634,
     "user": {
      "displayName": "권성표",
      "userId": "01241945839262179482"
     },
     "user_tz": -540
    },
    "id": "XV6mULOMXZhH"
   },
   "outputs": [],
   "source": [
    "titanic_corr"
   ]
  },
  {
   "cell_type": "code",
   "execution_count": null,
   "metadata": {
    "executionInfo": {
     "elapsed": 941,
     "status": "aborted",
     "timestamp": 1652334754634,
     "user": {
      "displayName": "권성표",
      "userId": "01241945839262179482"
     },
     "user_tz": -540
    },
    "id": "s73DDnmiXPKH"
   },
   "outputs": [],
   "source": [
    "titanic_corr.columns = ['correlation']"
   ]
  },
  {
   "cell_type": "code",
   "execution_count": null,
   "metadata": {
    "executionInfo": {
     "elapsed": 942,
     "status": "aborted",
     "timestamp": 1652334754635,
     "user": {
      "displayName": "권성표",
      "userId": "01241945839262179482"
     },
     "user_tz": -540
    },
    "id": "9oDzKLbHXlDi"
   },
   "outputs": [],
   "source": [
    "titanic_corr"
   ]
  },
  {
   "cell_type": "code",
   "execution_count": null,
   "metadata": {
    "executionInfo": {
     "elapsed": 942,
     "status": "aborted",
     "timestamp": 1652334754635,
     "user": {
      "displayName": "권성표",
      "userId": "01241945839262179482"
     },
     "user_tz": -540
    },
    "id": "lH00xUih-AQF"
   },
   "outputs": [],
   "source": [
    "titanic_corr = titanic_corr.join( ratings_mean_count_df['count'])"
   ]
  },
  {
   "cell_type": "code",
   "execution_count": null,
   "metadata": {
    "executionInfo": {
     "elapsed": 942,
     "status": "aborted",
     "timestamp": 1652334754635,
     "user": {
      "displayName": "권성표",
      "userId": "01241945839262179482"
     },
     "user_tz": -540
    },
    "id": "6VvVzlXp-ANH"
   },
   "outputs": [],
   "source": [
    "titanic_corr.dropna(inplace = True)"
   ]
  },
  {
   "cell_type": "code",
   "execution_count": null,
   "metadata": {
    "executionInfo": {
     "elapsed": 943,
     "status": "aborted",
     "timestamp": 1652334754636,
     "user": {
      "displayName": "권성표",
      "userId": "01241945839262179482"
     },
     "user_tz": -540
    },
    "id": "ZFpXsaG1-AJ8"
   },
   "outputs": [],
   "source": [
    "titanic_corr.sort_values('correlation', ascending= False)"
   ]
  },
  {
   "cell_type": "code",
   "execution_count": null,
   "metadata": {
    "executionInfo": {
     "elapsed": 943,
     "status": "aborted",
     "timestamp": 1652334754636,
     "user": {
      "displayName": "권성표",
      "userId": "01241945839262179482"
     },
     "user_tz": -540
    },
    "id": "KDLcqiUYYNGo"
   },
   "outputs": [],
   "source": [
    "titanic_corr.loc[ titanic_corr['count'] > 80 , ]"
   ]
  },
  {
   "cell_type": "code",
   "execution_count": null,
   "metadata": {
    "executionInfo": {
     "elapsed": 942,
     "status": "aborted",
     "timestamp": 1652334754636,
     "user": {
      "displayName": "권성표",
      "userId": "01241945839262179482"
     },
     "user_tz": -540
    },
    "id": "uJ36Tt-YYNEI"
   },
   "outputs": [],
   "source": [
    "titanic_corr.loc[ titanic_corr['count'] > 80 , ].sort_values('correlation', ascending=False)"
   ]
  },
  {
   "cell_type": "code",
   "execution_count": null,
   "metadata": {
    "executionInfo": {
     "elapsed": 943,
     "status": "aborted",
     "timestamp": 1652334754637,
     "user": {
      "displayName": "권성표",
      "userId": "01241945839262179482"
     },
     "user_tz": -540
    },
    "id": "dh5VHYzUYNBq"
   },
   "outputs": [],
   "source": []
  },
  {
   "cell_type": "code",
   "execution_count": null,
   "metadata": {
    "executionInfo": {
     "elapsed": 943,
     "status": "aborted",
     "timestamp": 1652334754637,
     "user": {
      "displayName": "권성표",
      "userId": "01241945839262179482"
     },
     "user_tz": -540
    },
    "id": "lSQdoNTL-AG8"
   },
   "outputs": [],
   "source": []
  },
  {
   "cell_type": "markdown",
   "metadata": {
    "id": "C2lAsyquwsmy"
   },
   "source": [
    "### 실습. star wars 를 본 사람들에게 영화를 추천할 것입니다. 5개의 추천 영화 제목을 찾으세요.\n",
    "\n",
    "힌트 : 먼저 star wars 의 정확한 이름을 검색해서 찾으세요. 그리고 나서 스타워즈를 본 유저의 데이터를 가져와서, 위와 같이 상관관계분석을 합니다."
   ]
  },
  {
   "cell_type": "code",
   "execution_count": null,
   "metadata": {
    "executionInfo": {
     "elapsed": 943,
     "status": "aborted",
     "timestamp": 1652334754637,
     "user": {
      "displayName": "권성표",
      "userId": "01241945839262179482"
     },
     "user_tz": -540
    },
    "id": "iO1280gCzgnS"
   },
   "outputs": [],
   "source": []
  },
  {
   "cell_type": "code",
   "execution_count": null,
   "metadata": {
    "executionInfo": {
     "elapsed": 944,
     "status": "aborted",
     "timestamp": 1652334754638,
     "user": {
      "displayName": "권성표",
      "userId": "01241945839262179482"
     },
     "user_tz": -540
    },
    "id": "9U6INh6m01el"
   },
   "outputs": [],
   "source": [
    "df.columns.str.contains('star')"
   ]
  },
  {
   "cell_type": "code",
   "execution_count": null,
   "metadata": {
    "executionInfo": {
     "elapsed": 944,
     "status": "aborted",
     "timestamp": 1652334754638,
     "user": {
      "displayName": "권성표",
      "userId": "01241945839262179482"
     },
     "user_tz": -540
    },
    "id": "geuz461vbo6f"
   },
   "outputs": [],
   "source": [
    "df.columns.str.contains('star').shape"
   ]
  },
  {
   "cell_type": "code",
   "execution_count": null,
   "metadata": {
    "executionInfo": {
     "elapsed": 944,
     "status": "aborted",
     "timestamp": 1652334754638,
     "user": {
      "displayName": "권성표",
      "userId": "01241945839262179482"
     },
     "user_tz": -540
    },
    "id": "4PuGHKkObmbn"
   },
   "outputs": [],
   "source": [
    "df.shape"
   ]
  },
  {
   "cell_type": "code",
   "execution_count": null,
   "metadata": {
    "executionInfo": {
     "elapsed": 945,
     "status": "aborted",
     "timestamp": 1652334754639,
     "user": {
      "displayName": "권성표",
      "userId": "01241945839262179482"
     },
     "user_tz": -540
    },
    "id": "Sby1_1IXccTQ"
   },
   "outputs": [],
   "source": [
    "df.columns.str.lower().contains('star')"
   ]
  },
  {
   "cell_type": "code",
   "execution_count": null,
   "metadata": {
    "executionInfo": {
     "elapsed": 945,
     "status": "aborted",
     "timestamp": 1652334754639,
     "user": {
      "displayName": "권성표",
      "userId": "01241945839262179482"
     },
     "user_tz": -540
    },
    "id": "Egvw1e2Xc6NC"
   },
   "outputs": [],
   "source": [
    "movie_titles_df['title'].str.lower().contains('star')"
   ]
  },
  {
   "cell_type": "code",
   "execution_count": null,
   "metadata": {
    "executionInfo": {
     "elapsed": 945,
     "status": "aborted",
     "timestamp": 1652334754639,
     "user": {
      "displayName": "권성표",
      "userId": "01241945839262179482"
     },
     "user_tz": -540
    },
    "id": "fT4hEwoPddER"
   },
   "outputs": [],
   "source": [
    "movie_titles_df.loc[ movie_titles_df['title'].str.contains('star') , ]"
   ]
  },
  {
   "cell_type": "code",
   "execution_count": null,
   "metadata": {
    "executionInfo": {
     "elapsed": 946,
     "status": "aborted",
     "timestamp": 1652334754640,
     "user": {
      "displayName": "권성표",
      "userId": "01241945839262179482"
     },
     "user_tz": -540
    },
    "id": "s_TVEr_femCF"
   },
   "outputs": [],
   "source": [
    "\n",
    "movie_titles_df['title'].values.str.lower().contains('star')"
   ]
  },
  {
   "cell_type": "code",
   "execution_count": null,
   "metadata": {
    "executionInfo": {
     "elapsed": 945,
     "status": "aborted",
     "timestamp": 1652334754640,
     "user": {
      "displayName": "권성표",
      "userId": "01241945839262179482"
     },
     "user_tz": -540
    },
    "id": "qVTlf7FPee3t"
   },
   "outputs": [],
   "source": [
    "movie_titles_df['title'].str.lower().contains('star')"
   ]
  },
  {
   "cell_type": "code",
   "execution_count": null,
   "metadata": {
    "executionInfo": {
     "elapsed": 945,
     "status": "aborted",
     "timestamp": 1652334754640,
     "user": {
      "displayName": "권성표",
      "userId": "01241945839262179482"
     },
     "user_tz": -540
    },
    "id": "HHFU4O-B-D_I"
   },
   "outputs": [],
   "source": [
    "df.loc[ : , df.columns.str.lower().contains('star')]"
   ]
  },
  {
   "cell_type": "code",
   "execution_count": null,
   "metadata": {
    "executionInfo": {
     "elapsed": 946,
     "status": "aborted",
     "timestamp": 1652334754641,
     "user": {
      "displayName": "권성표",
      "userId": "01241945839262179482"
     },
     "user_tz": -540
    },
    "id": "Xp0hKsyu-D8b"
   },
   "outputs": [],
   "source": []
  },
  {
   "cell_type": "code",
   "execution_count": null,
   "metadata": {
    "executionInfo": {
     "elapsed": 946,
     "status": "aborted",
     "timestamp": 1652334754641,
     "user": {
      "displayName": "권성표",
      "userId": "01241945839262179482"
     },
     "user_tz": -540
    },
    "id": "y4Fh_kOKrVY7"
   },
   "outputs": [],
   "source": []
  },
  {
   "cell_type": "code",
   "execution_count": null,
   "metadata": {
    "executionInfo": {
     "elapsed": 946,
     "status": "aborted",
     "timestamp": 1652334754641,
     "user": {
      "displayName": "권성표",
      "userId": "01241945839262179482"
     },
     "user_tz": -540
    },
    "id": "xhArQgZ_rVWb"
   },
   "outputs": [],
   "source": []
  },
  {
   "cell_type": "code",
   "execution_count": null,
   "metadata": {
    "executionInfo": {
     "elapsed": 947,
     "status": "aborted",
     "timestamp": 1652334754642,
     "user": {
      "displayName": "권성표",
      "userId": "01241945839262179482"
     },
     "user_tz": -540
    },
    "id": "lXemlw4nr2zD"
   },
   "outputs": [],
   "source": [
    "(df.columns.str.lower()).str.contains('star wars')"
   ]
  },
  {
   "cell_type": "code",
   "execution_count": null,
   "metadata": {
    "executionInfo": {
     "elapsed": 947,
     "status": "aborted",
     "timestamp": 1652334754642,
     "user": {
      "displayName": "권성표",
      "userId": "01241945839262179482"
     },
     "user_tz": -540
    },
    "id": "klRLowqD-Dzj"
   },
   "outputs": [],
   "source": [
    "df.loc[:,(df.columns.str.lower()).str.contains('star wars')]"
   ]
  },
  {
   "cell_type": "code",
   "execution_count": null,
   "metadata": {
    "executionInfo": {
     "elapsed": 947,
     "status": "aborted",
     "timestamp": 1652334754642,
     "user": {
      "displayName": "권성표",
      "userId": "01241945839262179482"
     },
     "user_tz": -540
    },
    "id": "xxYY52Jus3p8"
   },
   "outputs": [],
   "source": [
    "df.corrwith(df['Star Wars (1977)'])"
   ]
  },
  {
   "cell_type": "code",
   "execution_count": null,
   "metadata": {
    "executionInfo": {
     "elapsed": 948,
     "status": "aborted",
     "timestamp": 1652334754643,
     "user": {
      "displayName": "권성표",
      "userId": "01241945839262179482"
     },
     "user_tz": -540
    },
    "id": "Vwtvcc5LralL"
   },
   "outputs": [],
   "source": [
    "starwars_corr = df.corrwith(df['Star Wars (1977)'])"
   ]
  },
  {
   "cell_type": "markdown",
   "metadata": {
    "id": "GNoq9-5urW-T"
   },
   "source": []
  },
  {
   "cell_type": "code",
   "execution_count": null,
   "metadata": {
    "executionInfo": {
     "elapsed": 948,
     "status": "aborted",
     "timestamp": 1652334754643,
     "user": {
      "displayName": "권성표",
      "userId": "01241945839262179482"
     },
     "user_tz": -540
    },
    "id": "Zl5b6XDp-DxA"
   },
   "outputs": [],
   "source": [
    "starwars_corr = starwars_corr.to_frame()"
   ]
  },
  {
   "cell_type": "code",
   "execution_count": null,
   "metadata": {
    "executionInfo": {
     "elapsed": 949,
     "status": "aborted",
     "timestamp": 1652334754644,
     "user": {
      "displayName": "권성표",
      "userId": "01241945839262179482"
     },
     "user_tz": -540
    },
    "id": "rMJ7ahdp-DtP"
   },
   "outputs": [],
   "source": [
    "starwars_corr.columns = ['correlation']"
   ]
  },
  {
   "cell_type": "code",
   "execution_count": null,
   "metadata": {
    "executionInfo": {
     "elapsed": 949,
     "status": "aborted",
     "timestamp": 1652334754644,
     "user": {
      "displayName": "권성표",
      "userId": "01241945839262179482"
     },
     "user_tz": -540
    },
    "id": "2Yz4Tq4_rfcX"
   },
   "outputs": [],
   "source": [
    "starwars_corr"
   ]
  },
  {
   "cell_type": "code",
   "execution_count": null,
   "metadata": {
    "executionInfo": {
     "elapsed": 949,
     "status": "aborted",
     "timestamp": 1652334754644,
     "user": {
      "displayName": "권성표",
      "userId": "01241945839262179482"
     },
     "user_tz": -540
    },
    "id": "uYb6Tg4y-DqR"
   },
   "outputs": [],
   "source": [
    "starwars_corr = starwars_corr.join( ratings_mean_count_df['count'] )"
   ]
  },
  {
   "cell_type": "code",
   "execution_count": null,
   "metadata": {
    "executionInfo": {
     "elapsed": 950,
     "status": "aborted",
     "timestamp": 1652334754645,
     "user": {
      "displayName": "권성표",
      "userId": "01241945839262179482"
     },
     "user_tz": -540
    },
    "id": "rA1CsJCyri2F"
   },
   "outputs": [],
   "source": [
    "starwars_corr"
   ]
  },
  {
   "cell_type": "code",
   "execution_count": null,
   "metadata": {
    "executionInfo": {
     "elapsed": 949,
     "status": "aborted",
     "timestamp": 1652334754645,
     "user": {
      "displayName": "권성표",
      "userId": "01241945839262179482"
     },
     "user_tz": -540
    },
    "id": "M8u0HsvmrkOK"
   },
   "outputs": [],
   "source": [
    "starwars_corr.dropna(inplace=True)"
   ]
  },
  {
   "cell_type": "code",
   "execution_count": null,
   "metadata": {
    "executionInfo": {
     "elapsed": 949,
     "status": "aborted",
     "timestamp": 1652334754645,
     "user": {
      "displayName": "권성표",
      "userId": "01241945839262179482"
     },
     "user_tz": -540
    },
    "id": "fKWUsletrowc"
   },
   "outputs": [],
   "source": [
    "starwars_corr.sort_values('correlation', ascending=False)"
   ]
  },
  {
   "cell_type": "code",
   "execution_count": null,
   "metadata": {
    "executionInfo": {
     "elapsed": 950,
     "status": "aborted",
     "timestamp": 1652334754646,
     "user": {
      "displayName": "권성표",
      "userId": "01241945839262179482"
     },
     "user_tz": -540
    },
    "id": "ktfhWFWpeBSl"
   },
   "outputs": [],
   "source": [
    "starwars_corr.loc[ starwars_corr['count'] > 80 , ].sort_values('correlation' , ascending = False).head(6)"
   ]
  },
  {
   "cell_type": "code",
   "execution_count": null,
   "metadata": {
    "executionInfo": {
     "elapsed": 950,
     "status": "aborted",
     "timestamp": 1652334754646,
     "user": {
      "displayName": "권성표",
      "userId": "01241945839262179482"
     },
     "user_tz": -540
    },
    "id": "dBqZeaIoeBM6"
   },
   "outputs": [],
   "source": []
  },
  {
   "cell_type": "markdown",
   "metadata": {
    "id": "Go8shJiElU1n"
   },
   "source": [
    "# STEP#4: 전체 데이터셋에 대한 ITEM-BASED COLLABORATIVE FILTER 를 만들자!"
   ]
  },
  {
   "cell_type": "code",
   "execution_count": null,
   "metadata": {
    "executionInfo": {
     "elapsed": 950,
     "status": "aborted",
     "timestamp": 1652334754646,
     "user": {
      "displayName": "권성표",
      "userId": "01241945839262179482"
     },
     "user_tz": -540
    },
    "id": "L8no5vKPfOf2"
   },
   "outputs": [],
   "source": [
    "df"
   ]
  },
  {
   "cell_type": "code",
   "execution_count": null,
   "metadata": {
    "executionInfo": {
     "elapsed": 951,
     "status": "aborted",
     "timestamp": 1652334754647,
     "user": {
      "displayName": "권성표",
      "userId": "01241945839262179482"
     },
     "user_tz": -540
    },
    "id": "Vi8Es_cC0XRZ"
   },
   "outputs": [],
   "source": [
    "# 최소 80개이상 데이터가 있는것만 상관계수 뽑아라\n",
    "df.corr(min_periods= 80)"
   ]
  },
  {
   "cell_type": "code",
   "execution_count": null,
   "metadata": {
    "executionInfo": {
     "elapsed": 951,
     "status": "aborted",
     "timestamp": 1652334754647,
     "user": {
      "displayName": "권성표",
      "userId": "01241945839262179482"
     },
     "user_tz": -540
    },
    "id": "kQGIB8Yc-Jbj"
   },
   "outputs": [],
   "source": [
    "movie_corr = df.corr(min_periods= 80)"
   ]
  },
  {
   "cell_type": "code",
   "execution_count": null,
   "metadata": {
    "executionInfo": {
     "elapsed": 951,
     "status": "aborted",
     "timestamp": 1652334754647,
     "user": {
      "displayName": "권성표",
      "userId": "01241945839262179482"
     },
     "user_tz": -540
    },
    "id": "IZ8kOLGU-JUh"
   },
   "outputs": [],
   "source": []
  },
  {
   "cell_type": "markdown",
   "metadata": {
    "id": "xGoVnFar40sY"
   },
   "source": [
    "### 나의 별점 정보를 가지고, 영화를 추천해 달라고 할 것이다! \n",
    "\n",
    "내 영화 별점 정보는 My_Ratings.csv 파일에 있다. "
   ]
  },
  {
   "cell_type": "code",
   "execution_count": null,
   "metadata": {
    "executionInfo": {
     "elapsed": 952,
     "status": "aborted",
     "timestamp": 1652334754648,
     "user": {
      "displayName": "권성표",
      "userId": "01241945839262179482"
     },
     "user_tz": -540
    },
    "id": "jIFd0tcFlU1o"
   },
   "outputs": [],
   "source": [
    "myRatings = pd.read_csv('My_Ratings.csv')\n",
    " "
   ]
  },
  {
   "cell_type": "code",
   "execution_count": null,
   "metadata": {
    "executionInfo": {
     "elapsed": 951,
     "status": "aborted",
     "timestamp": 1652334754648,
     "user": {
      "displayName": "권성표",
      "userId": "01241945839262179482"
     },
     "user_tz": -540
    },
    "id": "H89loZdK-Sm4"
   },
   "outputs": [],
   "source": [
    "myRatings\n",
    "\n",
    "# 코드를 짤땐 한번에할라 하지말고 하나씩"
   ]
  },
  {
   "cell_type": "code",
   "execution_count": null,
   "metadata": {
    "executionInfo": {
     "elapsed": 951,
     "status": "aborted",
     "timestamp": 1652334754648,
     "user": {
      "displayName": "권성표",
      "userId": "01241945839262179482"
     },
     "user_tz": -540
    },
    "id": "81i4chVm-Si9"
   },
   "outputs": [],
   "source": [
    "movie_name = myRatings['Movie Name'][0]"
   ]
  },
  {
   "cell_type": "code",
   "execution_count": null,
   "metadata": {
    "executionInfo": {
     "elapsed": 952,
     "status": "aborted",
     "timestamp": 1652334754649,
     "user": {
      "displayName": "권성표",
      "userId": "01241945839262179482"
     },
     "user_tz": -540
    },
    "id": "GuI2Rrdx-Sff"
   },
   "outputs": [],
   "source": [
    "movie_name"
   ]
  },
  {
   "cell_type": "code",
   "execution_count": null,
   "metadata": {
    "executionInfo": {
     "elapsed": 952,
     "status": "aborted",
     "timestamp": 1652334754649,
     "user": {
      "displayName": "권성표",
      "userId": "01241945839262179482"
     },
     "user_tz": -540
    },
    "id": "KVKxsauTwLHx"
   },
   "outputs": [],
   "source": [
    "movie_corr"
   ]
  },
  {
   "cell_type": "code",
   "execution_count": null,
   "metadata": {
    "executionInfo": {
     "elapsed": 952,
     "status": "aborted",
     "timestamp": 1652334754649,
     "user": {
      "displayName": "권성표",
      "userId": "01241945839262179482"
     },
     "user_tz": -540
    },
    "id": "Qc5DQA6F-Sb4"
   },
   "outputs": [],
   "source": [
    "movie_corr[movie_name]"
   ]
  },
  {
   "cell_type": "code",
   "execution_count": null,
   "metadata": {
    "executionInfo": {
     "elapsed": 953,
     "status": "aborted",
     "timestamp": 1652334754650,
     "user": {
      "displayName": "권성표",
      "userId": "01241945839262179482"
     },
     "user_tz": -540
    },
    "id": "e_DSaA6h-SYT"
   },
   "outputs": [],
   "source": [
    "movie_corr[movie_name].dropna()"
   ]
  },
  {
   "cell_type": "code",
   "execution_count": null,
   "metadata": {
    "executionInfo": {
     "elapsed": 953,
     "status": "aborted",
     "timestamp": 1652334754650,
     "user": {
      "displayName": "권성표",
      "userId": "01241945839262179482"
     },
     "user_tz": -540
    },
    "id": "LTAXzZWO-SVF"
   },
   "outputs": [],
   "source": [
    "movie_corr[movie_name].dropna().sort_values(ascending= False)"
   ]
  },
  {
   "cell_type": "code",
   "execution_count": null,
   "metadata": {
    "executionInfo": {
     "elapsed": 952,
     "status": "aborted",
     "timestamp": 1652334754650,
     "user": {
      "displayName": "권성표",
      "userId": "01241945839262179482"
     },
     "user_tz": -540
    },
    "id": "aF4x_HPIwZUL"
   },
   "outputs": [],
   "source": [
    "recom_movies = movie_corr[movie_name].dropna().sort_values(ascending= False)"
   ]
  },
  {
   "cell_type": "code",
   "execution_count": null,
   "metadata": {
    "executionInfo": {
     "elapsed": 953,
     "status": "aborted",
     "timestamp": 1652334754651,
     "user": {
      "displayName": "권성표",
      "userId": "01241945839262179482"
     },
     "user_tz": -540
    },
    "id": "mJ30zxCNwZOK"
   },
   "outputs": [],
   "source": [
    "recom_movies = movie_corr[movie_name].dropna().sort_values(ascending= False).to_frame()"
   ]
  },
  {
   "cell_type": "code",
   "execution_count": null,
   "metadata": {
    "executionInfo": {
     "elapsed": 953,
     "status": "aborted",
     "timestamp": 1652334754651,
     "user": {
      "displayName": "권성표",
      "userId": "01241945839262179482"
     },
     "user_tz": -540
    },
    "id": "pqKtrf4BxDaJ"
   },
   "outputs": [],
   "source": [
    "recom_movies"
   ]
  },
  {
   "cell_type": "code",
   "execution_count": null,
   "metadata": {
    "executionInfo": {
     "elapsed": 953,
     "status": "aborted",
     "timestamp": 1652334754651,
     "user": {
      "displayName": "권성표",
      "userId": "01241945839262179482"
     },
     "user_tz": -540
    },
    "id": "fTIF48vZxDXn"
   },
   "outputs": [],
   "source": [
    "recom_movies.columns = ['correlation']"
   ]
  },
  {
   "cell_type": "code",
   "execution_count": null,
   "metadata": {
    "executionInfo": {
     "elapsed": 954,
     "status": "aborted",
     "timestamp": 1652334754652,
     "user": {
      "displayName": "권성표",
      "userId": "01241945839262179482"
     },
     "user_tz": -540
    },
    "id": "u1V2K0fbxDVU"
   },
   "outputs": [],
   "source": [
    "recom_movies"
   ]
  },
  {
   "cell_type": "code",
   "execution_count": null,
   "metadata": {
    "executionInfo": {
     "elapsed": 954,
     "status": "aborted",
     "timestamp": 1652334754652,
     "user": {
      "displayName": "권성표",
      "userId": "01241945839262179482"
     },
     "user_tz": -540
    },
    "id": "PGGw7Vk4ydgi"
   },
   "outputs": [],
   "source": [
    "myRatings"
   ]
  },
  {
   "cell_type": "code",
   "execution_count": null,
   "metadata": {
    "executionInfo": {
     "elapsed": 955,
     "status": "aborted",
     "timestamp": 1652334754653,
     "user": {
      "displayName": "권성표",
      "userId": "01241945839262179482"
     },
     "user_tz": -540
    },
    "id": "ls5FGdFAx3Zp"
   },
   "outputs": [],
   "source": [
    "myRatings['Ratings'][0]"
   ]
  },
  {
   "cell_type": "code",
   "execution_count": null,
   "metadata": {
    "executionInfo": {
     "elapsed": 53,
     "status": "aborted",
     "timestamp": 1652334754659,
     "user": {
      "displayName": "권성표",
      "userId": "01241945839262179482"
     },
     "user_tz": -540
    },
    "id": "7fJvi4rexqai"
   },
   "outputs": [],
   "source": [
    "recom_movies['W'] = myRatings['Ratings'][0] * recom_movies['correlation']"
   ]
  },
  {
   "cell_type": "code",
   "execution_count": null,
   "metadata": {
    "executionInfo": {
     "elapsed": 54,
     "status": "aborted",
     "timestamp": 1652334754660,
     "user": {
      "displayName": "권성표",
      "userId": "01241945839262179482"
     },
     "user_tz": -540
    },
    "id": "bp4uJj9TxVvr"
   },
   "outputs": [],
   "source": []
  },
  {
   "cell_type": "code",
   "execution_count": null,
   "metadata": {
    "executionInfo": {
     "elapsed": 54,
     "status": "aborted",
     "timestamp": 1652334754660,
     "user": {
      "displayName": "권성표",
      "userId": "01241945839262179482"
     },
     "user_tz": -540
    },
    "id": "48dopxP-xUaM"
   },
   "outputs": [],
   "source": []
  },
  {
   "cell_type": "code",
   "execution_count": null,
   "metadata": {
    "executionInfo": {
     "elapsed": 49,
     "status": "aborted",
     "timestamp": 1652334754660,
     "user": {
      "displayName": "권성표",
      "userId": "01241945839262179482"
     },
     "user_tz": -540
    },
    "id": "wnQeSoHHxUX1"
   },
   "outputs": [],
   "source": []
  },
  {
   "cell_type": "code",
   "execution_count": null,
   "metadata": {
    "executionInfo": {
     "elapsed": 50,
     "status": "aborted",
     "timestamp": 1652334754661,
     "user": {
      "displayName": "권성표",
      "userId": "01241945839262179482"
     },
     "user_tz": -540
    },
    "id": "5lPjoHYDxUVT"
   },
   "outputs": [],
   "source": []
  },
  {
   "cell_type": "code",
   "execution_count": null,
   "metadata": {
    "executionInfo": {
     "elapsed": 47,
     "status": "aborted",
     "timestamp": 1652334754661,
     "user": {
      "displayName": "권성표",
      "userId": "01241945839262179482"
     },
     "user_tz": -540
    },
    "id": "eRhQOGdcxUS9"
   },
   "outputs": [],
   "source": []
  },
  {
   "cell_type": "markdown",
   "metadata": {
    "id": "jStfRtwJA-ZZ"
   },
   "source": [
    "## 이제는 나머지 내가 본 영화들도 추천영화 똑같이 가져오자."
   ]
  },
  {
   "cell_type": "code",
   "execution_count": null,
   "metadata": {
    "executionInfo": {
     "elapsed": 47,
     "status": "aborted",
     "timestamp": 1652334754661,
     "user": {
      "displayName": "권성표",
      "userId": "01241945839262179482"
     },
     "user_tz": -540
    },
    "id": "1MhQ6KuF-c7Q"
   },
   "outputs": [],
   "source": [
    "myRatings"
   ]
  },
  {
   "cell_type": "code",
   "execution_count": null,
   "metadata": {
    "executionInfo": {
     "elapsed": 47,
     "status": "aborted",
     "timestamp": 1652334754662,
     "user": {
      "displayName": "권성표",
      "userId": "01241945839262179482"
     },
     "user_tz": -540
    },
    "id": "paiUc3cY-cs3"
   },
   "outputs": [],
   "source": []
  },
  {
   "cell_type": "code",
   "execution_count": null,
   "metadata": {
    "executionInfo": {
     "elapsed": 44,
     "status": "aborted",
     "timestamp": 1652334754662,
     "user": {
      "displayName": "권성표",
      "userId": "01241945839262179482"
     },
     "user_tz": -540
    },
    "id": "KpLRZPTv-cp0"
   },
   "outputs": [],
   "source": []
  },
  {
   "cell_type": "code",
   "execution_count": null,
   "metadata": {
    "executionInfo": {
     "elapsed": 44,
     "status": "aborted",
     "timestamp": 1652334754663,
     "user": {
      "displayName": "권성표",
      "userId": "01241945839262179482"
     },
     "user_tz": -540
    },
    "id": "Y2hR-Kww-cmk"
   },
   "outputs": [],
   "source": []
  },
  {
   "cell_type": "code",
   "execution_count": null,
   "metadata": {
    "executionInfo": {
     "elapsed": 44,
     "status": "aborted",
     "timestamp": 1652334754663,
     "user": {
      "displayName": "권성표",
      "userId": "01241945839262179482"
     },
     "user_tz": -540
    },
    "id": "wHQVojtI-cjW"
   },
   "outputs": [],
   "source": []
  },
  {
   "cell_type": "code",
   "execution_count": null,
   "metadata": {
    "executionInfo": {
     "elapsed": 44,
     "status": "aborted",
     "timestamp": 1652334754663,
     "user": {
      "displayName": "권성표",
      "userId": "01241945839262179482"
     },
     "user_tz": -540
    },
    "id": "6WdfppXm-cgf"
   },
   "outputs": [],
   "source": []
  },
  {
   "cell_type": "code",
   "execution_count": null,
   "metadata": {
    "executionInfo": {
     "elapsed": 44,
     "status": "aborted",
     "timestamp": 1652334754664,
     "user": {
      "displayName": "권성표",
      "userId": "01241945839262179482"
     },
     "user_tz": -540
    },
    "id": "UPHod9zu-cdj"
   },
   "outputs": [],
   "source": []
  },
  {
   "cell_type": "code",
   "execution_count": null,
   "metadata": {
    "executionInfo": {
     "elapsed": 44,
     "status": "aborted",
     "timestamp": 1652334754664,
     "user": {
      "displayName": "권성표",
      "userId": "01241945839262179482"
     },
     "user_tz": -540
    },
    "id": "O4JI_b_9-caY"
   },
   "outputs": [],
   "source": []
  },
  {
   "cell_type": "markdown",
   "metadata": {
    "id": "8SolkJhQBEfc"
   },
   "source": [
    "## 위의 추천영화 작업을 자동화 하기 위한 파이프라인을 만드시오. \n",
    "\n",
    "힌트 : 반복문을 사용하여 비슷한영화에 대한 데이터프레임을 만들고, 이를 아래 빈 데이터프레임에 계속하여 추가하시오. 반복문이 끝나면, 아래 데이터프레임을 wegiht 컬럼으로 정렬하면 됩니다."
   ]
  },
  {
   "cell_type": "code",
   "execution_count": null,
   "metadata": {
    "executionInfo": {
     "elapsed": 44,
     "status": "aborted",
     "timestamp": 1652334754664,
     "user": {
      "displayName": "권성표",
      "userId": "01241945839262179482"
     },
     "user_tz": -540
    },
    "id": "OyBQxzhQBEVC"
   },
   "outputs": [],
   "source": [
    "similar_movies_list = pd.DataFrame()"
   ]
  },
  {
   "cell_type": "code",
   "execution_count": null,
   "metadata": {
    "executionInfo": {
     "elapsed": 45,
     "status": "aborted",
     "timestamp": 1652334754665,
     "user": {
      "displayName": "권성표",
      "userId": "01241945839262179482"
     },
     "user_tz": -540
    },
    "id": "7_vhN7jf-ntj"
   },
   "outputs": [],
   "source": []
  },
  {
   "cell_type": "code",
   "execution_count": null,
   "metadata": {
    "executionInfo": {
     "elapsed": 44,
     "status": "aborted",
     "timestamp": 1652334754665,
     "user": {
      "displayName": "권성표",
      "userId": "01241945839262179482"
     },
     "user_tz": -540
    },
    "id": "xxzr9VPd-nkK"
   },
   "outputs": [],
   "source": []
  },
  {
   "cell_type": "code",
   "execution_count": null,
   "metadata": {
    "executionInfo": {
     "elapsed": 44,
     "status": "aborted",
     "timestamp": 1652334754665,
     "user": {
      "displayName": "권성표",
      "userId": "01241945839262179482"
     },
     "user_tz": -540
    },
    "id": "ikm3ffg2-nWH"
   },
   "outputs": [],
   "source": []
  }
 ],
 "metadata": {
  "colab": {
   "collapsed_sections": [],
   "name": "21-1 Movie Recommender System.ipynb",
   "provenance": []
  },
  "kernelspec": {
   "display_name": "Python 3 (ipykernel)",
   "language": "python",
   "name": "python3"
  },
  "language_info": {
   "codemirror_mode": {
    "name": "ipython",
    "version": 3
   },
   "file_extension": ".py",
   "mimetype": "text/x-python",
   "name": "python",
   "nbconvert_exporter": "python",
   "pygments_lexer": "ipython3",
   "version": "3.9.7"
  }
 },
 "nbformat": 4,
 "nbformat_minor": 1
}
