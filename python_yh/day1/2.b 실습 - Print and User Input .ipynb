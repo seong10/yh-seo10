{
 "cells": [
  {
   "cell_type": "markdown",
   "metadata": {},
   "source": [
    "# <font color='red'> 실습 </font> \n",
    "## <font color='red'> PRINT AND USER INPUT OPERATION </font> "
   ]
  },
  {
   "cell_type": "markdown",
   "metadata": {},
   "source": [
    "### [강의참고 : print 설명 ](https://vision-ai.tistory.com/entry/파이썬-화면-출력-print-함수)"
   ]
  },
  {
   "cell_type": "markdown",
   "metadata": {},
   "source": [
    "### [강의참고 : input 설명 ](  https://vision-ai.tistory.com/entry/%ED%8C%8C%EC%9D%B4%EC%8D%AC-%EC%82%AC%EC%9A%A9%EC%9E%90%EC%97%90%EA%B2%8C-%EC%9E%85%EB%A0%A5%EB%B0%9B%EA%B8%B0-User-Input)"
   ]
  },
  {
   "cell_type": "code",
   "execution_count": null,
   "metadata": {},
   "outputs": [],
   "source": []
  },
  {
   "cell_type": "markdown",
   "metadata": {},
   "source": [
    "# <font color='blue'> 1. 유저한테서 KMH값을 입력 받으면, 그에 맞는 MPH로 변환하는 코드를 만드세요. \n",
    "MPH = 0.6214 * KMH</font> "
   ]
  },
  {
   "cell_type": "code",
   "execution_count": 29,
   "metadata": {},
   "outputs": [
    {
     "name": "stdout",
     "output_type": "stream",
     "text": [
      "KMH값을 입력 : 50\n",
      "31.069999999999997\n"
     ]
    }
   ],
   "source": [
    "KMH = input(\"KMH값을 입력 : \")\n",
    "KMH = float(KMH)\n",
    "MPH = 0.6214 * KMH\n",
    "print(MPH)"
   ]
  },
  {
   "cell_type": "code",
   "execution_count": null,
   "metadata": {},
   "outputs": [],
   "source": []
  },
  {
   "cell_type": "code",
   "execution_count": null,
   "metadata": {},
   "outputs": [],
   "source": []
  },
  {
   "cell_type": "markdown",
   "metadata": {},
   "source": [
    "# <font color='blue'> 2. 유저한테, 년도와 월을 입력받으세요. 그리고나서 해당 년도와 월을 출력하는 코드를 만드세요. (아래 달력과 관련된 코드를 이용하세요.)  </font> \n",
    "- import calendar\n",
    "- calendar.month(theyear, themonth)¶\n"
   ]
  },
  {
   "cell_type": "code",
   "execution_count": 18,
   "metadata": {},
   "outputs": [
    {
     "name": "stdout",
     "output_type": "stream",
     "text": [
      "년도를 입력 : 2022\n",
      "월을 입력 : 1\n"
     ]
    }
   ],
   "source": [
    "year = input(\"년도를 입력 : \")\n",
    "month = input(\"월을 입력 : \")\n",
    "\n",
    "year = int(year)\n",
    "month = int(month)\n"
   ]
  },
  {
   "cell_type": "code",
   "execution_count": 24,
   "metadata": {},
   "outputs": [
    {
     "name": "stdout",
     "output_type": "stream",
     "text": [
      "월을 입력 : 1\n"
     ]
    }
   ],
   "source": [
    "month = input(\"월을 입력 : \")\n",
    "month = int(month)"
   ]
  },
  {
   "cell_type": "code",
   "execution_count": 25,
   "metadata": {},
   "outputs": [
    {
     "name": "stdout",
     "output_type": "stream",
     "text": [
      "    January 2022\n",
      "Mo Tu We Th Fr Sa Su\n",
      "                1  2\n",
      " 3  4  5  6  7  8  9\n",
      "10 11 12 13 14 15 16\n",
      "17 18 19 20 21 22 23\n",
      "24 25 26 27 28 29 30\n",
      "31\n",
      "\n"
     ]
    }
   ],
   "source": [
    "import calendar\n",
    "print(calendar.month(year, month))"
   ]
  },
  {
   "cell_type": "code",
   "execution_count": 32,
   "metadata": {},
   "outputs": [
    {
     "data": {
      "text/plain": [
       "'    January 2022\\nMo Tu We Th Fr Sa Su\\n                1  2\\n 3  4  5  6  7  8  9\\n10 11 12 13 14 15 16\\n17 18 19 20 21 22 23\\n24 25 26 27 28 29 30\\n31\\n'"
      ]
     },
     "execution_count": 32,
     "metadata": {},
     "output_type": "execute_result"
    }
   ],
   "source": [
    "calendar.month(year, month)"
   ]
  },
  {
   "cell_type": "code",
   "execution_count": 30,
   "metadata": {},
   "outputs": [
    {
     "data": {
      "text/plain": [
       "2022"
      ]
     },
     "execution_count": 30,
     "metadata": {},
     "output_type": "execute_result"
    }
   ],
   "source": [
    "year"
   ]
  },
  {
   "cell_type": "code",
   "execution_count": 31,
   "metadata": {},
   "outputs": [
    {
     "data": {
      "text/plain": [
       "1"
      ]
     },
     "execution_count": 31,
     "metadata": {},
     "output_type": "execute_result"
    }
   ],
   "source": [
    "month"
   ]
  },
  {
   "cell_type": "code",
   "execution_count": null,
   "metadata": {},
   "outputs": [],
   "source": []
  },
  {
   "cell_type": "markdown",
   "metadata": {},
   "source": [
    "### <font color='blue'>3.  유저한테 두개의 float을 입력받아서, 두 수의 곱과 합을, 다음처럼 똑같이 출력하는 코드를 만드세요.</font> \n",
    "## 출력형태 : First is 4.3, and second is 5.21. So, Multiplication = 22.403, addition = 9.51"
   ]
  },
  {
   "cell_type": "code",
   "execution_count": 5,
   "metadata": {},
   "outputs": [
    {
     "name": "stdout",
     "output_type": "stream",
     "text": [
      "first is : 4.3\n",
      "second is : 5.21\n",
      "22.403\n",
      "9.51\n"
     ]
    }
   ],
   "source": [
    "first = input(\"first is : \")\n",
    "second = input(\"second is : \")\n",
    "\n",
    "first = float(first)\n",
    "second = float(second)\n",
    "\n",
    "mul = first * second\n",
    "add = first + second\n",
    "\n",
    "print(mul)\n",
    "print(add)"
   ]
  },
  {
   "cell_type": "code",
   "execution_count": 33,
   "metadata": {},
   "outputs": [
    {
     "name": "stdout",
     "output_type": "stream",
     "text": [
      "첫번째 숫자 입력 : 12\n"
     ]
    }
   ],
   "source": [
    "number1 = input(\"첫번째 숫자 입력 : \")"
   ]
  },
  {
   "cell_type": "code",
   "execution_count": 34,
   "metadata": {},
   "outputs": [
    {
     "name": "stdout",
     "output_type": "stream",
     "text": [
      "두번째 숫자 입력34\n"
     ]
    }
   ],
   "source": [
    "number2 = input('두번째 숫자 입력')"
   ]
  },
  {
   "cell_type": "code",
   "execution_count": 35,
   "metadata": {},
   "outputs": [],
   "source": [
    "number1 = float(number1)"
   ]
  },
  {
   "cell_type": "code",
   "execution_count": 36,
   "metadata": {},
   "outputs": [
    {
     "data": {
      "text/plain": [
       "12.0"
      ]
     },
     "execution_count": 36,
     "metadata": {},
     "output_type": "execute_result"
    }
   ],
   "source": [
    "number1"
   ]
  },
  {
   "cell_type": "code",
   "execution_count": 37,
   "metadata": {},
   "outputs": [
    {
     "data": {
      "text/plain": [
       "'34'"
      ]
     },
     "execution_count": 37,
     "metadata": {},
     "output_type": "execute_result"
    }
   ],
   "source": [
    "number2"
   ]
  },
  {
   "cell_type": "code",
   "execution_count": 39,
   "metadata": {},
   "outputs": [
    {
     "name": "stdout",
     "output_type": "stream",
     "text": [
      "First is 4.3, and second is 5.21. So, Multiplication = 22.403, addition = 9.51\n"
     ]
    }
   ],
   "source": [
    "print('First is {}, and second is {}. So, Multiplication = {}, addition = {}'.format(first, second, first * second, first + second))"
   ]
  },
  {
   "cell_type": "code",
   "execution_count": null,
   "metadata": {},
   "outputs": [],
   "source": []
  }
 ],
 "metadata": {
  "kernelspec": {
   "display_name": "Python 3 (ipykernel)",
   "language": "python",
   "name": "python3"
  },
  "language_info": {
   "codemirror_mode": {
    "name": "ipython",
    "version": 3
   },
   "file_extension": ".py",
   "mimetype": "text/x-python",
   "name": "python",
   "nbconvert_exporter": "python",
   "pygments_lexer": "ipython3",
   "version": "3.9.7"
  }
 },
 "nbformat": 4,
 "nbformat_minor": 2
}
