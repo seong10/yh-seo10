{
 "cells": [
  {
   "cell_type": "code",
   "execution_count": 1,
   "id": "245bdf95",
   "metadata": {},
   "outputs": [
    {
     "name": "stdout",
     "output_type": "stream",
     "text": [
      "-20\n",
      "-3\n"
     ]
    }
   ],
   "source": [
    "my_list = [3, -20, -3, 44]\n",
    "for data in my_list :\n",
    "    if data < 0 :\n",
    "        print(data)"
   ]
  },
  {
   "cell_type": "code",
   "execution_count": null,
   "id": "81ac79c4",
   "metadata": {},
   "outputs": [],
   "source": []
  },
  {
   "cell_type": "code",
   "execution_count": 2,
   "id": "5f0b449b",
   "metadata": {},
   "outputs": [
    {
     "name": "stdout",
     "output_type": "stream",
     "text": [
      "A\n",
      "D\n"
     ]
    }
   ],
   "source": [
    "my_list = [\"A\", \"b\", \"c\", \"D\"]\n",
    "for data in my_list :\n",
    "    if data.isupper() :\n",
    "        print(data)"
   ]
  },
  {
   "cell_type": "code",
   "execution_count": null,
   "id": "f322e01c",
   "metadata": {},
   "outputs": [],
   "source": []
  },
  {
   "cell_type": "code",
   "execution_count": 9,
   "id": "c0093c5c",
   "metadata": {},
   "outputs": [
    {
     "name": "stdout",
     "output_type": "stream",
     "text": [
      "intra.h\n",
      "define.h\n"
     ]
    }
   ],
   "source": [
    "my_list = ['intra.h', 'intra.c', 'define.h', 'run.py']\n",
    "for data in my_list :\n",
    "    splited_list = data.split('.') # ['intra'] , ['h']\n",
    "    if splited_list[-1] == 'h' :\n",
    "        print(data)"
   ]
  },
  {
   "cell_type": "code",
   "execution_count": null,
   "id": "80f8a184",
   "metadata": {},
   "outputs": [],
   "source": []
  },
  {
   "cell_type": "code",
   "execution_count": null,
   "id": "160d841b",
   "metadata": {},
   "outputs": [],
   "source": [
    "for data in my_list :\n",
    "    '.h' in"
   ]
  },
  {
   "cell_type": "code",
   "execution_count": null,
   "id": "30997386",
   "metadata": {},
   "outputs": [],
   "source": []
  },
  {
   "cell_type": "code",
   "execution_count": 10,
   "id": "f3d532af",
   "metadata": {},
   "outputs": [],
   "source": [
    "def hello():\n",
    "    print(\"Hi\")"
   ]
  },
  {
   "cell_type": "code",
   "execution_count": 11,
   "id": "6dbf15e4",
   "metadata": {},
   "outputs": [
    {
     "name": "stdout",
     "output_type": "stream",
     "text": [
      "Hi\n"
     ]
    }
   ],
   "source": [
    "hello()"
   ]
  },
  {
   "cell_type": "code",
   "execution_count": null,
   "id": "850cf481",
   "metadata": {},
   "outputs": [],
   "source": []
  },
  {
   "cell_type": "code",
   "execution_count": null,
   "id": "d094f657",
   "metadata": {},
   "outputs": [],
   "source": [
    "B\n",
    "C\n",
    "B\n",
    "C\n",
    "B\n",
    "C\n",
    "A"
   ]
  },
  {
   "cell_type": "code",
   "execution_count": null,
   "id": "ab85eff9",
   "metadata": {},
   "outputs": [],
   "source": []
  },
  {
   "cell_type": "code",
   "execution_count": null,
   "id": "e7850f6f",
   "metadata": {},
   "outputs": [],
   "source": [
    "def print_coins() :\n",
    "    for i in range(100) :\n",
    "        print('비트코인')"
   ]
  },
  {
   "cell_type": "code",
   "execution_count": null,
   "id": "0db177ff",
   "metadata": {},
   "outputs": [],
   "source": []
  },
  {
   "cell_type": "code",
   "execution_count": 12,
   "id": "5303dd3d",
   "metadata": {},
   "outputs": [],
   "source": [
    "def print_with_smile(sen) :\n",
    "    print(sen + ':D')"
   ]
  },
  {
   "cell_type": "code",
   "execution_count": 16,
   "id": "730a1b58",
   "metadata": {},
   "outputs": [
    {
     "name": "stdout",
     "output_type": "stream",
     "text": [
      "안녕하세요 :D\n"
     ]
    }
   ],
   "source": [
    "print_with_smile('안녕하세요 ')"
   ]
  },
  {
   "cell_type": "code",
   "execution_count": null,
   "id": "772aec77",
   "metadata": {},
   "outputs": [],
   "source": []
  },
  {
   "cell_type": "code",
   "execution_count": 23,
   "id": "76641268",
   "metadata": {},
   "outputs": [],
   "source": [
    "def print_upper_price(sel) :\n",
    "    print(sel + (sel / 100 * 30), '원')"
   ]
  },
  {
   "cell_type": "code",
   "execution_count": 22,
   "id": "9c2e5202",
   "metadata": {},
   "outputs": [
    {
     "name": "stdout",
     "output_type": "stream",
     "text": [
      "65000.0 원\n"
     ]
    }
   ],
   "source": [
    "print_upper_price(50000)"
   ]
  },
  {
   "cell_type": "code",
   "execution_count": 24,
   "id": "dff9d438",
   "metadata": {},
   "outputs": [],
   "source": [
    "def print_upper_price(sel) :\n",
    "    print(sel * 1.3)"
   ]
  },
  {
   "cell_type": "code",
   "execution_count": 26,
   "id": "f8844b82",
   "metadata": {},
   "outputs": [
    {
     "name": "stdout",
     "output_type": "stream",
     "text": [
      "13000.0\n"
     ]
    }
   ],
   "source": [
    "print_upper_price(10000)"
   ]
  },
  {
   "cell_type": "code",
   "execution_count": null,
   "id": "101c5d7b",
   "metadata": {},
   "outputs": [],
   "source": []
  },
  {
   "cell_type": "code",
   "execution_count": 27,
   "id": "e55e6e9d",
   "metadata": {},
   "outputs": [],
   "source": [
    "def print_sum(num1, num2) :\n",
    "    print(num1 + num2)"
   ]
  },
  {
   "cell_type": "code",
   "execution_count": 28,
   "id": "9ac50a5a",
   "metadata": {},
   "outputs": [
    {
     "name": "stdout",
     "output_type": "stream",
     "text": [
      "14\n"
     ]
    }
   ],
   "source": [
    "print_sum(5, 9)"
   ]
  },
  {
   "cell_type": "code",
   "execution_count": null,
   "id": "13dae554",
   "metadata": {},
   "outputs": [],
   "source": []
  },
  {
   "cell_type": "code",
   "execution_count": 36,
   "id": "0aae3c13",
   "metadata": {},
   "outputs": [],
   "source": [
    "def print_arithmetic_operation(num1, num2) :\n",
    "    print('{} + {} = {}'.format(num1, num2, num1+num2))\n",
    "    print('{} - {} = {}'.format(num1, num2, num1-num2))\n",
    "    print('{} * {} = {}'.format(num1, num2, num1*num2))\n",
    "    print('{} / {} = {}'.format(num1, num2, num1/num2))"
   ]
  },
  {
   "cell_type": "code",
   "execution_count": 38,
   "id": "00e83863",
   "metadata": {},
   "outputs": [
    {
     "name": "stdout",
     "output_type": "stream",
     "text": [
      "3 + 4 = 7\n",
      "3 - 4 = -1\n",
      "3 * 4 = 12\n",
      "3 / 4 = 0.75\n"
     ]
    }
   ],
   "source": [
    "print_arithmetic_operation(3 , 4)"
   ]
  },
  {
   "cell_type": "code",
   "execution_count": 39,
   "id": "068d2190",
   "metadata": {},
   "outputs": [],
   "source": [
    "def print_arithmetic_operation(num1, num2) :\n",
    "    print(num1, '+', num2, '=', num1 + num2)"
   ]
  },
  {
   "cell_type": "code",
   "execution_count": 41,
   "id": "9cb68143",
   "metadata": {},
   "outputs": [
    {
     "name": "stdout",
     "output_type": "stream",
     "text": [
      "3 + 4 = 7\n"
     ]
    }
   ],
   "source": [
    "print_arithmetic_operation(3, 4)"
   ]
  },
  {
   "cell_type": "code",
   "execution_count": null,
   "id": "1ec80fb3",
   "metadata": {},
   "outputs": [],
   "source": []
  },
  {
   "cell_type": "code",
   "execution_count": 42,
   "id": "500014f3",
   "metadata": {},
   "outputs": [],
   "source": [
    "def print_max(num1, num2, num3) :\n",
    "    max_list = [num1, num2, num3]\n",
    "    if data in max_list :\n",
    "        \n",
    "        data = data"
   ]
  },
  {
   "cell_type": "code",
   "execution_count": null,
   "id": "785ea7b9",
   "metadata": {},
   "outputs": [],
   "source": []
  },
  {
   "cell_type": "code",
   "execution_count": 47,
   "id": "cb26fff1",
   "metadata": {},
   "outputs": [],
   "source": [
    "def print_max(num1, num2, num3) :\n",
    "    if num1 > 0 :\n",
    "        max1 = num1\n",
    "    if num2 > max1 :\n",
    "        max1 = num2\n",
    "    if num3 > max1 :\n",
    "        max1 = num3\n",
    "    print(max1)"
   ]
  },
  {
   "cell_type": "code",
   "execution_count": 49,
   "id": "5ae6dc2a",
   "metadata": {},
   "outputs": [
    {
     "name": "stdout",
     "output_type": "stream",
     "text": [
      "8\n"
     ]
    }
   ],
   "source": [
    "print_max(1, 8, 5)"
   ]
  },
  {
   "cell_type": "code",
   "execution_count": null,
   "id": "e365a9cd",
   "metadata": {},
   "outputs": [],
   "source": []
  },
  {
   "cell_type": "code",
   "execution_count": 51,
   "id": "b327fa4f",
   "metadata": {},
   "outputs": [],
   "source": [
    "def print_max(num1, num2, num3) :\n",
    "    num_list = [num1, num2, num3]\n",
    "    max(num_list)\n",
    "    print(max(num_list))"
   ]
  },
  {
   "cell_type": "code",
   "execution_count": 54,
   "id": "4e99e0a4",
   "metadata": {},
   "outputs": [
    {
     "name": "stdout",
     "output_type": "stream",
     "text": [
      "15\n"
     ]
    }
   ],
   "source": [
    "print_max(1, 10 ,15)"
   ]
  },
  {
   "cell_type": "code",
   "execution_count": 55,
   "id": "907da9ef",
   "metadata": {},
   "outputs": [
    {
     "name": "stdout",
     "output_type": "stream",
     "text": [
      "18\n"
     ]
    }
   ],
   "source": [
    "print_max(1, 18 ,15)"
   ]
  },
  {
   "cell_type": "code",
   "execution_count": 56,
   "id": "e7695d4c",
   "metadata": {},
   "outputs": [
    {
     "name": "stdout",
     "output_type": "stream",
     "text": [
      "20\n"
     ]
    }
   ],
   "source": [
    "print_max(20, 10 ,15)"
   ]
  },
  {
   "cell_type": "code",
   "execution_count": null,
   "id": "dcd86914",
   "metadata": {},
   "outputs": [],
   "source": []
  },
  {
   "cell_type": "code",
   "execution_count": 64,
   "id": "87a3e215",
   "metadata": {},
   "outputs": [],
   "source": [
    "def print_reverse(sentenc) :\n",
    "    print(sentenc[-1 :  : -1])\n",
    "    "
   ]
  },
  {
   "cell_type": "code",
   "execution_count": 66,
   "id": "04034425",
   "metadata": {},
   "outputs": [
    {
     "name": "stdout",
     "output_type": "stream",
     "text": [
      "elppa\n"
     ]
    }
   ],
   "source": [
    "print_reverse('apple')"
   ]
  },
  {
   "cell_type": "code",
   "execution_count": null,
   "id": "12d6327c",
   "metadata": {},
   "outputs": [],
   "source": []
  },
  {
   "cell_type": "code",
   "execution_count": 70,
   "id": "77ab241c",
   "metadata": {},
   "outputs": [],
   "source": [
    "def print_score(score_list) :\n",
    "    average = sum(score_list) / len(score_list)\n",
    "    print(average)"
   ]
  },
  {
   "cell_type": "code",
   "execution_count": 72,
   "id": "9d4d39ae",
   "metadata": {},
   "outputs": [
    {
     "name": "stdout",
     "output_type": "stream",
     "text": [
      "10.0\n"
     ]
    }
   ],
   "source": [
    "print_score([5, 15, 10])"
   ]
  },
  {
   "cell_type": "code",
   "execution_count": null,
   "id": "b8c187f2",
   "metadata": {},
   "outputs": [],
   "source": []
  },
  {
   "cell_type": "code",
   "execution_count": 79,
   "id": "293451f7",
   "metadata": {},
   "outputs": [],
   "source": [
    "def print_even(one_list) :\n",
    "    last_list = []\n",
    "    for data in one_list :\n",
    "        if data % 2 == 0 :\n",
    "            last_list.append(data)\n",
    "    print(last_list)"
   ]
  },
  {
   "cell_type": "code",
   "execution_count": 80,
   "id": "91d35b5a",
   "metadata": {},
   "outputs": [
    {
     "name": "stdout",
     "output_type": "stream",
     "text": [
      "[2, 10, 12]\n"
     ]
    }
   ],
   "source": [
    "print_even([1, 3, 2, 10, 12, 11, 15])"
   ]
  },
  {
   "cell_type": "code",
   "execution_count": null,
   "id": "b28b1c96",
   "metadata": {},
   "outputs": [],
   "source": []
  },
  {
   "cell_type": "code",
   "execution_count": 85,
   "id": "2780e5a7",
   "metadata": {},
   "outputs": [
    {
     "name": "stdout",
     "output_type": "stream",
     "text": [
      "이름\n",
      "나이\n",
      "성별\n"
     ]
    }
   ],
   "source": [
    "print_keys({\"이름\":\"김말똥\", \"나이\":30, \"성별\":0})"
   ]
  },
  {
   "cell_type": "code",
   "execution_count": 84,
   "id": "d20367b0",
   "metadata": {},
   "outputs": [],
   "source": [
    "def print_keys(my_dict) :\n",
    "    for key in my_dict.keys() :\n",
    "        print(key)"
   ]
  },
  {
   "cell_type": "code",
   "execution_count": null,
   "id": "9fb418b3",
   "metadata": {},
   "outputs": [],
   "source": []
  },
  {
   "cell_type": "code",
   "execution_count": 86,
   "id": "16ec599a",
   "metadata": {},
   "outputs": [],
   "source": [
    "def calc_monthly_salary(salary) :\n",
    "    print( int(salary / 12) )"
   ]
  },
  {
   "cell_type": "code",
   "execution_count": 87,
   "id": "3c1b3d96",
   "metadata": {},
   "outputs": [
    {
     "name": "stdout",
     "output_type": "stream",
     "text": [
      "41666\n"
     ]
    }
   ],
   "source": [
    "calc_monthly_salary(500000)"
   ]
  },
  {
   "cell_type": "code",
   "execution_count": null,
   "id": "44e9edd1",
   "metadata": {},
   "outputs": [],
   "source": [
    "def calc_monthly_salary(salary) :\n",
    "    print( int(salary / 12) )"
   ]
  },
  {
   "cell_type": "code",
   "execution_count": 90,
   "id": "e1cec2b1",
   "metadata": {},
   "outputs": [
    {
     "name": "stdout",
     "output_type": "stream",
     "text": [
      "1108333\n"
     ]
    }
   ],
   "source": [
    "calc_monthly_salary(13300000)"
   ]
  },
  {
   "cell_type": "code",
   "execution_count": 94,
   "id": "cf8bfefa",
   "metadata": {},
   "outputs": [],
   "source": [
    "def calc_monthly_salary(salary) :\n",
    "    print( round(salary / 12, 2) )\n",
    "    ## default 함수가 포함되어있다"
   ]
  },
  {
   "cell_type": "code",
   "execution_count": 93,
   "id": "94a9bae4",
   "metadata": {},
   "outputs": [
    {
     "name": "stdout",
     "output_type": "stream",
     "text": [
      "1108333.33\n"
     ]
    }
   ],
   "source": [
    "calc_monthly_salary(13300000)"
   ]
  },
  {
   "cell_type": "code",
   "execution_count": null,
   "id": "7b3a5c52",
   "metadata": {},
   "outputs": [],
   "source": []
  },
  {
   "cell_type": "code",
   "execution_count": null,
   "id": "aab4fc27",
   "metadata": {},
   "outputs": [],
   "source": [
    "def my_print (a, b) :\n",
    "    print('왼쪽', a)\n",
    "    print('오른쪽', b )"
   ]
  },
  {
   "cell_type": "code",
   "execution_count": 96,
   "id": "684d18e3",
   "metadata": {},
   "outputs": [
    {
     "name": "stdout",
     "output_type": "stream",
     "text": [
      "왼쪽: 100\n",
      "오른쪽: 200\n"
     ]
    }
   ],
   "source": [
    "def my_print (a, b) :\n",
    "    print(\"왼쪽:\", a)\n",
    "    print(\"오른쪽:\", b)\n",
    "\n",
    "my_print(100, 200)"
   ]
  },
  {
   "cell_type": "code",
   "execution_count": null,
   "id": "c8e24308",
   "metadata": {},
   "outputs": [],
   "source": []
  },
  {
   "cell_type": "code",
   "execution_count": 97,
   "id": "4260d846",
   "metadata": {
    "scrolled": true
   },
   "outputs": [
    {
     "ename": "SyntaxError",
     "evalue": "positional argument follows keyword argument (Temp/ipykernel_7156/1907057703.py, line 1)",
     "output_type": "error",
     "traceback": [
      "\u001b[1;36m  File \u001b[1;32m\"C:\\Users\\-\\AppData\\Local\\Temp/ipykernel_7156/1907057703.py\"\u001b[1;36m, line \u001b[1;32m1\u001b[0m\n\u001b[1;33m    round(number = 3.77, no)\u001b[0m\n\u001b[1;37m                           ^\u001b[0m\n\u001b[1;31mSyntaxError\u001b[0m\u001b[1;31m:\u001b[0m positional argument follows keyword argument\n"
     ]
    }
   ],
   "source": [
    "round(number = 3.77, no)\n",
    "#parameter 가 내장되어있는것"
   ]
  },
  {
   "cell_type": "code",
   "execution_count": null,
   "id": "c95cc2de",
   "metadata": {},
   "outputs": [],
   "source": []
  },
  {
   "cell_type": "code",
   "execution_count": 102,
   "id": "33de79c6",
   "metadata": {},
   "outputs": [],
   "source": [
    "def make_url(sentenc) :\n",
    "    return print('www.' + sentenc + '.com')"
   ]
  },
  {
   "cell_type": "code",
   "execution_count": 103,
   "id": "1ca945a0",
   "metadata": {},
   "outputs": [
    {
     "name": "stdout",
     "output_type": "stream",
     "text": [
      "www.naver.com\n"
     ]
    }
   ],
   "source": [
    "make_url('naver')"
   ]
  },
  {
   "cell_type": "code",
   "execution_count": null,
   "id": "5375a333",
   "metadata": {},
   "outputs": [],
   "source": []
  },
  {
   "cell_type": "code",
   "execution_count": 108,
   "id": "fa04c356",
   "metadata": {},
   "outputs": [],
   "source": [
    "def make_list(sentenc) :\n",
    "    sen_list = []\n",
    "    for data in range(len(sentenc)) :\n",
    "        sen_list.append(sentenc[data])\n",
    "    print(sen_list)"
   ]
  },
  {
   "cell_type": "code",
   "execution_count": 110,
   "id": "c6014862",
   "metadata": {},
   "outputs": [
    {
     "name": "stdout",
     "output_type": "stream",
     "text": [
      "['a', 'b', 'c', 'd', 'e', 'f', 'f', 'f']\n"
     ]
    }
   ],
   "source": [
    "make_list('abcdefff')"
   ]
  },
  {
   "cell_type": "code",
   "execution_count": 117,
   "id": "d5418ced",
   "metadata": {},
   "outputs": [],
   "source": [
    "def make_list(sentenc) :\n",
    "    sen_list = []\n",
    "    for data in sentenc :\n",
    "        sen_list.append(data)\n",
    "    return sen_list"
   ]
  },
  {
   "cell_type": "code",
   "execution_count": 118,
   "id": "4951115b",
   "metadata": {},
   "outputs": [
    {
     "data": {
      "text/plain": [
       "['a', 'd', 'f', 'b', 's', 'd', 'f']"
      ]
     },
     "execution_count": 118,
     "metadata": {},
     "output_type": "execute_result"
    }
   ],
   "source": [
    "make_list('adfbsdf')"
   ]
  },
  {
   "cell_type": "code",
   "execution_count": null,
   "id": "ad6dad8f",
   "metadata": {},
   "outputs": [],
   "source": []
  },
  {
   "cell_type": "code",
   "execution_count": 120,
   "id": "aef6dff5",
   "metadata": {},
   "outputs": [],
   "source": [
    "def pickup_even(number) :\n",
    "    num = []\n",
    "    for i in number :\n",
    "        if i % 2 == 0 :\n",
    "            num.append(i)\n",
    "    return num"
   ]
  },
  {
   "cell_type": "code",
   "execution_count": 123,
   "id": "09cede59",
   "metadata": {},
   "outputs": [
    {
     "data": {
      "text/plain": [
       "[4, 6, 8]"
      ]
     },
     "execution_count": 123,
     "metadata": {},
     "output_type": "execute_result"
    }
   ],
   "source": [
    "pickup_even([3, 4, 5, 6, 7, 8, 9])"
   ]
  },
  {
   "cell_type": "code",
   "execution_count": null,
   "id": "0b560c93",
   "metadata": {},
   "outputs": [],
   "source": []
  },
  {
   "cell_type": "code",
   "execution_count": null,
   "id": "9f166384",
   "metadata": {},
   "outputs": [],
   "source": [
    "convert_int(\"1,234,567\")\n",
    "# 1234567"
   ]
  },
  {
   "cell_type": "code",
   "execution_count": null,
   "id": "c3c6ad69",
   "metadata": {},
   "outputs": [],
   "source": []
  },
  {
   "cell_type": "code",
   "execution_count": null,
   "id": "221b3606",
   "metadata": {},
   "outputs": [],
   "source": []
  },
  {
   "cell_type": "code",
   "execution_count": null,
   "id": "c3c812e6",
   "metadata": {},
   "outputs": [],
   "source": []
  }
 ],
 "metadata": {
  "kernelspec": {
   "display_name": "Python 3 (ipykernel)",
   "language": "python",
   "name": "python3"
  },
  "language_info": {
   "codemirror_mode": {
    "name": "ipython",
    "version": 3
   },
   "file_extension": ".py",
   "mimetype": "text/x-python",
   "name": "python",
   "nbconvert_exporter": "python",
   "pygments_lexer": "ipython3",
   "version": "3.9.7"
  }
 },
 "nbformat": 4,
 "nbformat_minor": 5
}
