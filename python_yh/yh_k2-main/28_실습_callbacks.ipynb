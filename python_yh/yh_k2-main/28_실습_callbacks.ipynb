{
 "cells": [
  {
   "cell_type": "markdown",
   "metadata": {
    "id": "tOoyQ70H00_s"
   },
   "source": [
    "## Exercise 2\n",
    "\n",
    "0~9까지의 숫자를 분류하는 MNIST classifier 를 만드세요. \n",
    "정확도가 99% 이상이 되면 멈추면 됩니다. \n",
    "\n",
    "Some notes:\n",
    "1. epochs 는 최대 10 까지 설정합니다. 10 이 넘가가도록 설정하지 마세요. \n",
    "2. 정확도가 99% 보다 크면 \"Reached 99% accuracy so cancelling training!\" 라고 출력하세요.\n",
    "3. 필요한 변수가 있다면, 자유롭게 코딩하세요.\n",
    "\n"
   ]
  },
  {
   "cell_type": "code",
   "execution_count": null,
   "metadata": {
    "id": "uzoWIAmu6agw"
   },
   "outputs": [],
   "source": [
    "import tensorflow as tf\n"
   ]
  },
  {
   "cell_type": "code",
   "execution_count": null,
   "metadata": {
    "id": "9rvXQGAA0ssC"
   },
   "outputs": [],
   "source": [
    "# 함수로 작성.\n",
    "def train_mnist():\n",
    "    \n",
    "\n",
    "    # YOUR CODE SHOULD START HERE\n",
    "    \n",
    "    \n",
    "    # YOUR CODE SHOULD END HERE\n",
    "\n",
    "    mnist = tf.keras.datasets.mnist\n",
    "\n",
    "    (x_train, y_train),(x_test, y_test) = mnist.load_data()\n",
    "    # YOUR CODE SHOULD START HERE\n",
    "    \n",
    "    \n",
    "    # YOUR CODE SHOULD END HERE\n",
    "    model = tf.keras.models.Sequential([\n",
    "        # YOUR CODE SHOULD START HERE\n",
    "        \n",
    "        \n",
    "        \n",
    "        # YOUR CODE SHOULD END HERE\n",
    "    ])\n",
    "\n",
    "    model.compile(optimizer='adam',\n",
    "                  loss='sparse_categorical_crossentropy',\n",
    "                  metrics=['accuracy'])\n",
    "    \n",
    "    # model fitting\n",
    "    history = model.fit(\n",
    "        # YOUR CODE SHOULD START HERE\n",
    "\n",
    "        # YOUR CODE SHOULD END HERE\n",
    "    )\n",
    "    # model fitting\n",
    "    return history.epoch, history.history['accuracy'][-1]"
   ]
  },
  {
   "cell_type": "code",
   "execution_count": null,
   "metadata": {
    "colab": {
     "base_uri": "https://localhost:8080/"
    },
    "executionInfo": {
     "elapsed": 37906,
     "status": "ok",
     "timestamp": 1613279093871,
     "user": {
      "displayName": "BlockEnters",
      "photoUrl": "",
      "userId": "15013518174873052764"
     },
     "user_tz": -540
    },
    "id": "5PtuAVE46agx",
    "outputId": "1688e807-df99-47ed-8b4a-92cfc02292c1",
    "scrolled": true
   },
   "outputs": [],
   "source": [
    "train_mnist()"
   ]
  },
  {
   "cell_type": "code",
   "execution_count": null,
   "metadata": {
    "id": "vfBBGjnO6ag0"
   },
   "outputs": [],
   "source": []
  }
 ],
 "metadata": {
  "colab": {
   "collapsed_sections": [],
   "name": "04_solution_실습_callbacks.ipynb",
   "provenance": [
    {
     "file_id": "1XSJvHy14MgkSAaABE47BU9P8s4F_BxWZ",
     "timestamp": 1613279149082
    }
   ]
  },
  "coursera": {
   "course_slug": "introduction-tensorflow",
   "graded_item_id": "d6dew",
   "launcher_item_id": "FExZ4"
  },
  "kernelspec": {
   "display_name": "Python 3",
   "language": "python",
   "name": "python3"
  },
  "language_info": {
   "codemirror_mode": {
    "name": "ipython",
    "version": 3
   },
   "file_extension": ".py",
   "mimetype": "text/x-python",
   "name": "python",
   "nbconvert_exporter": "python",
   "pygments_lexer": "ipython3",
   "version": "3.8.3"
  }
 },
 "nbformat": 4,
 "nbformat_minor": 1
}
