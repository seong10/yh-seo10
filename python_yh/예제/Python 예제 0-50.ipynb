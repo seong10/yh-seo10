{
 "cells": [
  {
   "cell_type": "code",
   "execution_count": 1,
   "id": "9a83873b",
   "metadata": {},
   "outputs": [
    {
     "name": "stdout",
     "output_type": "stream",
     "text": [
      "Hello World\n"
     ]
    }
   ],
   "source": [
    "print('Hello World')"
   ]
  },
  {
   "cell_type": "code",
   "execution_count": null,
   "id": "0c873d6a",
   "metadata": {},
   "outputs": [],
   "source": []
  },
  {
   "cell_type": "code",
   "execution_count": 2,
   "id": "b34a7d3b",
   "metadata": {},
   "outputs": [
    {
     "name": "stdout",
     "output_type": "stream",
     "text": [
      "Mary's cossmetics\n"
     ]
    }
   ],
   "source": [
    "print(\"Mary's cossmetics\")"
   ]
  },
  {
   "cell_type": "code",
   "execution_count": 148,
   "id": "dd264999",
   "metadata": {},
   "outputs": [
    {
     "name": "stdout",
     "output_type": "stream",
     "text": [
      "Mary's cossmetics\n"
     ]
    }
   ],
   "source": [
    "print(\"Mary\\'s cossmetics\")"
   ]
  },
  {
   "cell_type": "code",
   "execution_count": null,
   "id": "8289cbd5",
   "metadata": {},
   "outputs": [],
   "source": []
  },
  {
   "cell_type": "code",
   "execution_count": 3,
   "id": "0108f467",
   "metadata": {},
   "outputs": [
    {
     "name": "stdout",
     "output_type": "stream",
     "text": [
      "신씨가 소리질렀다. \"도둑이야\".\n"
     ]
    }
   ],
   "source": [
    "print('신씨가 소리질렀다. \"도둑이야\".')"
   ]
  },
  {
   "cell_type": "code",
   "execution_count": 150,
   "id": "bdddad44",
   "metadata": {},
   "outputs": [
    {
     "name": "stdout",
     "output_type": "stream",
     "text": [
      "신씨가 소리질렀다. \"도둑이야\".\n"
     ]
    }
   ],
   "source": [
    "print(\"신씨가 소리질렀다. \\\"도둑이야\\\".\")"
   ]
  },
  {
   "cell_type": "code",
   "execution_count": null,
   "id": "cf1c97bf",
   "metadata": {},
   "outputs": [],
   "source": []
  },
  {
   "cell_type": "code",
   "execution_count": 153,
   "id": "098607e8",
   "metadata": {},
   "outputs": [
    {
     "data": {
      "text/plain": [
       "'\"c:\\\\Windows\"'"
      ]
     },
     "execution_count": 153,
     "metadata": {},
     "output_type": "execute_result"
    }
   ],
   "source": [
    "'\"c:\\Windows\"'"
   ]
  },
  {
   "cell_type": "code",
   "execution_count": 4,
   "id": "8681634e",
   "metadata": {},
   "outputs": [
    {
     "name": "stdout",
     "output_type": "stream",
     "text": [
      "\"c:\\Windows\"\n"
     ]
    }
   ],
   "source": [
    "print('\"c:\\Windows\"')"
   ]
  },
  {
   "cell_type": "code",
   "execution_count": 152,
   "id": "e0dc803c",
   "metadata": {},
   "outputs": [
    {
     "name": "stdout",
     "output_type": "stream",
     "text": [
      "\"c:\\ Windows\"\n"
     ]
    }
   ],
   "source": [
    "print('\"c:\\\\ Windows\"')"
   ]
  },
  {
   "cell_type": "code",
   "execution_count": null,
   "id": "49176b85",
   "metadata": {},
   "outputs": [],
   "source": []
  },
  {
   "cell_type": "code",
   "execution_count": 5,
   "id": "358d45b0",
   "metadata": {},
   "outputs": [
    {
     "name": "stdout",
     "output_type": "stream",
     "text": [
      "안녕하세요.\n",
      "만나서\t\t반갑습니다.\n"
     ]
    }
   ],
   "source": [
    "print(\"안녕하세요.\\n만나서\\t\\t반갑습니다.\")"
   ]
  },
  {
   "cell_type": "code",
   "execution_count": 6,
   "id": "05a8ba57",
   "metadata": {},
   "outputs": [],
   "source": [
    "# \\n 은 줄바꿈이고, \\t 는 공백이다"
   ]
  },
  {
   "cell_type": "code",
   "execution_count": 156,
   "id": "b12b6a32",
   "metadata": {},
   "outputs": [
    {
     "name": "stdout",
     "output_type": "stream",
     "text": [
      "안녕 하세요\n"
     ]
    }
   ],
   "source": [
    "print(\"안녕\", \"하세요\")"
   ]
  },
  {
   "cell_type": "code",
   "execution_count": null,
   "id": "812bdc1a",
   "metadata": {},
   "outputs": [],
   "source": []
  },
  {
   "cell_type": "code",
   "execution_count": 154,
   "id": "4be0dd28",
   "metadata": {},
   "outputs": [
    {
     "name": "stdout",
     "output_type": "stream",
     "text": [
      "naver;kakao;sk;samsung\n"
     ]
    }
   ],
   "source": [
    "print('naver;kakao;sk;samsung')"
   ]
  },
  {
   "cell_type": "code",
   "execution_count": null,
   "id": "bf0354b9",
   "metadata": {},
   "outputs": [],
   "source": []
  },
  {
   "cell_type": "code",
   "execution_count": 15,
   "id": "57e8e2cc",
   "metadata": {},
   "outputs": [
    {
     "name": "stdout",
     "output_type": "stream",
     "text": [
      "first second\n"
     ]
    }
   ],
   "source": [
    "# ***\n",
    "print(\"first\", end=\" \");print(\"second\")"
   ]
  },
  {
   "cell_type": "code",
   "execution_count": 53,
   "id": "a5383e9a",
   "metadata": {},
   "outputs": [
    {
     "name": "stdout",
     "output_type": "stream",
     "text": [
      "first\n",
      "second\n"
     ]
    }
   ],
   "source": [
    "print(\"first\", sep=\"    \");print(\"second\")"
   ]
  },
  {
   "cell_type": "code",
   "execution_count": null,
   "id": "313d0a26",
   "metadata": {},
   "outputs": [],
   "source": []
  },
  {
   "cell_type": "code",
   "execution_count": 11,
   "id": "861bcc75",
   "metadata": {},
   "outputs": [
    {
     "name": "stdout",
     "output_type": "stream",
     "text": [
      "1.6666666666666667\n"
     ]
    }
   ],
   "source": [
    "print(5/3)"
   ]
  },
  {
   "cell_type": "code",
   "execution_count": null,
   "id": "06f1625e",
   "metadata": {},
   "outputs": [],
   "source": [
    "\n"
   ]
  },
  {
   "cell_type": "code",
   "execution_count": 16,
   "id": "3026da17",
   "metadata": {},
   "outputs": [],
   "source": [
    "삼성전자 = 50000"
   ]
  },
  {
   "cell_type": "code",
   "execution_count": 17,
   "id": "3fd408d4",
   "metadata": {},
   "outputs": [
    {
     "data": {
      "text/plain": [
       "500000"
      ]
     },
     "execution_count": 17,
     "metadata": {},
     "output_type": "execute_result"
    }
   ],
   "source": [
    "삼성전자 * 10"
   ]
  },
  {
   "cell_type": "code",
   "execution_count": null,
   "id": "e7efc082",
   "metadata": {},
   "outputs": [],
   "source": []
  },
  {
   "cell_type": "code",
   "execution_count": 18,
   "id": "18e4a4fb",
   "metadata": {},
   "outputs": [],
   "source": [
    "시가총액 = '298조'\n",
    "현재가 = '50,000원'\n",
    "PER = 15.79"
   ]
  },
  {
   "cell_type": "code",
   "execution_count": null,
   "id": "330af234",
   "metadata": {},
   "outputs": [],
   "source": []
  },
  {
   "cell_type": "code",
   "execution_count": 19,
   "id": "db29ef2e",
   "metadata": {},
   "outputs": [],
   "source": [
    "s = \"hello\"\n",
    "t = 'python'"
   ]
  },
  {
   "cell_type": "code",
   "execution_count": 24,
   "id": "e00bbc61",
   "metadata": {},
   "outputs": [
    {
     "data": {
      "text/plain": [
       "'hello! python'"
      ]
     },
     "execution_count": 24,
     "metadata": {},
     "output_type": "execute_result"
    }
   ],
   "source": [
    "s + \"! \" + t"
   ]
  },
  {
   "cell_type": "code",
   "execution_count": null,
   "id": "19548fcb",
   "metadata": {},
   "outputs": [],
   "source": []
  },
  {
   "cell_type": "code",
   "execution_count": 25,
   "id": "ac0e9a8f",
   "metadata": {},
   "outputs": [
    {
     "data": {
      "text/plain": [
       "8"
      ]
     },
     "execution_count": 25,
     "metadata": {},
     "output_type": "execute_result"
    }
   ],
   "source": [
    "2+2*3"
   ]
  },
  {
   "cell_type": "code",
   "execution_count": null,
   "id": "d9036dc9",
   "metadata": {},
   "outputs": [],
   "source": []
  },
  {
   "cell_type": "code",
   "execution_count": 26,
   "id": "79e0060a",
   "metadata": {},
   "outputs": [],
   "source": [
    "a = \"132\""
   ]
  },
  {
   "cell_type": "code",
   "execution_count": 27,
   "id": "b5cf9b6e",
   "metadata": {},
   "outputs": [
    {
     "data": {
      "text/plain": [
       "str"
      ]
     },
     "execution_count": 27,
     "metadata": {},
     "output_type": "execute_result"
    }
   ],
   "source": [
    "type(a)"
   ]
  },
  {
   "cell_type": "code",
   "execution_count": null,
   "id": "722d82e6",
   "metadata": {},
   "outputs": [],
   "source": []
  },
  {
   "cell_type": "code",
   "execution_count": 28,
   "id": "e7eb10d0",
   "metadata": {},
   "outputs": [],
   "source": [
    "num_str = \"720\""
   ]
  },
  {
   "cell_type": "code",
   "execution_count": 29,
   "id": "96ab42de",
   "metadata": {},
   "outputs": [],
   "source": [
    "num_str = int(num_str)"
   ]
  },
  {
   "cell_type": "code",
   "execution_count": 30,
   "id": "d11c91e2",
   "metadata": {},
   "outputs": [
    {
     "data": {
      "text/plain": [
       "int"
      ]
     },
     "execution_count": 30,
     "metadata": {},
     "output_type": "execute_result"
    }
   ],
   "source": [
    "type(num_str)"
   ]
  },
  {
   "cell_type": "code",
   "execution_count": null,
   "id": "eac96356",
   "metadata": {},
   "outputs": [],
   "source": []
  },
  {
   "cell_type": "code",
   "execution_count": 35,
   "id": "2caffba3",
   "metadata": {},
   "outputs": [],
   "source": [
    "num = 100"
   ]
  },
  {
   "cell_type": "code",
   "execution_count": 36,
   "id": "4daa76ab",
   "metadata": {},
   "outputs": [
    {
     "data": {
      "text/plain": [
       "int"
      ]
     },
     "execution_count": 36,
     "metadata": {},
     "output_type": "execute_result"
    }
   ],
   "source": [
    "type(num)"
   ]
  },
  {
   "cell_type": "code",
   "execution_count": 37,
   "id": "3e6cdadc",
   "metadata": {},
   "outputs": [],
   "source": [
    "num = str(100)"
   ]
  },
  {
   "cell_type": "code",
   "execution_count": 38,
   "id": "616e5825",
   "metadata": {},
   "outputs": [
    {
     "data": {
      "text/plain": [
       "str"
      ]
     },
     "execution_count": 38,
     "metadata": {},
     "output_type": "execute_result"
    }
   ],
   "source": [
    "type(num)"
   ]
  },
  {
   "cell_type": "code",
   "execution_count": null,
   "id": "57cdb2b5",
   "metadata": {},
   "outputs": [],
   "source": []
  },
  {
   "cell_type": "code",
   "execution_count": 39,
   "id": "870cafac",
   "metadata": {},
   "outputs": [],
   "source": [
    "a = \"15.79\""
   ]
  },
  {
   "cell_type": "code",
   "execution_count": 40,
   "id": "464682d8",
   "metadata": {},
   "outputs": [],
   "source": [
    "a = float(a)"
   ]
  },
  {
   "cell_type": "code",
   "execution_count": 41,
   "id": "436d0961",
   "metadata": {},
   "outputs": [
    {
     "data": {
      "text/plain": [
       "float"
      ]
     },
     "execution_count": 41,
     "metadata": {},
     "output_type": "execute_result"
    }
   ],
   "source": [
    "type(a)"
   ]
  },
  {
   "cell_type": "code",
   "execution_count": null,
   "id": "50569053",
   "metadata": {},
   "outputs": [],
   "source": []
  },
  {
   "cell_type": "code",
   "execution_count": 54,
   "id": "626b9406",
   "metadata": {},
   "outputs": [],
   "source": [
    "year = \"2020\""
   ]
  },
  {
   "cell_type": "code",
   "execution_count": 55,
   "id": "60e28e17",
   "metadata": {},
   "outputs": [],
   "source": [
    "year = int(year)"
   ]
  },
  {
   "cell_type": "code",
   "execution_count": 56,
   "id": "3b983327",
   "metadata": {},
   "outputs": [
    {
     "data": {
      "text/plain": [
       "(2020, 2021, 2022)"
      ]
     },
     "execution_count": 56,
     "metadata": {},
     "output_type": "execute_result"
    }
   ],
   "source": [
    "year, year+1, year+2"
   ]
  },
  {
   "cell_type": "code",
   "execution_count": 57,
   "id": "d9cd3985",
   "metadata": {},
   "outputs": [
    {
     "name": "stdout",
     "output_type": "stream",
     "text": [
      "2017\n",
      "2018\n",
      "2019\n"
     ]
    }
   ],
   "source": [
    "print(int(year)-3)\n",
    "print(int(year)-2)\n",
    "print(int(year)-1)"
   ]
  },
  {
   "cell_type": "code",
   "execution_count": null,
   "id": "49bbfa58",
   "metadata": {},
   "outputs": [],
   "source": []
  },
  {
   "cell_type": "code",
   "execution_count": 58,
   "id": "08ef58fe",
   "metadata": {},
   "outputs": [],
   "source": [
    "air = 48584"
   ]
  },
  {
   "cell_type": "code",
   "execution_count": 59,
   "id": "0177ed67",
   "metadata": {},
   "outputs": [
    {
     "data": {
      "text/plain": [
       "1749024"
      ]
     },
     "execution_count": 59,
     "metadata": {},
     "output_type": "execute_result"
    }
   ],
   "source": [
    "air * 36"
   ]
  },
  {
   "cell_type": "code",
   "execution_count": null,
   "id": "d8e7bac5",
   "metadata": {},
   "outputs": [],
   "source": []
  },
  {
   "cell_type": "code",
   "execution_count": 60,
   "id": "7a8ce7f8",
   "metadata": {},
   "outputs": [],
   "source": [
    "letters = 'python'"
   ]
  },
  {
   "cell_type": "code",
   "execution_count": 64,
   "id": "f7a44c63",
   "metadata": {},
   "outputs": [
    {
     "data": {
      "text/plain": [
       "'pt'"
      ]
     },
     "execution_count": 64,
     "metadata": {},
     "output_type": "execute_result"
    }
   ],
   "source": [
    "letters[0 : 3 : 2]"
   ]
  },
  {
   "cell_type": "code",
   "execution_count": 68,
   "id": "e295605c",
   "metadata": {},
   "outputs": [
    {
     "data": {
      "text/plain": [
       "('p', 'h')"
      ]
     },
     "execution_count": 68,
     "metadata": {},
     "output_type": "execute_result"
    }
   ],
   "source": [
    "letters[0], letters[3]"
   ]
  },
  {
   "cell_type": "code",
   "execution_count": null,
   "id": "a4b8620a",
   "metadata": {},
   "outputs": [],
   "source": []
  },
  {
   "cell_type": "code",
   "execution_count": 69,
   "id": "f181f272",
   "metadata": {},
   "outputs": [],
   "source": [
    "license_plate = \"24가 2210\""
   ]
  },
  {
   "cell_type": "code",
   "execution_count": 70,
   "id": "185653ef",
   "metadata": {},
   "outputs": [
    {
     "data": {
      "text/plain": [
       "'2210'"
      ]
     },
     "execution_count": 70,
     "metadata": {},
     "output_type": "execute_result"
    }
   ],
   "source": [
    "license_plate[4:]"
   ]
  },
  {
   "cell_type": "code",
   "execution_count": 74,
   "id": "997ab58e",
   "metadata": {},
   "outputs": [
    {
     "data": {
      "text/plain": [
       "'2210'"
      ]
     },
     "execution_count": 74,
     "metadata": {},
     "output_type": "execute_result"
    }
   ],
   "source": [
    "license_plate[-4:]"
   ]
  },
  {
   "cell_type": "code",
   "execution_count": 83,
   "id": "845a7bd5",
   "metadata": {},
   "outputs": [
    {
     "data": {
      "text/plain": [
       "' 2210'"
      ]
     },
     "execution_count": 83,
     "metadata": {},
     "output_type": "execute_result"
    }
   ],
   "source": [
    "license_plate.strip(\"24가\")"
   ]
  },
  {
   "cell_type": "code",
   "execution_count": null,
   "id": "15697464",
   "metadata": {},
   "outputs": [],
   "source": []
  },
  {
   "cell_type": "code",
   "execution_count": null,
   "id": "e75f15bb",
   "metadata": {},
   "outputs": [],
   "source": []
  },
  {
   "cell_type": "code",
   "execution_count": 75,
   "id": "b88945f2",
   "metadata": {},
   "outputs": [],
   "source": [
    "string = \"홀짝홀짝홀짝\""
   ]
  },
  {
   "cell_type": "code",
   "execution_count": 78,
   "id": "4beb44fa",
   "metadata": {},
   "outputs": [
    {
     "data": {
      "text/plain": [
       "'홀짝홀짝홀'"
      ]
     },
     "execution_count": 78,
     "metadata": {},
     "output_type": "execute_result"
    }
   ],
   "source": [
    "string.strip(\"짝짝짝 \")"
   ]
  },
  {
   "cell_type": "code",
   "execution_count": 80,
   "id": "0c1da499",
   "metadata": {},
   "outputs": [
    {
     "data": {
      "text/plain": [
       "'홀홀홀'"
      ]
     },
     "execution_count": 80,
     "metadata": {},
     "output_type": "execute_result"
    }
   ],
   "source": [
    "string[0: :2]"
   ]
  },
  {
   "cell_type": "code",
   "execution_count": null,
   "id": "c6f4e900",
   "metadata": {},
   "outputs": [],
   "source": []
  },
  {
   "cell_type": "code",
   "execution_count": 84,
   "id": "5029e6f8",
   "metadata": {},
   "outputs": [],
   "source": [
    "# 세번째는 오프셋 -1는 뒤로센다\n",
    "string = \"PYTHON\""
   ]
  },
  {
   "cell_type": "code",
   "execution_count": 86,
   "id": "6318c59f",
   "metadata": {},
   "outputs": [
    {
     "data": {
      "text/plain": [
       "'NOHTYP'"
      ]
     },
     "execution_count": 86,
     "metadata": {},
     "output_type": "execute_result"
    }
   ],
   "source": [
    "string[ : : -1]"
   ]
  },
  {
   "cell_type": "code",
   "execution_count": 87,
   "id": "b3d36dc0",
   "metadata": {},
   "outputs": [],
   "source": [
    "string = \"HELLO\""
   ]
  },
  {
   "cell_type": "code",
   "execution_count": 88,
   "id": "431d5d75",
   "metadata": {},
   "outputs": [
    {
     "data": {
      "text/plain": [
       "'OLLEH'"
      ]
     },
     "execution_count": 88,
     "metadata": {},
     "output_type": "execute_result"
    }
   ],
   "source": [
    "string[ : : -1]"
   ]
  },
  {
   "cell_type": "code",
   "execution_count": null,
   "id": "49eb0efb",
   "metadata": {},
   "outputs": [],
   "source": []
  },
  {
   "cell_type": "code",
   "execution_count": 89,
   "id": "5647f985",
   "metadata": {},
   "outputs": [],
   "source": [
    "phone_number = \"010-1111-2222\""
   ]
  },
  {
   "cell_type": "code",
   "execution_count": 96,
   "id": "b6533216",
   "metadata": {},
   "outputs": [
    {
     "data": {
      "text/plain": [
       "'010 1111 2222'"
      ]
     },
     "execution_count": 96,
     "metadata": {},
     "output_type": "execute_result"
    }
   ],
   "source": [
    "phone_number.replace(\"-\",\" \")"
   ]
  },
  {
   "cell_type": "code",
   "execution_count": null,
   "id": "b5e12285",
   "metadata": {},
   "outputs": [],
   "source": []
  },
  {
   "cell_type": "code",
   "execution_count": 97,
   "id": "ff41c1a1",
   "metadata": {},
   "outputs": [
    {
     "data": {
      "text/plain": [
       "'01011112222'"
      ]
     },
     "execution_count": 97,
     "metadata": {},
     "output_type": "execute_result"
    }
   ],
   "source": [
    "phone_number.replace(\"-\",\"\")"
   ]
  },
  {
   "cell_type": "code",
   "execution_count": null,
   "id": "11fec3a7",
   "metadata": {},
   "outputs": [],
   "source": []
  },
  {
   "cell_type": "code",
   "execution_count": 98,
   "id": "67b37ae3",
   "metadata": {},
   "outputs": [],
   "source": [
    "url= \"http://sharebook.kr\""
   ]
  },
  {
   "cell_type": "code",
   "execution_count": 100,
   "id": "c9266687",
   "metadata": {},
   "outputs": [],
   "source": [
    "url2 = url.split(\".\")"
   ]
  },
  {
   "cell_type": "code",
   "execution_count": 101,
   "id": "32daafc9",
   "metadata": {},
   "outputs": [
    {
     "data": {
      "text/plain": [
       "'kr'"
      ]
     },
     "execution_count": 101,
     "metadata": {},
     "output_type": "execute_result"
    }
   ],
   "source": [
    "url2[1]"
   ]
  },
  {
   "cell_type": "code",
   "execution_count": 103,
   "id": "72531f04",
   "metadata": {},
   "outputs": [
    {
     "data": {
      "text/plain": [
       "17"
      ]
     },
     "execution_count": 103,
     "metadata": {},
     "output_type": "execute_result"
    }
   ],
   "source": [
    "url.find('kr')"
   ]
  },
  {
   "cell_type": "code",
   "execution_count": 104,
   "id": "d6fe3ac8",
   "metadata": {},
   "outputs": [
    {
     "data": {
      "text/plain": [
       "'kr'"
      ]
     },
     "execution_count": 104,
     "metadata": {},
     "output_type": "execute_result"
    }
   ],
   "source": [
    "url[17:]"
   ]
  },
  {
   "cell_type": "code",
   "execution_count": null,
   "id": "f41a810f",
   "metadata": {},
   "outputs": [],
   "source": []
  },
  {
   "cell_type": "code",
   "execution_count": 105,
   "id": "99302200",
   "metadata": {},
   "outputs": [],
   "source": [
    "string = 'abcdfe2a354a32a'"
   ]
  },
  {
   "cell_type": "code",
   "execution_count": 106,
   "id": "28dd6321",
   "metadata": {},
   "outputs": [
    {
     "data": {
      "text/plain": [
       "'abcdfe2a354a32a'"
      ]
     },
     "execution_count": 106,
     "metadata": {},
     "output_type": "execute_result"
    }
   ],
   "source": [
    "string"
   ]
  },
  {
   "cell_type": "code",
   "execution_count": 107,
   "id": "b9ff8b2a",
   "metadata": {},
   "outputs": [
    {
     "data": {
      "text/plain": [
       "'Abcdfe2A354A32A'"
      ]
     },
     "execution_count": 107,
     "metadata": {},
     "output_type": "execute_result"
    }
   ],
   "source": [
    "string.replace('a','A')"
   ]
  },
  {
   "cell_type": "code",
   "execution_count": null,
   "id": "734efa9b",
   "metadata": {},
   "outputs": [],
   "source": []
  },
  {
   "cell_type": "code",
   "execution_count": 178,
   "id": "442c9a2c",
   "metadata": {},
   "outputs": [],
   "source": [
    "string = 'abcd'"
   ]
  },
  {
   "cell_type": "code",
   "execution_count": 180,
   "id": "a520e6b6",
   "metadata": {},
   "outputs": [],
   "source": [
    "string = string.replace('b', 'B')"
   ]
  },
  {
   "cell_type": "code",
   "execution_count": 181,
   "id": "aa86e7a7",
   "metadata": {},
   "outputs": [
    {
     "data": {
      "text/plain": [
       "'aBcd'"
      ]
     },
     "execution_count": 181,
     "metadata": {},
     "output_type": "execute_result"
    }
   ],
   "source": [
    "string"
   ]
  },
  {
   "cell_type": "code",
   "execution_count": null,
   "id": "f4ad33f1",
   "metadata": {},
   "outputs": [],
   "source": []
  },
  {
   "cell_type": "code",
   "execution_count": 109,
   "id": "8c7a3668",
   "metadata": {},
   "outputs": [],
   "source": [
    "# ~30"
   ]
  },
  {
   "cell_type": "code",
   "execution_count": null,
   "id": "bd85d61d",
   "metadata": {},
   "outputs": [],
   "source": []
  },
  {
   "cell_type": "code",
   "execution_count": 110,
   "id": "e9538051",
   "metadata": {},
   "outputs": [],
   "source": [
    "a = \"-\""
   ]
  },
  {
   "cell_type": "code",
   "execution_count": 111,
   "id": "2fcf5181",
   "metadata": {},
   "outputs": [
    {
     "data": {
      "text/plain": [
       "'--------------------------------------------------------------------------------'"
      ]
     },
     "execution_count": 111,
     "metadata": {},
     "output_type": "execute_result"
    }
   ],
   "source": [
    "a * 80"
   ]
  },
  {
   "cell_type": "code",
   "execution_count": null,
   "id": "2bdc382e",
   "metadata": {},
   "outputs": [],
   "source": []
  },
  {
   "cell_type": "code",
   "execution_count": 112,
   "id": "9e677672",
   "metadata": {},
   "outputs": [],
   "source": [
    "t1 = 'python'\n",
    "t2 = 'java'"
   ]
  },
  {
   "cell_type": "code",
   "execution_count": 115,
   "id": "7288e089",
   "metadata": {},
   "outputs": [
    {
     "data": {
      "text/plain": [
       "'python java python java python java python java '"
      ]
     },
     "execution_count": 115,
     "metadata": {},
     "output_type": "execute_result"
    }
   ],
   "source": [
    "(t1 + \" \" + t2 + \" \") *4"
   ]
  },
  {
   "cell_type": "code",
   "execution_count": null,
   "id": "a9c4f39e",
   "metadata": {},
   "outputs": [],
   "source": []
  },
  {
   "cell_type": "code",
   "execution_count": 116,
   "id": "6e09bdf2",
   "metadata": {},
   "outputs": [],
   "source": [
    "name1 = \"김민수\" \n",
    "age1 = 10\n",
    "name2 = \"이철희\"\n",
    "age2 = 13"
   ]
  },
  {
   "cell_type": "code",
   "execution_count": 120,
   "id": "2780199e",
   "metadata": {},
   "outputs": [
    {
     "name": "stdout",
     "output_type": "stream",
     "text": [
      "이름 : 김민수 나이 : 10\n",
      "이름 : 이철희 나이 : 13\n"
     ]
    }
   ],
   "source": [
    "print((\"이름 : {} 나이 : {}\").format(name1, age1))\n",
    "print((\"이름 : {} 나이 : {}\").format(name2, age2))"
   ]
  },
  {
   "cell_type": "code",
   "execution_count": 123,
   "id": "d24d3cd2",
   "metadata": {},
   "outputs": [
    {
     "ename": "TypeError",
     "evalue": "%d format: a number is required, not str",
     "output_type": "error",
     "traceback": [
      "\u001b[1;31m---------------------------------------------------------------------------\u001b[0m",
      "\u001b[1;31mTypeError\u001b[0m                                 Traceback (most recent call last)",
      "\u001b[1;32m~\\AppData\\Local\\Temp/ipykernel_264/1959225532.py\u001b[0m in \u001b[0;36m<module>\u001b[1;34m\u001b[0m\n\u001b[1;32m----> 1\u001b[1;33m \u001b[0mprint\u001b[0m\u001b[1;33m(\u001b[0m\u001b[1;34m\"이름: %d 나이: %s\"\u001b[0m \u001b[1;33m%\u001b[0m \u001b[1;33m(\u001b[0m\u001b[0mname1\u001b[0m\u001b[1;33m,\u001b[0m \u001b[0mage1\u001b[0m\u001b[1;33m)\u001b[0m\u001b[1;33m)\u001b[0m\u001b[1;33m\u001b[0m\u001b[1;33m\u001b[0m\u001b[0m\n\u001b[0m\u001b[0;32m      2\u001b[0m \u001b[0mprint\u001b[0m\u001b[1;33m(\u001b[0m\u001b[1;34m\"이름: %s 나이: %d\"\u001b[0m \u001b[1;33m%\u001b[0m \u001b[1;33m(\u001b[0m\u001b[0mname2\u001b[0m\u001b[1;33m,\u001b[0m \u001b[0mage2\u001b[0m\u001b[1;33m)\u001b[0m\u001b[1;33m)\u001b[0m\u001b[1;33m\u001b[0m\u001b[1;33m\u001b[0m\u001b[0m\n",
      "\u001b[1;31mTypeError\u001b[0m: %d format: a number is required, not str"
     ]
    }
   ],
   "source": [
    "print(\"이름: %d 나이: %s\" % (name1, age1))\n",
    "print(\"이름: %s 나이: %d\" % (name2, age2))"
   ]
  },
  {
   "cell_type": "code",
   "execution_count": 122,
   "id": "33a87f20",
   "metadata": {},
   "outputs": [
    {
     "name": "stdout",
     "output_type": "stream",
     "text": [
      "이름 : 김민수 나이 : 10\n",
      "이름 : 이철희 나이 : 13\n"
     ]
    }
   ],
   "source": [
    "print(\"이름 : {} 나이 : {}\".format(name1, age1))\n",
    "print(\"이름 : {} 나이 : {}\".format(name2, age2))"
   ]
  },
  {
   "cell_type": "code",
   "execution_count": null,
   "id": "3a9c3dbf",
   "metadata": {},
   "outputs": [],
   "source": []
  },
  {
   "cell_type": "code",
   "execution_count": 125,
   "id": "d9995523",
   "metadata": {},
   "outputs": [
    {
     "name": "stdout",
     "output_type": "stream",
     "text": [
      "이름 : 김민수 나이 : 10\n"
     ]
    },
    {
     "ename": "KeyError",
     "evalue": "'name2'",
     "output_type": "error",
     "traceback": [
      "\u001b[1;31m---------------------------------------------------------------------------\u001b[0m",
      "\u001b[1;31mKeyError\u001b[0m                                  Traceback (most recent call last)",
      "\u001b[1;32m~\\AppData\\Local\\Temp/ipykernel_264/4198799357.py\u001b[0m in \u001b[0;36m<module>\u001b[1;34m\u001b[0m\n\u001b[0;32m      1\u001b[0m \u001b[0mprint\u001b[0m\u001b[1;33m(\u001b[0m\u001b[1;34mf\"이름 : {name1} 나이 : {age1}\"\u001b[0m\u001b[1;33m)\u001b[0m\u001b[1;33m\u001b[0m\u001b[1;33m\u001b[0m\u001b[0m\n\u001b[1;32m----> 2\u001b[1;33m \u001b[0mprint\u001b[0m\u001b[1;33m(\u001b[0m\u001b[1;33m(\u001b[0m\u001b[1;34m\"이름 : {name2} 나이 : {ag2}\"\u001b[0m\u001b[1;33m)\u001b[0m\u001b[1;33m.\u001b[0m\u001b[0mformat\u001b[0m\u001b[1;33m(\u001b[0m\u001b[0mname2\u001b[0m\u001b[1;33m,\u001b[0m \u001b[0mage2\u001b[0m\u001b[1;33m)\u001b[0m\u001b[1;33m)\u001b[0m\u001b[1;33m\u001b[0m\u001b[1;33m\u001b[0m\u001b[0m\n\u001b[0m",
      "\u001b[1;31mKeyError\u001b[0m: 'name2'"
     ]
    }
   ],
   "source": [
    "print(f\"이름 : {name1} 나이 : {age1}\")\n",
    "print((\"이름 : {name2} 나이 : {ag2}\").format(name2, age2))"
   ]
  },
  {
   "cell_type": "code",
   "execution_count": null,
   "id": "e9d842d7",
   "metadata": {},
   "outputs": [],
   "source": []
  },
  {
   "cell_type": "code",
   "execution_count": 126,
   "id": "c7b0c33a",
   "metadata": {},
   "outputs": [],
   "source": [
    "상장주식수 = \"5,969,782,550\""
   ]
  },
  {
   "cell_type": "code",
   "execution_count": 129,
   "id": "045c1216",
   "metadata": {},
   "outputs": [],
   "source": [
    "a = 상장주식수.replace(\",\", \"\")"
   ]
  },
  {
   "cell_type": "code",
   "execution_count": 130,
   "id": "d1003a16",
   "metadata": {},
   "outputs": [
    {
     "name": "stdout",
     "output_type": "stream",
     "text": [
      "5969782550\n"
     ]
    }
   ],
   "source": [
    "print(int(a))"
   ]
  },
  {
   "cell_type": "code",
   "execution_count": 131,
   "id": "74c75c3a",
   "metadata": {},
   "outputs": [
    {
     "data": {
      "text/plain": [
       "str"
      ]
     },
     "execution_count": 131,
     "metadata": {},
     "output_type": "execute_result"
    }
   ],
   "source": [
    "type(a)"
   ]
  },
  {
   "cell_type": "code",
   "execution_count": null,
   "id": "feca4ae4",
   "metadata": {},
   "outputs": [],
   "source": []
  },
  {
   "cell_type": "code",
   "execution_count": 132,
   "id": "2bae6b8d",
   "metadata": {},
   "outputs": [],
   "source": [
    "분기 = \"2020/03(E) (IFRS연결)\""
   ]
  },
  {
   "cell_type": "code",
   "execution_count": 137,
   "id": "791c0083",
   "metadata": {},
   "outputs": [
    {
     "data": {
      "text/plain": [
       "7"
      ]
     },
     "execution_count": 137,
     "metadata": {},
     "output_type": "execute_result"
    }
   ],
   "source": [
    "분기.find(\"(\")"
   ]
  },
  {
   "cell_type": "code",
   "execution_count": 138,
   "id": "ddba999a",
   "metadata": {},
   "outputs": [
    {
     "data": {
      "text/plain": [
       "'2020/03'"
      ]
     },
     "execution_count": 138,
     "metadata": {},
     "output_type": "execute_result"
    }
   ],
   "source": [
    "분기[ :7]"
   ]
  },
  {
   "cell_type": "code",
   "execution_count": null,
   "id": "b1609942",
   "metadata": {},
   "outputs": [],
   "source": []
  },
  {
   "cell_type": "code",
   "execution_count": 139,
   "id": "745b09bf",
   "metadata": {},
   "outputs": [],
   "source": [
    "data = \"   삼성전자   \""
   ]
  },
  {
   "cell_type": "code",
   "execution_count": 141,
   "id": "e5568d32",
   "metadata": {},
   "outputs": [
    {
     "data": {
      "text/plain": [
       "'삼성전자'"
      ]
     },
     "execution_count": 141,
     "metadata": {},
     "output_type": "execute_result"
    }
   ],
   "source": [
    "data.strip(\" \")"
   ]
  },
  {
   "cell_type": "code",
   "execution_count": null,
   "id": "b4fc67ca",
   "metadata": {},
   "outputs": [],
   "source": []
  },
  {
   "cell_type": "code",
   "execution_count": null,
   "id": "d3912387",
   "metadata": {},
   "outputs": [],
   "source": []
  },
  {
   "cell_type": "code",
   "execution_count": 142,
   "id": "fd87b136",
   "metadata": {},
   "outputs": [],
   "source": [
    "ticker = 'btc_krw'"
   ]
  },
  {
   "cell_type": "code",
   "execution_count": 144,
   "id": "fc5b4827",
   "metadata": {},
   "outputs": [
    {
     "data": {
      "text/plain": [
       "'BTC_KRW'"
      ]
     },
     "execution_count": 144,
     "metadata": {},
     "output_type": "execute_result"
    }
   ],
   "source": [
    "ticker.upper()"
   ]
  },
  {
   "cell_type": "code",
   "execution_count": null,
   "id": "457727d4",
   "metadata": {},
   "outputs": [],
   "source": []
  },
  {
   "cell_type": "code",
   "execution_count": 145,
   "id": "ec4cb5b9",
   "metadata": {},
   "outputs": [],
   "source": [
    "ticker = \"BTC_KRW\""
   ]
  },
  {
   "cell_type": "code",
   "execution_count": 147,
   "id": "c0d4e379",
   "metadata": {},
   "outputs": [
    {
     "data": {
      "text/plain": [
       "'btc_krw'"
      ]
     },
     "execution_count": 147,
     "metadata": {},
     "output_type": "execute_result"
    }
   ],
   "source": [
    "ticker.lower()"
   ]
  },
  {
   "cell_type": "code",
   "execution_count": null,
   "id": "5b42909c",
   "metadata": {},
   "outputs": [],
   "source": []
  },
  {
   "cell_type": "code",
   "execution_count": 158,
   "id": "9579612f",
   "metadata": {},
   "outputs": [],
   "source": [
    "a = 'hello'"
   ]
  },
  {
   "cell_type": "code",
   "execution_count": 160,
   "id": "31e9bc29",
   "metadata": {},
   "outputs": [
    {
     "data": {
      "text/plain": [
       "'Hello'"
      ]
     },
     "execution_count": 160,
     "metadata": {},
     "output_type": "execute_result"
    }
   ],
   "source": [
    "a.title()"
   ]
  },
  {
   "cell_type": "code",
   "execution_count": null,
   "id": "17494666",
   "metadata": {},
   "outputs": [],
   "source": []
  },
  {
   "cell_type": "code",
   "execution_count": 161,
   "id": "cd1ec20a",
   "metadata": {},
   "outputs": [],
   "source": [
    "file_name = \"보고서.xlsx\""
   ]
  },
  {
   "cell_type": "code",
   "execution_count": 164,
   "id": "775c254e",
   "metadata": {},
   "outputs": [
    {
     "data": {
      "text/plain": [
       "False"
      ]
     },
     "execution_count": 164,
     "metadata": {},
     "output_type": "execute_result"
    }
   ],
   "source": [
    "file_name.endswith('보고서')"
   ]
  },
  {
   "cell_type": "code",
   "execution_count": 167,
   "id": "614b2ba4",
   "metadata": {},
   "outputs": [
    {
     "data": {
      "text/plain": [
       "True"
      ]
     },
     "execution_count": 167,
     "metadata": {},
     "output_type": "execute_result"
    }
   ],
   "source": [
    "'xlsx' in file_name"
   ]
  },
  {
   "cell_type": "code",
   "execution_count": null,
   "id": "e7fd2566",
   "metadata": {},
   "outputs": [],
   "source": []
  },
  {
   "cell_type": "code",
   "execution_count": 168,
   "id": "8a60abcc",
   "metadata": {},
   "outputs": [],
   "source": [
    "a = \"hello world\""
   ]
  },
  {
   "cell_type": "code",
   "execution_count": 169,
   "id": "dc9c9423",
   "metadata": {},
   "outputs": [
    {
     "data": {
      "text/plain": [
       "['hello', 'world']"
      ]
     },
     "execution_count": 169,
     "metadata": {},
     "output_type": "execute_result"
    }
   ],
   "source": [
    "a.split(\" \")"
   ]
  },
  {
   "cell_type": "code",
   "execution_count": null,
   "id": "26f9269c",
   "metadata": {},
   "outputs": [],
   "source": []
  },
  {
   "cell_type": "code",
   "execution_count": 170,
   "id": "095256df",
   "metadata": {},
   "outputs": [],
   "source": [
    "ticker = \"brc_krw\""
   ]
  },
  {
   "cell_type": "code",
   "execution_count": 172,
   "id": "3221a16e",
   "metadata": {},
   "outputs": [
    {
     "data": {
      "text/plain": [
       "['brc', 'krw']"
      ]
     },
     "execution_count": 172,
     "metadata": {},
     "output_type": "execute_result"
    }
   ],
   "source": [
    "ticker.split('_')"
   ]
  },
  {
   "cell_type": "code",
   "execution_count": null,
   "id": "1b1e0507",
   "metadata": {},
   "outputs": [],
   "source": []
  },
  {
   "cell_type": "code",
   "execution_count": 173,
   "id": "dd3796c9",
   "metadata": {},
   "outputs": [],
   "source": [
    "date = '2020-05-01'"
   ]
  },
  {
   "cell_type": "code",
   "execution_count": 175,
   "id": "8a845cb1",
   "metadata": {},
   "outputs": [
    {
     "data": {
      "text/plain": [
       "['2020', '05', '01']"
      ]
     },
     "execution_count": 175,
     "metadata": {},
     "output_type": "execute_result"
    }
   ],
   "source": [
    "date.split('-')"
   ]
  },
  {
   "cell_type": "code",
   "execution_count": null,
   "id": "22bbcc4f",
   "metadata": {},
   "outputs": [],
   "source": []
  },
  {
   "cell_type": "code",
   "execution_count": 182,
   "id": "5930e794",
   "metadata": {},
   "outputs": [],
   "source": [
    "data = \"   039490     \""
   ]
  },
  {
   "cell_type": "code",
   "execution_count": 183,
   "id": "e7b7c19b",
   "metadata": {},
   "outputs": [
    {
     "data": {
      "text/plain": [
       "'039490'"
      ]
     },
     "execution_count": 183,
     "metadata": {},
     "output_type": "execute_result"
    }
   ],
   "source": [
    "data.strip(\" \")"
   ]
  },
  {
   "cell_type": "code",
   "execution_count": 184,
   "id": "b1894431",
   "metadata": {},
   "outputs": [
    {
     "data": {
      "text/plain": [
       "'   039490'"
      ]
     },
     "execution_count": 184,
     "metadata": {},
     "output_type": "execute_result"
    }
   ],
   "source": [
    "data.rstrip(\" \")"
   ]
  },
  {
   "cell_type": "code",
   "execution_count": 185,
   "id": "6498c25a",
   "metadata": {},
   "outputs": [
    {
     "data": {
      "text/plain": [
       "'039490     '"
      ]
     },
     "execution_count": 185,
     "metadata": {},
     "output_type": "execute_result"
    }
   ],
   "source": [
    "data.lstrip(\" \")"
   ]
  },
  {
   "cell_type": "code",
   "execution_count": null,
   "id": "f81da59c",
   "metadata": {},
   "outputs": [],
   "source": []
  }
 ],
 "metadata": {
  "kernelspec": {
   "display_name": "Python 3 (ipykernel)",
   "language": "python",
   "name": "python3"
  },
  "language_info": {
   "codemirror_mode": {
    "name": "ipython",
    "version": 3
   },
   "file_extension": ".py",
   "mimetype": "text/x-python",
   "name": "python",
   "nbconvert_exporter": "python",
   "pygments_lexer": "ipython3",
   "version": "3.9.7"
  }
 },
 "nbformat": 4,
 "nbformat_minor": 5
}
